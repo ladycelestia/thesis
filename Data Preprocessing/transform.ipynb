{
 "cells": [
  {
   "cell_type": "code",
   "execution_count": 10,
   "metadata": {},
   "outputs": [],
   "source": [
    "import os\n",
    "import numpy as np\n",
    "import pandas as pd\n",
    "import matplotlib.pyplot as plt \n",
    "from sklearn.preprocessing import MinMaxScaler, PowerTransformer\n",
    "from sklearn.compose import ColumnTransformer\n",
    "from sklearn.pipeline import Pipeline\n",
    "from scipy import stats\n",
    "from scipy.stats import skew, kurtosis\n",
    "from sklearn.base import BaseEstimator, TransformerMixin\n",
    "import joblib"
   ]
  },
  {
   "cell_type": "code",
   "execution_count": 11,
   "metadata": {},
   "outputs": [],
   "source": [
    "input_file = r'D:\\School\\ADMU\\4Y\\SEM 1\\MATH 199.11\\Final\\DAILY\\LUZ_Daily_Complete.csv'\n",
    "data = pd.read_csv(input_file)\n",
    "data = data.fillna(0)"
   ]
  },
  {
   "cell_type": "code",
   "execution_count": 12,
   "metadata": {},
   "outputs": [],
   "source": [
    "def process_columns(df, value, substrings_ffill, substrings_interpolate):\n",
    "    # Replace -999 with NaN\n",
    "    df = df.replace(value, np.nan)\n",
    "    \n",
    "    # Forward fill for specified substrings\n",
    "    ffill_cols = df.loc[:, df.columns.str.contains('|'.join(substrings_ffill), case=False)]\n",
    "    ffill_cols = ffill_cols.ffill()\n",
    "    \n",
    "    # Interpolate for specified substrings\n",
    "    interpolate_cols = df.loc[:, df.columns.str.contains('|'.join(substrings_interpolate), case=False)]\n",
    "    interpolate_cols = interpolate_cols.interpolate(method='linear')\n",
    "    \n",
    "    return ffill_cols, interpolate_cols\n",
    "\n",
    "columns_with_minus_999 = data.loc[:, (data == -999).any(axis=0)]\n",
    "\n",
    "# Process columns\n",
    "rainfall_cols, temp_cols_interpolated = process_columns(\n",
    "    columns_with_minus_999, \n",
    "    -999, \n",
    "    substrings_ffill=['rainfall'], \n",
    "    substrings_interpolate=['tmax', 'tmin']\n",
    ")\n",
    "X = data.copy()\n",
    "X[rainfall_cols.columns] = rainfall_cols\n",
    "X[temp_cols_interpolated.columns] = temp_cols_interpolated\n",
    "y = data[['GWAP','LWAP']]"
   ]
  },
  {
   "cell_type": "code",
   "execution_count": 13,
   "metadata": {},
   "outputs": [],
   "source": [
    "train_size = int(0.6 * len(X))  # 60% for training\n",
    "val_size = int(0.20 * len(X))   # 20% for validation\n",
    "test_size = len(X) - train_size - val_size  # Remaining 15% for testing\n",
    "\n",
    "train_data = X[:train_size]\n",
    "train_labels = y[:train_size]"
   ]
  },
  {
   "cell_type": "code",
   "execution_count": 14,
   "metadata": {},
   "outputs": [],
   "source": [
    "minmax_cols = []\n",
    "boxcox_cols = []\n",
    "yeojohnson_cols = []\n",
    "\n",
    "# Classify columns into MinMax, BoxCox, or YeoJohnson families\n",
    "def classify_features(data):\n",
    "    for column in data.columns:\n",
    "        col_data = data[column]\n",
    "        skewness = col_data.skew()\n",
    "        kurt = col_data.kurtosis()\n",
    "        is_positive = np.all(col_data > 0)\n",
    "\n",
    "        if -1 <= skewness <= 1 and -1 <= kurt <= 1:\n",
    "            minmax_cols.append(column)  # MinMax family\n",
    "        elif is_positive:\n",
    "            boxcox_cols.append(column)  # BoxCox family\n",
    "        else:\n",
    "            yeojohnson_cols.append(column)  # YeoJohnson family\n",
    "\n",
    "classify_features(data)\n",
    "\n",
    "minmax_colsy = []\n",
    "boxcox_colsy = []\n",
    "yeojohnson_colsy = []\n",
    "\n",
    "def classify_features(data):\n",
    "    for column in data.columns:\n",
    "        col_data = data[column]\n",
    "        skewness = col_data.skew()\n",
    "        kurt = col_data.kurtosis()\n",
    "        is_positive = np.all(col_data > 0)\n",
    "\n",
    "        if -1 <= skewness <= 1 and -1 <= kurt <= 1:\n",
    "            minmax_colsy.append(column)  # MinMax family\n",
    "        elif is_positive:\n",
    "            boxcox_colsy.append(column)  # BoxCox family\n",
    "        else:\n",
    "            yeojohnson_colsy.append(column)  # YeoJohnson family\n",
    "\n",
    "classify_features(y)\n"
   ]
  },
  {
   "cell_type": "code",
   "execution_count": 15,
   "metadata": {},
   "outputs": [],
   "source": [
    "train_data_df = pd.DataFrame(train_data)\n",
    "minmax_test = MinMaxScaler(feature_range=(0, 1))\n",
    "minmaxfit = minmax_test.fit(train_data_df[minmax_cols])\n",
    "train_data_minmax = minmaxfit.transform(train_data_df[minmax_cols])\n",
    "joblib.dump(minmaxfit, 'minmax_scaler.pkl')\n",
    "boxcox_pipeline = Pipeline([\n",
    "    ('boxcox', PowerTransformer(method='box-cox', standardize=False)),\n",
    "    ('minmax', MinMaxScaler(feature_range=(0, 1)))\n",
    "])\n",
    "bc = boxcox_pipeline.fit(train_data_df[boxcox_cols])\n",
    "train_data_bc = bc.transform(train_data_df[boxcox_cols])\n",
    "joblib.dump(bc, 'boxcox_pipeline.pkl')\n",
    "yeojohnson_pipeline = Pipeline([\n",
    "    ('yeojohnson', PowerTransformer(method='yeo-johnson', standardize=False)),\n",
    "    ('minmax', MinMaxScaler(feature_range=(0, 1)))\n",
    "])\n",
    "yj = yeojohnson_pipeline.fit(train_data_df[yeojohnson_cols])\n",
    "train_data_yj = yj.transform(train_data_df[yeojohnson_cols])\n",
    "joblib.dump(yj, 'yeojohnson_pipeline.pkl')\n",
    "train_data_transformed = np.hstack([train_data_minmax, train_data_bc, train_data_yj])\n"
   ]
  },
  {
   "cell_type": "code",
   "execution_count": 16,
   "metadata": {},
   "outputs": [
    {
     "data": {
      "text/plain": [
       "['boxcox_pipeliney.pkl']"
      ]
     },
     "execution_count": 16,
     "metadata": {},
     "output_type": "execute_result"
    }
   ],
   "source": [
    "train_labels_df = pd.DataFrame(train_labels)\n",
    "\n",
    "boxcox_pipeline = Pipeline([\n",
    "    ('boxcox', PowerTransformer(method='box-cox', standardize=False)),\n",
    "    ('minmax', MinMaxScaler(feature_range=(0, 1)))\n",
    "])\n",
    "bcy = boxcox_pipeline.fit(train_data_df[boxcox_colsy])\n",
    "joblib.dump(bcy, 'boxcox_pipeliney.pkl')"
   ]
  }
 ],
 "metadata": {
  "kernelspec": {
   "display_name": "myenv",
   "language": "python",
   "name": "python3"
  },
  "language_info": {
   "codemirror_mode": {
    "name": "ipython",
    "version": 3
   },
   "file_extension": ".py",
   "mimetype": "text/x-python",
   "name": "python",
   "nbconvert_exporter": "python",
   "pygments_lexer": "ipython3",
   "version": "3.9.20"
  }
 },
 "nbformat": 4,
 "nbformat_minor": 2
}
