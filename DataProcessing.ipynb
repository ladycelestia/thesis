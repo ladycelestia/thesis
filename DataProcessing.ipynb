{
 "cells": [
  {
   "cell_type": "code",
   "execution_count": 1,
   "metadata": {},
   "outputs": [],
   "source": [
    "import pandas as pd\n",
    "import numpy as np\n",
    "\n",
    "\n",
    "import finaldata\n",
    "from finaldata import process_region, load_data, split_data\n",
    "from transform import classify_features, transform_data, fit_pipeline\n",
    "import os"
   ]
  },
  {
   "cell_type": "code",
   "execution_count": 2,
   "metadata": {},
   "outputs": [],
   "source": [
    "base_path = os.path.dirname(os.path.abspath(finaldata.__file__))  # Gets the current working directory\n",
    "lmp_file = os.path.join(base_path, \"Final Data\", \"Raw\", \"lmp.csv\")\n",
    "reserve_file = os.path.join(base_path, \"Final Data\",\"Raw\", \"reserve.csv\")\n",
    "hvdc_file = os.path.join(base_path, \"Final Data\", \"Raw\",\"hvdc.csv\")\n",
    "weatherpath = os.path.join(base_path,\"Final Data\",\"Raw/\")"
   ]
  },
  {
   "cell_type": "code",
   "execution_count": null,
   "metadata": {},
   "outputs": [],
   "source": [
    "region_groups = {\n",
    "    \"Luzon\": [\n",
    "        \"Cubi Point\", \"NAIA\", \"Science Garden\", \"San Jose\", \"Tayabas\",\n",
    "        \"CLSU\", \"Tanay\", \"Ambulong\", \"Casiguran\", \"Clark\", \"Calapan\"\n",
    "    ],\n",
    "    \"Visayas\": [\n",
    "        \"Catbalogan\", \"Roxas City\", \"Catarman\", \"Maasin\", \"Dumaguete\"\n",
    "    ],\n",
    "    \"Mindanao\": [\n",
    "        \"Davao City\", \"Surigao\", \"Zamboanga\", \"Dipolog\", \"Butuan\",\n",
    "        \"Malaybalay\", \"General Santos\", \"Cotabato\"\n",
    "    ]\n",
    "}"
   ]
  },
  {
   "cell_type": "code",
   "execution_count": null,
   "metadata": {},
   "outputs": [],
   "source": [
    "date_start = pd.Timestamp('2022-01-01')\n",
    "min_date = pd.Timestamp('2023-01-01')\n",
    "date_end = pd.Timestamp('2023-12-31')"
   ]
  },
  {
   "cell_type": "code",
   "execution_count": null,
   "metadata": {},
   "outputs": [
    {
     "ename": "NameError",
     "evalue": "name 'region_groups' is not defined",
     "output_type": "error",
     "traceback": [
      "\u001b[0;31m---------------------------------------------------------------------------\u001b[0m",
      "\u001b[0;31mNameError\u001b[0m                                 Traceback (most recent call last)",
      "Cell \u001b[0;32mIn[10], line 1\u001b[0m\n\u001b[0;32m----> 1\u001b[0m luzon \u001b[38;5;241m=\u001b[39m process_region(lmp_file,hvdc_file,reserve_file,weatherpath,\u001b[38;5;124m\"\u001b[39m\u001b[38;5;124mLUZ\u001b[39m\u001b[38;5;124m\"\u001b[39m, \u001b[43mregion_groups\u001b[49m[\u001b[38;5;124m\"\u001b[39m\u001b[38;5;124mLuzon\u001b[39m\u001b[38;5;124m\"\u001b[39m], date_start,date_end)\n\u001b[1;32m      2\u001b[0m visayas \u001b[38;5;241m=\u001b[39m process_region(lmp_file,hvdc_file,reserve_file,weatherpath,\u001b[38;5;124m\"\u001b[39m\u001b[38;5;124mVIS\u001b[39m\u001b[38;5;124m\"\u001b[39m, region_groups[\u001b[38;5;124m\"\u001b[39m\u001b[38;5;124mVisayas\u001b[39m\u001b[38;5;124m\"\u001b[39m], date_start,date_end)\n\u001b[1;32m      3\u001b[0m mindanao \u001b[38;5;241m=\u001b[39m process_region(lmp_file,hvdc_file,reserve_file,weatherpath,\u001b[38;5;124m\"\u001b[39m\u001b[38;5;124mMIN\u001b[39m\u001b[38;5;124m\"\u001b[39m, region_groups[\u001b[38;5;124m\"\u001b[39m\u001b[38;5;124mMindanao\u001b[39m\u001b[38;5;124m\"\u001b[39m], min_date,date_end)\n",
      "\u001b[0;31mNameError\u001b[0m: name 'region_groups' is not defined"
     ]
    }
   ],
   "source": [
    "luzon = process_region(lmp_file,hvdc_file,reserve_file,weatherpath,\"LUZ\", region_groups[\"Luzon\"], date_start,date_end)\n",
    "visayas = process_region(lmp_file,hvdc_file,reserve_file,weatherpath,\"VIS\", region_groups[\"Visayas\"], date_start,date_end)\n",
    "mindanao = process_region(lmp_file,hvdc_file,reserve_file,weatherpath,\"MIN\", region_groups[\"Mindanao\"], min_date,date_end)"
   ]
  },
  {
   "cell_type": "code",
   "execution_count": 2,
   "metadata": {},
   "outputs": [],
   "source": [
    "luzon=load_data(\"LUZ\")\n",
    "visayas=load_data(\"VIS\")\n",
    "mindanao=load_data(\"MIN\")\n",
    "luzon = luzon.set_index('RUN_TIME')\n",
    "visayas = visayas.set_index('RUN_TIME')\n",
    "mindanao = mindanao.set_index('RUN_TIME')"
   ]
  },
  {
   "cell_type": "code",
   "execution_count": 3,
   "metadata": {},
   "outputs": [],
   "source": [
    "# For LSTM (use_val=True, returns 6 values)\n",
    "train,val,test = split_data(luzon,  use_val=True)\n"
   ]
  },
  {
   "cell_type": "code",
   "execution_count": 4,
   "metadata": {},
   "outputs": [
    {
     "name": "stdout",
     "output_type": "stream",
     "text": [
      "(438, 40)\n"
     ]
    }
   ],
   "source": [
    "print(train.shape)\n"
   ]
  },
  {
   "cell_type": "code",
   "execution_count": null,
   "metadata": {},
   "outputs": [],
   "source": [
    "def check_transform( data, regionname):\n",
    "    minmax_cols, boxcox_cols, yeojohnson_cols = classify_features(data)\n",
    "\n",
    "    # Fit and get pipeline instances\n",
    "    \n",
    "\n",
    "    train, val, test = split_data(data,True)\n",
    "\n",
    "    boxcox_pipeline = fit_pipeline(train, boxcox_cols, regionname, method='box-cox')\n",
    "    yeojohnson_pipeline = fit_pipeline(train, yeojohnson_cols, regionname, method='yeo-johnson')\n",
    "    minmax_pipeline = fit_pipeline(train, minmax_cols, regionname, method='minmax')\n",
    "\n",
    "    \n",
    "    train_bc = boxcox_pipeline.transform(train[boxcox_cols])\n",
    "    train_yj = yeojohnson_pipeline.transform(train[yeojohnson_cols])\n",
    "    train_mm = minmax_pipeline.transform(train[minmax_cols])\n",
    "\n",
    "    train_transformed = np.hstack([train_mm, train_bc, train_yj])\n",
    "    return train_transformed"
   ]
  },
  {
   "cell_type": "code",
   "execution_count": 14,
   "metadata": {},
   "outputs": [
    {
     "ename": "ValueError",
     "evalue": "The feature names should match those that were passed during fit.\nFeature names unseen at fit time:\n- FLOW_LUZ\n- RAINFALL_Ambulong\n- RAINFALL_CLSU\n- RAINFALL_Calapan\n- RAINFALL_Casiguran\n- ...\n",
     "output_type": "error",
     "traceback": [
      "\u001b[0;31m---------------------------------------------------------------------------\u001b[0m",
      "\u001b[0;31mValueError\u001b[0m                                Traceback (most recent call last)",
      "Cell \u001b[0;32mIn[14], line 1\u001b[0m\n\u001b[0;32m----> 1\u001b[0m train_transformed\u001b[38;5;241m=\u001b[39m \u001b[43mcheck_transform\u001b[49m\u001b[43m(\u001b[49m\u001b[43mluzon\u001b[49m\u001b[43m,\u001b[49m\u001b[38;5;124;43m\"\u001b[39;49m\u001b[38;5;124;43mLUZ\u001b[39;49m\u001b[38;5;124;43m\"\u001b[39;49m\u001b[43m)\u001b[49m\n",
      "Cell \u001b[0;32mIn[13], line 16\u001b[0m, in \u001b[0;36mcheck_transform\u001b[0;34m(data, regionname)\u001b[0m\n\u001b[1;32m     11\u001b[0m minmax_pipeline \u001b[38;5;241m=\u001b[39m fit_pipeline(train, minmax_cols, regionname, method\u001b[38;5;241m=\u001b[39m\u001b[38;5;124m'\u001b[39m\u001b[38;5;124mminmax\u001b[39m\u001b[38;5;124m'\u001b[39m)\n\u001b[1;32m     14\u001b[0m cols \u001b[38;5;241m=\u001b[39m train\u001b[38;5;241m.\u001b[39mcolumns  \u001b[38;5;66;03m# Store feature names from training set\u001b[39;00m\n\u001b[0;32m---> 16\u001b[0m train_transformed \u001b[38;5;241m=\u001b[39m \u001b[43mboxcox_pipeline\u001b[49m\u001b[38;5;241;43m.\u001b[39;49m\u001b[43mtransform\u001b[49m\u001b[43m(\u001b[49m\u001b[43mtrain\u001b[49m\u001b[43m[\u001b[49m\u001b[43mcols\u001b[49m\u001b[43m]\u001b[49m\u001b[43m)\u001b[49m\n\u001b[1;32m     17\u001b[0m val_transformed \u001b[38;5;241m=\u001b[39m yeojohnson_pipeline\u001b[38;5;241m.\u001b[39mtransform(val[cols]) \u001b[38;5;28;01mif\u001b[39;00m val \u001b[38;5;129;01mis\u001b[39;00m \u001b[38;5;129;01mnot\u001b[39;00m \u001b[38;5;28;01mNone\u001b[39;00m \u001b[38;5;28;01melse\u001b[39;00m \u001b[38;5;28;01mNone\u001b[39;00m\n\u001b[1;32m     18\u001b[0m test_transformed \u001b[38;5;241m=\u001b[39m minmax_pipeline\u001b[38;5;241m.\u001b[39mtransform(test[cols])\n",
      "File \u001b[0;32m/opt/anaconda3/envs/thesis/lib/python3.9/site-packages/sklearn/pipeline.py:1092\u001b[0m, in \u001b[0;36mPipeline.transform\u001b[0;34m(self, X, **params)\u001b[0m\n\u001b[1;32m   1090\u001b[0m Xt \u001b[38;5;241m=\u001b[39m X\n\u001b[1;32m   1091\u001b[0m \u001b[38;5;28;01mfor\u001b[39;00m _, name, transform \u001b[38;5;129;01min\u001b[39;00m \u001b[38;5;28mself\u001b[39m\u001b[38;5;241m.\u001b[39m_iter():\n\u001b[0;32m-> 1092\u001b[0m     Xt \u001b[38;5;241m=\u001b[39m \u001b[43mtransform\u001b[49m\u001b[38;5;241;43m.\u001b[39;49m\u001b[43mtransform\u001b[49m\u001b[43m(\u001b[49m\u001b[43mXt\u001b[49m\u001b[43m,\u001b[49m\u001b[43m \u001b[49m\u001b[38;5;241;43m*\u001b[39;49m\u001b[38;5;241;43m*\u001b[39;49m\u001b[43mrouted_params\u001b[49m\u001b[43m[\u001b[49m\u001b[43mname\u001b[49m\u001b[43m]\u001b[49m\u001b[38;5;241;43m.\u001b[39;49m\u001b[43mtransform\u001b[49m\u001b[43m)\u001b[49m\n\u001b[1;32m   1093\u001b[0m \u001b[38;5;28;01mreturn\u001b[39;00m Xt\n",
      "File \u001b[0;32m/opt/anaconda3/envs/thesis/lib/python3.9/site-packages/sklearn/utils/_set_output.py:319\u001b[0m, in \u001b[0;36m_wrap_method_output.<locals>.wrapped\u001b[0;34m(self, X, *args, **kwargs)\u001b[0m\n\u001b[1;32m    317\u001b[0m \u001b[38;5;129m@wraps\u001b[39m(f)\n\u001b[1;32m    318\u001b[0m \u001b[38;5;28;01mdef\u001b[39;00m\u001b[38;5;250m \u001b[39m\u001b[38;5;21mwrapped\u001b[39m(\u001b[38;5;28mself\u001b[39m, X, \u001b[38;5;241m*\u001b[39margs, \u001b[38;5;241m*\u001b[39m\u001b[38;5;241m*\u001b[39mkwargs):\n\u001b[0;32m--> 319\u001b[0m     data_to_wrap \u001b[38;5;241m=\u001b[39m \u001b[43mf\u001b[49m\u001b[43m(\u001b[49m\u001b[38;5;28;43mself\u001b[39;49m\u001b[43m,\u001b[49m\u001b[43m \u001b[49m\u001b[43mX\u001b[49m\u001b[43m,\u001b[49m\u001b[43m \u001b[49m\u001b[38;5;241;43m*\u001b[39;49m\u001b[43margs\u001b[49m\u001b[43m,\u001b[49m\u001b[43m \u001b[49m\u001b[38;5;241;43m*\u001b[39;49m\u001b[38;5;241;43m*\u001b[39;49m\u001b[43mkwargs\u001b[49m\u001b[43m)\u001b[49m\n\u001b[1;32m    320\u001b[0m     \u001b[38;5;28;01mif\u001b[39;00m \u001b[38;5;28misinstance\u001b[39m(data_to_wrap, \u001b[38;5;28mtuple\u001b[39m):\n\u001b[1;32m    321\u001b[0m         \u001b[38;5;66;03m# only wrap the first output for cross decomposition\u001b[39;00m\n\u001b[1;32m    322\u001b[0m         return_tuple \u001b[38;5;241m=\u001b[39m (\n\u001b[1;32m    323\u001b[0m             _wrap_data_with_container(method, data_to_wrap[\u001b[38;5;241m0\u001b[39m], X, \u001b[38;5;28mself\u001b[39m),\n\u001b[1;32m    324\u001b[0m             \u001b[38;5;241m*\u001b[39mdata_to_wrap[\u001b[38;5;241m1\u001b[39m:],\n\u001b[1;32m    325\u001b[0m         )\n",
      "File \u001b[0;32m/opt/anaconda3/envs/thesis/lib/python3.9/site-packages/sklearn/preprocessing/_data.py:3380\u001b[0m, in \u001b[0;36mPowerTransformer.transform\u001b[0;34m(self, X)\u001b[0m\n\u001b[1;32m   3367\u001b[0m \u001b[38;5;250m\u001b[39m\u001b[38;5;124;03m\"\"\"Apply the power transform to each feature using the fitted lambdas.\u001b[39;00m\n\u001b[1;32m   3368\u001b[0m \n\u001b[1;32m   3369\u001b[0m \u001b[38;5;124;03mParameters\u001b[39;00m\n\u001b[0;32m   (...)\u001b[0m\n\u001b[1;32m   3377\u001b[0m \u001b[38;5;124;03m    The transformed data.\u001b[39;00m\n\u001b[1;32m   3378\u001b[0m \u001b[38;5;124;03m\"\"\"\u001b[39;00m\n\u001b[1;32m   3379\u001b[0m check_is_fitted(\u001b[38;5;28mself\u001b[39m)\n\u001b[0;32m-> 3380\u001b[0m X \u001b[38;5;241m=\u001b[39m \u001b[38;5;28;43mself\u001b[39;49m\u001b[38;5;241;43m.\u001b[39;49m\u001b[43m_check_input\u001b[49m\u001b[43m(\u001b[49m\u001b[43mX\u001b[49m\u001b[43m,\u001b[49m\u001b[43m \u001b[49m\u001b[43min_fit\u001b[49m\u001b[38;5;241;43m=\u001b[39;49m\u001b[38;5;28;43;01mFalse\u001b[39;49;00m\u001b[43m,\u001b[49m\u001b[43m \u001b[49m\u001b[43mcheck_positive\u001b[49m\u001b[38;5;241;43m=\u001b[39;49m\u001b[38;5;28;43;01mTrue\u001b[39;49;00m\u001b[43m,\u001b[49m\u001b[43m \u001b[49m\u001b[43mcheck_shape\u001b[49m\u001b[38;5;241;43m=\u001b[39;49m\u001b[38;5;28;43;01mTrue\u001b[39;49;00m\u001b[43m)\u001b[49m\n\u001b[1;32m   3382\u001b[0m transform_function \u001b[38;5;241m=\u001b[39m {\n\u001b[1;32m   3383\u001b[0m     \u001b[38;5;124m\"\u001b[39m\u001b[38;5;124mbox-cox\u001b[39m\u001b[38;5;124m\"\u001b[39m: boxcox,\n\u001b[1;32m   3384\u001b[0m     \u001b[38;5;124m\"\u001b[39m\u001b[38;5;124myeo-johnson\u001b[39m\u001b[38;5;124m\"\u001b[39m: \u001b[38;5;28mself\u001b[39m\u001b[38;5;241m.\u001b[39m_yeo_johnson_transform,\n\u001b[1;32m   3385\u001b[0m }[\u001b[38;5;28mself\u001b[39m\u001b[38;5;241m.\u001b[39mmethod]\n\u001b[1;32m   3386\u001b[0m \u001b[38;5;28;01mfor\u001b[39;00m i, lmbda \u001b[38;5;129;01min\u001b[39;00m \u001b[38;5;28menumerate\u001b[39m(\u001b[38;5;28mself\u001b[39m\u001b[38;5;241m.\u001b[39mlambdas_):\n",
      "File \u001b[0;32m/opt/anaconda3/envs/thesis/lib/python3.9/site-packages/sklearn/preprocessing/_data.py:3550\u001b[0m, in \u001b[0;36mPowerTransformer._check_input\u001b[0;34m(self, X, in_fit, check_positive, check_shape)\u001b[0m\n\u001b[1;32m   3532\u001b[0m \u001b[38;5;28;01mdef\u001b[39;00m\u001b[38;5;250m \u001b[39m\u001b[38;5;21m_check_input\u001b[39m(\u001b[38;5;28mself\u001b[39m, X, in_fit, check_positive\u001b[38;5;241m=\u001b[39m\u001b[38;5;28;01mFalse\u001b[39;00m, check_shape\u001b[38;5;241m=\u001b[39m\u001b[38;5;28;01mFalse\u001b[39;00m):\n\u001b[1;32m   3533\u001b[0m \u001b[38;5;250m    \u001b[39m\u001b[38;5;124;03m\"\"\"Validate the input before fit and transform.\u001b[39;00m\n\u001b[1;32m   3534\u001b[0m \n\u001b[1;32m   3535\u001b[0m \u001b[38;5;124;03m    Parameters\u001b[39;00m\n\u001b[0;32m   (...)\u001b[0m\n\u001b[1;32m   3548\u001b[0m \u001b[38;5;124;03m        If True, check that n_features matches the length of self.lambdas_\u001b[39;00m\n\u001b[1;32m   3549\u001b[0m \u001b[38;5;124;03m    \"\"\"\u001b[39;00m\n\u001b[0;32m-> 3550\u001b[0m     X \u001b[38;5;241m=\u001b[39m \u001b[43mvalidate_data\u001b[49m\u001b[43m(\u001b[49m\n\u001b[1;32m   3551\u001b[0m \u001b[43m        \u001b[49m\u001b[38;5;28;43mself\u001b[39;49m\u001b[43m,\u001b[49m\n\u001b[1;32m   3552\u001b[0m \u001b[43m        \u001b[49m\u001b[43mX\u001b[49m\u001b[43m,\u001b[49m\n\u001b[1;32m   3553\u001b[0m \u001b[43m        \u001b[49m\u001b[43mensure_2d\u001b[49m\u001b[38;5;241;43m=\u001b[39;49m\u001b[38;5;28;43;01mTrue\u001b[39;49;00m\u001b[43m,\u001b[49m\n\u001b[1;32m   3554\u001b[0m \u001b[43m        \u001b[49m\u001b[43mdtype\u001b[49m\u001b[38;5;241;43m=\u001b[39;49m\u001b[43mFLOAT_DTYPES\u001b[49m\u001b[43m,\u001b[49m\n\u001b[1;32m   3555\u001b[0m \u001b[43m        \u001b[49m\u001b[43mforce_writeable\u001b[49m\u001b[38;5;241;43m=\u001b[39;49m\u001b[38;5;28;43;01mTrue\u001b[39;49;00m\u001b[43m,\u001b[49m\n\u001b[1;32m   3556\u001b[0m \u001b[43m        \u001b[49m\u001b[43mcopy\u001b[49m\u001b[38;5;241;43m=\u001b[39;49m\u001b[38;5;28;43mself\u001b[39;49m\u001b[38;5;241;43m.\u001b[39;49m\u001b[43mcopy\u001b[49m\u001b[43m,\u001b[49m\n\u001b[1;32m   3557\u001b[0m \u001b[43m        \u001b[49m\u001b[43mensure_all_finite\u001b[49m\u001b[38;5;241;43m=\u001b[39;49m\u001b[38;5;124;43m\"\u001b[39;49m\u001b[38;5;124;43mallow-nan\u001b[39;49m\u001b[38;5;124;43m\"\u001b[39;49m\u001b[43m,\u001b[49m\n\u001b[1;32m   3558\u001b[0m \u001b[43m        \u001b[49m\u001b[43mreset\u001b[49m\u001b[38;5;241;43m=\u001b[39;49m\u001b[43min_fit\u001b[49m\u001b[43m,\u001b[49m\n\u001b[1;32m   3559\u001b[0m \u001b[43m    \u001b[49m\u001b[43m)\u001b[49m\n\u001b[1;32m   3561\u001b[0m     \u001b[38;5;28;01mwith\u001b[39;00m warnings\u001b[38;5;241m.\u001b[39mcatch_warnings():\n\u001b[1;32m   3562\u001b[0m         warnings\u001b[38;5;241m.\u001b[39mfilterwarnings(\u001b[38;5;124m\"\u001b[39m\u001b[38;5;124mignore\u001b[39m\u001b[38;5;124m\"\u001b[39m, \u001b[38;5;124mr\u001b[39m\u001b[38;5;124m\"\u001b[39m\u001b[38;5;124mAll-NaN (slice|axis) encountered\u001b[39m\u001b[38;5;124m\"\u001b[39m)\n",
      "File \u001b[0;32m/opt/anaconda3/envs/thesis/lib/python3.9/site-packages/sklearn/utils/validation.py:2919\u001b[0m, in \u001b[0;36mvalidate_data\u001b[0;34m(_estimator, X, y, reset, validate_separately, skip_check_array, **check_params)\u001b[0m\n\u001b[1;32m   2835\u001b[0m \u001b[38;5;28;01mdef\u001b[39;00m\u001b[38;5;250m \u001b[39m\u001b[38;5;21mvalidate_data\u001b[39m(\n\u001b[1;32m   2836\u001b[0m     _estimator,\n\u001b[1;32m   2837\u001b[0m     \u001b[38;5;241m/\u001b[39m,\n\u001b[0;32m   (...)\u001b[0m\n\u001b[1;32m   2843\u001b[0m     \u001b[38;5;241m*\u001b[39m\u001b[38;5;241m*\u001b[39mcheck_params,\n\u001b[1;32m   2844\u001b[0m ):\n\u001b[1;32m   2845\u001b[0m \u001b[38;5;250m    \u001b[39m\u001b[38;5;124;03m\"\"\"Validate input data and set or check feature names and counts of the input.\u001b[39;00m\n\u001b[1;32m   2846\u001b[0m \n\u001b[1;32m   2847\u001b[0m \u001b[38;5;124;03m    This helper function should be used in an estimator that requires input\u001b[39;00m\n\u001b[0;32m   (...)\u001b[0m\n\u001b[1;32m   2917\u001b[0m \u001b[38;5;124;03m        validated.\u001b[39;00m\n\u001b[1;32m   2918\u001b[0m \u001b[38;5;124;03m    \"\"\"\u001b[39;00m\n\u001b[0;32m-> 2919\u001b[0m     \u001b[43m_check_feature_names\u001b[49m\u001b[43m(\u001b[49m\u001b[43m_estimator\u001b[49m\u001b[43m,\u001b[49m\u001b[43m \u001b[49m\u001b[43mX\u001b[49m\u001b[43m,\u001b[49m\u001b[43m \u001b[49m\u001b[43mreset\u001b[49m\u001b[38;5;241;43m=\u001b[39;49m\u001b[43mreset\u001b[49m\u001b[43m)\u001b[49m\n\u001b[1;32m   2920\u001b[0m     tags \u001b[38;5;241m=\u001b[39m get_tags(_estimator)\n\u001b[1;32m   2921\u001b[0m     \u001b[38;5;28;01mif\u001b[39;00m y \u001b[38;5;129;01mis\u001b[39;00m \u001b[38;5;28;01mNone\u001b[39;00m \u001b[38;5;129;01mand\u001b[39;00m tags\u001b[38;5;241m.\u001b[39mtarget_tags\u001b[38;5;241m.\u001b[39mrequired:\n",
      "File \u001b[0;32m/opt/anaconda3/envs/thesis/lib/python3.9/site-packages/sklearn/utils/validation.py:2777\u001b[0m, in \u001b[0;36m_check_feature_names\u001b[0;34m(estimator, X, reset)\u001b[0m\n\u001b[1;32m   2774\u001b[0m \u001b[38;5;28;01mif\u001b[39;00m \u001b[38;5;129;01mnot\u001b[39;00m missing_names \u001b[38;5;129;01mand\u001b[39;00m \u001b[38;5;129;01mnot\u001b[39;00m unexpected_names:\n\u001b[1;32m   2775\u001b[0m     message \u001b[38;5;241m+\u001b[39m\u001b[38;5;241m=\u001b[39m \u001b[38;5;124m\"\u001b[39m\u001b[38;5;124mFeature names must be in the same order as they were in fit.\u001b[39m\u001b[38;5;130;01m\\n\u001b[39;00m\u001b[38;5;124m\"\u001b[39m\n\u001b[0;32m-> 2777\u001b[0m \u001b[38;5;28;01mraise\u001b[39;00m \u001b[38;5;167;01mValueError\u001b[39;00m(message)\n",
      "\u001b[0;31mValueError\u001b[0m: The feature names should match those that were passed during fit.\nFeature names unseen at fit time:\n- FLOW_LUZ\n- RAINFALL_Ambulong\n- RAINFALL_CLSU\n- RAINFALL_Calapan\n- RAINFALL_Casiguran\n- ...\n"
     ]
    }
   ],
   "source": [
    "train_transformed= check_transform(luzon,\"LUZ\")"
   ]
  }
 ],
 "metadata": {
  "kernelspec": {
   "display_name": "thesis",
   "language": "python",
   "name": "python3"
  },
  "language_info": {
   "codemirror_mode": {
    "name": "ipython",
    "version": 3
   },
   "file_extension": ".py",
   "mimetype": "text/x-python",
   "name": "python",
   "nbconvert_exporter": "python",
   "pygments_lexer": "ipython3",
   "version": "3.9.20"
  }
 },
 "nbformat": 4,
 "nbformat_minor": 2
}
