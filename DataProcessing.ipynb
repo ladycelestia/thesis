{
 "cells": [
  {
   "cell_type": "code",
   "execution_count": 16,
   "metadata": {},
   "outputs": [],
   "source": [
    "import pandas as pd\n",
    "import numpy as np\n",
    "\n",
    "\n",
    "import finaldata\n",
    "from finaldata import process_region\n",
    "from transform import classify_features\n",
    "import os"
   ]
  },
  {
   "cell_type": "code",
   "execution_count": 17,
   "metadata": {},
   "outputs": [],
   "source": [
    "base_path = os.path.dirname(os.path.abspath(finaldata.__file__))  # Gets the current working directory\n",
    "lmp_file = os.path.join(base_path, \"Final Data\", \"Raw\", \"lmp.csv\")\n",
    "reserve_file = os.path.join(base_path, \"Final Data\",\"Raw\", \"reserve.csv\")\n",
    "hvdc_file = os.path.join(base_path, \"Final Data\", \"Raw\",\"hvdc.csv\")\n",
    "weatherpath = os.path.join(base_path,\"Final Data\",\"Raw/\")"
   ]
  },
  {
   "cell_type": "code",
   "execution_count": 18,
   "metadata": {},
   "outputs": [],
   "source": [
    "region_groups = {\n",
    "    \"Luzon\": [\n",
    "        \"Cubi Point\", \"NAIA\", \"Science Garden\", \"San Jose\", \"Tayabas\",\n",
    "        \"CLSU\", \"Tanay\", \"Ambulong\", \"Casiguran\", \"Clark\", \"Calapan\"\n",
    "    ],\n",
    "    \"Visayas\": [\n",
    "        \"Catbalogan\", \"Roxas City\", \"Catarman\", \"Maasin\", \"Dumaguete\"\n",
    "    ],\n",
    "    \"Mindanao\": [\n",
    "        \"Davao City\", \"Surigao\", \"Zamboanga\", \"Dipolog\", \"Butuan\",\n",
    "        \"Malaybalay\", \"General Santos\", \"Cotabato\"\n",
    "    ]\n",
    "}"
   ]
  },
  {
   "cell_type": "code",
   "execution_count": 19,
   "metadata": {},
   "outputs": [],
   "source": [
    "date_start = pd.Timestamp('2022-01-01')\n",
    "min_date = pd.Timestamp('2023-01-01')\n",
    "date_end = pd.Timestamp('2023-12-31')"
   ]
  },
  {
   "cell_type": "code",
   "execution_count": 20,
   "metadata": {},
   "outputs": [],
   "source": [
    "luzon = process_region(lmp_file,hvdc_file,reserve_file,weatherpath,\"LUZ\", region_groups[\"Luzon\"], date_start,date_end)\n",
    "visayas = process_region(lmp_file,hvdc_file,reserve_file,weatherpath,\"VIS\", region_groups[\"Visayas\"], date_start,date_end)\n",
    "mindanao = process_region(lmp_file,hvdc_file,reserve_file,weatherpath,\"MIN\", region_groups[\"Mindanao\"], min_date,date_end)"
   ]
  },
  {
   "cell_type": "code",
   "execution_count": 14,
   "metadata": {},
   "outputs": [
    {
     "name": "stdout",
     "output_type": "stream",
     "text": [
      "['FLOW_LUZ', 'TMAX_Cubi Point', 'TMAX_NAIA', 'TMIN_NAIA', 'TMAX_Science Garden', 'TMAX_San Jose', 'TMIN_San Jose', 'TMAX_Tayabas', 'TMIN_Tayabas', 'TMAX_CLSU', 'TMIN_CLSU', 'TMAX_Tanay', 'TMIN_Tanay', 'TMAX_Ambulong', 'TMAX_Casiguran', 'TMIN_Casiguran', 'TMAX_Clark', 'TMIN_Clark', 'TMAX_Calapan', 'TMIN_Calapan']\n"
     ]
    }
   ],
   "source": [
    "minmax, bj, yj = classify_features(luzon)\n",
    "print(minmax)"
   ]
  },
  {
   "cell_type": "code",
   "execution_count": 15,
   "metadata": {},
   "outputs": [
    {
     "name": "stdout",
     "output_type": "stream",
     "text": [
      "['GWAP', 'LWAP', 'TMIN_Cubi Point', 'TMIN_Science Garden', 'TMIN_Ambulong']\n"
     ]
    }
   ],
   "source": [
    "print(bj)"
   ]
  }
 ],
 "metadata": {
  "kernelspec": {
   "display_name": "myenv",
   "language": "python",
   "name": "python3"
  },
  "language_info": {
   "codemirror_mode": {
    "name": "ipython",
    "version": 3
   },
   "file_extension": ".py",
   "mimetype": "text/x-python",
   "name": "python",
   "nbconvert_exporter": "python",
   "pygments_lexer": "ipython3",
   "version": "3.9.20"
  }
 },
 "nbformat": 4,
 "nbformat_minor": 2
}
