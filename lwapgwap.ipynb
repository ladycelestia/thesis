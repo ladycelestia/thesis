{
 "cells": [
  {
   "cell_type": "code",
   "execution_count": 1,
   "metadata": {},
   "outputs": [],
   "source": [
    "import pandas as pd"
   ]
  },
  {
   "cell_type": "code",
   "execution_count": 35,
   "metadata": {},
   "outputs": [
    {
     "name": "stdout",
     "output_type": "stream",
     "text": [
      "Total duplicated rows: 0\n",
      "210240\n",
      "Empty DataFrame\n",
      "Columns: [RUN_TIME, FLOW_MIN, FLOW_VIS, FLOW_LUZ]\n",
      "Index: []\n"
     ]
    }
   ],
   "source": [
    "input_file = r'Final\\HVDC_Processed.csv'\n",
    "data = pd.read_csv(input_file)\n",
    "#data=data[data['HVDC_NAME']=='MINVIS1']\n",
    "#print(len(data))\n",
    "duplicated_data = data[data.duplicated(subset=['RUN_TIME'], keep=False)]\n",
    "print(f\"Total duplicated rows: {len(duplicated_data)}\")\n",
    "data = data.drop_duplicates('RUN_TIME', keep='last')\n",
    "data.dropna(inplace=True, how='all')\n",
    "print(len(data))\n",
    "print(duplicated_data)"
   ]
  },
  {
   "cell_type": "code",
   "execution_count": 26,
   "metadata": {},
   "outputs": [
    {
     "name": "stderr",
     "output_type": "stream",
     "text": [
      "C:\\Users\\Paulo John Mercado\\AppData\\Local\\Temp\\ipykernel_3936\\1079343005.py:40: DeprecationWarning: DataFrameGroupBy.apply operated on the grouping columns. This behavior is deprecated, and in a future version of pandas the grouping columns will be excluded from the operation. Either pass `include_groups=False` to exclude the groupings or explicitly select the grouping columns after groupby to silence this warning.\n",
      "  result = grouped.apply(calculate_weighted_avg).reset_index()\n"
     ]
    },
    {
     "name": "stdout",
     "output_type": "stream",
     "text": [
      "Processing complete.\n"
     ]
    }
   ],
   "source": [
    "input_file = r'D:\\School\\ADMU\\4Y\\SEM 1\\MATH 199.11\\Final\\LMP_Complete.csv'\n",
    "output_file = 'tryLWAP.csv'\n",
    "\n",
    "# Define chunk size (adjust based on your system's capacity)\n",
    "chunk_size = 500000\n",
    "\n",
    "# Columns to retain (drop unnecessary columns during reading)\n",
    "usecols = ['RUN_TIME', 'RESOURCE_TYPE', 'REGION_NAME', 'LMP', 'SCHED_MW']\n",
    "\n",
    "# Initialize an empty list to hold processed chunks\n",
    "chunks = []\n",
    "\n",
    "# Read and process file in chunks\n",
    "for chunk in pd.read_csv(input_file, usecols=usecols, chunksize=chunk_size, parse_dates=['RUN_TIME']):\n",
    "    # Filter rows where RESOURCE_TYPE is 'G'\n",
    "    chunk = chunk[chunk['RESOURCE_TYPE'] == 'NL']\n",
    "    \n",
    "    # Set negative LMP prices to 0\n",
    "    chunk.loc[chunk['LMP'] < 0, 'LMP'] = 0\n",
    "    \n",
    "    # Append processed chunk to the list\n",
    "    chunks.append(chunk)\n",
    "\n",
    "# Concatenate all processed chunks into one DataFrame\n",
    "data = pd.concat(chunks, ignore_index=True)\n",
    "\n",
    "# Group by REGION_NAME and RUN_TIME with 5-minute frequency\n",
    "grouped = data.groupby(['REGION_NAME', pd.Grouper(key='RUN_TIME', freq='5min')])\n",
    "\n",
    "# Calculate the weighted average (GWAP) for each group\n",
    "def calculate_weighted_avg(x):\n",
    "    total_sched_mw = x['SCHED_MW'].sum()\n",
    "    if total_sched_mw == 0:\n",
    "        return pd.Series({'LWAP': 0})  # Handle division by zero\n",
    "    return pd.Series({\n",
    "        'LWAP': (x['LMP'] * x['SCHED_MW']).sum() / total_sched_mw\n",
    "    })\n",
    "\n",
    "# Apply the function to the group and exclude the grouping columns from the operation\n",
    "result = grouped.apply(calculate_weighted_avg).reset_index()\n",
    "\n",
    "# Create a complete time index for each region\n",
    "min_time = data['RUN_TIME'].min()\n",
    "max_time = data['RUN_TIME'].max()\n",
    "complete_time_index = pd.date_range(start=min_time, end=max_time, freq='5min')\n",
    "\n",
    "# Reindex the DataFrame to include all time periods and fill missing values with 0\n",
    "reindexed_chunks = []\n",
    "for region in result['REGION_NAME'].unique():\n",
    "    region_data = result[result['REGION_NAME'] == region]\n",
    "    region_data = region_data.set_index('RUN_TIME').reindex(complete_time_index, fill_value=0).reset_index()\n",
    "    region_data['REGION_NAME'] = region\n",
    "    region_data.columns = ['REGION_NAME', 'RUN_TIME','LWAP' ]\n",
    "    reindexed_chunks.append(region_data)\n",
    "\n",
    "# Concatenate all reindexed chunks into one DataFrame\n",
    "final_result = pd.concat(reindexed_chunks, ignore_index=True)\n",
    "\n",
    "# Reorder columns to REGION, RUNTIME, Price\n",
    "final_result = final_result[['LWAP', 'RUN_TIME', 'REGION_NAME']]\n",
    "\n",
    "\n",
    "# Write the result to the output file in chunks\n",
    "final_result.to_csv(output_file, index=False, chunksize=50000)\n",
    "\n",
    "print(\"Processing complete.\")"
   ]
  }
 ],
 "metadata": {
  "kernelspec": {
   "display_name": "base",
   "language": "python",
   "name": "python3"
  },
  "language_info": {
   "codemirror_mode": {
    "name": "ipython",
    "version": 3
   },
   "file_extension": ".py",
   "mimetype": "text/x-python",
   "name": "python",
   "nbconvert_exporter": "python",
   "pygments_lexer": "ipython3",
   "version": "3.10.14"
  }
 },
 "nbformat": 4,
 "nbformat_minor": 2
}
