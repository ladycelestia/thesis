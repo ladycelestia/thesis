{
 "cells": [
  {
   "cell_type": "code",
   "execution_count": 1,
   "metadata": {},
   "outputs": [
    {
     "name": "stderr",
     "output_type": "stream",
     "text": [
      "/Library/Frameworks/Python.framework/Versions/3.12/lib/python3.12/site-packages/tqdm/auto.py:21: TqdmWarning: IProgress not found. Please update jupyter and ipywidgets. See https://ipywidgets.readthedocs.io/en/stable/user_install.html\n",
      "  from .autonotebook import tqdm as notebook_tqdm\n"
     ]
    }
   ],
   "source": [
    "# Import necessary libraries for data manipulation and analysis\n",
    "import numpy as np # Numerical operations\n",
    "import pandas as pd # Data manipulation\n",
    "from datetime import datetime, timedelta # Date operations\n",
    "\n",
    "#Import necessary libraries for transformations\n",
    "from sklearn.preprocessing import MinMaxScaler, PowerTransformer\n",
    "from sklearn.compose import ColumnTransformer\n",
    "from sklearn.pipeline import Pipeline\n",
    "from scipy import stats\n",
    "from scipy.stats import skew, kurtosis\n",
    "\n",
    "# Import libraries for plotting and visualization\n",
    "import matplotlib.pyplot as plt # Matplotlib for basic plotting\n",
    "import seaborn as sns # Seaborn for enhanced visualization\n",
    "import plotly.express as px # Plotly for interactive plots\n",
    "\n",
    "# Import libraries for time series analysis and modeling\n",
    "from statsmodels.tsa.stattools import adfuller # Augmented Dickey-Fuller Test for stationarity check\n",
    "from statsmodels.tsa.stattools import kpss # Kwiatkowski-Phillips-Schmidt-Shin Test for stationarity check\n",
    "from statsmodels.tsa.statespace.sarimax import SARIMAX # SARIMAX model for time series forecasting\n",
    "from statsmodels.tsa.seasonal import seasonal_decompose # Seasonal decomposition for trend, seasonal, and residual components\n",
    "import statsmodels.api as sm\n",
    "from sklearn.metrics import mean_squared_error\n",
    "from sklearn.metrics import mean_absolute_error\n",
    "from skforecast.model_selection_sarimax import backtesting_sarimax\n",
    "from skforecast.model_selection_sarimax import grid_search_sarimax\n",
    "from skforecast.Sarimax import Sarimax\n",
    "from statsmodels.tsa.arima.model import ARIMA\n",
    "\n",
    "# Import necessary libraries for computing acf and pacf\n",
    "from statsmodels.graphics.tsaplots import plot_acf, plot_pacf  # For autocorrelation and partial autocorrelation plots\n",
    "from statsmodels.tsa.stattools import acf, pacf  # For computing autocorrelation and partial autocorrelation\n",
    "\n",
    "import joblib\n"
   ]
  },
  {
   "cell_type": "code",
   "execution_count": 2,
   "metadata": {},
   "outputs": [],
   "source": [
    "from pmdarima.arima import auto_arima #SARIMAX using pmdarima\n",
    "from skforecast.ForecasterSarimax import ForecasterSarimax"
   ]
  },
  {
   "cell_type": "markdown",
   "metadata": {},
   "source": [
    "SARIMAX for Mindanao"
   ]
  },
  {
   "cell_type": "code",
   "execution_count": 3,
   "metadata": {},
   "outputs": [],
   "source": [
    "labels_csv = r'/Users/jojielyn/Desktop/School/04 Senior/Thesis/SARIMAX/Mindanao/train_labels_transformed.csv'\n",
    "data_csv = r'/Users/jojielyn/Desktop/School/04 Senior/Thesis/SARIMAX/Mindanao/train_data_transformed.csv'\n",
    "test_data_csv=r'/Users/jojielyn/Desktop/School/04 Senior/Thesis/SARIMAX/Mindanao/test_data.csv'\n",
    "test_labels_csv=r'/Users/jojielyn/Desktop/School/04 Senior/Thesis/SARIMAX/Mindanao/test_labels.csv'\n",
    "transformed_data=r'/Users/jojielyn/Desktop/School/04 Senior/Thesis/SARIMAX/Mindanao/data_transformed.csv'\n",
    "complete_data = '/Users/jojielyn/Desktop/School/04 Senior/Thesis/SARIMAX/Mindanao/MIN_Daily_Complete.csv'\n",
    "\n",
    "transformed_train_data = pd.read_csv(data_csv)\n",
    "transformed_train_labels = pd.read_csv(labels_csv)\n",
    "transformed_data = pd.read_csv(transformed_data)\n",
    "\n",
    "test_data = pd.read_csv(test_data_csv)\n",
    "test_labels = pd.read_csv(test_labels_csv)\n",
    "\n",
    "complete_data_df = pd.read_csv(complete_data)\n",
    "gwap = complete_data_df[['GWAP']]\n",
    "lwap = complete_data_df[['LWAP']]\n",
    "\n"
   ]
  },
  {
   "cell_type": "code",
   "execution_count": 4,
   "metadata": {},
   "outputs": [],
   "source": [
    "train_size = int(len(transformed_train_labels))  \n",
    "test_size = int(len(test_data))\n",
    "\n",
    "date_range = pd.date_range(start='2023-01-01', end='2023-12-31', freq='D')\n",
    "date_df = pd.DataFrame(date_range, columns=['Date'])\n",
    "\n",
    "train_date = date_df[:train_size]\n",
    "test_date = date_df[train_size:]\n",
    "\n",
    "#Resetting the Index\n",
    "train_date = train_date.reset_index(drop=True)\n",
    "test_date = test_date.reset_index(drop=True)\n"
   ]
  },
  {
   "cell_type": "code",
   "execution_count": 6,
   "metadata": {},
   "outputs": [],
   "source": [
    "#Preparing the dataframes\n",
    "transformed_train_labels.rename(columns={'0': 'GWAP', '1': 'LWAP'}, inplace=True)\n",
    "labels_columns = ['GWAP', 'LWAP']\n",
    "labels_train = pd.DataFrame(transformed_train_labels, columns = labels_columns)\n",
    "labels_test = pd.DataFrame(test_labels, columns = labels_columns)\n",
    "\n",
    "transformed_train_data.rename(columns={'0':'GWAP', '1':'LWAP', '2':'FLOW_MIN','3':'RESERVE_GWAP_Fr','4':'RESERVE_GWAP_Ru','5':'RESERVE_GWAP_Rd','6':'RESERVE_GWAP_Dr','7':'Hourly Demand','8':'RAINFALL_Davao City', '9':'TMAX_Davao City', '10':'TMIN_Davao City','11':'RAINFALL_Surigao','12':'TMAX_Surigao','13':'TMIN_Surigao','14':'RAINFALL_Zamboanga','15':'TMAX_Zamboanga','16':'TMIN_Zamboanga','17':'RAINFALL_Dipolog','18':'TMAX_Dipolog','19':'TMIN_Dipolog','20':'RAINFALL_Butuan','21':'TMAX_Butuan','22':'TMIN_Butuan', '23':'RAINFALL_Malaybalay', '24':'TMAX_Malaybalay', '25':'TMIN_Malaybalay', '26':'RAINFALL_General Santos', '27':'TMAX_General Santos', '28':'TMIN_General Santos', '29':'RAINFALL_Cotabato', '30':'TMAX_Cotabato', '31':'TMIN_Cotabato'}, inplace=True)\n",
    "data_columns = ['GWAP', 'LWAP', 'FLOW_MIN','RESERVE_GWAP_Fr','RESERVE_GWAP_Ru','RESERVE_GWAP_Rd','RESERVE_GWAP_Dr','Hourly Demand','RAINFALL_Davao City', 'TMAX_Davao City', 'TMIN_Davao City','RAINFALL_Surigao','TMAX_Surigao','TMIN_Surigao','RAINFALL_Zamboanga','TMAX_Zamboanga','TMIN_Zamboanga','RAINFALL_Dipolog','TMAX_Dipolog','TMIN_Dipolog','RAINFALL_Butuan','TMAX_Butuan','TMIN_Butuan', 'RAINFALL_Malaybalay', 'TMAX_Malaybalay', 'TMIN_Malaybalay', 'RAINFALL_General Santos', 'TMAX_General Santos', 'TMIN_General Santos', 'RAINFALL_Cotabato', 'TMAX_Cotabato', 'TMIN_Cotabato']\n",
    "data_train = pd.DataFrame(transformed_train_data, columns = data_columns)\n",
    "data_test = pd.DataFrame(test_data, columns = data_columns)\n",
    "\n",
    "transformed_data.rename(columns={'0':'GWAP', '1':'LWAP', '2':'FLOW_MIN','3':'RESERVE_GWAP_Fr','4':'RESERVE_GWAP_Ru','5':'RESERVE_GWAP_Rd','6':'RESERVE_GWAP_Dr','7':'Hourly Demand','8':'RAINFALL_Davao City', '9':'TMAX_Davao City', '10':'TMIN_Davao City','11':'RAINFALL_Surigao','12':'TMAX_Surigao','13':'TMIN_Surigao','14':'RAINFALL_Zamboanga','15':'TMAX_Zamboanga','16':'TMIN_Zamboanga','17':'RAINFALL_Dipolog','18':'TMAX_Dipolog','19':'TMIN_Dipolog','20':'RAINFALL_Butuan','21':'TMAX_Butuan','22':'TMIN_Butuan', '23':'RAINFALL_Malaybalay', '24':'TMAX_Malaybalay', '25':'TMIN_Malaybalay', '26':'RAINFALL_General Santos', '27':'TMAX_General Santos', '28':'TMIN_General Santos', '29':'RAINFALL_Cotabato', '30':'TMAX_Cotabato', '31':'TMIN_Cotabato'}, inplace=True)"
   ]
  },
  {
   "cell_type": "code",
   "execution_count": 7,
   "metadata": {},
   "outputs": [],
   "source": [
    "#lagging the transformed data\n",
    "transformed_data = transformed_data.shift(1)\n",
    "transformed_data = transformed_data.fillna(0)\n",
    "\n",
    "#Removing GWAP and LWAP\n",
    "transformed_exog = transformed_data.drop(columns=['GWAP','LWAP'])\n",
    "\n",
    "#Preparing the exog datasets\n",
    "train_exog = transformed_exog[:train_size]\n",
    "test_exog = transformed_exog[train_size:]\n",
    "\n"
   ]
  },
  {
   "cell_type": "code",
   "execution_count": 9,
   "metadata": {},
   "outputs": [],
   "source": [
    "#Preparing transformed GWAP datasets\n",
    "GWAP_train = labels_train['GWAP']\n",
    "GWAP_train = pd.concat([train_date,GWAP_train], axis=1)\n",
    "GWAP_train.set_index('Date', inplace=True)\n",
    "GWAP_train.index = pd.to_datetime(GWAP_train.index)\n",
    "GWAP_train.index.freq='D'\n",
    "GWAP_train = GWAP_train.squeeze()\n",
    "\n",
    "\n",
    "GWAP_test = labels_test['GWAP']\n",
    "GWAP_test = pd.concat([test_date,GWAP_test], axis=1)\n",
    "GWAP_test.set_index('Date', inplace=True)\n",
    "GWAP_test.index = pd.to_datetime(GWAP_test.index)\n",
    "GWAP_test.index.freq='D'\n",
    "GWAP_test = GWAP_test.squeeze()\n",
    "\n",
    "#Preparing original GWAP datasets\n",
    "GWAP = pd.concat([date_df,gwap], axis=1)\n",
    "GWAP.set_index('Date', inplace=True)\n",
    "GWAP.index = pd.to_datetime(GWAP.index)\n",
    "GWAP.index.freq='D'\n",
    "GWAP = GWAP.squeeze()\n",
    "\n",
    "GWAP_test_inversed = GWAP[train_size:]\n",
    "\n",
    "\n",
    "\n",
    "\n",
    "#Preparing the transformed LWAP datasets\n",
    "LWAP_train = labels_train['LWAP']\n",
    "LWAP_train = pd.concat([train_date,LWAP_train], axis=1)\n",
    "LWAP_train.set_index('Date', inplace=True)\n",
    "LWAP_train.index = pd.to_datetime(LWAP_train.index)\n",
    "LWAP_train.index.freq='D'\n",
    "LWAP_train = LWAP_train.squeeze()\n",
    "\n",
    "LWAP_test = labels_test['LWAP']\n",
    "LWAP_test = pd.concat([test_date,LWAP_test], axis=1)\n",
    "LWAP_test.set_index('Date', inplace=True)\n",
    "LWAP_test.index = pd.to_datetime(LWAP_test.index)\n",
    "LWAP_test.index.freq='D'\n",
    "LWAP_test = LWAP_test.squeeze()\n",
    "\n",
    "#Preparing the original LWAP datasets\n",
    "\n",
    "LWAP = pd.concat([date_df,lwap], axis=1)\n",
    "LWAP.set_index('Date', inplace=True)\n",
    "LWAP.index = pd.to_datetime(LWAP.index)\n",
    "LWAP.index.freq='D'\n",
    "LWAP = LWAP.squeeze()\n",
    "\n",
    "LWAP_test_inversed = LWAP[train_size:]\n",
    "\n",
    "\n",
    "\n",
    "#Preparing the exogenous datasets\n",
    "exog_train = pd.concat([train_date,train_exog], axis=1)\n",
    "exog_train.set_index('Date', inplace=True)\n",
    "\n",
    "exog_test = pd.concat([test_date,test_exog], axis=1)\n",
    "exog_test.set_index('Date', inplace=True)"
   ]
  },
  {
   "cell_type": "code",
   "execution_count": 10,
   "metadata": {},
   "outputs": [
    {
     "data": {
      "application/vnd.plotly.v1+json": {
       "config": {
        "plotlyServerURL": "https://plot.ly"
       },
       "data": [
        {
         "hovertemplate": "Date=%{x}<br>GWAP=%{y}<extra></extra>",
         "legendgroup": "",
         "line": {
          "color": "#636efa",
          "dash": "solid"
         },
         "marker": {
          "symbol": "circle"
         },
         "mode": "lines",
         "name": "",
         "orientation": "v",
         "showlegend": false,
         "type": "scatter",
         "x": [
          "2023-01-01T00:00:00",
          "2023-01-02T00:00:00",
          "2023-01-03T00:00:00",
          "2023-01-04T00:00:00",
          "2023-01-05T00:00:00",
          "2023-01-06T00:00:00",
          "2023-01-07T00:00:00",
          "2023-01-08T00:00:00",
          "2023-01-09T00:00:00",
          "2023-01-10T00:00:00",
          "2023-01-11T00:00:00",
          "2023-01-12T00:00:00",
          "2023-01-13T00:00:00",
          "2023-01-14T00:00:00",
          "2023-01-15T00:00:00",
          "2023-01-16T00:00:00",
          "2023-01-17T00:00:00",
          "2023-01-18T00:00:00",
          "2023-01-19T00:00:00",
          "2023-01-20T00:00:00",
          "2023-01-21T00:00:00",
          "2023-01-22T00:00:00",
          "2023-01-23T00:00:00",
          "2023-01-24T00:00:00",
          "2023-01-25T00:00:00",
          "2023-01-26T00:00:00",
          "2023-01-27T00:00:00",
          "2023-01-28T00:00:00",
          "2023-01-29T00:00:00",
          "2023-01-30T00:00:00",
          "2023-01-31T00:00:00",
          "2023-02-01T00:00:00",
          "2023-02-02T00:00:00",
          "2023-02-03T00:00:00",
          "2023-02-04T00:00:00",
          "2023-02-05T00:00:00",
          "2023-02-06T00:00:00",
          "2023-02-07T00:00:00",
          "2023-02-08T00:00:00",
          "2023-02-09T00:00:00",
          "2023-02-10T00:00:00",
          "2023-02-11T00:00:00",
          "2023-02-12T00:00:00",
          "2023-02-13T00:00:00",
          "2023-02-14T00:00:00",
          "2023-02-15T00:00:00",
          "2023-02-16T00:00:00",
          "2023-02-17T00:00:00",
          "2023-02-18T00:00:00",
          "2023-02-19T00:00:00",
          "2023-02-20T00:00:00",
          "2023-02-21T00:00:00",
          "2023-02-22T00:00:00",
          "2023-02-23T00:00:00",
          "2023-02-24T00:00:00",
          "2023-02-25T00:00:00",
          "2023-02-26T00:00:00",
          "2023-02-27T00:00:00",
          "2023-02-28T00:00:00",
          "2023-03-01T00:00:00",
          "2023-03-02T00:00:00",
          "2023-03-03T00:00:00",
          "2023-03-04T00:00:00",
          "2023-03-05T00:00:00",
          "2023-03-06T00:00:00",
          "2023-03-07T00:00:00",
          "2023-03-08T00:00:00",
          "2023-03-09T00:00:00",
          "2023-03-10T00:00:00",
          "2023-03-11T00:00:00",
          "2023-03-12T00:00:00",
          "2023-03-13T00:00:00",
          "2023-03-14T00:00:00",
          "2023-03-15T00:00:00",
          "2023-03-16T00:00:00",
          "2023-03-17T00:00:00",
          "2023-03-18T00:00:00",
          "2023-03-19T00:00:00",
          "2023-03-20T00:00:00",
          "2023-03-21T00:00:00",
          "2023-03-22T00:00:00",
          "2023-03-23T00:00:00",
          "2023-03-24T00:00:00",
          "2023-03-25T00:00:00",
          "2023-03-26T00:00:00",
          "2023-03-27T00:00:00",
          "2023-03-28T00:00:00",
          "2023-03-29T00:00:00",
          "2023-03-30T00:00:00",
          "2023-03-31T00:00:00",
          "2023-04-01T00:00:00",
          "2023-04-02T00:00:00",
          "2023-04-03T00:00:00",
          "2023-04-04T00:00:00",
          "2023-04-05T00:00:00",
          "2023-04-06T00:00:00",
          "2023-04-07T00:00:00",
          "2023-04-08T00:00:00",
          "2023-04-09T00:00:00",
          "2023-04-10T00:00:00",
          "2023-04-11T00:00:00",
          "2023-04-12T00:00:00",
          "2023-04-13T00:00:00",
          "2023-04-14T00:00:00",
          "2023-04-15T00:00:00",
          "2023-04-16T00:00:00",
          "2023-04-17T00:00:00",
          "2023-04-18T00:00:00",
          "2023-04-19T00:00:00",
          "2023-04-20T00:00:00",
          "2023-04-21T00:00:00",
          "2023-04-22T00:00:00",
          "2023-04-23T00:00:00",
          "2023-04-24T00:00:00",
          "2023-04-25T00:00:00",
          "2023-04-26T00:00:00",
          "2023-04-27T00:00:00",
          "2023-04-28T00:00:00",
          "2023-04-29T00:00:00",
          "2023-04-30T00:00:00",
          "2023-05-01T00:00:00",
          "2023-05-02T00:00:00",
          "2023-05-03T00:00:00",
          "2023-05-04T00:00:00",
          "2023-05-05T00:00:00",
          "2023-05-06T00:00:00",
          "2023-05-07T00:00:00",
          "2023-05-08T00:00:00",
          "2023-05-09T00:00:00",
          "2023-05-10T00:00:00",
          "2023-05-11T00:00:00",
          "2023-05-12T00:00:00",
          "2023-05-13T00:00:00",
          "2023-05-14T00:00:00",
          "2023-05-15T00:00:00",
          "2023-05-16T00:00:00",
          "2023-05-17T00:00:00",
          "2023-05-18T00:00:00",
          "2023-05-19T00:00:00",
          "2023-05-20T00:00:00",
          "2023-05-21T00:00:00",
          "2023-05-22T00:00:00",
          "2023-05-23T00:00:00",
          "2023-05-24T00:00:00",
          "2023-05-25T00:00:00",
          "2023-05-26T00:00:00",
          "2023-05-27T00:00:00",
          "2023-05-28T00:00:00",
          "2023-05-29T00:00:00",
          "2023-05-30T00:00:00",
          "2023-05-31T00:00:00",
          "2023-06-01T00:00:00",
          "2023-06-02T00:00:00",
          "2023-06-03T00:00:00",
          "2023-06-04T00:00:00",
          "2023-06-05T00:00:00",
          "2023-06-06T00:00:00",
          "2023-06-07T00:00:00",
          "2023-06-08T00:00:00",
          "2023-06-09T00:00:00",
          "2023-06-10T00:00:00",
          "2023-06-11T00:00:00",
          "2023-06-12T00:00:00",
          "2023-06-13T00:00:00",
          "2023-06-14T00:00:00",
          "2023-06-15T00:00:00",
          "2023-06-16T00:00:00",
          "2023-06-17T00:00:00",
          "2023-06-18T00:00:00",
          "2023-06-19T00:00:00",
          "2023-06-20T00:00:00",
          "2023-06-21T00:00:00",
          "2023-06-22T00:00:00",
          "2023-06-23T00:00:00",
          "2023-06-24T00:00:00",
          "2023-06-25T00:00:00",
          "2023-06-26T00:00:00",
          "2023-06-27T00:00:00",
          "2023-06-28T00:00:00",
          "2023-06-29T00:00:00",
          "2023-06-30T00:00:00",
          "2023-07-01T00:00:00",
          "2023-07-02T00:00:00",
          "2023-07-03T00:00:00",
          "2023-07-04T00:00:00",
          "2023-07-05T00:00:00",
          "2023-07-06T00:00:00",
          "2023-07-07T00:00:00",
          "2023-07-08T00:00:00",
          "2023-07-09T00:00:00",
          "2023-07-10T00:00:00",
          "2023-07-11T00:00:00",
          "2023-07-12T00:00:00",
          "2023-07-13T00:00:00",
          "2023-07-14T00:00:00",
          "2023-07-15T00:00:00",
          "2023-07-16T00:00:00",
          "2023-07-17T00:00:00",
          "2023-07-18T00:00:00",
          "2023-07-19T00:00:00",
          "2023-07-20T00:00:00",
          "2023-07-21T00:00:00",
          "2023-07-22T00:00:00",
          "2023-07-23T00:00:00",
          "2023-07-24T00:00:00",
          "2023-07-25T00:00:00",
          "2023-07-26T00:00:00",
          "2023-07-27T00:00:00",
          "2023-07-28T00:00:00",
          "2023-07-29T00:00:00",
          "2023-07-30T00:00:00",
          "2023-07-31T00:00:00",
          "2023-08-01T00:00:00",
          "2023-08-02T00:00:00",
          "2023-08-03T00:00:00",
          "2023-08-04T00:00:00",
          "2023-08-05T00:00:00",
          "2023-08-06T00:00:00",
          "2023-08-07T00:00:00",
          "2023-08-08T00:00:00",
          "2023-08-09T00:00:00",
          "2023-08-10T00:00:00",
          "2023-08-11T00:00:00",
          "2023-08-12T00:00:00",
          "2023-08-13T00:00:00",
          "2023-08-14T00:00:00",
          "2023-08-15T00:00:00",
          "2023-08-16T00:00:00",
          "2023-08-17T00:00:00",
          "2023-08-18T00:00:00",
          "2023-08-19T00:00:00",
          "2023-08-20T00:00:00",
          "2023-08-21T00:00:00",
          "2023-08-22T00:00:00",
          "2023-08-23T00:00:00",
          "2023-08-24T00:00:00",
          "2023-08-25T00:00:00",
          "2023-08-26T00:00:00",
          "2023-08-27T00:00:00",
          "2023-08-28T00:00:00",
          "2023-08-29T00:00:00",
          "2023-08-30T00:00:00",
          "2023-08-31T00:00:00",
          "2023-09-01T00:00:00",
          "2023-09-02T00:00:00",
          "2023-09-03T00:00:00",
          "2023-09-04T00:00:00",
          "2023-09-05T00:00:00",
          "2023-09-06T00:00:00",
          "2023-09-07T00:00:00",
          "2023-09-08T00:00:00",
          "2023-09-09T00:00:00",
          "2023-09-10T00:00:00",
          "2023-09-11T00:00:00",
          "2023-09-12T00:00:00",
          "2023-09-13T00:00:00",
          "2023-09-14T00:00:00",
          "2023-09-15T00:00:00",
          "2023-09-16T00:00:00",
          "2023-09-17T00:00:00",
          "2023-09-18T00:00:00",
          "2023-09-19T00:00:00",
          "2023-09-20T00:00:00",
          "2023-09-21T00:00:00",
          "2023-09-22T00:00:00",
          "2023-09-23T00:00:00",
          "2023-09-24T00:00:00",
          "2023-09-25T00:00:00",
          "2023-09-26T00:00:00",
          "2023-09-27T00:00:00",
          "2023-09-28T00:00:00",
          "2023-09-29T00:00:00",
          "2023-09-30T00:00:00",
          "2023-10-01T00:00:00",
          "2023-10-02T00:00:00",
          "2023-10-03T00:00:00",
          "2023-10-04T00:00:00",
          "2023-10-05T00:00:00",
          "2023-10-06T00:00:00",
          "2023-10-07T00:00:00",
          "2023-10-08T00:00:00",
          "2023-10-09T00:00:00",
          "2023-10-10T00:00:00",
          "2023-10-11T00:00:00",
          "2023-10-12T00:00:00",
          "2023-10-13T00:00:00",
          "2023-10-14T00:00:00",
          "2023-10-15T00:00:00",
          "2023-10-16T00:00:00",
          "2023-10-17T00:00:00",
          "2023-10-18T00:00:00",
          "2023-10-19T00:00:00"
         ],
         "xaxis": "x",
         "y": [
          0.5761568433678564,
          0.2256329788377356,
          0.4330705225548749,
          0.3939976073226772,
          0.7922164413393814,
          0.8980572401754764,
          0.5531119654195727,
          0.1904643527744732,
          0.6858924788898193,
          0.5432760096664085,
          0.3620961842221672,
          0.0044769688810864,
          0.0439145882464382,
          0.0443592151528391,
          0.4566444722863048,
          0.3130398364106997,
          0.2544955649929475,
          0.3243801921315857,
          0.2632481653699515,
          0.1416887993182947,
          0.411245347071732,
          0,
          0.0065147142428346,
          0.0653373194382767,
          0.1645663087667627,
          0.3278569230786629,
          0.4037289855530974,
          0.4291132288312788,
          0.2171741853573338,
          0.3714965507538851,
          0.4440115274659444,
          0.4702690213155129,
          0.4740265571578452,
          0.5078898119574196,
          0.457156202531698,
          0.4277400610614015,
          0.5131653360458556,
          0.4816212518445416,
          0.4578082981947637,
          0.4572528475131304,
          0.483700069136188,
          0.4793039044279364,
          0.3992585316345002,
          0.4842448037850345,
          0.4424518532139451,
          0.4314986111677238,
          0.4412217442459963,
          0.4354084670249538,
          0.3746859188135657,
          0.3777293041483947,
          0.4752141167429984,
          0.4705528545722302,
          0.4447573947596534,
          0.488285889739991,
          0.4814417997402437,
          0.4580559455406417,
          0.3291484949325834,
          0.4635052094885252,
          0.4456207316161767,
          0.4576562551593485,
          0.4540052124777562,
          0.422958582892217,
          0.4377379261039136,
          0.3982267119182846,
          0.4814639445354992,
          0.5016268270871985,
          0.5894231991240647,
          0.6721972573270769,
          0.7517024737464255,
          0.5249154963698519,
          0.5402667843358141,
          0.7306570590641939,
          0.4637398164336681,
          0.4483107800528993,
          0.4656204689321582,
          0.4484419810076474,
          0.4191846313372439,
          0.3852416401289495,
          0.4457525372378416,
          0.4960462558208677,
          0.5829901442852778,
          0.7750636191185963,
          1.0000000000000002,
          0.5152728100809553,
          0.4919037460815563,
          0.559571075780986,
          0.5018984204753068,
          0.4657122682797427,
          0.4412032995240229,
          0.4103157646171636,
          0.3559560077803067,
          0.3630326352849262,
          0.3767607430092347,
          0.4063270448367683,
          0.3972939615601446,
          0.3022922534048536,
          0.211826291566892,
          0.3425173460159423,
          0.3281084890430393,
          0.3721035431694448,
          0.5173879035664304,
          0.4697055415186075,
          0.600416992252958,
          0.6081921386716246,
          0.5870750186085405,
          0.422658560636754,
          0.4458709082910034,
          0.5592366736188794,
          0.5504252432069657,
          0.495711931977325,
          0.4369887080358174,
          0.4207230275815026,
          0.432562245884762,
          0.5509149481886753,
          0.5119071938274837,
          0.6201157693322316,
          0.5300483817368448,
          0.5695510053594952,
          0.4530530401183623,
          0.3586181940348687,
          0.3861582302752186,
          0.5537696853556047,
          0.5999668873987561,
          0.6315127069442499,
          0.6273095940810982,
          0.5503809532086158,
          0.4363769954280881,
          0.6563443501673891,
          0.5434298261345469,
          0.6426915416748715,
          0.6118115605431373,
          0.5568770562528096,
          0.4633390233425352,
          0.3919249429138345,
          0.4940020097698219,
          0.3724465365374858,
          0.4034117922337683,
          0.334699789121055,
          0.3974228062618541,
          0.3426528081792485,
          0.3319266148197897,
          0.5367675413274663,
          0.4983148236727689,
          0.4246450982719622,
          0.3833055432885254,
          0.3305692304911438,
          0.3126794751933061,
          0.2363020492001233,
          0.3346908824873848,
          0.376384167280979,
          0.4069724275129099,
          0.3955444453500156,
          0.429496479917191,
          0.3422861351559431,
          0.3335449884562899,
          0.3051899087645759,
          0.2861428923049426,
          0.2967369162102503,
          0.3447773657480275,
          0.3531093095658361,
          0.2870824802332881,
          0.263246239447958,
          0.3088854676995291,
          0.4736371259802367,
          0.3804959321922229,
          0.344507272474702,
          0.3745909507226901,
          0.3820993039518385,
          0.3386425110568505,
          0.3408955480884091,
          0.3595352306895102,
          0.3551657153325976,
          0.317375185087202,
          0.3394731520405688,
          0.322459105630557,
          0.1870151528823991,
          0.3019572559674205,
          0.354279250179822,
          0.3052309556688416,
          0.3327204192824457,
          0.3315846350446778,
          0.3512082593771113,
          0.3242670167618388,
          0.3463930963493405,
          0.3707404951899685,
          0.3815342964524507,
          0.4105135854845937,
          0.4356664900062253,
          0.3861441260083979,
          0.3555638353242499,
          0.4152898350466593,
          0.4346796731424508,
          0.4024713659643007,
          0.3585379638877246,
          0.3531009952371226,
          0.3670425130607461,
          0.3576808507448148,
          0.3922511102182219,
          0.359464643594457,
          0.3532386475581048,
          0.4198557985040175,
          0.4653890011245996,
          0.3485465004936542,
          0.2270677158737729,
          0.3242980555303574,
          0.3239415871692533,
          0.3706353102359253,
          0.4042435656386281,
          0.4385094284699303,
          0.3695498970476127,
          0.3538500295753749,
          0.5966188317792754,
          0.3839206637834159,
          0.4124067732386529,
          0.5322108411007601,
          0.6397479455338818,
          0.3797267187691505,
          0.3685414458337274,
          0.6355795368621856,
          0.5753456998500329,
          0.3996511586638548,
          0.3991457190963219,
          0.3771859495636396,
          0.3403969792646162,
          0.3097462098181616,
          0.3253210976495188,
          0.3556143960060061,
          0.3759205704734402,
          0.3602199279315092,
          0.3759344575823123,
          0.2881603042947236,
          0.2523748702256395,
          0.2581931116184003,
          0.5711988932258968,
          0.4757365618172521,
          0.5132933224235828,
          0.5471815899054576,
          0.417188342105058,
          0.3514389609991769,
          0.365348117762959,
          0.4439092283131446,
          0.4919765411277739,
          0.5286442221870346,
          0.5131976380798767,
          0.4028645056101755,
          0.3592979598271724,
          0.5584659200231428,
          0.6094379071094573,
          0.553242915344559,
          0.5976821700680718,
          0.5788637998989864,
          0.3520462035636988,
          0.3788571077349292,
          0.4275019742471733,
          0.485108639134482,
          0.4176013423206793,
          0.4065470832560854,
          0.4236673013390309,
          0.3802907459140933,
          0.3865547183753203,
          0.589378518402578,
          0.6347855154392196,
          0.5913150725697243,
          0.5511535686099631,
          0.456446102864478,
          0.3783653028240603,
          0.3697703901138447,
          0.4442741765745616,
          0.3886572001369357,
          0.3291052849391181,
          0.3809236662656616,
          0.406923915040668,
          0.3611881164340639,
          0.3846652054753087,
          0.6385219546403982,
          0.6016406690461197,
          0.6243930663765836,
          0.615409345412847,
          0.6083763251425073,
          0.3662257427408751,
          0.3186021015949568,
          0.4280827421493126,
          0.3445611104685058,
          0.3399902365173557,
          0.3699828606484238,
          0.3690318893703493,
          0.2469136711179337,
          0.2587902920520772,
          0.3731186401463376,
          0.3765229499383302,
          0.3778165660449189,
          0.3673794090450999
         ],
         "yaxis": "y"
        }
       ],
       "layout": {
        "legend": {
         "tracegroupgap": 0
        },
        "margin": {
         "t": 60
        },
        "template": {
         "data": {
          "bar": [
           {
            "error_x": {
             "color": "#2a3f5f"
            },
            "error_y": {
             "color": "#2a3f5f"
            },
            "marker": {
             "line": {
              "color": "#E5ECF6",
              "width": 0.5
             },
             "pattern": {
              "fillmode": "overlay",
              "size": 10,
              "solidity": 0.2
             }
            },
            "type": "bar"
           }
          ],
          "barpolar": [
           {
            "marker": {
             "line": {
              "color": "#E5ECF6",
              "width": 0.5
             },
             "pattern": {
              "fillmode": "overlay",
              "size": 10,
              "solidity": 0.2
             }
            },
            "type": "barpolar"
           }
          ],
          "carpet": [
           {
            "aaxis": {
             "endlinecolor": "#2a3f5f",
             "gridcolor": "white",
             "linecolor": "white",
             "minorgridcolor": "white",
             "startlinecolor": "#2a3f5f"
            },
            "baxis": {
             "endlinecolor": "#2a3f5f",
             "gridcolor": "white",
             "linecolor": "white",
             "minorgridcolor": "white",
             "startlinecolor": "#2a3f5f"
            },
            "type": "carpet"
           }
          ],
          "choropleth": [
           {
            "colorbar": {
             "outlinewidth": 0,
             "ticks": ""
            },
            "type": "choropleth"
           }
          ],
          "contour": [
           {
            "colorbar": {
             "outlinewidth": 0,
             "ticks": ""
            },
            "colorscale": [
             [
              0,
              "#0d0887"
             ],
             [
              0.1111111111111111,
              "#46039f"
             ],
             [
              0.2222222222222222,
              "#7201a8"
             ],
             [
              0.3333333333333333,
              "#9c179e"
             ],
             [
              0.4444444444444444,
              "#bd3786"
             ],
             [
              0.5555555555555556,
              "#d8576b"
             ],
             [
              0.6666666666666666,
              "#ed7953"
             ],
             [
              0.7777777777777778,
              "#fb9f3a"
             ],
             [
              0.8888888888888888,
              "#fdca26"
             ],
             [
              1,
              "#f0f921"
             ]
            ],
            "type": "contour"
           }
          ],
          "contourcarpet": [
           {
            "colorbar": {
             "outlinewidth": 0,
             "ticks": ""
            },
            "type": "contourcarpet"
           }
          ],
          "heatmap": [
           {
            "colorbar": {
             "outlinewidth": 0,
             "ticks": ""
            },
            "colorscale": [
             [
              0,
              "#0d0887"
             ],
             [
              0.1111111111111111,
              "#46039f"
             ],
             [
              0.2222222222222222,
              "#7201a8"
             ],
             [
              0.3333333333333333,
              "#9c179e"
             ],
             [
              0.4444444444444444,
              "#bd3786"
             ],
             [
              0.5555555555555556,
              "#d8576b"
             ],
             [
              0.6666666666666666,
              "#ed7953"
             ],
             [
              0.7777777777777778,
              "#fb9f3a"
             ],
             [
              0.8888888888888888,
              "#fdca26"
             ],
             [
              1,
              "#f0f921"
             ]
            ],
            "type": "heatmap"
           }
          ],
          "heatmapgl": [
           {
            "colorbar": {
             "outlinewidth": 0,
             "ticks": ""
            },
            "colorscale": [
             [
              0,
              "#0d0887"
             ],
             [
              0.1111111111111111,
              "#46039f"
             ],
             [
              0.2222222222222222,
              "#7201a8"
             ],
             [
              0.3333333333333333,
              "#9c179e"
             ],
             [
              0.4444444444444444,
              "#bd3786"
             ],
             [
              0.5555555555555556,
              "#d8576b"
             ],
             [
              0.6666666666666666,
              "#ed7953"
             ],
             [
              0.7777777777777778,
              "#fb9f3a"
             ],
             [
              0.8888888888888888,
              "#fdca26"
             ],
             [
              1,
              "#f0f921"
             ]
            ],
            "type": "heatmapgl"
           }
          ],
          "histogram": [
           {
            "marker": {
             "pattern": {
              "fillmode": "overlay",
              "size": 10,
              "solidity": 0.2
             }
            },
            "type": "histogram"
           }
          ],
          "histogram2d": [
           {
            "colorbar": {
             "outlinewidth": 0,
             "ticks": ""
            },
            "colorscale": [
             [
              0,
              "#0d0887"
             ],
             [
              0.1111111111111111,
              "#46039f"
             ],
             [
              0.2222222222222222,
              "#7201a8"
             ],
             [
              0.3333333333333333,
              "#9c179e"
             ],
             [
              0.4444444444444444,
              "#bd3786"
             ],
             [
              0.5555555555555556,
              "#d8576b"
             ],
             [
              0.6666666666666666,
              "#ed7953"
             ],
             [
              0.7777777777777778,
              "#fb9f3a"
             ],
             [
              0.8888888888888888,
              "#fdca26"
             ],
             [
              1,
              "#f0f921"
             ]
            ],
            "type": "histogram2d"
           }
          ],
          "histogram2dcontour": [
           {
            "colorbar": {
             "outlinewidth": 0,
             "ticks": ""
            },
            "colorscale": [
             [
              0,
              "#0d0887"
             ],
             [
              0.1111111111111111,
              "#46039f"
             ],
             [
              0.2222222222222222,
              "#7201a8"
             ],
             [
              0.3333333333333333,
              "#9c179e"
             ],
             [
              0.4444444444444444,
              "#bd3786"
             ],
             [
              0.5555555555555556,
              "#d8576b"
             ],
             [
              0.6666666666666666,
              "#ed7953"
             ],
             [
              0.7777777777777778,
              "#fb9f3a"
             ],
             [
              0.8888888888888888,
              "#fdca26"
             ],
             [
              1,
              "#f0f921"
             ]
            ],
            "type": "histogram2dcontour"
           }
          ],
          "mesh3d": [
           {
            "colorbar": {
             "outlinewidth": 0,
             "ticks": ""
            },
            "type": "mesh3d"
           }
          ],
          "parcoords": [
           {
            "line": {
             "colorbar": {
              "outlinewidth": 0,
              "ticks": ""
             }
            },
            "type": "parcoords"
           }
          ],
          "pie": [
           {
            "automargin": true,
            "type": "pie"
           }
          ],
          "scatter": [
           {
            "fillpattern": {
             "fillmode": "overlay",
             "size": 10,
             "solidity": 0.2
            },
            "type": "scatter"
           }
          ],
          "scatter3d": [
           {
            "line": {
             "colorbar": {
              "outlinewidth": 0,
              "ticks": ""
             }
            },
            "marker": {
             "colorbar": {
              "outlinewidth": 0,
              "ticks": ""
             }
            },
            "type": "scatter3d"
           }
          ],
          "scattercarpet": [
           {
            "marker": {
             "colorbar": {
              "outlinewidth": 0,
              "ticks": ""
             }
            },
            "type": "scattercarpet"
           }
          ],
          "scattergeo": [
           {
            "marker": {
             "colorbar": {
              "outlinewidth": 0,
              "ticks": ""
             }
            },
            "type": "scattergeo"
           }
          ],
          "scattergl": [
           {
            "marker": {
             "colorbar": {
              "outlinewidth": 0,
              "ticks": ""
             }
            },
            "type": "scattergl"
           }
          ],
          "scattermapbox": [
           {
            "marker": {
             "colorbar": {
              "outlinewidth": 0,
              "ticks": ""
             }
            },
            "type": "scattermapbox"
           }
          ],
          "scatterpolar": [
           {
            "marker": {
             "colorbar": {
              "outlinewidth": 0,
              "ticks": ""
             }
            },
            "type": "scatterpolar"
           }
          ],
          "scatterpolargl": [
           {
            "marker": {
             "colorbar": {
              "outlinewidth": 0,
              "ticks": ""
             }
            },
            "type": "scatterpolargl"
           }
          ],
          "scatterternary": [
           {
            "marker": {
             "colorbar": {
              "outlinewidth": 0,
              "ticks": ""
             }
            },
            "type": "scatterternary"
           }
          ],
          "surface": [
           {
            "colorbar": {
             "outlinewidth": 0,
             "ticks": ""
            },
            "colorscale": [
             [
              0,
              "#0d0887"
             ],
             [
              0.1111111111111111,
              "#46039f"
             ],
             [
              0.2222222222222222,
              "#7201a8"
             ],
             [
              0.3333333333333333,
              "#9c179e"
             ],
             [
              0.4444444444444444,
              "#bd3786"
             ],
             [
              0.5555555555555556,
              "#d8576b"
             ],
             [
              0.6666666666666666,
              "#ed7953"
             ],
             [
              0.7777777777777778,
              "#fb9f3a"
             ],
             [
              0.8888888888888888,
              "#fdca26"
             ],
             [
              1,
              "#f0f921"
             ]
            ],
            "type": "surface"
           }
          ],
          "table": [
           {
            "cells": {
             "fill": {
              "color": "#EBF0F8"
             },
             "line": {
              "color": "white"
             }
            },
            "header": {
             "fill": {
              "color": "#C8D4E3"
             },
             "line": {
              "color": "white"
             }
            },
            "type": "table"
           }
          ]
         },
         "layout": {
          "annotationdefaults": {
           "arrowcolor": "#2a3f5f",
           "arrowhead": 0,
           "arrowwidth": 1
          },
          "autotypenumbers": "strict",
          "coloraxis": {
           "colorbar": {
            "outlinewidth": 0,
            "ticks": ""
           }
          },
          "colorscale": {
           "diverging": [
            [
             0,
             "#8e0152"
            ],
            [
             0.1,
             "#c51b7d"
            ],
            [
             0.2,
             "#de77ae"
            ],
            [
             0.3,
             "#f1b6da"
            ],
            [
             0.4,
             "#fde0ef"
            ],
            [
             0.5,
             "#f7f7f7"
            ],
            [
             0.6,
             "#e6f5d0"
            ],
            [
             0.7,
             "#b8e186"
            ],
            [
             0.8,
             "#7fbc41"
            ],
            [
             0.9,
             "#4d9221"
            ],
            [
             1,
             "#276419"
            ]
           ],
           "sequential": [
            [
             0,
             "#0d0887"
            ],
            [
             0.1111111111111111,
             "#46039f"
            ],
            [
             0.2222222222222222,
             "#7201a8"
            ],
            [
             0.3333333333333333,
             "#9c179e"
            ],
            [
             0.4444444444444444,
             "#bd3786"
            ],
            [
             0.5555555555555556,
             "#d8576b"
            ],
            [
             0.6666666666666666,
             "#ed7953"
            ],
            [
             0.7777777777777778,
             "#fb9f3a"
            ],
            [
             0.8888888888888888,
             "#fdca26"
            ],
            [
             1,
             "#f0f921"
            ]
           ],
           "sequentialminus": [
            [
             0,
             "#0d0887"
            ],
            [
             0.1111111111111111,
             "#46039f"
            ],
            [
             0.2222222222222222,
             "#7201a8"
            ],
            [
             0.3333333333333333,
             "#9c179e"
            ],
            [
             0.4444444444444444,
             "#bd3786"
            ],
            [
             0.5555555555555556,
             "#d8576b"
            ],
            [
             0.6666666666666666,
             "#ed7953"
            ],
            [
             0.7777777777777778,
             "#fb9f3a"
            ],
            [
             0.8888888888888888,
             "#fdca26"
            ],
            [
             1,
             "#f0f921"
            ]
           ]
          },
          "colorway": [
           "#636efa",
           "#EF553B",
           "#00cc96",
           "#ab63fa",
           "#FFA15A",
           "#19d3f3",
           "#FF6692",
           "#B6E880",
           "#FF97FF",
           "#FECB52"
          ],
          "font": {
           "color": "#2a3f5f"
          },
          "geo": {
           "bgcolor": "white",
           "lakecolor": "white",
           "landcolor": "#E5ECF6",
           "showlakes": true,
           "showland": true,
           "subunitcolor": "white"
          },
          "hoverlabel": {
           "align": "left"
          },
          "hovermode": "closest",
          "mapbox": {
           "style": "light"
          },
          "paper_bgcolor": "white",
          "plot_bgcolor": "#E5ECF6",
          "polar": {
           "angularaxis": {
            "gridcolor": "white",
            "linecolor": "white",
            "ticks": ""
           },
           "bgcolor": "#E5ECF6",
           "radialaxis": {
            "gridcolor": "white",
            "linecolor": "white",
            "ticks": ""
           }
          },
          "scene": {
           "xaxis": {
            "backgroundcolor": "#E5ECF6",
            "gridcolor": "white",
            "gridwidth": 2,
            "linecolor": "white",
            "showbackground": true,
            "ticks": "",
            "zerolinecolor": "white"
           },
           "yaxis": {
            "backgroundcolor": "#E5ECF6",
            "gridcolor": "white",
            "gridwidth": 2,
            "linecolor": "white",
            "showbackground": true,
            "ticks": "",
            "zerolinecolor": "white"
           },
           "zaxis": {
            "backgroundcolor": "#E5ECF6",
            "gridcolor": "white",
            "gridwidth": 2,
            "linecolor": "white",
            "showbackground": true,
            "ticks": "",
            "zerolinecolor": "white"
           }
          },
          "shapedefaults": {
           "line": {
            "color": "#2a3f5f"
           }
          },
          "ternary": {
           "aaxis": {
            "gridcolor": "white",
            "linecolor": "white",
            "ticks": ""
           },
           "baxis": {
            "gridcolor": "white",
            "linecolor": "white",
            "ticks": ""
           },
           "bgcolor": "#E5ECF6",
           "caxis": {
            "gridcolor": "white",
            "linecolor": "white",
            "ticks": ""
           }
          },
          "title": {
           "x": 0.05
          },
          "xaxis": {
           "automargin": true,
           "gridcolor": "white",
           "linecolor": "white",
           "ticks": "",
           "title": {
            "standoff": 15
           },
           "zerolinecolor": "white",
           "zerolinewidth": 2
          },
          "yaxis": {
           "automargin": true,
           "gridcolor": "white",
           "linecolor": "white",
           "ticks": "",
           "title": {
            "standoff": 15
           },
           "zerolinecolor": "white",
           "zerolinewidth": 2
          }
         }
        },
        "title": {
         "text": "Mindanao GWAP"
        },
        "xaxis": {
         "anchor": "y",
         "domain": [
          0,
          1
         ],
         "title": {
          "text": "Date"
         }
        },
        "yaxis": {
         "anchor": "x",
         "domain": [
          0,
          1
         ],
         "title": {
          "text": "GWAP"
         }
        }
       }
      }
     },
     "metadata": {},
     "output_type": "display_data"
    },
    {
     "data": {
      "application/vnd.plotly.v1+json": {
       "config": {
        "plotlyServerURL": "https://plot.ly"
       },
       "data": [
        {
         "hovertemplate": "Date=%{x}<br>LWAP=%{y}<extra></extra>",
         "legendgroup": "",
         "line": {
          "color": "#636efa",
          "dash": "solid"
         },
         "marker": {
          "symbol": "circle"
         },
         "mode": "lines",
         "name": "",
         "orientation": "v",
         "showlegend": false,
         "type": "scatter",
         "x": [
          "2023-01-01T00:00:00",
          "2023-01-02T00:00:00",
          "2023-01-03T00:00:00",
          "2023-01-04T00:00:00",
          "2023-01-05T00:00:00",
          "2023-01-06T00:00:00",
          "2023-01-07T00:00:00",
          "2023-01-08T00:00:00",
          "2023-01-09T00:00:00",
          "2023-01-10T00:00:00",
          "2023-01-11T00:00:00",
          "2023-01-12T00:00:00",
          "2023-01-13T00:00:00",
          "2023-01-14T00:00:00",
          "2023-01-15T00:00:00",
          "2023-01-16T00:00:00",
          "2023-01-17T00:00:00",
          "2023-01-18T00:00:00",
          "2023-01-19T00:00:00",
          "2023-01-20T00:00:00",
          "2023-01-21T00:00:00",
          "2023-01-22T00:00:00",
          "2023-01-23T00:00:00",
          "2023-01-24T00:00:00",
          "2023-01-25T00:00:00",
          "2023-01-26T00:00:00",
          "2023-01-27T00:00:00",
          "2023-01-28T00:00:00",
          "2023-01-29T00:00:00",
          "2023-01-30T00:00:00",
          "2023-01-31T00:00:00",
          "2023-02-01T00:00:00",
          "2023-02-02T00:00:00",
          "2023-02-03T00:00:00",
          "2023-02-04T00:00:00",
          "2023-02-05T00:00:00",
          "2023-02-06T00:00:00",
          "2023-02-07T00:00:00",
          "2023-02-08T00:00:00",
          "2023-02-09T00:00:00",
          "2023-02-10T00:00:00",
          "2023-02-11T00:00:00",
          "2023-02-12T00:00:00",
          "2023-02-13T00:00:00",
          "2023-02-14T00:00:00",
          "2023-02-15T00:00:00",
          "2023-02-16T00:00:00",
          "2023-02-17T00:00:00",
          "2023-02-18T00:00:00",
          "2023-02-19T00:00:00",
          "2023-02-20T00:00:00",
          "2023-02-21T00:00:00",
          "2023-02-22T00:00:00",
          "2023-02-23T00:00:00",
          "2023-02-24T00:00:00",
          "2023-02-25T00:00:00",
          "2023-02-26T00:00:00",
          "2023-02-27T00:00:00",
          "2023-02-28T00:00:00",
          "2023-03-01T00:00:00",
          "2023-03-02T00:00:00",
          "2023-03-03T00:00:00",
          "2023-03-04T00:00:00",
          "2023-03-05T00:00:00",
          "2023-03-06T00:00:00",
          "2023-03-07T00:00:00",
          "2023-03-08T00:00:00",
          "2023-03-09T00:00:00",
          "2023-03-10T00:00:00",
          "2023-03-11T00:00:00",
          "2023-03-12T00:00:00",
          "2023-03-13T00:00:00",
          "2023-03-14T00:00:00",
          "2023-03-15T00:00:00",
          "2023-03-16T00:00:00",
          "2023-03-17T00:00:00",
          "2023-03-18T00:00:00",
          "2023-03-19T00:00:00",
          "2023-03-20T00:00:00",
          "2023-03-21T00:00:00",
          "2023-03-22T00:00:00",
          "2023-03-23T00:00:00",
          "2023-03-24T00:00:00",
          "2023-03-25T00:00:00",
          "2023-03-26T00:00:00",
          "2023-03-27T00:00:00",
          "2023-03-28T00:00:00",
          "2023-03-29T00:00:00",
          "2023-03-30T00:00:00",
          "2023-03-31T00:00:00",
          "2023-04-01T00:00:00",
          "2023-04-02T00:00:00",
          "2023-04-03T00:00:00",
          "2023-04-04T00:00:00",
          "2023-04-05T00:00:00",
          "2023-04-06T00:00:00",
          "2023-04-07T00:00:00",
          "2023-04-08T00:00:00",
          "2023-04-09T00:00:00",
          "2023-04-10T00:00:00",
          "2023-04-11T00:00:00",
          "2023-04-12T00:00:00",
          "2023-04-13T00:00:00",
          "2023-04-14T00:00:00",
          "2023-04-15T00:00:00",
          "2023-04-16T00:00:00",
          "2023-04-17T00:00:00",
          "2023-04-18T00:00:00",
          "2023-04-19T00:00:00",
          "2023-04-20T00:00:00",
          "2023-04-21T00:00:00",
          "2023-04-22T00:00:00",
          "2023-04-23T00:00:00",
          "2023-04-24T00:00:00",
          "2023-04-25T00:00:00",
          "2023-04-26T00:00:00",
          "2023-04-27T00:00:00",
          "2023-04-28T00:00:00",
          "2023-04-29T00:00:00",
          "2023-04-30T00:00:00",
          "2023-05-01T00:00:00",
          "2023-05-02T00:00:00",
          "2023-05-03T00:00:00",
          "2023-05-04T00:00:00",
          "2023-05-05T00:00:00",
          "2023-05-06T00:00:00",
          "2023-05-07T00:00:00",
          "2023-05-08T00:00:00",
          "2023-05-09T00:00:00",
          "2023-05-10T00:00:00",
          "2023-05-11T00:00:00",
          "2023-05-12T00:00:00",
          "2023-05-13T00:00:00",
          "2023-05-14T00:00:00",
          "2023-05-15T00:00:00",
          "2023-05-16T00:00:00",
          "2023-05-17T00:00:00",
          "2023-05-18T00:00:00",
          "2023-05-19T00:00:00",
          "2023-05-20T00:00:00",
          "2023-05-21T00:00:00",
          "2023-05-22T00:00:00",
          "2023-05-23T00:00:00",
          "2023-05-24T00:00:00",
          "2023-05-25T00:00:00",
          "2023-05-26T00:00:00",
          "2023-05-27T00:00:00",
          "2023-05-28T00:00:00",
          "2023-05-29T00:00:00",
          "2023-05-30T00:00:00",
          "2023-05-31T00:00:00",
          "2023-06-01T00:00:00",
          "2023-06-02T00:00:00",
          "2023-06-03T00:00:00",
          "2023-06-04T00:00:00",
          "2023-06-05T00:00:00",
          "2023-06-06T00:00:00",
          "2023-06-07T00:00:00",
          "2023-06-08T00:00:00",
          "2023-06-09T00:00:00",
          "2023-06-10T00:00:00",
          "2023-06-11T00:00:00",
          "2023-06-12T00:00:00",
          "2023-06-13T00:00:00",
          "2023-06-14T00:00:00",
          "2023-06-15T00:00:00",
          "2023-06-16T00:00:00",
          "2023-06-17T00:00:00",
          "2023-06-18T00:00:00",
          "2023-06-19T00:00:00",
          "2023-06-20T00:00:00",
          "2023-06-21T00:00:00",
          "2023-06-22T00:00:00",
          "2023-06-23T00:00:00",
          "2023-06-24T00:00:00",
          "2023-06-25T00:00:00",
          "2023-06-26T00:00:00",
          "2023-06-27T00:00:00",
          "2023-06-28T00:00:00",
          "2023-06-29T00:00:00",
          "2023-06-30T00:00:00",
          "2023-07-01T00:00:00",
          "2023-07-02T00:00:00",
          "2023-07-03T00:00:00",
          "2023-07-04T00:00:00",
          "2023-07-05T00:00:00",
          "2023-07-06T00:00:00",
          "2023-07-07T00:00:00",
          "2023-07-08T00:00:00",
          "2023-07-09T00:00:00",
          "2023-07-10T00:00:00",
          "2023-07-11T00:00:00",
          "2023-07-12T00:00:00",
          "2023-07-13T00:00:00",
          "2023-07-14T00:00:00",
          "2023-07-15T00:00:00",
          "2023-07-16T00:00:00",
          "2023-07-17T00:00:00",
          "2023-07-18T00:00:00",
          "2023-07-19T00:00:00",
          "2023-07-20T00:00:00",
          "2023-07-21T00:00:00",
          "2023-07-22T00:00:00",
          "2023-07-23T00:00:00",
          "2023-07-24T00:00:00",
          "2023-07-25T00:00:00",
          "2023-07-26T00:00:00",
          "2023-07-27T00:00:00",
          "2023-07-28T00:00:00",
          "2023-07-29T00:00:00",
          "2023-07-30T00:00:00",
          "2023-07-31T00:00:00",
          "2023-08-01T00:00:00",
          "2023-08-02T00:00:00",
          "2023-08-03T00:00:00",
          "2023-08-04T00:00:00",
          "2023-08-05T00:00:00",
          "2023-08-06T00:00:00",
          "2023-08-07T00:00:00",
          "2023-08-08T00:00:00",
          "2023-08-09T00:00:00",
          "2023-08-10T00:00:00",
          "2023-08-11T00:00:00",
          "2023-08-12T00:00:00",
          "2023-08-13T00:00:00",
          "2023-08-14T00:00:00",
          "2023-08-15T00:00:00",
          "2023-08-16T00:00:00",
          "2023-08-17T00:00:00",
          "2023-08-18T00:00:00",
          "2023-08-19T00:00:00",
          "2023-08-20T00:00:00",
          "2023-08-21T00:00:00",
          "2023-08-22T00:00:00",
          "2023-08-23T00:00:00",
          "2023-08-24T00:00:00",
          "2023-08-25T00:00:00",
          "2023-08-26T00:00:00",
          "2023-08-27T00:00:00",
          "2023-08-28T00:00:00",
          "2023-08-29T00:00:00",
          "2023-08-30T00:00:00",
          "2023-08-31T00:00:00",
          "2023-09-01T00:00:00",
          "2023-09-02T00:00:00",
          "2023-09-03T00:00:00",
          "2023-09-04T00:00:00",
          "2023-09-05T00:00:00",
          "2023-09-06T00:00:00",
          "2023-09-07T00:00:00",
          "2023-09-08T00:00:00",
          "2023-09-09T00:00:00",
          "2023-09-10T00:00:00",
          "2023-09-11T00:00:00",
          "2023-09-12T00:00:00",
          "2023-09-13T00:00:00",
          "2023-09-14T00:00:00",
          "2023-09-15T00:00:00",
          "2023-09-16T00:00:00",
          "2023-09-17T00:00:00",
          "2023-09-18T00:00:00",
          "2023-09-19T00:00:00",
          "2023-09-20T00:00:00",
          "2023-09-21T00:00:00",
          "2023-09-22T00:00:00",
          "2023-09-23T00:00:00",
          "2023-09-24T00:00:00",
          "2023-09-25T00:00:00",
          "2023-09-26T00:00:00",
          "2023-09-27T00:00:00",
          "2023-09-28T00:00:00",
          "2023-09-29T00:00:00",
          "2023-09-30T00:00:00",
          "2023-10-01T00:00:00",
          "2023-10-02T00:00:00",
          "2023-10-03T00:00:00",
          "2023-10-04T00:00:00",
          "2023-10-05T00:00:00",
          "2023-10-06T00:00:00",
          "2023-10-07T00:00:00",
          "2023-10-08T00:00:00",
          "2023-10-09T00:00:00",
          "2023-10-10T00:00:00",
          "2023-10-11T00:00:00",
          "2023-10-12T00:00:00",
          "2023-10-13T00:00:00",
          "2023-10-14T00:00:00",
          "2023-10-15T00:00:00",
          "2023-10-16T00:00:00",
          "2023-10-17T00:00:00",
          "2023-10-18T00:00:00",
          "2023-10-19T00:00:00"
         ],
         "xaxis": "x",
         "y": [
          0.5720440751438663,
          0.2263053613075015,
          0.4327540081194328,
          0.3945896762237815,
          0.7910635825252286,
          0.8977583942855553,
          0.5533244970445151,
          0.1910774762544027,
          0.6858036121021294,
          0.5408319810100058,
          0.359720393339903,
          0.0093936955105941,
          0.0439033216483399,
          0.0442965889693656,
          0.4538108554487777,
          0.312131749280766,
          0.2539075603090938,
          0.3241657668042895,
          0.2633270921486839,
          0.1419176874042406,
          0.4099122234000348,
          0,
          0.0064889541678641,
          0.0655204585663503,
          0.1643839675211909,
          0.3278890102243148,
          0.402638258882062,
          0.427731870430697,
          0.216441527761045,
          0.3711929735462356,
          0.4422396789767299,
          0.4690253330512823,
          0.4728476653831475,
          0.5082271521737859,
          0.4564970721901898,
          0.4259318033433654,
          0.5145939299293405,
          0.4800969580823113,
          0.4561977826144935,
          0.4549928969738624,
          0.4823791510721866,
          0.4775332748735281,
          0.3979903842376339,
          0.4825686199838418,
          0.4395511668610674,
          0.4295085556066748,
          0.4391983571838961,
          0.4333480628141513,
          0.3725910547329686,
          0.3761558157521866,
          0.4741691031945251,
          0.4699330911881439,
          0.4434741269066546,
          0.487616532573388,
          0.4798164401600871,
          0.4560621960020795,
          0.3283270808129619,
          0.4628688775156221,
          0.4453347706203132,
          0.4575867403044092,
          0.4533015530508494,
          0.421494717817365,
          0.4358253812039831,
          0.3967046331884878,
          0.4804254061580282,
          0.500127229347765,
          0.5887120232707412,
          0.6711613726729134,
          0.749355864942456,
          0.5233667606212077,
          0.5382457872243742,
          0.7285061855795343,
          0.4619260506742767,
          0.4477117707271376,
          0.4650195988787049,
          0.4479637629250237,
          0.4175242026067891,
          0.3839300872798816,
          0.4453473938292673,
          0.4955226821683637,
          0.5828012206546573,
          0.7734924003700439,
          1.0000000000000002,
          0.5192217739032744,
          0.5129091853558656,
          0.5806017289415202,
          0.5005888355515751,
          0.4638173622505516,
          0.4405602409095149,
          0.4097870172399627,
          0.3544532674138288,
          0.3621978607909763,
          0.375968767163785,
          0.4057390576434249,
          0.3963136122209015,
          0.300743030160894,
          0.2105238231268804,
          0.3412932723489471,
          0.3272379915168449,
          0.3700983455055915,
          0.512400790469267,
          0.4655799087166561,
          0.5964697612603171,
          0.6040058713366274,
          0.5823986185120803,
          0.4193562143319898,
          0.4427525583775867,
          0.5556817333822607,
          0.5472430778076974,
          0.492719215901728,
          0.4339803754678121,
          0.4185612979241172,
          0.4290897082434826,
          0.547170837602089,
          0.5084386901422084,
          0.6166861512229768,
          0.5273369939692596,
          0.5665313412140668,
          0.4502111802447996,
          0.3557682197242746,
          0.3834224016683699,
          0.5508538548590818,
          0.5965828675294121,
          0.6281193779983935,
          0.623976373219552,
          0.547679194695364,
          0.4336487189715952,
          0.6525706523381388,
          0.5396269192931882,
          0.638343095150616,
          0.608002637934968,
          0.5542919698463441,
          0.4606362168723253,
          0.3894235205280618,
          0.490173639861726,
          0.3698145626286422,
          0.4008657308385989,
          0.3323475417208876,
          0.3952747598884108,
          0.3405804995507661,
          0.3484408161861374,
          0.5366150850487506,
          0.4984242752117053,
          0.4246577864962929,
          0.3836092775304385,
          0.3310125818804146,
          0.3138013578041173,
          0.3227584125281824,
          0.3356561706143847,
          0.3770917856846729,
          0.4076827934120699,
          0.3963774846878543,
          0.430382992546312,
          0.342057852545844,
          0.3334771315192017,
          0.3076556304027187,
          0.2860250901765988,
          0.2964328563304143,
          0.3455060412052965,
          0.3543319466193527,
          0.2878949101431771,
          0.2645656813854401,
          0.3106489442985621,
          0.47549310391757,
          0.3815202739150783,
          0.3453010811720639,
          0.3756380356574109,
          0.383359604837777,
          0.3757618502617585,
          0.3428771388242991,
          0.3617283128071324,
          0.3566648823234515,
          0.3185111250353356,
          0.3407141312200894,
          0.3248979566224205,
          0.1881228207879077,
          0.3031587997792575,
          0.3552942766356634,
          0.3345043228013774,
          0.3318285329169823,
          0.3304227979946148,
          0.3494506842701686,
          0.3230975108524777,
          0.3444560989367813,
          0.3687350996909848,
          0.3795081273500819,
          0.4093719089161927,
          0.4338622505056611,
          0.3877138723331434,
          0.3560843174362831,
          0.4192720627570251,
          0.4389120882467224,
          0.4045674644709859,
          0.3596132232103564,
          0.3548700319015301,
          0.3690146573870441,
          0.358162124265151,
          0.3959693169431836,
          0.3618443192071437,
          0.3536007852841076,
          0.4233526231113985,
          0.4699453534693886,
          0.3496038858581197,
          0.2277311957462313,
          0.3271973093313045,
          0.3228202102939062,
          0.3695529071611257,
          0.4116764219922712,
          0.4470454375645689,
          0.3753201948965348,
          0.3549597991822197,
          0.5887581844138671,
          0.3837834256600786,
          0.4117093137409687,
          0.5284781451139695,
          0.6316507663949849,
          0.3788156323931366,
          0.3670582591106046,
          0.6292681781779973,
          0.5691144003316904,
          0.3986897731795081,
          0.3972531924270143,
          0.3750446787918408,
          0.338818313570036,
          0.3075237742269905,
          0.3233024278736148,
          0.3477890074467769,
          0.3743897533355578,
          0.3590013832805265,
          0.3780400249279785,
          0.2868539554953461,
          0.2517519846342523,
          0.2713780932391054,
          0.5721165389477876,
          0.4771284775888213,
          0.5177120479924905,
          0.5527835017412817,
          0.4151142928033903,
          0.3491898370115642,
          0.3633791945711351,
          0.4463367746374481,
          0.4935577032699948,
          0.5271806243029742,
          0.512103840303537,
          0.4023745838428344,
          0.3584992143616243,
          0.5609858400776151,
          0.6096178357020459,
          0.5542079885244648,
          0.5986108460668514,
          0.5851344100229701,
          0.3512348722650046,
          0.3771768846030715,
          0.4288712466507436,
          0.4856225549115206,
          0.4169664782269711,
          0.4061443859719102,
          0.4232469539765973,
          0.3795413099828856,
          0.3857476459571512,
          0.5913320762001415,
          0.6366180465241211,
          0.5924603012445671,
          0.5533012272340442,
          0.4580151331651695,
          0.3791320737409982,
          0.3707017884502057,
          0.4483591173218905,
          0.3880024112529558,
          0.3242272756648237,
          0.3795397720338991,
          0.4079920457292687,
          0.3603879189760857,
          0.3843578333829598,
          0.6498773704844747,
          0.6069786425192409,
          0.6309382589434388,
          0.625272095482219,
          0.6127291848491292,
          0.3638072596507793,
          0.316157490343091,
          0.4296453730564994,
          0.3440604708163368,
          0.3394249285167158,
          0.3708597749101399,
          0.3694535443502947,
          0.245216821606372,
          0.2556133125263121,
          0.373580524932268,
          0.3774758774218254,
          0.3788969318566185,
          0.3689063169802465
         ],
         "yaxis": "y"
        }
       ],
       "layout": {
        "legend": {
         "tracegroupgap": 0
        },
        "margin": {
         "t": 60
        },
        "template": {
         "data": {
          "bar": [
           {
            "error_x": {
             "color": "#2a3f5f"
            },
            "error_y": {
             "color": "#2a3f5f"
            },
            "marker": {
             "line": {
              "color": "#E5ECF6",
              "width": 0.5
             },
             "pattern": {
              "fillmode": "overlay",
              "size": 10,
              "solidity": 0.2
             }
            },
            "type": "bar"
           }
          ],
          "barpolar": [
           {
            "marker": {
             "line": {
              "color": "#E5ECF6",
              "width": 0.5
             },
             "pattern": {
              "fillmode": "overlay",
              "size": 10,
              "solidity": 0.2
             }
            },
            "type": "barpolar"
           }
          ],
          "carpet": [
           {
            "aaxis": {
             "endlinecolor": "#2a3f5f",
             "gridcolor": "white",
             "linecolor": "white",
             "minorgridcolor": "white",
             "startlinecolor": "#2a3f5f"
            },
            "baxis": {
             "endlinecolor": "#2a3f5f",
             "gridcolor": "white",
             "linecolor": "white",
             "minorgridcolor": "white",
             "startlinecolor": "#2a3f5f"
            },
            "type": "carpet"
           }
          ],
          "choropleth": [
           {
            "colorbar": {
             "outlinewidth": 0,
             "ticks": ""
            },
            "type": "choropleth"
           }
          ],
          "contour": [
           {
            "colorbar": {
             "outlinewidth": 0,
             "ticks": ""
            },
            "colorscale": [
             [
              0,
              "#0d0887"
             ],
             [
              0.1111111111111111,
              "#46039f"
             ],
             [
              0.2222222222222222,
              "#7201a8"
             ],
             [
              0.3333333333333333,
              "#9c179e"
             ],
             [
              0.4444444444444444,
              "#bd3786"
             ],
             [
              0.5555555555555556,
              "#d8576b"
             ],
             [
              0.6666666666666666,
              "#ed7953"
             ],
             [
              0.7777777777777778,
              "#fb9f3a"
             ],
             [
              0.8888888888888888,
              "#fdca26"
             ],
             [
              1,
              "#f0f921"
             ]
            ],
            "type": "contour"
           }
          ],
          "contourcarpet": [
           {
            "colorbar": {
             "outlinewidth": 0,
             "ticks": ""
            },
            "type": "contourcarpet"
           }
          ],
          "heatmap": [
           {
            "colorbar": {
             "outlinewidth": 0,
             "ticks": ""
            },
            "colorscale": [
             [
              0,
              "#0d0887"
             ],
             [
              0.1111111111111111,
              "#46039f"
             ],
             [
              0.2222222222222222,
              "#7201a8"
             ],
             [
              0.3333333333333333,
              "#9c179e"
             ],
             [
              0.4444444444444444,
              "#bd3786"
             ],
             [
              0.5555555555555556,
              "#d8576b"
             ],
             [
              0.6666666666666666,
              "#ed7953"
             ],
             [
              0.7777777777777778,
              "#fb9f3a"
             ],
             [
              0.8888888888888888,
              "#fdca26"
             ],
             [
              1,
              "#f0f921"
             ]
            ],
            "type": "heatmap"
           }
          ],
          "heatmapgl": [
           {
            "colorbar": {
             "outlinewidth": 0,
             "ticks": ""
            },
            "colorscale": [
             [
              0,
              "#0d0887"
             ],
             [
              0.1111111111111111,
              "#46039f"
             ],
             [
              0.2222222222222222,
              "#7201a8"
             ],
             [
              0.3333333333333333,
              "#9c179e"
             ],
             [
              0.4444444444444444,
              "#bd3786"
             ],
             [
              0.5555555555555556,
              "#d8576b"
             ],
             [
              0.6666666666666666,
              "#ed7953"
             ],
             [
              0.7777777777777778,
              "#fb9f3a"
             ],
             [
              0.8888888888888888,
              "#fdca26"
             ],
             [
              1,
              "#f0f921"
             ]
            ],
            "type": "heatmapgl"
           }
          ],
          "histogram": [
           {
            "marker": {
             "pattern": {
              "fillmode": "overlay",
              "size": 10,
              "solidity": 0.2
             }
            },
            "type": "histogram"
           }
          ],
          "histogram2d": [
           {
            "colorbar": {
             "outlinewidth": 0,
             "ticks": ""
            },
            "colorscale": [
             [
              0,
              "#0d0887"
             ],
             [
              0.1111111111111111,
              "#46039f"
             ],
             [
              0.2222222222222222,
              "#7201a8"
             ],
             [
              0.3333333333333333,
              "#9c179e"
             ],
             [
              0.4444444444444444,
              "#bd3786"
             ],
             [
              0.5555555555555556,
              "#d8576b"
             ],
             [
              0.6666666666666666,
              "#ed7953"
             ],
             [
              0.7777777777777778,
              "#fb9f3a"
             ],
             [
              0.8888888888888888,
              "#fdca26"
             ],
             [
              1,
              "#f0f921"
             ]
            ],
            "type": "histogram2d"
           }
          ],
          "histogram2dcontour": [
           {
            "colorbar": {
             "outlinewidth": 0,
             "ticks": ""
            },
            "colorscale": [
             [
              0,
              "#0d0887"
             ],
             [
              0.1111111111111111,
              "#46039f"
             ],
             [
              0.2222222222222222,
              "#7201a8"
             ],
             [
              0.3333333333333333,
              "#9c179e"
             ],
             [
              0.4444444444444444,
              "#bd3786"
             ],
             [
              0.5555555555555556,
              "#d8576b"
             ],
             [
              0.6666666666666666,
              "#ed7953"
             ],
             [
              0.7777777777777778,
              "#fb9f3a"
             ],
             [
              0.8888888888888888,
              "#fdca26"
             ],
             [
              1,
              "#f0f921"
             ]
            ],
            "type": "histogram2dcontour"
           }
          ],
          "mesh3d": [
           {
            "colorbar": {
             "outlinewidth": 0,
             "ticks": ""
            },
            "type": "mesh3d"
           }
          ],
          "parcoords": [
           {
            "line": {
             "colorbar": {
              "outlinewidth": 0,
              "ticks": ""
             }
            },
            "type": "parcoords"
           }
          ],
          "pie": [
           {
            "automargin": true,
            "type": "pie"
           }
          ],
          "scatter": [
           {
            "fillpattern": {
             "fillmode": "overlay",
             "size": 10,
             "solidity": 0.2
            },
            "type": "scatter"
           }
          ],
          "scatter3d": [
           {
            "line": {
             "colorbar": {
              "outlinewidth": 0,
              "ticks": ""
             }
            },
            "marker": {
             "colorbar": {
              "outlinewidth": 0,
              "ticks": ""
             }
            },
            "type": "scatter3d"
           }
          ],
          "scattercarpet": [
           {
            "marker": {
             "colorbar": {
              "outlinewidth": 0,
              "ticks": ""
             }
            },
            "type": "scattercarpet"
           }
          ],
          "scattergeo": [
           {
            "marker": {
             "colorbar": {
              "outlinewidth": 0,
              "ticks": ""
             }
            },
            "type": "scattergeo"
           }
          ],
          "scattergl": [
           {
            "marker": {
             "colorbar": {
              "outlinewidth": 0,
              "ticks": ""
             }
            },
            "type": "scattergl"
           }
          ],
          "scattermapbox": [
           {
            "marker": {
             "colorbar": {
              "outlinewidth": 0,
              "ticks": ""
             }
            },
            "type": "scattermapbox"
           }
          ],
          "scatterpolar": [
           {
            "marker": {
             "colorbar": {
              "outlinewidth": 0,
              "ticks": ""
             }
            },
            "type": "scatterpolar"
           }
          ],
          "scatterpolargl": [
           {
            "marker": {
             "colorbar": {
              "outlinewidth": 0,
              "ticks": ""
             }
            },
            "type": "scatterpolargl"
           }
          ],
          "scatterternary": [
           {
            "marker": {
             "colorbar": {
              "outlinewidth": 0,
              "ticks": ""
             }
            },
            "type": "scatterternary"
           }
          ],
          "surface": [
           {
            "colorbar": {
             "outlinewidth": 0,
             "ticks": ""
            },
            "colorscale": [
             [
              0,
              "#0d0887"
             ],
             [
              0.1111111111111111,
              "#46039f"
             ],
             [
              0.2222222222222222,
              "#7201a8"
             ],
             [
              0.3333333333333333,
              "#9c179e"
             ],
             [
              0.4444444444444444,
              "#bd3786"
             ],
             [
              0.5555555555555556,
              "#d8576b"
             ],
             [
              0.6666666666666666,
              "#ed7953"
             ],
             [
              0.7777777777777778,
              "#fb9f3a"
             ],
             [
              0.8888888888888888,
              "#fdca26"
             ],
             [
              1,
              "#f0f921"
             ]
            ],
            "type": "surface"
           }
          ],
          "table": [
           {
            "cells": {
             "fill": {
              "color": "#EBF0F8"
             },
             "line": {
              "color": "white"
             }
            },
            "header": {
             "fill": {
              "color": "#C8D4E3"
             },
             "line": {
              "color": "white"
             }
            },
            "type": "table"
           }
          ]
         },
         "layout": {
          "annotationdefaults": {
           "arrowcolor": "#2a3f5f",
           "arrowhead": 0,
           "arrowwidth": 1
          },
          "autotypenumbers": "strict",
          "coloraxis": {
           "colorbar": {
            "outlinewidth": 0,
            "ticks": ""
           }
          },
          "colorscale": {
           "diverging": [
            [
             0,
             "#8e0152"
            ],
            [
             0.1,
             "#c51b7d"
            ],
            [
             0.2,
             "#de77ae"
            ],
            [
             0.3,
             "#f1b6da"
            ],
            [
             0.4,
             "#fde0ef"
            ],
            [
             0.5,
             "#f7f7f7"
            ],
            [
             0.6,
             "#e6f5d0"
            ],
            [
             0.7,
             "#b8e186"
            ],
            [
             0.8,
             "#7fbc41"
            ],
            [
             0.9,
             "#4d9221"
            ],
            [
             1,
             "#276419"
            ]
           ],
           "sequential": [
            [
             0,
             "#0d0887"
            ],
            [
             0.1111111111111111,
             "#46039f"
            ],
            [
             0.2222222222222222,
             "#7201a8"
            ],
            [
             0.3333333333333333,
             "#9c179e"
            ],
            [
             0.4444444444444444,
             "#bd3786"
            ],
            [
             0.5555555555555556,
             "#d8576b"
            ],
            [
             0.6666666666666666,
             "#ed7953"
            ],
            [
             0.7777777777777778,
             "#fb9f3a"
            ],
            [
             0.8888888888888888,
             "#fdca26"
            ],
            [
             1,
             "#f0f921"
            ]
           ],
           "sequentialminus": [
            [
             0,
             "#0d0887"
            ],
            [
             0.1111111111111111,
             "#46039f"
            ],
            [
             0.2222222222222222,
             "#7201a8"
            ],
            [
             0.3333333333333333,
             "#9c179e"
            ],
            [
             0.4444444444444444,
             "#bd3786"
            ],
            [
             0.5555555555555556,
             "#d8576b"
            ],
            [
             0.6666666666666666,
             "#ed7953"
            ],
            [
             0.7777777777777778,
             "#fb9f3a"
            ],
            [
             0.8888888888888888,
             "#fdca26"
            ],
            [
             1,
             "#f0f921"
            ]
           ]
          },
          "colorway": [
           "#636efa",
           "#EF553B",
           "#00cc96",
           "#ab63fa",
           "#FFA15A",
           "#19d3f3",
           "#FF6692",
           "#B6E880",
           "#FF97FF",
           "#FECB52"
          ],
          "font": {
           "color": "#2a3f5f"
          },
          "geo": {
           "bgcolor": "white",
           "lakecolor": "white",
           "landcolor": "#E5ECF6",
           "showlakes": true,
           "showland": true,
           "subunitcolor": "white"
          },
          "hoverlabel": {
           "align": "left"
          },
          "hovermode": "closest",
          "mapbox": {
           "style": "light"
          },
          "paper_bgcolor": "white",
          "plot_bgcolor": "#E5ECF6",
          "polar": {
           "angularaxis": {
            "gridcolor": "white",
            "linecolor": "white",
            "ticks": ""
           },
           "bgcolor": "#E5ECF6",
           "radialaxis": {
            "gridcolor": "white",
            "linecolor": "white",
            "ticks": ""
           }
          },
          "scene": {
           "xaxis": {
            "backgroundcolor": "#E5ECF6",
            "gridcolor": "white",
            "gridwidth": 2,
            "linecolor": "white",
            "showbackground": true,
            "ticks": "",
            "zerolinecolor": "white"
           },
           "yaxis": {
            "backgroundcolor": "#E5ECF6",
            "gridcolor": "white",
            "gridwidth": 2,
            "linecolor": "white",
            "showbackground": true,
            "ticks": "",
            "zerolinecolor": "white"
           },
           "zaxis": {
            "backgroundcolor": "#E5ECF6",
            "gridcolor": "white",
            "gridwidth": 2,
            "linecolor": "white",
            "showbackground": true,
            "ticks": "",
            "zerolinecolor": "white"
           }
          },
          "shapedefaults": {
           "line": {
            "color": "#2a3f5f"
           }
          },
          "ternary": {
           "aaxis": {
            "gridcolor": "white",
            "linecolor": "white",
            "ticks": ""
           },
           "baxis": {
            "gridcolor": "white",
            "linecolor": "white",
            "ticks": ""
           },
           "bgcolor": "#E5ECF6",
           "caxis": {
            "gridcolor": "white",
            "linecolor": "white",
            "ticks": ""
           }
          },
          "title": {
           "x": 0.05
          },
          "xaxis": {
           "automargin": true,
           "gridcolor": "white",
           "linecolor": "white",
           "ticks": "",
           "title": {
            "standoff": 15
           },
           "zerolinecolor": "white",
           "zerolinewidth": 2
          },
          "yaxis": {
           "automargin": true,
           "gridcolor": "white",
           "linecolor": "white",
           "ticks": "",
           "title": {
            "standoff": 15
           },
           "zerolinecolor": "white",
           "zerolinewidth": 2
          }
         }
        },
        "title": {
         "text": "Mindanao LWAP"
        },
        "xaxis": {
         "anchor": "y",
         "domain": [
          0,
          1
         ],
         "title": {
          "text": "Date"
         }
        },
        "yaxis": {
         "anchor": "x",
         "domain": [
          0,
          1
         ],
         "title": {
          "text": "LWAP"
         }
        }
       }
      }
     },
     "metadata": {},
     "output_type": "display_data"
    }
   ],
   "source": [
    "#Plotting Train LWAP ang GWAP\n",
    "# Create the line plot\n",
    "gwap_plot = px.line(GWAP_train, x=GWAP_train.index, y='GWAP')\n",
    "lwap_plot = px.line(LWAP_train, x=LWAP_train.index, y='LWAP')\n",
    "# Set the title using the ticker value\n",
    "gwap_plot.update_layout(title=f\"Mindanao GWAP\")\n",
    "lwap_plot.update_layout(title=f\"Mindanao LWAP\")\n",
    "# Display the plot\n",
    "gwap_plot.show()\n",
    "lwap_plot.show()"
   ]
  },
  {
   "cell_type": "code",
   "execution_count": 11,
   "metadata": {},
   "outputs": [],
   "source": [
    "def perform_differencing(data, max_differences=3):\n",
    "    # Function to check if data is stationary using ADF\n",
    "    def adf_test(series):\n",
    "        result = adfuller(series)\n",
    "        return result[1]  # p-value\n",
    "\n",
    "    # Function to check if data is stationary using KPSS\n",
    "    def kpss_test(series):\n",
    "        result = kpss(series, regression='c')\n",
    "        return result[1]  # p-value\n",
    "\n",
    "    # Check initial stationarity\n",
    "    for i in range(max_differences):\n",
    "        adf_p_value = adf_test(data)\n",
    "        kpss_p_value = kpss_test(data)\n",
    "\n",
    "        # If ADF p-value is less than 0.05 and KPSS p-value is greater than 0.05, it's stationary\n",
    "        if adf_p_value < 0.05 and kpss_p_value > 0.05:\n",
    "            print(f\"Data is stationary after differencing {i} times.\")\n",
    "            return data\n",
    "\n",
    "        # If not stationary, apply differencing\n",
    "        data = data.diff().dropna()\n",
    "\n",
    "    print(f\"Data could not be made stationary after {max_differences} differencing operations.\")\n",
    "    return data\n",
    "\n",
    "#same test for dataframe\n",
    "def perform_df_differencing(data, max_differences=3):\n",
    "    # Function to check if data is stationary using ADF\n",
    "    def adf_test(series):\n",
    "        result = adfuller(series)\n",
    "        return result[1]  # p-value\n",
    "\n",
    "    # Function to check if data is stationary using KPSS \n",
    "    def kpss_test(series):\n",
    "        result = kpss(series, regression='c')\n",
    "        return result[1]  # p-value\n",
    "\n",
    "    # Store in new DataFrame\n",
    "    diff_exog = pd.DataFrame(index=data.index)\n",
    "\n",
    "    # Check each column in the DataFrame\n",
    "    for column in data.columns:\n",
    "        series = data[column].copy()  # Copy the series to avoid modifying the original\n",
    "\n",
    "        for i in range(max_differences):\n",
    "            adf_p_value = adf_test(series)\n",
    "            kpss_p_value = kpss_test(series)\n",
    "\n",
    "            # If stationary, break the loop and store the series\n",
    "            if adf_p_value < 0.05 and kpss_p_value > 0.05:\n",
    "                print(f\"Column '{column}' is stationary after differencing {i} times.\")\n",
    "                diff_exog[column] = series  # Store the stationary series\n",
    "                break\n",
    "\n",
    "            # If not stationary, apply differencing\n",
    "            if i < max_differences - 1:  # Don't drop NA on the last iteration\n",
    "                series = series.diff().dropna()\n",
    "\n",
    "        else:  # This else corresponds to the for-loop\n",
    "            print(f\"Column '{column}' could not be made stationary after {max_differences} differencing operations.\")\n",
    "            diff_exog[column] = series  # Store the last differenced result\n",
    "\n",
    "    return diff_exog\n"
   ]
  },
  {
   "cell_type": "code",
   "execution_count": 12,
   "metadata": {},
   "outputs": [
    {
     "name": "stdout",
     "output_type": "stream",
     "text": [
      "Data is stationary after differencing 0 times.\n",
      "Data is stationary after differencing 0 times.\n",
      "Column 'FLOW_MIN' is stationary after differencing 1 times.\n",
      "Column 'RESERVE_GWAP_Fr' is stationary after differencing 1 times.\n",
      "Column 'RESERVE_GWAP_Ru' is stationary after differencing 1 times.\n",
      "Column 'RESERVE_GWAP_Rd' is stationary after differencing 1 times.\n",
      "Column 'RESERVE_GWAP_Dr' is stationary after differencing 1 times.\n",
      "Column 'Hourly Demand' is stationary after differencing 0 times.\n",
      "Column 'RAINFALL_Davao City' is stationary after differencing 0 times.\n",
      "Column 'TMAX_Davao City' is stationary after differencing 0 times.\n",
      "Column 'TMIN_Davao City' is stationary after differencing 0 times.\n",
      "Column 'RAINFALL_Surigao' is stationary after differencing 1 times.\n",
      "Column 'TMAX_Surigao' is stationary after differencing 0 times.\n",
      "Column 'TMIN_Surigao' is stationary after differencing 1 times.\n",
      "Column 'RAINFALL_Zamboanga' is stationary after differencing 0 times.\n",
      "Column 'TMAX_Zamboanga' is stationary after differencing 1 times.\n",
      "Column 'TMIN_Zamboanga' is stationary after differencing 2 times.\n",
      "Column 'RAINFALL_Dipolog' is stationary after differencing 0 times.\n",
      "Column 'TMAX_Dipolog' could not be made stationary after 3 differencing operations.\n",
      "Column 'TMIN_Dipolog' is stationary after differencing 1 times.\n",
      "Column 'RAINFALL_Butuan' is stationary after differencing 1 times.\n",
      "Column 'TMAX_Butuan' is stationary after differencing 1 times.\n",
      "Column 'TMIN_Butuan' is stationary after differencing 1 times.\n",
      "Column 'RAINFALL_Malaybalay' is stationary after differencing 0 times.\n",
      "Column 'TMAX_Malaybalay' is stationary after differencing 1 times.\n",
      "Column 'TMIN_Malaybalay' is stationary after differencing 0 times.\n",
      "Column 'RAINFALL_General Santos' is stationary after differencing 1 times.\n",
      "Column 'TMAX_General Santos' is stationary after differencing 1 times.\n",
      "Column 'TMIN_General Santos' is stationary after differencing 1 times.\n",
      "Column 'RAINFALL_Cotabato' is stationary after differencing 0 times.\n",
      "Column 'TMAX_Cotabato' is stationary after differencing 1 times.\n",
      "Column 'TMIN_Cotabato' is stationary after differencing 0 times.\n"
     ]
    },
    {
     "name": "stderr",
     "output_type": "stream",
     "text": [
      "/var/folders/r2/vst9rfjd3ps2_vb675mrrrrw0000gn/T/ipykernel_51675/2411308064.py:9: InterpolationWarning:\n",
      "\n",
      "The test statistic is outside of the range of p-values available in the\n",
      "look-up table. The actual p-value is greater than the p-value returned.\n",
      "\n",
      "\n",
      "/var/folders/r2/vst9rfjd3ps2_vb675mrrrrw0000gn/T/ipykernel_51675/2411308064.py:9: InterpolationWarning:\n",
      "\n",
      "The test statistic is outside of the range of p-values available in the\n",
      "look-up table. The actual p-value is greater than the p-value returned.\n",
      "\n",
      "\n",
      "/var/folders/r2/vst9rfjd3ps2_vb675mrrrrw0000gn/T/ipykernel_51675/2411308064.py:37: InterpolationWarning:\n",
      "\n",
      "The test statistic is outside of the range of p-values available in the\n",
      "look-up table. The actual p-value is smaller than the p-value returned.\n",
      "\n",
      "\n",
      "/var/folders/r2/vst9rfjd3ps2_vb675mrrrrw0000gn/T/ipykernel_51675/2411308064.py:37: InterpolationWarning:\n",
      "\n",
      "The test statistic is outside of the range of p-values available in the\n",
      "look-up table. The actual p-value is greater than the p-value returned.\n",
      "\n",
      "\n",
      "/var/folders/r2/vst9rfjd3ps2_vb675mrrrrw0000gn/T/ipykernel_51675/2411308064.py:37: InterpolationWarning:\n",
      "\n",
      "The test statistic is outside of the range of p-values available in the\n",
      "look-up table. The actual p-value is smaller than the p-value returned.\n",
      "\n",
      "\n",
      "/var/folders/r2/vst9rfjd3ps2_vb675mrrrrw0000gn/T/ipykernel_51675/2411308064.py:37: InterpolationWarning:\n",
      "\n",
      "The test statistic is outside of the range of p-values available in the\n",
      "look-up table. The actual p-value is greater than the p-value returned.\n",
      "\n",
      "\n",
      "/var/folders/r2/vst9rfjd3ps2_vb675mrrrrw0000gn/T/ipykernel_51675/2411308064.py:37: InterpolationWarning:\n",
      "\n",
      "The test statistic is outside of the range of p-values available in the\n",
      "look-up table. The actual p-value is smaller than the p-value returned.\n",
      "\n",
      "\n",
      "/var/folders/r2/vst9rfjd3ps2_vb675mrrrrw0000gn/T/ipykernel_51675/2411308064.py:37: InterpolationWarning:\n",
      "\n",
      "The test statistic is outside of the range of p-values available in the\n",
      "look-up table. The actual p-value is greater than the p-value returned.\n",
      "\n",
      "\n",
      "/var/folders/r2/vst9rfjd3ps2_vb675mrrrrw0000gn/T/ipykernel_51675/2411308064.py:37: InterpolationWarning:\n",
      "\n",
      "The test statistic is outside of the range of p-values available in the\n",
      "look-up table. The actual p-value is smaller than the p-value returned.\n",
      "\n",
      "\n",
      "/var/folders/r2/vst9rfjd3ps2_vb675mrrrrw0000gn/T/ipykernel_51675/2411308064.py:37: InterpolationWarning:\n",
      "\n",
      "The test statistic is outside of the range of p-values available in the\n",
      "look-up table. The actual p-value is greater than the p-value returned.\n",
      "\n",
      "\n",
      "/var/folders/r2/vst9rfjd3ps2_vb675mrrrrw0000gn/T/ipykernel_51675/2411308064.py:37: InterpolationWarning:\n",
      "\n",
      "The test statistic is outside of the range of p-values available in the\n",
      "look-up table. The actual p-value is smaller than the p-value returned.\n",
      "\n",
      "\n",
      "/var/folders/r2/vst9rfjd3ps2_vb675mrrrrw0000gn/T/ipykernel_51675/2411308064.py:37: InterpolationWarning:\n",
      "\n",
      "The test statistic is outside of the range of p-values available in the\n",
      "look-up table. The actual p-value is greater than the p-value returned.\n",
      "\n",
      "\n",
      "/var/folders/r2/vst9rfjd3ps2_vb675mrrrrw0000gn/T/ipykernel_51675/2411308064.py:37: InterpolationWarning:\n",
      "\n",
      "The test statistic is outside of the range of p-values available in the\n",
      "look-up table. The actual p-value is greater than the p-value returned.\n",
      "\n",
      "\n",
      "/var/folders/r2/vst9rfjd3ps2_vb675mrrrrw0000gn/T/ipykernel_51675/2411308064.py:37: InterpolationWarning:\n",
      "\n",
      "The test statistic is outside of the range of p-values available in the\n",
      "look-up table. The actual p-value is greater than the p-value returned.\n",
      "\n",
      "\n",
      "/var/folders/r2/vst9rfjd3ps2_vb675mrrrrw0000gn/T/ipykernel_51675/2411308064.py:37: InterpolationWarning:\n",
      "\n",
      "The test statistic is outside of the range of p-values available in the\n",
      "look-up table. The actual p-value is greater than the p-value returned.\n",
      "\n",
      "\n",
      "/var/folders/r2/vst9rfjd3ps2_vb675mrrrrw0000gn/T/ipykernel_51675/2411308064.py:37: InterpolationWarning:\n",
      "\n",
      "The test statistic is outside of the range of p-values available in the\n",
      "look-up table. The actual p-value is greater than the p-value returned.\n",
      "\n",
      "\n",
      "/var/folders/r2/vst9rfjd3ps2_vb675mrrrrw0000gn/T/ipykernel_51675/2411308064.py:37: InterpolationWarning:\n",
      "\n",
      "The test statistic is outside of the range of p-values available in the\n",
      "look-up table. The actual p-value is smaller than the p-value returned.\n",
      "\n",
      "\n",
      "/var/folders/r2/vst9rfjd3ps2_vb675mrrrrw0000gn/T/ipykernel_51675/2411308064.py:37: InterpolationWarning:\n",
      "\n",
      "The test statistic is outside of the range of p-values available in the\n",
      "look-up table. The actual p-value is greater than the p-value returned.\n",
      "\n",
      "\n",
      "/var/folders/r2/vst9rfjd3ps2_vb675mrrrrw0000gn/T/ipykernel_51675/2411308064.py:37: InterpolationWarning:\n",
      "\n",
      "The test statistic is outside of the range of p-values available in the\n",
      "look-up table. The actual p-value is greater than the p-value returned.\n",
      "\n",
      "\n",
      "/var/folders/r2/vst9rfjd3ps2_vb675mrrrrw0000gn/T/ipykernel_51675/2411308064.py:37: InterpolationWarning:\n",
      "\n",
      "The test statistic is outside of the range of p-values available in the\n",
      "look-up table. The actual p-value is smaller than the p-value returned.\n",
      "\n",
      "\n",
      "/var/folders/r2/vst9rfjd3ps2_vb675mrrrrw0000gn/T/ipykernel_51675/2411308064.py:37: InterpolationWarning:\n",
      "\n",
      "The test statistic is outside of the range of p-values available in the\n",
      "look-up table. The actual p-value is greater than the p-value returned.\n",
      "\n",
      "\n",
      "/var/folders/r2/vst9rfjd3ps2_vb675mrrrrw0000gn/T/ipykernel_51675/2411308064.py:37: InterpolationWarning:\n",
      "\n",
      "The test statistic is outside of the range of p-values available in the\n",
      "look-up table. The actual p-value is greater than the p-value returned.\n",
      "\n",
      "\n",
      "/var/folders/r2/vst9rfjd3ps2_vb675mrrrrw0000gn/T/ipykernel_51675/2411308064.py:37: InterpolationWarning:\n",
      "\n",
      "The test statistic is outside of the range of p-values available in the\n",
      "look-up table. The actual p-value is smaller than the p-value returned.\n",
      "\n",
      "\n",
      "/var/folders/r2/vst9rfjd3ps2_vb675mrrrrw0000gn/T/ipykernel_51675/2411308064.py:37: InterpolationWarning:\n",
      "\n",
      "The test statistic is outside of the range of p-values available in the\n",
      "look-up table. The actual p-value is greater than the p-value returned.\n",
      "\n",
      "\n",
      "/var/folders/r2/vst9rfjd3ps2_vb675mrrrrw0000gn/T/ipykernel_51675/2411308064.py:37: InterpolationWarning:\n",
      "\n",
      "The test statistic is outside of the range of p-values available in the\n",
      "look-up table. The actual p-value is smaller than the p-value returned.\n",
      "\n",
      "\n",
      "/var/folders/r2/vst9rfjd3ps2_vb675mrrrrw0000gn/T/ipykernel_51675/2411308064.py:37: InterpolationWarning:\n",
      "\n",
      "The test statistic is outside of the range of p-values available in the\n",
      "look-up table. The actual p-value is greater than the p-value returned.\n",
      "\n",
      "\n",
      "/var/folders/r2/vst9rfjd3ps2_vb675mrrrrw0000gn/T/ipykernel_51675/2411308064.py:37: InterpolationWarning:\n",
      "\n",
      "The test statistic is outside of the range of p-values available in the\n",
      "look-up table. The actual p-value is greater than the p-value returned.\n",
      "\n",
      "\n",
      "/var/folders/r2/vst9rfjd3ps2_vb675mrrrrw0000gn/T/ipykernel_51675/2411308064.py:37: InterpolationWarning:\n",
      "\n",
      "The test statistic is outside of the range of p-values available in the\n",
      "look-up table. The actual p-value is greater than the p-value returned.\n",
      "\n",
      "\n",
      "/var/folders/r2/vst9rfjd3ps2_vb675mrrrrw0000gn/T/ipykernel_51675/2411308064.py:37: InterpolationWarning:\n",
      "\n",
      "The test statistic is outside of the range of p-values available in the\n",
      "look-up table. The actual p-value is greater than the p-value returned.\n",
      "\n",
      "\n",
      "/var/folders/r2/vst9rfjd3ps2_vb675mrrrrw0000gn/T/ipykernel_51675/2411308064.py:37: InterpolationWarning:\n",
      "\n",
      "The test statistic is outside of the range of p-values available in the\n",
      "look-up table. The actual p-value is smaller than the p-value returned.\n",
      "\n",
      "\n",
      "/var/folders/r2/vst9rfjd3ps2_vb675mrrrrw0000gn/T/ipykernel_51675/2411308064.py:37: InterpolationWarning:\n",
      "\n",
      "The test statistic is outside of the range of p-values available in the\n",
      "look-up table. The actual p-value is greater than the p-value returned.\n",
      "\n",
      "\n",
      "/var/folders/r2/vst9rfjd3ps2_vb675mrrrrw0000gn/T/ipykernel_51675/2411308064.py:37: InterpolationWarning:\n",
      "\n",
      "The test statistic is outside of the range of p-values available in the\n",
      "look-up table. The actual p-value is smaller than the p-value returned.\n",
      "\n",
      "\n",
      "/var/folders/r2/vst9rfjd3ps2_vb675mrrrrw0000gn/T/ipykernel_51675/2411308064.py:37: InterpolationWarning:\n",
      "\n",
      "The test statistic is outside of the range of p-values available in the\n",
      "look-up table. The actual p-value is greater than the p-value returned.\n",
      "\n",
      "\n",
      "/var/folders/r2/vst9rfjd3ps2_vb675mrrrrw0000gn/T/ipykernel_51675/2411308064.py:37: InterpolationWarning:\n",
      "\n",
      "The test statistic is outside of the range of p-values available in the\n",
      "look-up table. The actual p-value is smaller than the p-value returned.\n",
      "\n",
      "\n",
      "/var/folders/r2/vst9rfjd3ps2_vb675mrrrrw0000gn/T/ipykernel_51675/2411308064.py:37: InterpolationWarning:\n",
      "\n",
      "The test statistic is outside of the range of p-values available in the\n",
      "look-up table. The actual p-value is greater than the p-value returned.\n",
      "\n",
      "\n",
      "/var/folders/r2/vst9rfjd3ps2_vb675mrrrrw0000gn/T/ipykernel_51675/2411308064.py:37: InterpolationWarning:\n",
      "\n",
      "The test statistic is outside of the range of p-values available in the\n",
      "look-up table. The actual p-value is greater than the p-value returned.\n",
      "\n",
      "\n",
      "/var/folders/r2/vst9rfjd3ps2_vb675mrrrrw0000gn/T/ipykernel_51675/2411308064.py:37: InterpolationWarning:\n",
      "\n",
      "The test statistic is outside of the range of p-values available in the\n",
      "look-up table. The actual p-value is smaller than the p-value returned.\n",
      "\n",
      "\n",
      "/var/folders/r2/vst9rfjd3ps2_vb675mrrrrw0000gn/T/ipykernel_51675/2411308064.py:37: InterpolationWarning:\n",
      "\n",
      "The test statistic is outside of the range of p-values available in the\n",
      "look-up table. The actual p-value is greater than the p-value returned.\n",
      "\n",
      "\n",
      "/var/folders/r2/vst9rfjd3ps2_vb675mrrrrw0000gn/T/ipykernel_51675/2411308064.py:37: InterpolationWarning:\n",
      "\n",
      "The test statistic is outside of the range of p-values available in the\n",
      "look-up table. The actual p-value is greater than the p-value returned.\n",
      "\n",
      "\n",
      "/var/folders/r2/vst9rfjd3ps2_vb675mrrrrw0000gn/T/ipykernel_51675/2411308064.py:37: InterpolationWarning:\n",
      "\n",
      "The test statistic is outside of the range of p-values available in the\n",
      "look-up table. The actual p-value is smaller than the p-value returned.\n",
      "\n",
      "\n",
      "/var/folders/r2/vst9rfjd3ps2_vb675mrrrrw0000gn/T/ipykernel_51675/2411308064.py:37: InterpolationWarning:\n",
      "\n",
      "The test statistic is outside of the range of p-values available in the\n",
      "look-up table. The actual p-value is greater than the p-value returned.\n",
      "\n",
      "\n",
      "/var/folders/r2/vst9rfjd3ps2_vb675mrrrrw0000gn/T/ipykernel_51675/2411308064.py:37: InterpolationWarning:\n",
      "\n",
      "The test statistic is outside of the range of p-values available in the\n",
      "look-up table. The actual p-value is smaller than the p-value returned.\n",
      "\n",
      "\n",
      "/var/folders/r2/vst9rfjd3ps2_vb675mrrrrw0000gn/T/ipykernel_51675/2411308064.py:37: InterpolationWarning:\n",
      "\n",
      "The test statistic is outside of the range of p-values available in the\n",
      "look-up table. The actual p-value is greater than the p-value returned.\n",
      "\n",
      "\n",
      "/var/folders/r2/vst9rfjd3ps2_vb675mrrrrw0000gn/T/ipykernel_51675/2411308064.py:37: InterpolationWarning:\n",
      "\n",
      "The test statistic is outside of the range of p-values available in the\n",
      "look-up table. The actual p-value is greater than the p-value returned.\n",
      "\n",
      "\n",
      "/var/folders/r2/vst9rfjd3ps2_vb675mrrrrw0000gn/T/ipykernel_51675/2411308064.py:37: InterpolationWarning:\n",
      "\n",
      "The test statistic is outside of the range of p-values available in the\n",
      "look-up table. The actual p-value is greater than the p-value returned.\n",
      "\n",
      "\n",
      "/var/folders/r2/vst9rfjd3ps2_vb675mrrrrw0000gn/T/ipykernel_51675/2411308064.py:37: InterpolationWarning:\n",
      "\n",
      "The test statistic is outside of the range of p-values available in the\n",
      "look-up table. The actual p-value is greater than the p-value returned.\n",
      "\n",
      "\n"
     ]
    }
   ],
   "source": [
    "#Checking for stationarity in GWAP data\n",
    "perform_differencing(GWAP_train)\n",
    "perform_differencing(LWAP_train)\n",
    "\n",
    "diff_exog = perform_df_differencing(train_exog)\n",
    "diff_exog = diff_exog.fillna(0)\n"
   ]
  },
  {
   "cell_type": "code",
   "execution_count": 13,
   "metadata": {},
   "outputs": [],
   "source": [
    "diff_exog = pd.concat([train_date,diff_exog], axis=1)\n",
    "diff_exog.set_index('Date', inplace=True)"
   ]
  },
  {
   "cell_type": "code",
   "execution_count": 14,
   "metadata": {},
   "outputs": [
    {
     "data": {
      "image/png": "[encoded data removed]",
      "text/plain": [
       "<Figure size 640x480 with 1 Axes>"
      ]
     },
     "execution_count": 14,
     "metadata": {},
     "output_type": "execute_result"
    },
    {
     "data": {
      "image/png": "[encoded data removed]",
      "text/plain": [
       "<Figure size 640x480 with 1 Axes>"
      ]
     },
     "metadata": {},
     "output_type": "display_data"
    },
    {
     "data": {
      "image/png": "[encoded data removed]",
      "text/plain": [
       "<Figure size 640x480 with 1 Axes>"
      ]
     },
     "metadata": {},
     "output_type": "display_data"
    }
   ],
   "source": [
    "# Visualize autocorrelation using plot_acf\n",
    "plot_acf(GWAP_train, lags=25, alpha=0.05)  # Plot autocorrelation using plot_acf with confidence interval\n",
    "# Generate a partial autocorrelation plot\n",
    "plot_pacf(GWAP_train, lags=25, alpha=0.05)"
   ]
  },
  {
   "cell_type": "code",
   "execution_count": 15,
   "metadata": {},
   "outputs": [
    {
     "name": "stdout",
     "output_type": "stream",
     "text": [
      "Performing stepwise search to minimize aic\n",
      " ARIMA(0,0,0)(0,0,0)[0] intercept   : AIC=-361.425, Time=0.07 sec\n",
      " ARIMA(1,0,0)(0,0,0)[0] intercept   : AIC=-503.017, Time=0.02 sec\n",
      " ARIMA(0,0,1)(0,0,0)[0] intercept   : AIC=-467.580, Time=0.09 sec\n",
      " ARIMA(0,0,0)(0,0,0)[0]             : AIC=355.125, Time=0.34 sec\n",
      " ARIMA(1,0,1)(0,0,0)[0] intercept   : AIC=-501.108, Time=0.08 sec\n",
      " ARIMA(1,0,0)(0,0,0)[0]             : AIC=-446.256, Time=0.01 sec\n",
      "\n",
      "Best model:  ARIMA(1,0,0)(0,0,0)[0] intercept\n",
      "Total fit time: 0.647 seconds\n"
     ]
    }
   ],
   "source": [
    "#PACF for GWAP cuts off at lag 1; ACF for LWAP cuts off at lag 5\n",
    "#Auto-Arima: Identification of best orders using AIC\n",
    "MIN_GWAP_sarimax = auto_arima(GWAP_train, \n",
    "                            start_p=0, start_d=0, start_q=0,\n",
    "                            max_p=1, max_d=2, max_q=5,\n",
    "                            error_action='warn', trace=True,\n",
    "                            suppress_warnings=True, stepwise=True,\n",
    "                            exog=diff_exog)"
   ]
  },
  {
   "cell_type": "code",
   "execution_count": 16,
   "metadata": {},
   "outputs": [
    {
     "name": "stderr",
     "output_type": "stream",
     "text": [
      "/Library/Frameworks/Python.framework/Versions/3.12/lib/python3.12/site-packages/statsmodels/tsa/base/tsa_model.py:473: ValueWarning:\n",
      "\n",
      "No frequency information was provided, so inferred frequency D will be used.\n",
      "\n",
      "/Library/Frameworks/Python.framework/Versions/3.12/lib/python3.12/site-packages/statsmodels/tsa/base/tsa_model.py:473: ValueWarning:\n",
      "\n",
      "No frequency information was provided, so inferred frequency D will be used.\n",
      "\n",
      "/Library/Frameworks/Python.framework/Versions/3.12/lib/python3.12/site-packages/statsmodels/base/model.py:607: ConvergenceWarning:\n",
      "\n",
      "Maximum Likelihood optimization failed to converge. Check mle_retvals\n",
      "\n"
     ]
    },
    {
     "data": {
      "text/html": [
       "<div>\n",
       "<style scoped>\n",
       "    .dataframe tbody tr th:only-of-type {\n",
       "        vertical-align: middle;\n",
       "    }\n",
       "\n",
       "    .dataframe tbody tr th {\n",
       "        vertical-align: top;\n",
       "    }\n",
       "\n",
       "    .dataframe thead th {\n",
       "        text-align: right;\n",
       "    }\n",
       "</style>\n",
       "<table border=\"1\" class=\"dataframe\">\n",
       "  <thead>\n",
       "    <tr style=\"text-align: right;\">\n",
       "      <th></th>\n",
       "      <th>GWAP</th>\n",
       "    </tr>\n",
       "  </thead>\n",
       "  <tbody>\n",
       "    <tr>\n",
       "      <th>2023-10-20</th>\n",
       "      <td>0.372751</td>\n",
       "    </tr>\n",
       "    <tr>\n",
       "      <th>2023-10-21</th>\n",
       "      <td>0.404206</td>\n",
       "    </tr>\n",
       "    <tr>\n",
       "      <th>2023-10-22</th>\n",
       "      <td>0.386141</td>\n",
       "    </tr>\n",
       "    <tr>\n",
       "      <th>2023-10-23</th>\n",
       "      <td>0.312046</td>\n",
       "    </tr>\n",
       "    <tr>\n",
       "      <th>2023-10-24</th>\n",
       "      <td>0.350086</td>\n",
       "    </tr>\n",
       "    <tr>\n",
       "      <th>2023-10-25</th>\n",
       "      <td>0.350557</td>\n",
       "    </tr>\n",
       "    <tr>\n",
       "      <th>2023-10-26</th>\n",
       "      <td>0.358759</td>\n",
       "    </tr>\n",
       "    <tr>\n",
       "      <th>2023-10-27</th>\n",
       "      <td>0.329938</td>\n",
       "    </tr>\n",
       "    <tr>\n",
       "      <th>2023-10-28</th>\n",
       "      <td>0.316225</td>\n",
       "    </tr>\n",
       "    <tr>\n",
       "      <th>2023-10-29</th>\n",
       "      <td>0.345009</td>\n",
       "    </tr>\n",
       "  </tbody>\n",
       "</table>\n",
       "</div>"
      ],
      "text/plain": [
       "                GWAP\n",
       "2023-10-20  0.372751\n",
       "2023-10-21  0.404206\n",
       "2023-10-22  0.386141\n",
       "2023-10-23  0.312046\n",
       "2023-10-24  0.350086\n",
       "2023-10-25  0.350557\n",
       "2023-10-26  0.358759\n",
       "2023-10-27  0.329938\n",
       "2023-10-28  0.316225\n",
       "2023-10-29  0.345009"
      ]
     },
     "metadata": {},
     "output_type": "display_data"
    },
    {
     "data": {
      "text/plain": [
       "<matplotlib.legend.Legend at 0x2887e4350>"
      ]
     },
     "execution_count": 16,
     "metadata": {},
     "output_type": "execute_result"
    },
    {
     "data": {
      "image/png": "[encoded data removed]",
      "text/plain": [
       "<Figure size 700x300 with 1 Axes>"
      ]
     },
     "metadata": {},
     "output_type": "display_data"
    }
   ],
   "source": [
    "#Using skforecast\n",
    "gwap_model = Sarimax(order=(1, 0, 0), sm_predict_kwargs={'dynamic': True})\n",
    "gwap_model.fit(y=GWAP_train, exog= diff_exog)\n",
    "gwap_model.summary()\n",
    "\n",
    "# Prediction\n",
    "# ==============================================================================\n",
    "gwap_predictions = gwap_model.predict(steps=len(GWAP_test), exog=test_exog)\n",
    "gwap_predictions.columns = ['GWAP']\n",
    "display(gwap_predictions.head(10))\n",
    "\n",
    "#Plot predictions\n",
    "# ==============================================================================\n",
    "fig, ax = plt.subplots(figsize=(7, 3))\n",
    "GWAP_train.plot(ax=ax, label='train')\n",
    "gwap_predictions.plot(ax=ax, label='Predictions')\n",
    "ax.set_title('Predictions with ARIMA models')\n",
    "ax.legend()\n"
   ]
  },
  {
   "cell_type": "code",
   "execution_count": 17,
   "metadata": {},
   "outputs": [
    {
     "data": {
      "image/png": "[encoded data removed]",
      "text/plain": [
       "<Figure size 640x480 with 1 Axes>"
      ]
     },
     "execution_count": 17,
     "metadata": {},
     "output_type": "execute_result"
    },
    {
     "data": {
      "image/png": "[encoded data removed]",
      "text/plain": [
       "<Figure size 640x480 with 1 Axes>"
      ]
     },
     "metadata": {},
     "output_type": "display_data"
    },
    {
     "data": {
      "image/png": "[encoded data removed]",
      "text/plain": [
       "<Figure size 640x480 with 1 Axes>"
      ]
     },
     "metadata": {},
     "output_type": "display_data"
    }
   ],
   "source": [
    "#Mindanao LWAP\n",
    "# Visualize autocorrelation using plot_acf\n",
    "plot_acf(LWAP_train, lags=25, alpha=0.05)  # Plot autocorrelation using plot_acf with confidence interval\n",
    "# Generate a partial autocorrelation plot\n",
    "plot_pacf(LWAP_train, lags=25, alpha=0.05)"
   ]
  },
  {
   "cell_type": "code",
   "execution_count": 18,
   "metadata": {},
   "outputs": [
    {
     "name": "stdout",
     "output_type": "stream",
     "text": [
      " ARIMA(0,0,0)(0,0,0)[0]             : AIC=355.192, Time=0.04 sec\n",
      " ARIMA(0,0,1)(0,0,0)[0]             : AIC=61.818, Time=0.03 sec\n",
      " ARIMA(0,0,2)(0,0,0)[0]             : AIC=-133.376, Time=0.03 sec\n",
      " ARIMA(0,0,3)(0,0,0)[0]             : AIC=-184.272, Time=0.04 sec\n",
      " ARIMA(0,0,4)(0,0,0)[0]             : AIC=-276.553, Time=0.05 sec\n",
      " ARIMA(1,0,0)(0,0,0)[0]             : AIC=-449.508, Time=0.01 sec\n",
      " ARIMA(1,0,1)(0,0,0)[0]             : AIC=-465.272, Time=0.04 sec\n",
      " ARIMA(1,0,2)(0,0,0)[0]             : AIC=-490.160, Time=0.06 sec\n",
      " ARIMA(1,0,3)(0,0,0)[0]             : AIC=-494.179, Time=0.10 sec\n",
      " ARIMA(1,0,4)(0,0,0)[0]             : AIC=-492.171, Time=0.13 sec\n",
      "\n",
      "Best model:  ARIMA(1,0,3)(0,0,0)[0]          \n",
      "Total fit time: 0.543 seconds\n"
     ]
    }
   ],
   "source": [
    "#PACF for LWAP cuts off at lag 1; ACF for LWAP cuts off at lag 4\n",
    "#Auto-Arima: Identification of best orders using AIC\n",
    "MIN_LWAP_sarimax = auto_arima(LWAP_train, \n",
    "                            start_p=0, start_d=0, start_q=0,\n",
    "                            max_p=1, max_d=2, max_q=4, \n",
    "                            seasonal=False,\n",
    "                            error_action='warn', trace=True,\n",
    "                            suppress_warnings=True, stepwise=False,\n",
    "                            exog=diff_exog, iter=1000)"
   ]
  },
  {
   "cell_type": "code",
   "execution_count": 19,
   "metadata": {},
   "outputs": [
    {
     "name": "stderr",
     "output_type": "stream",
     "text": [
      "/Library/Frameworks/Python.framework/Versions/3.12/lib/python3.12/site-packages/statsmodels/tsa/base/tsa_model.py:473: ValueWarning:\n",
      "\n",
      "No frequency information was provided, so inferred frequency D will be used.\n",
      "\n",
      "/Library/Frameworks/Python.framework/Versions/3.12/lib/python3.12/site-packages/statsmodels/tsa/base/tsa_model.py:473: ValueWarning:\n",
      "\n",
      "No frequency information was provided, so inferred frequency D will be used.\n",
      "\n",
      "/Library/Frameworks/Python.framework/Versions/3.12/lib/python3.12/site-packages/statsmodels/base/model.py:607: ConvergenceWarning:\n",
      "\n",
      "Maximum Likelihood optimization failed to converge. Check mle_retvals\n",
      "\n"
     ]
    },
    {
     "data": {
      "text/html": [
       "<div>\n",
       "<style scoped>\n",
       "    .dataframe tbody tr th:only-of-type {\n",
       "        vertical-align: middle;\n",
       "    }\n",
       "\n",
       "    .dataframe tbody tr th {\n",
       "        vertical-align: top;\n",
       "    }\n",
       "\n",
       "    .dataframe thead th {\n",
       "        text-align: right;\n",
       "    }\n",
       "</style>\n",
       "<table border=\"1\" class=\"dataframe\">\n",
       "  <thead>\n",
       "    <tr style=\"text-align: right;\">\n",
       "      <th></th>\n",
       "      <th>LWAP</th>\n",
       "    </tr>\n",
       "  </thead>\n",
       "  <tbody>\n",
       "    <tr>\n",
       "      <th>2023-10-20</th>\n",
       "      <td>0.398074</td>\n",
       "    </tr>\n",
       "    <tr>\n",
       "      <th>2023-10-21</th>\n",
       "      <td>0.422996</td>\n",
       "    </tr>\n",
       "    <tr>\n",
       "      <th>2023-10-22</th>\n",
       "      <td>0.409206</td>\n",
       "    </tr>\n",
       "    <tr>\n",
       "      <th>2023-10-23</th>\n",
       "      <td>0.275681</td>\n",
       "    </tr>\n",
       "    <tr>\n",
       "      <th>2023-10-24</th>\n",
       "      <td>0.386215</td>\n",
       "    </tr>\n",
       "    <tr>\n",
       "      <th>2023-10-25</th>\n",
       "      <td>0.371171</td>\n",
       "    </tr>\n",
       "    <tr>\n",
       "      <th>2023-10-26</th>\n",
       "      <td>0.342604</td>\n",
       "    </tr>\n",
       "    <tr>\n",
       "      <th>2023-10-27</th>\n",
       "      <td>0.332477</td>\n",
       "    </tr>\n",
       "    <tr>\n",
       "      <th>2023-10-28</th>\n",
       "      <td>0.364563</td>\n",
       "    </tr>\n",
       "    <tr>\n",
       "      <th>2023-10-29</th>\n",
       "      <td>0.349450</td>\n",
       "    </tr>\n",
       "  </tbody>\n",
       "</table>\n",
       "</div>"
      ],
      "text/plain": [
       "                LWAP\n",
       "2023-10-20  0.398074\n",
       "2023-10-21  0.422996\n",
       "2023-10-22  0.409206\n",
       "2023-10-23  0.275681\n",
       "2023-10-24  0.386215\n",
       "2023-10-25  0.371171\n",
       "2023-10-26  0.342604\n",
       "2023-10-27  0.332477\n",
       "2023-10-28  0.364563\n",
       "2023-10-29  0.349450"
      ]
     },
     "metadata": {},
     "output_type": "display_data"
    },
    {
     "data": {
      "text/plain": [
       "<matplotlib.legend.Legend at 0x28b25e0f0>"
      ]
     },
     "execution_count": 19,
     "metadata": {},
     "output_type": "execute_result"
    },
    {
     "data": {
      "image/png": "[encoded data removed]",
      "text/plain": [
       "<Figure size 700x300 with 1 Axes>"
      ]
     },
     "metadata": {},
     "output_type": "display_data"
    }
   ],
   "source": [
    "#Using skforecast\n",
    "model_lwap = Sarimax(order=(1, 0, 3), sm_predict_kwargs={'dynamic': True})\n",
    "model_lwap.fit(y=LWAP_train, exog= diff_exog)\n",
    "model_lwap.summary()\n",
    "\n",
    "# Prediction\n",
    "# ==============================================================================\n",
    "lwap_predictions = model_lwap.predict(steps=len(LWAP_test), exog=test_exog)\n",
    "lwap_predictions.columns = ['LWAP']\n",
    "display(lwap_predictions.head(10))\n",
    "\n",
    "#Plot predictions\n",
    "# ==============================================================================\n",
    "fig, ax = plt.subplots(figsize=(7, 3))\n",
    "LWAP_train.plot(ax=ax, label='train')\n",
    "lwap_predictions.plot(ax=ax, label='LWAP Predictions')\n",
    "ax.set_title('Predictions with ARIMA models')\n",
    "ax.legend()\n"
   ]
  },
  {
   "cell_type": "code",
   "execution_count": 21,
   "metadata": {},
   "outputs": [],
   "source": [
    "#Applying the inverse transformations\n",
    "#Loading inverse transformations for Mindanao\n",
    "\n",
    "min_minmax_fit_loaded = joblib.load('/Users/jojielyn/Desktop/School/04 Senior/Thesis/SARIMAX/Mindanao/minmax_scaler.pkl')\n",
    "min_boxcox_fit_loaded = joblib.load('/Users/jojielyn/Desktop/School/04 Senior/Thesis/SARIMAX/Mindanao/boxcox_pipeline.pkl')\n",
    "min_yeojohnson_fit_loaded = joblib.load('/Users/jojielyn/Desktop/School/04 Senior/Thesis/SARIMAX/Mindanao/yeojohnson_pipeline.pkl')\n",
    "min_boxcoxy_fit_loaded = joblib.load('/Users/jojielyn/Desktop/School/04 Senior/Thesis/SARIMAX/Mindanao/boxcox_pipeliney.pkl')"
   ]
  },
  {
   "cell_type": "code",
   "execution_count": 22,
   "metadata": {},
   "outputs": [
    {
     "name": "stderr",
     "output_type": "stream",
     "text": [
      "/Library/Frameworks/Python.framework/Versions/3.12/lib/python3.12/site-packages/sklearn/base.py:493: UserWarning:\n",
      "\n",
      "X does not have valid feature names, but PowerTransformer was fitted with feature names\n",
      "\n"
     ]
    },
    {
     "data": {
      "text/plain": [
       "array([[3859.33877633, 4523.21132709],\n",
       "       [4413.8602806 , 5004.87721768],\n",
       "       [4091.50921209, 4735.79282682],\n",
       "       [2880.34619651, 2469.28503467],\n",
       "       [3479.59996795, 4301.37609854],\n",
       "       [3487.31498403, 4026.86361449],\n",
       "       [3622.93137823, 3527.07118477],\n",
       "       [3156.19089857, 3356.72324085],\n",
       "       [2943.81528773, 3908.7377468 ],\n",
       "       [3396.84068055, 3644.26146783],\n",
       "       [3102.81281342, 3397.04288049],\n",
       "       [3301.43084105, 2420.6396423 ],\n",
       "       [3408.50646436, 3812.66795314],\n",
       "       [3416.18898209, 3002.63457358],\n",
       "       [3545.51999615, 4267.30297916],\n",
       "       [4355.03245506, 3973.806441  ],\n",
       "       [3511.77092854, 3142.59267349],\n",
       "       [3469.33880715, 3160.87003375],\n",
       "       [4967.71495633, 5520.04368626],\n",
       "       [3790.16133087, 3310.30469436],\n",
       "       [4004.1072776 , 4480.49935556],\n",
       "       [5027.38100007, 5637.93977544],\n",
       "       [4743.36800415, 4923.80517105],\n",
       "       [3716.75580378, 4294.07176578],\n",
       "       [3813.5431352 , 3816.92494753],\n",
       "       [4513.4195877 , 5134.69608929],\n",
       "       [5000.38662004, 5166.16068858],\n",
       "       [4251.01083389, 4138.92570842],\n",
       "       [2348.18177896, 2777.54970393],\n",
       "       [2413.53828534, 2352.70882725],\n",
       "       [2370.79979585, 2420.74146978],\n",
       "       [1447.22966317, 1306.63668063],\n",
       "       [2731.37457594, 2473.75470609],\n",
       "       [3060.54193107, 2634.11985225],\n",
       "       [4406.36584148, 4784.53025419],\n",
       "       [4994.20010676, 5375.98869416],\n",
       "       [3119.74889778, 3327.31321411],\n",
       "       [2135.02760835, 2235.7559342 ],\n",
       "       [2169.69935036, 1920.55085934],\n",
       "       [3251.27822515, 3926.55888942],\n",
       "       [4391.78690984, 4662.45428869],\n",
       "       [4062.48307082, 3709.86069275],\n",
       "       [2236.05547086, 2118.7945959 ],\n",
       "       [3426.14341452, 3488.9717792 ],\n",
       "       [2700.10346181, 2431.36520248],\n",
       "       [2670.61860773, 2640.58772265],\n",
       "       [3085.59603102, 3222.67741154],\n",
       "       [3242.91443683, 3188.46113261],\n",
       "       [1776.25164944, 1686.32901536],\n",
       "       [3293.4539111 , 2944.92894305],\n",
       "       [3291.75053582, 2554.68365452],\n",
       "       [2799.7433444 , 2762.57833221],\n",
       "       [3464.98989819, 3320.29338038],\n",
       "       [3749.47280055, 4184.66437218],\n",
       "       [5331.74572042, 6112.23681874],\n",
       "       [3269.05614264, 3328.06381384],\n",
       "       [4632.32404381, 5128.02648043],\n",
       "       [4918.90940164, 5687.66462691],\n",
       "       [4665.11426415, 5531.70840644],\n",
       "       [2421.3626244 , 2469.07678452],\n",
       "       [2815.89678019, 3092.09302701],\n",
       "       [3190.88804339, 3269.57761247],\n",
       "       [5574.49121915, 6449.97847172],\n",
       "       [4522.48868275, 4437.79705797],\n",
       "       [3707.72723418, 2978.01833094],\n",
       "       [3198.47610962, 2453.48242597],\n",
       "       [3448.79554684, 3384.5955452 ],\n",
       "       [1704.9130736 , 2435.73051991],\n",
       "       [2952.41648561, 3051.49279749],\n",
       "       [3390.43022084, 3213.89144821],\n",
       "       [4116.73705414, 4117.99587458],\n",
       "       [3739.8225978 , 4090.45742835],\n",
       "       [3805.79928253, 3973.45746953]])"
      ]
     },
     "execution_count": 22,
     "metadata": {},
     "output_type": "execute_result"
    }
   ],
   "source": [
    "min_predictions = pd.concat([gwap_predictions, lwap_predictions], axis=1)\n",
    "min_predictions_inverse=min_boxcoxy_fit_loaded.inverse_transform(min_predictions)\n",
    "min_predictions_inverse"
   ]
  },
  {
   "cell_type": "code",
   "execution_count": 23,
   "metadata": {},
   "outputs": [],
   "source": [
    "min_predictions_inverse_df = pd.DataFrame(min_predictions_inverse)\n",
    "min_predictions_inverse_df.rename(columns={'0': 'GWAP', '1': 'LWAP'}, inplace=True)\n",
    "\n",
    "MIN_GWAP_predictions_inverse = pd.DataFrame(min_predictions_inverse[:, 0], columns=['GWAP'])\n",
    "MIN_GWAP_predictions_inverse = pd.concat([test_date,MIN_GWAP_predictions_inverse], axis=1)\n",
    "MIN_GWAP_predictions_inverse.set_index('Date', inplace=True)\n",
    "MIN_GWAP_predictions_inverse.index = pd.to_datetime(MIN_GWAP_predictions_inverse.index)\n",
    "MIN_GWAP_predictions_inverse.index.freq='D'\n",
    "MIN_GWAP_predictions_inverse = MIN_GWAP_predictions_inverse.squeeze()\n",
    "\n",
    "MIN_LWAP_predictions_inverse = pd.DataFrame(min_predictions_inverse[:, 0], columns=['LWAP'])\n",
    "MIN_LWAP_predictions_inverse = pd.concat([test_date,MIN_LWAP_predictions_inverse], axis=1)\n",
    "MIN_LWAP_predictions_inverse.set_index('Date', inplace=True)\n",
    "MIN_LWAP_predictions_inverse.index = pd.to_datetime(MIN_LWAP_predictions_inverse.index)\n",
    "MIN_LWAP_predictions_inverse.index.freq='D'\n",
    "MIN_LWAP_predictions_inverse = MIN_LWAP_predictions_inverse.squeeze()\n",
    "\n",
    "\n"
   ]
  },
  {
   "cell_type": "code",
   "execution_count": 27,
   "metadata": {},
   "outputs": [
    {
     "name": "stdout",
     "output_type": "stream",
     "text": [
      "Mean Absolute Error (MAE) on Test Set: 748.5586047488433\n",
      "Root Mean Squared Error (RMSE) on Test Set: 942.6623105017838\n"
     ]
    },
    {
     "name": "stderr",
     "output_type": "stream",
     "text": [
      "/Library/Frameworks/Python.framework/Versions/3.12/lib/python3.12/site-packages/sklearn/metrics/_regression.py:492: FutureWarning:\n",
      "\n",
      "'squared' is deprecated in version 1.4 and will be removed in 1.6. To calculate the root mean squared error, use the function'root_mean_squared_error'.\n",
      "\n"
     ]
    },
    {
     "data": {
      "image/png": "[encoded data removed]",
      "text/plain": [
       "<Figure size 1000x500 with 1 Axes>"
      ]
     },
     "metadata": {},
     "output_type": "display_data"
    }
   ],
   "source": [
    "# Calculate MAE for the MINDANAO GWAP test set\n",
    "mae_test = mean_absolute_error(GWAP_test_inversed, MIN_GWAP_predictions_inverse)\n",
    "print(f\"Mean Absolute Error (MAE) on Test Set: {mae_test}\")\n",
    "\n",
    "# Calculate MSE for the MINDANAO GWAP test set\n",
    "rmse_test = mean_squared_error(GWAP_test_inversed, MIN_GWAP_predictions_inverse, squared=False)\n",
    "print(f\"Root Mean Squared Error (RMSE) on Test Set: {rmse_test}\")\n",
    "\n",
    "# Plot predictions\n",
    "fig, ax = plt.subplots(figsize=(10, 5))\n",
    "GWAP.plot(ax=ax, label='Original Data') \n",
    "MIN_GWAP_predictions_inverse.plot(ax=ax, label='Predictions on Test Set', linestyle='--')\n",
    "ax.set_title('SARIMAX Mindanao GWAP Predictions')\n",
    "ax.legend()\n",
    "plt.show()"
   ]
  },
  {
   "cell_type": "code",
   "execution_count": 26,
   "metadata": {},
   "outputs": [
    {
     "name": "stdout",
     "output_type": "stream",
     "text": [
      "Mean Absolute Error (MAE) on Test Set: 795.73154595985\n",
      "Root Mean Squared Error (RMSE) on Test Set: 1017.2639781795356\n"
     ]
    },
    {
     "name": "stderr",
     "output_type": "stream",
     "text": [
      "/Library/Frameworks/Python.framework/Versions/3.12/lib/python3.12/site-packages/sklearn/metrics/_regression.py:492: FutureWarning:\n",
      "\n",
      "'squared' is deprecated in version 1.4 and will be removed in 1.6. To calculate the root mean squared error, use the function'root_mean_squared_error'.\n",
      "\n"
     ]
    },
    {
     "data": {
      "image/png": "[encoded data removed]",
      "text/plain": [
       "<Figure size 1000x500 with 1 Axes>"
      ]
     },
     "metadata": {},
     "output_type": "display_data"
    }
   ],
   "source": [
    "# Calculate MAE for the Mindanao LWAP test set\n",
    "mae_test = mean_absolute_error(LWAP_test_inversed, MIN_LWAP_predictions_inverse)\n",
    "print(f\"Mean Absolute Error (MAE) on Test Set: {mae_test}\")\n",
    "\n",
    "# Calculate MSE for the Mindanao LWAP test set\n",
    "rmse_test = mean_squared_error(LWAP_test_inversed, MIN_LWAP_predictions_inverse, squared=False)\n",
    "print(f\"Root Mean Squared Error (RMSE) on Test Set: {rmse_test}\")\n",
    "\n",
    "# Plot predictions\n",
    "fig, ax = plt.subplots(figsize=(10, 5))\n",
    "LWAP.plot(ax=ax, label='Original Data')\n",
    "MIN_LWAP_predictions_inverse.plot(ax=ax, label='Predictions on Test Set', linestyle='--')\n",
    "ax.set_title('SARIMAX Mindanao LWAP Predictions')\n",
    "ax.legend()\n",
    "plt.show()"
   ]
  }
 ],
 "metadata": {
  "kernelspec": {
   "display_name": "Python 3",
   "language": "python",
   "name": "python3"
  },
  "language_info": {
   "codemirror_mode": {
    "name": "ipython",
    "version": 3
   },
   "file_extension": ".py",
   "mimetype": "text/x-python",
   "name": "python",
   "nbconvert_exporter": "python",
   "pygments_lexer": "ipython3",
   "version": "3.12.5"
  }
 },
 "nbformat": 4,
 "nbformat_minor": 2
}
