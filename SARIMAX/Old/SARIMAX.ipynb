{
 "cells": [
  {
   "cell_type": "code",
   "execution_count": 183,
   "metadata": {},
   "outputs": [
    {
     "name": "stderr",
     "output_type": "stream",
     "text": [
      "/Library/Frameworks/Python.framework/Versions/3.12/lib/python3.12/pty.py:95: DeprecationWarning:\n",
      "\n",
      "This process (pid=71835) is multi-threaded, use of forkpty() may lead to deadlocks in the child.\n",
      "\n"
     ]
    },
    {
     "name": "stdout",
     "output_type": "stream",
     "text": [
      "Requirement already satisfied: joblib in /Library/Frameworks/Python.framework/Versions/3.12/lib/python3.12/site-packages (1.4.2)\n",
      "Note: you may need to restart the kernel to use updated packages.\n"
     ]
    }
   ],
   "source": [
    "%pip install joblib"
   ]
  },
  {
   "cell_type": "code",
   "execution_count": 1,
   "metadata": {},
   "outputs": [
    {
     "name": "stderr",
     "output_type": "stream",
     "text": [
      "/Library/Frameworks/Python.framework/Versions/3.12/lib/python3.12/site-packages/tqdm/auto.py:21: TqdmWarning: IProgress not found. Please update jupyter and ipywidgets. See https://ipywidgets.readthedocs.io/en/stable/user_install.html\n",
      "  from .autonotebook import tqdm as notebook_tqdm\n"
     ]
    }
   ],
   "source": [
    "# Import necessary libraries for data manipulation and analysis\n",
    "import numpy as np # Numerical operations\n",
    "import pandas as pd # Data manipulation\n",
    "from datetime import datetime, timedelta # Date operations\n",
    "\n",
    "#Import necessary libraries for transformations\n",
    "from sklearn.preprocessing import MinMaxScaler, PowerTransformer\n",
    "from sklearn.compose import ColumnTransformer\n",
    "from sklearn.pipeline import Pipeline\n",
    "from scipy import stats\n",
    "from scipy.stats import skew, kurtosis\n",
    "\n",
    "# Import libraries for plotting and visualization\n",
    "import matplotlib.pyplot as plt # Matplotlib for basic plotting\n",
    "import seaborn as sns # Seaborn for enhanced visualization\n",
    "import plotly.express as px # Plotly for interactive plots\n",
    "\n",
    "# Import libraries for time series analysis and modeling\n",
    "from statsmodels.tsa.stattools import adfuller # Augmented Dickey-Fuller Test for stationarity check\n",
    "from statsmodels.tsa.stattools import kpss # Kwiatkowski-Phillips-Schmidt-Shin Test for stationarity check\n",
    "from statsmodels.tsa.statespace.sarimax import SARIMAX # SARIMAX model for time series forecasting\n",
    "from statsmodels.tsa.seasonal import seasonal_decompose # Seasonal decomposition for trend, seasonal, and residual components\n",
    "import statsmodels.api as sm\n",
    "from sklearn.metrics import mean_squared_error\n",
    "from skforecast.model_selection_sarimax import backtesting_sarimax\n",
    "from skforecast.model_selection_sarimax import grid_search_sarimax\n",
    "import skforecast\n",
    "\n",
    "# Import necessary libraries for computing acf and pacf\n",
    "from statsmodels.graphics.tsaplots import plot_acf, plot_pacf  # For autocorrelation and partial autocorrelation plots\n",
    "from statsmodels.tsa.stattools import acf, pacf  # For computing autocorrelation and partial autocorrelation\n",
    "\n",
    "import joblib\n"
   ]
  },
  {
   "cell_type": "code",
   "execution_count": 2,
   "metadata": {},
   "outputs": [],
   "source": [
    "from pmdarima.arima import auto_arima #SARIMAX using pmdarima\n",
    "from skforecast.ForecasterSarimax import ForecasterSarimax"
   ]
  },
  {
   "cell_type": "markdown",
   "metadata": {},
   "source": [
    "SARIMAX for Luzon"
   ]
  },
  {
   "cell_type": "code",
   "execution_count": 3,
   "metadata": {},
   "outputs": [
    {
     "ename": "FileNotFoundError",
     "evalue": "[Errno 2] No such file or directory: '/Users/jojielyn/Desktop/School/04 Senior/Thesis/SARIMAX/Luzon/test_data_transformed.csv'",
     "output_type": "error",
     "traceback": [
      "\u001b[0;31m---------------------------------------------------------------------------\u001b[0m",
      "\u001b[0;31mFileNotFoundError\u001b[0m                         Traceback (most recent call last)",
      "Cell \u001b[0;32mIn[3], line 9\u001b[0m\n\u001b[1;32m      7\u001b[0m transformed_train_data \u001b[38;5;241m=\u001b[39m pd\u001b[38;5;241m.\u001b[39mread_csv(data_csv)\n\u001b[1;32m      8\u001b[0m transformed_train_labels \u001b[38;5;241m=\u001b[39m pd\u001b[38;5;241m.\u001b[39mread_csv(labels_csv)\n\u001b[0;32m----> 9\u001b[0m transformed_test_exog \u001b[38;5;241m=\u001b[39m \u001b[43mpd\u001b[49m\u001b[38;5;241;43m.\u001b[39;49m\u001b[43mread_csv\u001b[49m\u001b[43m(\u001b[49m\u001b[43mtransformed_test_exog\u001b[49m\u001b[43m)\u001b[49m\n\u001b[1;32m     11\u001b[0m test_data \u001b[38;5;241m=\u001b[39m pd\u001b[38;5;241m.\u001b[39mread_csv(test_data_csv)\n\u001b[1;32m     12\u001b[0m test_labels \u001b[38;5;241m=\u001b[39m pd\u001b[38;5;241m.\u001b[39mread_csv(test_labels_csv)\n",
      "File \u001b[0;32m/Library/Frameworks/Python.framework/Versions/3.12/lib/python3.12/site-packages/pandas/io/parsers/readers.py:1026\u001b[0m, in \u001b[0;36mread_csv\u001b[0;34m(filepath_or_buffer, sep, delimiter, header, names, index_col, usecols, dtype, engine, converters, true_values, false_values, skipinitialspace, skiprows, skipfooter, nrows, na_values, keep_default_na, na_filter, verbose, skip_blank_lines, parse_dates, infer_datetime_format, keep_date_col, date_parser, date_format, dayfirst, cache_dates, iterator, chunksize, compression, thousands, decimal, lineterminator, quotechar, quoting, doublequote, escapechar, comment, encoding, encoding_errors, dialect, on_bad_lines, delim_whitespace, low_memory, memory_map, float_precision, storage_options, dtype_backend)\u001b[0m\n\u001b[1;32m   1013\u001b[0m kwds_defaults \u001b[38;5;241m=\u001b[39m _refine_defaults_read(\n\u001b[1;32m   1014\u001b[0m     dialect,\n\u001b[1;32m   1015\u001b[0m     delimiter,\n\u001b[0;32m   (...)\u001b[0m\n\u001b[1;32m   1022\u001b[0m     dtype_backend\u001b[38;5;241m=\u001b[39mdtype_backend,\n\u001b[1;32m   1023\u001b[0m )\n\u001b[1;32m   1024\u001b[0m kwds\u001b[38;5;241m.\u001b[39mupdate(kwds_defaults)\n\u001b[0;32m-> 1026\u001b[0m \u001b[38;5;28;01mreturn\u001b[39;00m \u001b[43m_read\u001b[49m\u001b[43m(\u001b[49m\u001b[43mfilepath_or_buffer\u001b[49m\u001b[43m,\u001b[49m\u001b[43m \u001b[49m\u001b[43mkwds\u001b[49m\u001b[43m)\u001b[49m\n",
      "File \u001b[0;32m/Library/Frameworks/Python.framework/Versions/3.12/lib/python3.12/site-packages/pandas/io/parsers/readers.py:620\u001b[0m, in \u001b[0;36m_read\u001b[0;34m(filepath_or_buffer, kwds)\u001b[0m\n\u001b[1;32m    617\u001b[0m _validate_names(kwds\u001b[38;5;241m.\u001b[39mget(\u001b[38;5;124m\"\u001b[39m\u001b[38;5;124mnames\u001b[39m\u001b[38;5;124m\"\u001b[39m, \u001b[38;5;28;01mNone\u001b[39;00m))\n\u001b[1;32m    619\u001b[0m \u001b[38;5;66;03m# Create the parser.\u001b[39;00m\n\u001b[0;32m--> 620\u001b[0m parser \u001b[38;5;241m=\u001b[39m \u001b[43mTextFileReader\u001b[49m\u001b[43m(\u001b[49m\u001b[43mfilepath_or_buffer\u001b[49m\u001b[43m,\u001b[49m\u001b[43m \u001b[49m\u001b[38;5;241;43m*\u001b[39;49m\u001b[38;5;241;43m*\u001b[39;49m\u001b[43mkwds\u001b[49m\u001b[43m)\u001b[49m\n\u001b[1;32m    622\u001b[0m \u001b[38;5;28;01mif\u001b[39;00m chunksize \u001b[38;5;129;01mor\u001b[39;00m iterator:\n\u001b[1;32m    623\u001b[0m     \u001b[38;5;28;01mreturn\u001b[39;00m parser\n",
      "File \u001b[0;32m/Library/Frameworks/Python.framework/Versions/3.12/lib/python3.12/site-packages/pandas/io/parsers/readers.py:1620\u001b[0m, in \u001b[0;36mTextFileReader.__init__\u001b[0;34m(self, f, engine, **kwds)\u001b[0m\n\u001b[1;32m   1617\u001b[0m     \u001b[38;5;28mself\u001b[39m\u001b[38;5;241m.\u001b[39moptions[\u001b[38;5;124m\"\u001b[39m\u001b[38;5;124mhas_index_names\u001b[39m\u001b[38;5;124m\"\u001b[39m] \u001b[38;5;241m=\u001b[39m kwds[\u001b[38;5;124m\"\u001b[39m\u001b[38;5;124mhas_index_names\u001b[39m\u001b[38;5;124m\"\u001b[39m]\n\u001b[1;32m   1619\u001b[0m \u001b[38;5;28mself\u001b[39m\u001b[38;5;241m.\u001b[39mhandles: IOHandles \u001b[38;5;241m|\u001b[39m \u001b[38;5;28;01mNone\u001b[39;00m \u001b[38;5;241m=\u001b[39m \u001b[38;5;28;01mNone\u001b[39;00m\n\u001b[0;32m-> 1620\u001b[0m \u001b[38;5;28mself\u001b[39m\u001b[38;5;241m.\u001b[39m_engine \u001b[38;5;241m=\u001b[39m \u001b[38;5;28;43mself\u001b[39;49m\u001b[38;5;241;43m.\u001b[39;49m\u001b[43m_make_engine\u001b[49m\u001b[43m(\u001b[49m\u001b[43mf\u001b[49m\u001b[43m,\u001b[49m\u001b[43m \u001b[49m\u001b[38;5;28;43mself\u001b[39;49m\u001b[38;5;241;43m.\u001b[39;49m\u001b[43mengine\u001b[49m\u001b[43m)\u001b[49m\n",
      "File \u001b[0;32m/Library/Frameworks/Python.framework/Versions/3.12/lib/python3.12/site-packages/pandas/io/parsers/readers.py:1880\u001b[0m, in \u001b[0;36mTextFileReader._make_engine\u001b[0;34m(self, f, engine)\u001b[0m\n\u001b[1;32m   1878\u001b[0m     \u001b[38;5;28;01mif\u001b[39;00m \u001b[38;5;124m\"\u001b[39m\u001b[38;5;124mb\u001b[39m\u001b[38;5;124m\"\u001b[39m \u001b[38;5;129;01mnot\u001b[39;00m \u001b[38;5;129;01min\u001b[39;00m mode:\n\u001b[1;32m   1879\u001b[0m         mode \u001b[38;5;241m+\u001b[39m\u001b[38;5;241m=\u001b[39m \u001b[38;5;124m\"\u001b[39m\u001b[38;5;124mb\u001b[39m\u001b[38;5;124m\"\u001b[39m\n\u001b[0;32m-> 1880\u001b[0m \u001b[38;5;28mself\u001b[39m\u001b[38;5;241m.\u001b[39mhandles \u001b[38;5;241m=\u001b[39m \u001b[43mget_handle\u001b[49m\u001b[43m(\u001b[49m\n\u001b[1;32m   1881\u001b[0m \u001b[43m    \u001b[49m\u001b[43mf\u001b[49m\u001b[43m,\u001b[49m\n\u001b[1;32m   1882\u001b[0m \u001b[43m    \u001b[49m\u001b[43mmode\u001b[49m\u001b[43m,\u001b[49m\n\u001b[1;32m   1883\u001b[0m \u001b[43m    \u001b[49m\u001b[43mencoding\u001b[49m\u001b[38;5;241;43m=\u001b[39;49m\u001b[38;5;28;43mself\u001b[39;49m\u001b[38;5;241;43m.\u001b[39;49m\u001b[43moptions\u001b[49m\u001b[38;5;241;43m.\u001b[39;49m\u001b[43mget\u001b[49m\u001b[43m(\u001b[49m\u001b[38;5;124;43m\"\u001b[39;49m\u001b[38;5;124;43mencoding\u001b[39;49m\u001b[38;5;124;43m\"\u001b[39;49m\u001b[43m,\u001b[49m\u001b[43m \u001b[49m\u001b[38;5;28;43;01mNone\u001b[39;49;00m\u001b[43m)\u001b[49m\u001b[43m,\u001b[49m\n\u001b[1;32m   1884\u001b[0m \u001b[43m    \u001b[49m\u001b[43mcompression\u001b[49m\u001b[38;5;241;43m=\u001b[39;49m\u001b[38;5;28;43mself\u001b[39;49m\u001b[38;5;241;43m.\u001b[39;49m\u001b[43moptions\u001b[49m\u001b[38;5;241;43m.\u001b[39;49m\u001b[43mget\u001b[49m\u001b[43m(\u001b[49m\u001b[38;5;124;43m\"\u001b[39;49m\u001b[38;5;124;43mcompression\u001b[39;49m\u001b[38;5;124;43m\"\u001b[39;49m\u001b[43m,\u001b[49m\u001b[43m \u001b[49m\u001b[38;5;28;43;01mNone\u001b[39;49;00m\u001b[43m)\u001b[49m\u001b[43m,\u001b[49m\n\u001b[1;32m   1885\u001b[0m \u001b[43m    \u001b[49m\u001b[43mmemory_map\u001b[49m\u001b[38;5;241;43m=\u001b[39;49m\u001b[38;5;28;43mself\u001b[39;49m\u001b[38;5;241;43m.\u001b[39;49m\u001b[43moptions\u001b[49m\u001b[38;5;241;43m.\u001b[39;49m\u001b[43mget\u001b[49m\u001b[43m(\u001b[49m\u001b[38;5;124;43m\"\u001b[39;49m\u001b[38;5;124;43mmemory_map\u001b[39;49m\u001b[38;5;124;43m\"\u001b[39;49m\u001b[43m,\u001b[49m\u001b[43m \u001b[49m\u001b[38;5;28;43;01mFalse\u001b[39;49;00m\u001b[43m)\u001b[49m\u001b[43m,\u001b[49m\n\u001b[1;32m   1886\u001b[0m \u001b[43m    \u001b[49m\u001b[43mis_text\u001b[49m\u001b[38;5;241;43m=\u001b[39;49m\u001b[43mis_text\u001b[49m\u001b[43m,\u001b[49m\n\u001b[1;32m   1887\u001b[0m \u001b[43m    \u001b[49m\u001b[43merrors\u001b[49m\u001b[38;5;241;43m=\u001b[39;49m\u001b[38;5;28;43mself\u001b[39;49m\u001b[38;5;241;43m.\u001b[39;49m\u001b[43moptions\u001b[49m\u001b[38;5;241;43m.\u001b[39;49m\u001b[43mget\u001b[49m\u001b[43m(\u001b[49m\u001b[38;5;124;43m\"\u001b[39;49m\u001b[38;5;124;43mencoding_errors\u001b[39;49m\u001b[38;5;124;43m\"\u001b[39;49m\u001b[43m,\u001b[49m\u001b[43m \u001b[49m\u001b[38;5;124;43m\"\u001b[39;49m\u001b[38;5;124;43mstrict\u001b[39;49m\u001b[38;5;124;43m\"\u001b[39;49m\u001b[43m)\u001b[49m\u001b[43m,\u001b[49m\n\u001b[1;32m   1888\u001b[0m \u001b[43m    \u001b[49m\u001b[43mstorage_options\u001b[49m\u001b[38;5;241;43m=\u001b[39;49m\u001b[38;5;28;43mself\u001b[39;49m\u001b[38;5;241;43m.\u001b[39;49m\u001b[43moptions\u001b[49m\u001b[38;5;241;43m.\u001b[39;49m\u001b[43mget\u001b[49m\u001b[43m(\u001b[49m\u001b[38;5;124;43m\"\u001b[39;49m\u001b[38;5;124;43mstorage_options\u001b[39;49m\u001b[38;5;124;43m\"\u001b[39;49m\u001b[43m,\u001b[49m\u001b[43m \u001b[49m\u001b[38;5;28;43;01mNone\u001b[39;49;00m\u001b[43m)\u001b[49m\u001b[43m,\u001b[49m\n\u001b[1;32m   1889\u001b[0m \u001b[43m\u001b[49m\u001b[43m)\u001b[49m\n\u001b[1;32m   1890\u001b[0m \u001b[38;5;28;01massert\u001b[39;00m \u001b[38;5;28mself\u001b[39m\u001b[38;5;241m.\u001b[39mhandles \u001b[38;5;129;01mis\u001b[39;00m \u001b[38;5;129;01mnot\u001b[39;00m \u001b[38;5;28;01mNone\u001b[39;00m\n\u001b[1;32m   1891\u001b[0m f \u001b[38;5;241m=\u001b[39m \u001b[38;5;28mself\u001b[39m\u001b[38;5;241m.\u001b[39mhandles\u001b[38;5;241m.\u001b[39mhandle\n",
      "File \u001b[0;32m/Library/Frameworks/Python.framework/Versions/3.12/lib/python3.12/site-packages/pandas/io/common.py:873\u001b[0m, in \u001b[0;36mget_handle\u001b[0;34m(path_or_buf, mode, encoding, compression, memory_map, is_text, errors, storage_options)\u001b[0m\n\u001b[1;32m    868\u001b[0m \u001b[38;5;28;01melif\u001b[39;00m \u001b[38;5;28misinstance\u001b[39m(handle, \u001b[38;5;28mstr\u001b[39m):\n\u001b[1;32m    869\u001b[0m     \u001b[38;5;66;03m# Check whether the filename is to be opened in binary mode.\u001b[39;00m\n\u001b[1;32m    870\u001b[0m     \u001b[38;5;66;03m# Binary mode does not support 'encoding' and 'newline'.\u001b[39;00m\n\u001b[1;32m    871\u001b[0m     \u001b[38;5;28;01mif\u001b[39;00m ioargs\u001b[38;5;241m.\u001b[39mencoding \u001b[38;5;129;01mand\u001b[39;00m \u001b[38;5;124m\"\u001b[39m\u001b[38;5;124mb\u001b[39m\u001b[38;5;124m\"\u001b[39m \u001b[38;5;129;01mnot\u001b[39;00m \u001b[38;5;129;01min\u001b[39;00m ioargs\u001b[38;5;241m.\u001b[39mmode:\n\u001b[1;32m    872\u001b[0m         \u001b[38;5;66;03m# Encoding\u001b[39;00m\n\u001b[0;32m--> 873\u001b[0m         handle \u001b[38;5;241m=\u001b[39m \u001b[38;5;28;43mopen\u001b[39;49m\u001b[43m(\u001b[49m\n\u001b[1;32m    874\u001b[0m \u001b[43m            \u001b[49m\u001b[43mhandle\u001b[49m\u001b[43m,\u001b[49m\n\u001b[1;32m    875\u001b[0m \u001b[43m            \u001b[49m\u001b[43mioargs\u001b[49m\u001b[38;5;241;43m.\u001b[39;49m\u001b[43mmode\u001b[49m\u001b[43m,\u001b[49m\n\u001b[1;32m    876\u001b[0m \u001b[43m            \u001b[49m\u001b[43mencoding\u001b[49m\u001b[38;5;241;43m=\u001b[39;49m\u001b[43mioargs\u001b[49m\u001b[38;5;241;43m.\u001b[39;49m\u001b[43mencoding\u001b[49m\u001b[43m,\u001b[49m\n\u001b[1;32m    877\u001b[0m \u001b[43m            \u001b[49m\u001b[43merrors\u001b[49m\u001b[38;5;241;43m=\u001b[39;49m\u001b[43merrors\u001b[49m\u001b[43m,\u001b[49m\n\u001b[1;32m    878\u001b[0m \u001b[43m            \u001b[49m\u001b[43mnewline\u001b[49m\u001b[38;5;241;43m=\u001b[39;49m\u001b[38;5;124;43m\"\u001b[39;49m\u001b[38;5;124;43m\"\u001b[39;49m\u001b[43m,\u001b[49m\n\u001b[1;32m    879\u001b[0m \u001b[43m        \u001b[49m\u001b[43m)\u001b[49m\n\u001b[1;32m    880\u001b[0m     \u001b[38;5;28;01melse\u001b[39;00m:\n\u001b[1;32m    881\u001b[0m         \u001b[38;5;66;03m# Binary mode\u001b[39;00m\n\u001b[1;32m    882\u001b[0m         handle \u001b[38;5;241m=\u001b[39m \u001b[38;5;28mopen\u001b[39m(handle, ioargs\u001b[38;5;241m.\u001b[39mmode)\n",
      "\u001b[0;31mFileNotFoundError\u001b[0m: [Errno 2] No such file or directory: '/Users/jojielyn/Desktop/School/04 Senior/Thesis/SARIMAX/Luzon/test_data_transformed.csv'"
     ]
    }
   ],
   "source": [
    "labels_csv = r'/Users/jojielyn/Desktop/School/04 Senior/Thesis/SARIMAX/Luzon/train_labels_transformed.csv'\n",
    "data_csv = r'/Users/jojielyn/Desktop/School/04 Senior/Thesis/SARIMAX/Luzon/train_data_transformed.csv'\n",
    "test_data_csv=r'/Users/jojielyn/Desktop/School/04 Senior/Thesis/SARIMAX/Luzon/test_data.csv'\n",
    "test_labels_csv=r'/Users/jojielyn/Desktop/School/04 Senior/Thesis/SARIMAX/Luzon/test_labels.csv'\n",
    "transformed_test_exog=r'/Users/jojielyn/Desktop/School/04 Senior/Thesis/SARIMAX/Luzon/test_data_transformed.csv'\n",
    "\n",
    "transformed_train_data = pd.read_csv(data_csv)\n",
    "transformed_train_labels = pd.read_csv(labels_csv)\n",
    "transformed_test_exog = pd.read_csv(transformed_test_exog)\n",
    "\n",
    "test_data = pd.read_csv(test_data_csv)\n",
    "test_labels = pd.read_csv(test_labels_csv)\n",
    "\n"
   ]
  },
  {
   "cell_type": "code",
   "execution_count": 23,
   "metadata": {},
   "outputs": [
    {
     "name": "stdout",
     "output_type": "stream",
     "text": [
      "          Date\n",
      "0   2022-01-01\n",
      "1   2022-01-02\n",
      "2   2022-01-03\n",
      "3   2022-01-04\n",
      "4   2022-01-05\n",
      "..         ...\n",
      "579 2023-08-03\n",
      "580 2023-08-04\n",
      "581 2023-08-05\n",
      "582 2023-08-06\n",
      "583 2023-08-07\n",
      "\n",
      "[584 rows x 1 columns]\n",
      "          Date\n",
      "0   2023-08-08\n",
      "1   2023-08-09\n",
      "2   2023-08-10\n",
      "3   2023-08-11\n",
      "4   2023-08-12\n",
      "..         ...\n",
      "141 2023-12-27\n",
      "142 2023-12-28\n",
      "143 2023-12-29\n",
      "144 2023-12-30\n",
      "145 2023-12-31\n",
      "\n",
      "[146 rows x 1 columns]\n"
     ]
    }
   ],
   "source": [
    "train_size = int(len(transformed_train_labels))  \n",
    "test_size = int(len(test_data))\n",
    "\n",
    "date_range = pd.date_range(start='2022-01-01', end='2023-12-31', freq='D')\n",
    "date_df = pd.DataFrame(date_range, columns=['Date'])\n",
    "\n",
    "train_date = date_df[:train_size]\n",
    "test_date = date_df[train_size:]\n",
    "\n",
    "#Resetting the Index\n",
    "train_date = train_date.reset_index(drop=True)\n",
    "test_date = test_date.reset_index(drop=True)\n",
    "\n",
    "print(train_date)\n",
    "print(test_date)\n"
   ]
  },
  {
   "cell_type": "code",
   "execution_count": 41,
   "metadata": {},
   "outputs": [],
   "source": [
    "#Preparing the dataframes\n",
    "transformed_train_labels.rename(columns={'0': 'GWAP', '1': 'LWAP'}, inplace=True)\n",
    "labels_columns = ['GWAP', 'LWAP']\n",
    "labels_train = pd.DataFrame(transformed_train_labels, columns = labels_columns)\n",
    "labels_test = pd.DataFrame(test_labels, columns = labels_columns)\n",
    "\n",
    "transformed_train_data.rename(columns={'0':'GWAP', '1':'LWAP', '2':'FLOW_LUZ','3':'RESERVE_GWAP_Fr','4':'RESERVE_GWAP_Ru','5':'RESERVE_GWAP_Rd','6':'RESERVE_GWAP_Dr','7':'Hourly Demand','8':'RAINFALL_Cubi Point','9':'TMAX_Cubi Point','10':'TMIN_Cubi Point','11':'RAINFALL_NAIA','12':'TMAX_NAIA','13':'TMIN_NAIA','14':'RAINFALL_Science Garden','15':'TMAX_Science Garden','16':'TMIN_Science Garden','17':'RAINFALL_San Jose','18':'TMAX_San Jose','19':'TMIN_San Jose','20':'RAINFALL_Tayabas','21':'TMAX_Tayabas','22':'TMIN_Tayabas','23':'RAINFALL_CLSU','24':'TMAX_CLSU','25':'TMIN_CLSU','26':'RAINFALL_Tanay','27':'TMAX_Tanay','28':'TMIN_Tanay','29':'RAINFALL_Ambulong','30':'TMAX_Ambulong','31':'TMIN_Ambulong','32':'RAINFALL_Casiguran','33':'TMAX_Casiguran','34':'TMIN_Casiguran','35':'RAINFALL_Clark','36':'TMAX_Clark','37':'TMIN_Clark','38':'RAINFALL_Calapan','39':'TMAX_Calapan','40':'TMIN_Calapan'}, inplace=True)\n",
    "LUZ_data_columns = ['GWAP', 'LWAP', 'FLOW_LUZ','RESERVE_GWAP_Fr','RESERVE_GWAP_Ru','RESERVE_GWAP_Rd','RESERVE_GWAP_Dr','Hourly Demand','RAINFALL_Cubi Point','TMAX_Cubi Point','TMIN_Cubi Point','RAINFALL_NAIA','TMAX_NAIA','TMIN_NAIA','RAINFALL_Science Garden','TMAX_Science Garden','TMIN_Science Garden','RAINFALL_San Jose','TMAX_San Jose','TMIN_San Jose','RAINFALL_Tayabas','TMAX_Tayabas','TMIN_Tayabas','RAINFALL_CLSU','TMAX_CLSU','TMIN_CLSU','RAINFALL_Tanay','TMAX_Tanay','TMIN_Tanay','RAINFALL_Ambulong','TMAX_Ambulong','TMIN_Ambulong','RAINFALL_Casiguran','TMAX_Casiguran','TMIN_Casiguran','RAINFALL_Clark','TMAX_Clark','TMIN_Clark','RAINFALL_Calapan','TMAX_Calapan','TMIN_Calapan']\n",
    "LUZ_data_train = pd.DataFrame(transformed_train_data, columns = LUZ_data_columns)\n",
    "LUZ_data_test = pd.DataFrame(test_data, columns = LUZ_data_columns)\n"
   ]
  },
  {
   "cell_type": "code",
   "execution_count": 42,
   "metadata": {},
   "outputs": [
    {
     "name": "stdout",
     "output_type": "stream",
     "text": [
      "            GWAP          LWAP\n",
      "0    7953.672194   8484.446021\n",
      "1    7116.523973   7590.762852\n",
      "2    9804.539158  10617.636920\n",
      "3    8101.978364   8544.909795\n",
      "4    6522.459813   6871.504444\n",
      "..           ...           ...\n",
      "141  3991.018676   4136.799477\n",
      "142  3688.349524   3812.075824\n",
      "143  3674.409234   3804.008781\n",
      "144  3304.265247   3403.759761\n",
      "145  3491.397388   3592.529767\n",
      "\n",
      "[146 rows x 2 columns]\n"
     ]
    }
   ],
   "source": [
    "print(labels_test)"
   ]
  },
  {
   "cell_type": "code",
   "execution_count": 43,
   "metadata": {},
   "outputs": [
    {
     "name": "stdout",
     "output_type": "stream",
     "text": [
      "            GWAP          LWAP  FLOW_LUZ  RESERVE_GWAP_Fr  RESERVE_GWAP_Ru  \\\n",
      "0    7953.672194   8484.446021   -634.11      1487.960668      3181.738826   \n",
      "1    7116.523973   7590.762852  -3076.80      1756.467906      2290.057382   \n",
      "2    9804.539158  10617.636920 -30344.56      2955.255204      5026.898520   \n",
      "3    8101.978364   8544.909795 -29323.08      2444.164721      3005.440897   \n",
      "4    6522.459813   6871.504444 -46005.71      1883.738436      1842.556046   \n",
      "..           ...           ...       ...              ...              ...   \n",
      "141  3991.018676   4136.799477 -24416.54      3698.677664      6068.115985   \n",
      "142  3688.349524   3812.075824 -18873.45      3268.687856      6649.677833   \n",
      "143  3674.409234   3804.008781   5849.07        75.866019      7602.698723   \n",
      "144  3304.265247   3403.759761  13005.47        52.908627        87.260609   \n",
      "145  3491.397388   3592.529767 -12328.64         6.778533       640.291309   \n",
      "\n",
      "     RESERVE_GWAP_Rd  RESERVE_GWAP_Dr  Hourly Demand  RAINFALL_Cubi Point  \\\n",
      "0           0.000082       114.820903       244011.0                  2.5   \n",
      "1           0.000102         0.000574       249361.0                  0.0   \n",
      "2           0.000086       360.002225       249625.0                  1.5   \n",
      "3           0.000109         0.000647       248280.0                 12.8   \n",
      "4           0.000011         0.000611       233444.0                  0.0   \n",
      "..               ...              ...            ...                  ...   \n",
      "141      1208.347276       167.767873       200355.0                  0.0   \n",
      "142      3186.783962         1.659022       204468.0                  0.0   \n",
      "143      2349.359595        71.272021       201231.0                  0.0   \n",
      "144         0.000064        49.692740       187399.0                 -1.0   \n",
      "145         1.317087         7.402608       182278.0                  0.0   \n",
      "\n",
      "     TMAX_Cubi Point  ...  TMIN_Ambulong  RAINFALL_Casiguran  TMAX_Casiguran  \\\n",
      "0               30.5  ...           25.6                 5.2            35.0   \n",
      "1               32.4  ...           25.1                 0.0            35.0   \n",
      "2               32.9  ...           26.0                 0.0            35.0   \n",
      "3               31.6  ...           24.6                23.5            35.0   \n",
      "4               31.5  ...           24.5                 0.0            30.4   \n",
      "..               ...  ...            ...                 ...             ...   \n",
      "141             33.3  ...           24.4                45.0            29.5   \n",
      "142             32.7  ...           23.2                 1.0            30.0   \n",
      "143             33.3  ...           24.6                31.5            30.5   \n",
      "144             34.1  ...           23.9                 7.0            30.4   \n",
      "145             34.1  ...           24.8                 0.5            31.2   \n",
      "\n",
      "     TMIN_Casiguran  RAINFALL_Clark  TMAX_Clark  TMIN_Clark  RAINFALL_Calapan  \\\n",
      "0              23.0             0.0        33.6        27.0               0.0   \n",
      "1              24.5             0.0        34.6        25.9               0.0   \n",
      "2              25.0             0.6        32.4        25.9               0.0   \n",
      "3              23.2             0.0        34.0        26.1               0.0   \n",
      "4              24.4             0.9        33.2        25.7               0.0   \n",
      "..              ...             ...         ...         ...               ...   \n",
      "141            22.0             0.0        31.6        24.5               0.0   \n",
      "142            22.0             0.0        33.0        23.5               0.0   \n",
      "143            23.0             0.0        32.5        24.2               0.8   \n",
      "144            23.2             0.0        32.3        24.8               4.6   \n",
      "145            23.0            -1.0        32.7        24.2               0.0   \n",
      "\n",
      "     TMAX_Calapan  TMIN_Calapan  \n",
      "0            33.4          26.5  \n",
      "1            33.5          26.0  \n",
      "2            33.6          26.5  \n",
      "3            33.8          26.8  \n",
      "4            34.3          25.2  \n",
      "..            ...           ...  \n",
      "141          30.0          24.8  \n",
      "142          30.3          25.0  \n",
      "143          29.6          25.3  \n",
      "144          31.0          24.2  \n",
      "145          30.0          25.5  \n",
      "\n",
      "[146 rows x 41 columns]\n"
     ]
    }
   ],
   "source": [
    "print(LUZ_data_test)"
   ]
  },
  {
   "cell_type": "code",
   "execution_count": 33,
   "metadata": {},
   "outputs": [
    {
     "name": "stdout",
     "output_type": "stream",
     "text": [
      "         GWAP      LWAP\n",
      "0    0.278764  0.258105\n",
      "1    0.337307  0.314556\n",
      "2    0.443016  0.418724\n",
      "3    0.525069  0.501099\n",
      "4    0.808333  0.787813\n",
      "..        ...       ...\n",
      "579  0.331255  0.317026\n",
      "580  0.447944  0.432209\n",
      "581  0.427384  0.410919\n",
      "582  0.431395  0.415499\n",
      "583  0.445290  0.426566\n",
      "\n",
      "[584 rows x 2 columns]\n"
     ]
    }
   ],
   "source": [
    "print(labels_train)"
   ]
  },
  {
   "cell_type": "code",
   "execution_count": 53,
   "metadata": {},
   "outputs": [],
   "source": [
    "#Preparing GWAP datasets\n",
    "LUZ_GWAP_train = labels_train['GWAP']\n",
    "LUZ_GWAP_train = pd.concat([train_date,LUZ_GWAP_train], axis=1)\n",
    "LUZ_GWAP_train.set_index('Date', inplace=True)\n",
    "LUZ_GWAP_train.index = pd.to_datetime(LUZ_GWAP_train.index)\n",
    "LUZ_GWAP_train.index.freq='D'\n",
    "LUZ_GWAP_train = LUZ_GWAP_train.squeeze()\n",
    "\n",
    "\n",
    "LUZ_GWAP_test = labels_test['GWAP']\n",
    "LUZ_GWAP_test = pd.concat([test_date,LUZ_GWAP_test], axis=1)\n",
    "LUZ_GWAP_test.set_index('Date', inplace=True)\n",
    "LUZ_GWAP_test.index = pd.to_datetime(LUZ_GWAP_test.index)\n",
    "LUZ_GWAP_test.index.freq='D'\n",
    "LUZ_GWAP_test = LUZ_GWAP_test.squeeze()\n",
    "\n",
    "LUZ_GWAP = pd.concat([LUZ_GWAP_train, LUZ_GWAP_test], ignore_index=False)\n",
    "\n",
    "\n",
    "#Preparing the LWAP datasets\n",
    "LUZ_LWAP_train = labels_train['LWAP']\n",
    "LUZ_LWAP_train = pd.concat([train_date,LUZ_LWAP_train], axis=1)\n",
    "LUZ_LWAP_train.set_index('Date', inplace=True)\n",
    "LUZ_LWAP_train.index = pd.to_datetime(LUZ_LWAP_train.index)\n",
    "LUZ_LWAP_train.index.freq='D'\n",
    "LUZ_LWAP_train = LUZ_LWAP_train.squeeze()\n",
    "\n",
    "\n",
    "LUZ_LWAP_test = labels_test['LWAP']\n",
    "LUZ_LWAP_test = pd.concat([test_date,LUZ_LWAP_test], axis=1)\n",
    "LUZ_LWAP_test.set_index('Date', inplace=True)\n",
    "LUZ_LWAP_test.index = pd.to_datetime(LUZ_LWAP_test.index)\n",
    "LUZ_LWAP_test.index.freq='D'\n",
    "LUZ_LWAP_test = LUZ_LWAP_test.squeeze()\n",
    "\n",
    "#Preparing the exogenous datasets\n",
    "LUZ_exog_train = LUZ_data_train[['FLOW_LUZ','RESERVE_GWAP_Fr','RESERVE_GWAP_Ru','RESERVE_GWAP_Rd','RESERVE_GWAP_Dr','Hourly Demand','RAINFALL_Cubi Point','TMAX_Cubi Point','TMIN_Cubi Point','RAINFALL_NAIA','TMAX_NAIA','TMIN_NAIA','RAINFALL_Science Garden','TMAX_Science Garden','TMIN_Science Garden','RAINFALL_San Jose','TMAX_San Jose','TMIN_San Jose','RAINFALL_Tayabas','TMAX_Tayabas','TMIN_Tayabas','RAINFALL_CLSU','TMAX_CLSU','TMIN_CLSU','RAINFALL_Tanay','TMAX_Tanay','TMIN_Tanay','RAINFALL_Ambulong','TMAX_Ambulong','TMIN_Ambulong','RAINFALL_Casiguran','TMAX_Casiguran','TMIN_Casiguran','RAINFALL_Clark','TMAX_Clark','TMIN_Clark','RAINFALL_Calapan','TMAX_Calapan','TMIN_Calapan']]\n",
    "LUZ_exog_train = pd.concat([train_date,LUZ_exog_train], axis=1)\n",
    "LUZ_exog_train.set_index('Date', inplace=True)\n",
    "\n",
    "LUZ_exog_test = LUZ_data_test[['FLOW_LUZ','RESERVE_GWAP_Fr','RESERVE_GWAP_Ru','RESERVE_GWAP_Rd','RESERVE_GWAP_Dr','Hourly Demand','RAINFALL_Cubi Point','TMAX_Cubi Point','TMIN_Cubi Point','RAINFALL_NAIA','TMAX_NAIA','TMIN_NAIA','RAINFALL_Science Garden','TMAX_Science Garden','TMIN_Science Garden','RAINFALL_San Jose','TMAX_San Jose','TMIN_San Jose','RAINFALL_Tayabas','TMAX_Tayabas','TMIN_Tayabas','RAINFALL_CLSU','TMAX_CLSU','TMIN_CLSU','RAINFALL_Tanay','TMAX_Tanay','TMIN_Tanay','RAINFALL_Ambulong','TMAX_Ambulong','TMIN_Ambulong','RAINFALL_Casiguran','TMAX_Casiguran','TMIN_Casiguran','RAINFALL_Clark','TMAX_Clark','TMIN_Clark','RAINFALL_Calapan','TMAX_Calapan','TMIN_Calapan']]\n",
    "LUZ_exog_test = pd.concat([test_date,LUZ_exog_test], axis=1)\n",
    "LUZ_exog_test.set_index('Date', inplace=True)\n"
   ]
  },
  {
   "cell_type": "code",
   "execution_count": 54,
   "metadata": {},
   "outputs": [
    {
     "data": {
      "application/vnd.plotly.v1+json": {
       "config": {
        "plotlyServerURL": "https://plot.ly"
       },
       "data": [
        {
         "hovertemplate": "Date=%{x}<br>GWAP=%{y}<extra></extra>",
         "legendgroup": "",
         "line": {
          "color": "#636efa",
          "dash": "solid"
         },
         "marker": {
          "symbol": "circle"
         },
         "mode": "lines",
         "name": "",
         "orientation": "v",
         "showlegend": false,
         "type": "scatter",
         "x": [
          "2022-01-01T00:00:00",
          "2022-01-02T00:00:00",
          "2022-01-03T00:00:00",
          "2022-01-04T00:00:00",
          "2022-01-05T00:00:00",
          "2022-01-06T00:00:00",
          "2022-01-07T00:00:00",
          "2022-01-08T00:00:00",
          "2022-01-09T00:00:00",
          "2022-01-10T00:00:00",
          "2022-01-11T00:00:00",
          "2022-01-12T00:00:00",
          "2022-01-13T00:00:00",
          "2022-01-14T00:00:00",
          "2022-01-15T00:00:00",
          "2022-01-16T00:00:00",
          "2022-01-17T00:00:00",
          "2022-01-18T00:00:00",
          "2022-01-19T00:00:00",
          "2022-01-20T00:00:00",
          "2022-01-21T00:00:00",
          "2022-01-22T00:00:00",
          "2022-01-23T00:00:00",
          "2022-01-24T00:00:00",
          "2022-01-25T00:00:00",
          "2022-01-26T00:00:00",
          "2022-01-27T00:00:00",
          "2022-01-28T00:00:00",
          "2022-01-29T00:00:00",
          "2022-01-30T00:00:00",
          "2022-01-31T00:00:00",
          "2022-02-01T00:00:00",
          "2022-02-02T00:00:00",
          "2022-02-03T00:00:00",
          "2022-02-04T00:00:00",
          "2022-02-05T00:00:00",
          "2022-02-06T00:00:00",
          "2022-02-07T00:00:00",
          "2022-02-08T00:00:00",
          "2022-02-09T00:00:00",
          "2022-02-10T00:00:00",
          "2022-02-11T00:00:00",
          "2022-02-12T00:00:00",
          "2022-02-13T00:00:00",
          "2022-02-14T00:00:00",
          "2022-02-15T00:00:00",
          "2022-02-16T00:00:00",
          "2022-02-17T00:00:00",
          "2022-02-18T00:00:00",
          "2022-02-19T00:00:00",
          "2022-02-20T00:00:00",
          "2022-02-21T00:00:00",
          "2022-02-22T00:00:00",
          "2022-02-23T00:00:00",
          "2022-02-24T00:00:00",
          "2022-02-25T00:00:00",
          "2022-02-26T00:00:00",
          "2022-02-27T00:00:00",
          "2022-02-28T00:00:00",
          "2022-03-01T00:00:00",
          "2022-03-02T00:00:00",
          "2022-03-03T00:00:00",
          "2022-03-04T00:00:00",
          "2022-03-05T00:00:00",
          "2022-03-06T00:00:00",
          "2022-03-07T00:00:00",
          "2022-03-08T00:00:00",
          "2022-03-09T00:00:00",
          "2022-03-10T00:00:00",
          "2022-03-11T00:00:00",
          "2022-03-12T00:00:00",
          "2022-03-13T00:00:00",
          "2022-03-14T00:00:00",
          "2022-03-15T00:00:00",
          "2022-03-16T00:00:00",
          "2022-03-17T00:00:00",
          "2022-03-18T00:00:00",
          "2022-03-19T00:00:00",
          "2022-03-20T00:00:00",
          "2022-03-21T00:00:00",
          "2022-03-22T00:00:00",
          "2022-03-23T00:00:00",
          "2022-03-24T00:00:00",
          "2022-03-25T00:00:00",
          "2022-03-26T00:00:00",
          "2022-03-27T00:00:00",
          "2022-03-28T00:00:00",
          "2022-03-29T00:00:00",
          "2022-03-30T00:00:00",
          "2022-03-31T00:00:00",
          "2022-04-01T00:00:00",
          "2022-04-02T00:00:00",
          "2022-04-03T00:00:00",
          "2022-04-04T00:00:00",
          "2022-04-05T00:00:00",
          "2022-04-06T00:00:00",
          "2022-04-07T00:00:00",
          "2022-04-08T00:00:00",
          "2022-04-09T00:00:00",
          "2022-04-10T00:00:00",
          "2022-04-11T00:00:00",
          "2022-04-12T00:00:00",
          "2022-04-13T00:00:00",
          "2022-04-14T00:00:00",
          "2022-04-15T00:00:00",
          "2022-04-16T00:00:00",
          "2022-04-17T00:00:00",
          "2022-04-18T00:00:00",
          "2022-04-19T00:00:00",
          "2022-04-20T00:00:00",
          "2022-04-21T00:00:00",
          "2022-04-22T00:00:00",
          "2022-04-23T00:00:00",
          "2022-04-24T00:00:00",
          "2022-04-25T00:00:00",
          "2022-04-26T00:00:00",
          "2022-04-27T00:00:00",
          "2022-04-28T00:00:00",
          "2022-04-29T00:00:00",
          "2022-04-30T00:00:00",
          "2022-05-01T00:00:00",
          "2022-05-02T00:00:00",
          "2022-05-03T00:00:00",
          "2022-05-04T00:00:00",
          "2022-05-05T00:00:00",
          "2022-05-06T00:00:00",
          "2022-05-07T00:00:00",
          "2022-05-08T00:00:00",
          "2022-05-09T00:00:00",
          "2022-05-10T00:00:00",
          "2022-05-11T00:00:00",
          "2022-05-12T00:00:00",
          "2022-05-13T00:00:00",
          "2022-05-14T00:00:00",
          "2022-05-15T00:00:00",
          "2022-05-16T00:00:00",
          "2022-05-17T00:00:00",
          "2022-05-18T00:00:00",
          "2022-05-19T00:00:00",
          "2022-05-20T00:00:00",
          "2022-05-21T00:00:00",
          "2022-05-22T00:00:00",
          "2022-05-23T00:00:00",
          "2022-05-24T00:00:00",
          "2022-05-25T00:00:00",
          "2022-05-26T00:00:00",
          "2022-05-27T00:00:00",
          "2022-05-28T00:00:00",
          "2022-05-29T00:00:00",
          "2022-05-30T00:00:00",
          "2022-05-31T00:00:00",
          "2022-06-01T00:00:00",
          "2022-06-02T00:00:00",
          "2022-06-03T00:00:00",
          "2022-06-04T00:00:00",
          "2022-06-05T00:00:00",
          "2022-06-06T00:00:00",
          "2022-06-07T00:00:00",
          "2022-06-08T00:00:00",
          "2022-06-09T00:00:00",
          "2022-06-10T00:00:00",
          "2022-06-11T00:00:00",
          "2022-06-12T00:00:00",
          "2022-06-13T00:00:00",
          "2022-06-14T00:00:00",
          "2022-06-15T00:00:00",
          "2022-06-16T00:00:00",
          "2022-06-17T00:00:00",
          "2022-06-18T00:00:00",
          "2022-06-19T00:00:00",
          "2022-06-20T00:00:00",
          "2022-06-21T00:00:00",
          "2022-06-22T00:00:00",
          "2022-06-23T00:00:00",
          "2022-06-24T00:00:00",
          "2022-06-25T00:00:00",
          "2022-06-26T00:00:00",
          "2022-06-27T00:00:00",
          "2022-06-28T00:00:00",
          "2022-06-29T00:00:00",
          "2022-06-30T00:00:00",
          "2022-07-01T00:00:00",
          "2022-07-02T00:00:00",
          "2022-07-03T00:00:00",
          "2022-07-04T00:00:00",
          "2022-07-05T00:00:00",
          "2022-07-06T00:00:00",
          "2022-07-07T00:00:00",
          "2022-07-08T00:00:00",
          "2022-07-09T00:00:00",
          "2022-07-10T00:00:00",
          "2022-07-11T00:00:00",
          "2022-07-12T00:00:00",
          "2022-07-13T00:00:00",
          "2022-07-14T00:00:00",
          "2022-07-15T00:00:00",
          "2022-07-16T00:00:00",
          "2022-07-17T00:00:00",
          "2022-07-18T00:00:00",
          "2022-07-19T00:00:00",
          "2022-07-20T00:00:00",
          "2022-07-21T00:00:00",
          "2022-07-22T00:00:00",
          "2022-07-23T00:00:00",
          "2022-07-24T00:00:00",
          "2022-07-25T00:00:00",
          "2022-07-26T00:00:00",
          "2022-07-27T00:00:00",
          "2022-07-28T00:00:00",
          "2022-07-29T00:00:00",
          "2022-07-30T00:00:00",
          "2022-07-31T00:00:00",
          "2022-08-01T00:00:00",
          "2022-08-02T00:00:00",
          "2022-08-03T00:00:00",
          "2022-08-04T00:00:00",
          "2022-08-05T00:00:00",
          "2022-08-06T00:00:00",
          "2022-08-07T00:00:00",
          "2022-08-08T00:00:00",
          "2022-08-09T00:00:00",
          "2022-08-10T00:00:00",
          "2022-08-11T00:00:00",
          "2022-08-12T00:00:00",
          "2022-08-13T00:00:00",
          "2022-08-14T00:00:00",
          "2022-08-15T00:00:00",
          "2022-08-16T00:00:00",
          "2022-08-17T00:00:00",
          "2022-08-18T00:00:00",
          "2022-08-19T00:00:00",
          "2022-08-20T00:00:00",
          "2022-08-21T00:00:00",
          "2022-08-22T00:00:00",
          "2022-08-23T00:00:00",
          "2022-08-24T00:00:00",
          "2022-08-25T00:00:00",
          "2022-08-26T00:00:00",
          "2022-08-27T00:00:00",
          "2022-08-28T00:00:00",
          "2022-08-29T00:00:00",
          "2022-08-30T00:00:00",
          "2022-08-31T00:00:00",
          "2022-09-01T00:00:00",
          "2022-09-02T00:00:00",
          "2022-09-03T00:00:00",
          "2022-09-04T00:00:00",
          "2022-09-05T00:00:00",
          "2022-09-06T00:00:00",
          "2022-09-07T00:00:00",
          "2022-09-08T00:00:00",
          "2022-09-09T00:00:00",
          "2022-09-10T00:00:00",
          "2022-09-11T00:00:00",
          "2022-09-12T00:00:00",
          "2022-09-13T00:00:00",
          "2022-09-14T00:00:00",
          "2022-09-15T00:00:00",
          "2022-09-16T00:00:00",
          "2022-09-17T00:00:00",
          "2022-09-18T00:00:00",
          "2022-09-19T00:00:00",
          "2022-09-20T00:00:00",
          "2022-09-21T00:00:00",
          "2022-09-22T00:00:00",
          "2022-09-23T00:00:00",
          "2022-09-24T00:00:00",
          "2022-09-25T00:00:00",
          "2022-09-26T00:00:00",
          "2022-09-27T00:00:00",
          "2022-09-28T00:00:00",
          "2022-09-29T00:00:00",
          "2022-09-30T00:00:00",
          "2022-10-01T00:00:00",
          "2022-10-02T00:00:00",
          "2022-10-03T00:00:00",
          "2022-10-04T00:00:00",
          "2022-10-05T00:00:00",
          "2022-10-06T00:00:00",
          "2022-10-07T00:00:00",
          "2022-10-08T00:00:00",
          "2022-10-09T00:00:00",
          "2022-10-10T00:00:00",
          "2022-10-11T00:00:00",
          "2022-10-12T00:00:00",
          "2022-10-13T00:00:00",
          "2022-10-14T00:00:00",
          "2022-10-15T00:00:00",
          "2022-10-16T00:00:00",
          "2022-10-17T00:00:00",
          "2022-10-18T00:00:00",
          "2022-10-19T00:00:00",
          "2022-10-20T00:00:00",
          "2022-10-21T00:00:00",
          "2022-10-22T00:00:00",
          "2022-10-23T00:00:00",
          "2022-10-24T00:00:00",
          "2022-10-25T00:00:00",
          "2022-10-26T00:00:00",
          "2022-10-27T00:00:00",
          "2022-10-28T00:00:00",
          "2022-10-29T00:00:00",
          "2022-10-30T00:00:00",
          "2022-10-31T00:00:00",
          "2022-11-01T00:00:00",
          "2022-11-02T00:00:00",
          "2022-11-03T00:00:00",
          "2022-11-04T00:00:00",
          "2022-11-05T00:00:00",
          "2022-11-06T00:00:00",
          "2022-11-07T00:00:00",
          "2022-11-08T00:00:00",
          "2022-11-09T00:00:00",
          "2022-11-10T00:00:00",
          "2022-11-11T00:00:00",
          "2022-11-12T00:00:00",
          "2022-11-13T00:00:00",
          "2022-11-14T00:00:00",
          "2022-11-15T00:00:00",
          "2022-11-16T00:00:00",
          "2022-11-17T00:00:00",
          "2022-11-18T00:00:00",
          "2022-11-19T00:00:00",
          "2022-11-20T00:00:00",
          "2022-11-21T00:00:00",
          "2022-11-22T00:00:00",
          "2022-11-23T00:00:00",
          "2022-11-24T00:00:00",
          "2022-11-25T00:00:00",
          "2022-11-26T00:00:00",
          "2022-11-27T00:00:00",
          "2022-11-28T00:00:00",
          "2022-11-29T00:00:00",
          "2022-11-30T00:00:00",
          "2022-12-01T00:00:00",
          "2022-12-02T00:00:00",
          "2022-12-03T00:00:00",
          "2022-12-04T00:00:00",
          "2022-12-05T00:00:00",
          "2022-12-06T00:00:00",
          "2022-12-07T00:00:00",
          "2022-12-08T00:00:00",
          "2022-12-09T00:00:00",
          "2022-12-10T00:00:00",
          "2022-12-11T00:00:00",
          "2022-12-12T00:00:00",
          "2022-12-13T00:00:00",
          "2022-12-14T00:00:00",
          "2022-12-15T00:00:00",
          "2022-12-16T00:00:00",
          "2022-12-17T00:00:00",
          "2022-12-18T00:00:00",
          "2022-12-19T00:00:00",
          "2022-12-20T00:00:00",
          "2022-12-21T00:00:00",
          "2022-12-22T00:00:00",
          "2022-12-23T00:00:00",
          "2022-12-24T00:00:00",
          "2022-12-25T00:00:00",
          "2022-12-26T00:00:00",
          "2022-12-27T00:00:00",
          "2022-12-28T00:00:00",
          "2022-12-29T00:00:00",
          "2022-12-30T00:00:00",
          "2022-12-31T00:00:00",
          "2023-01-01T00:00:00",
          "2023-01-02T00:00:00",
          "2023-01-03T00:00:00",
          "2023-01-04T00:00:00",
          "2023-01-05T00:00:00",
          "2023-01-06T00:00:00",
          "2023-01-07T00:00:00",
          "2023-01-08T00:00:00",
          "2023-01-09T00:00:00",
          "2023-01-10T00:00:00",
          "2023-01-11T00:00:00",
          "2023-01-12T00:00:00",
          "2023-01-13T00:00:00",
          "2023-01-14T00:00:00",
          "2023-01-15T00:00:00",
          "2023-01-16T00:00:00",
          "2023-01-17T00:00:00",
          "2023-01-18T00:00:00",
          "2023-01-19T00:00:00",
          "2023-01-20T00:00:00",
          "2023-01-21T00:00:00",
          "2023-01-22T00:00:00",
          "2023-01-23T00:00:00",
          "2023-01-24T00:00:00",
          "2023-01-25T00:00:00",
          "2023-01-26T00:00:00",
          "2023-01-27T00:00:00",
          "2023-01-28T00:00:00",
          "2023-01-29T00:00:00",
          "2023-01-30T00:00:00",
          "2023-01-31T00:00:00",
          "2023-02-01T00:00:00",
          "2023-02-02T00:00:00",
          "2023-02-03T00:00:00",
          "2023-02-04T00:00:00",
          "2023-02-05T00:00:00",
          "2023-02-06T00:00:00",
          "2023-02-07T00:00:00",
          "2023-02-08T00:00:00",
          "2023-02-09T00:00:00",
          "2023-02-10T00:00:00",
          "2023-02-11T00:00:00",
          "2023-02-12T00:00:00",
          "2023-02-13T00:00:00",
          "2023-02-14T00:00:00",
          "2023-02-15T00:00:00",
          "2023-02-16T00:00:00",
          "2023-02-17T00:00:00",
          "2023-02-18T00:00:00",
          "2023-02-19T00:00:00",
          "2023-02-20T00:00:00",
          "2023-02-21T00:00:00",
          "2023-02-22T00:00:00",
          "2023-02-23T00:00:00",
          "2023-02-24T00:00:00",
          "2023-02-25T00:00:00",
          "2023-02-26T00:00:00",
          "2023-02-27T00:00:00",
          "2023-02-28T00:00:00",
          "2023-03-01T00:00:00",
          "2023-03-02T00:00:00",
          "2023-03-03T00:00:00",
          "2023-03-04T00:00:00",
          "2023-03-05T00:00:00",
          "2023-03-06T00:00:00",
          "2023-03-07T00:00:00",
          "2023-03-08T00:00:00",
          "2023-03-09T00:00:00",
          "2023-03-10T00:00:00",
          "2023-03-11T00:00:00",
          "2023-03-12T00:00:00",
          "2023-03-13T00:00:00",
          "2023-03-14T00:00:00",
          "2023-03-15T00:00:00",
          "2023-03-16T00:00:00",
          "2023-03-17T00:00:00",
          "2023-03-18T00:00:00",
          "2023-03-19T00:00:00",
          "2023-03-20T00:00:00",
          "2023-03-21T00:00:00",
          "2023-03-22T00:00:00",
          "2023-03-23T00:00:00",
          "2023-03-24T00:00:00",
          "2023-03-25T00:00:00",
          "2023-03-26T00:00:00",
          "2023-03-27T00:00:00",
          "2023-03-28T00:00:00",
          "2023-03-29T00:00:00",
          "2023-03-30T00:00:00",
          "2023-03-31T00:00:00",
          "2023-04-01T00:00:00",
          "2023-04-02T00:00:00",
          "2023-04-03T00:00:00",
          "2023-04-04T00:00:00",
          "2023-04-05T00:00:00",
          "2023-04-06T00:00:00",
          "2023-04-07T00:00:00",
          "2023-04-08T00:00:00",
          "2023-04-09T00:00:00",
          "2023-04-10T00:00:00",
          "2023-04-11T00:00:00",
          "2023-04-12T00:00:00",
          "2023-04-13T00:00:00",
          "2023-04-14T00:00:00",
          "2023-04-15T00:00:00",
          "2023-04-16T00:00:00",
          "2023-04-17T00:00:00",
          "2023-04-18T00:00:00",
          "2023-04-19T00:00:00",
          "2023-04-20T00:00:00",
          "2023-04-21T00:00:00",
          "2023-04-22T00:00:00",
          "2023-04-23T00:00:00",
          "2023-04-24T00:00:00",
          "2023-04-25T00:00:00",
          "2023-04-26T00:00:00",
          "2023-04-27T00:00:00",
          "2023-04-28T00:00:00",
          "2023-04-29T00:00:00",
          "2023-04-30T00:00:00",
          "2023-05-01T00:00:00",
          "2023-05-02T00:00:00",
          "2023-05-03T00:00:00",
          "2023-05-04T00:00:00",
          "2023-05-05T00:00:00",
          "2023-05-06T00:00:00",
          "2023-05-07T00:00:00",
          "2023-05-08T00:00:00",
          "2023-05-09T00:00:00",
          "2023-05-10T00:00:00",
          "2023-05-11T00:00:00",
          "2023-05-12T00:00:00",
          "2023-05-13T00:00:00",
          "2023-05-14T00:00:00",
          "2023-05-15T00:00:00",
          "2023-05-16T00:00:00",
          "2023-05-17T00:00:00",
          "2023-05-18T00:00:00",
          "2023-05-19T00:00:00",
          "2023-05-20T00:00:00",
          "2023-05-21T00:00:00",
          "2023-05-22T00:00:00",
          "2023-05-23T00:00:00",
          "2023-05-24T00:00:00",
          "2023-05-25T00:00:00",
          "2023-05-26T00:00:00",
          "2023-05-27T00:00:00",
          "2023-05-28T00:00:00",
          "2023-05-29T00:00:00",
          "2023-05-30T00:00:00",
          "2023-05-31T00:00:00",
          "2023-06-01T00:00:00",
          "2023-06-02T00:00:00",
          "2023-06-03T00:00:00",
          "2023-06-04T00:00:00",
          "2023-06-05T00:00:00",
          "2023-06-06T00:00:00",
          "2023-06-07T00:00:00",
          "2023-06-08T00:00:00",
          "2023-06-09T00:00:00",
          "2023-06-10T00:00:00",
          "2023-06-11T00:00:00",
          "2023-06-12T00:00:00",
          "2023-06-13T00:00:00",
          "2023-06-14T00:00:00",
          "2023-06-15T00:00:00",
          "2023-06-16T00:00:00",
          "2023-06-17T00:00:00",
          "2023-06-18T00:00:00",
          "2023-06-19T00:00:00",
          "2023-06-20T00:00:00",
          "2023-06-21T00:00:00",
          "2023-06-22T00:00:00",
          "2023-06-23T00:00:00",
          "2023-06-24T00:00:00",
          "2023-06-25T00:00:00",
          "2023-06-26T00:00:00",
          "2023-06-27T00:00:00",
          "2023-06-28T00:00:00",
          "2023-06-29T00:00:00",
          "2023-06-30T00:00:00",
          "2023-07-01T00:00:00",
          "2023-07-02T00:00:00",
          "2023-07-03T00:00:00",
          "2023-07-04T00:00:00",
          "2023-07-05T00:00:00",
          "2023-07-06T00:00:00",
          "2023-07-07T00:00:00",
          "2023-07-08T00:00:00",
          "2023-07-09T00:00:00",
          "2023-07-10T00:00:00",
          "2023-07-11T00:00:00",
          "2023-07-12T00:00:00",
          "2023-07-13T00:00:00",
          "2023-07-14T00:00:00",
          "2023-07-15T00:00:00",
          "2023-07-16T00:00:00",
          "2023-07-17T00:00:00",
          "2023-07-18T00:00:00",
          "2023-07-19T00:00:00",
          "2023-07-20T00:00:00",
          "2023-07-21T00:00:00",
          "2023-07-22T00:00:00",
          "2023-07-23T00:00:00",
          "2023-07-24T00:00:00",
          "2023-07-25T00:00:00",
          "2023-07-26T00:00:00",
          "2023-07-27T00:00:00",
          "2023-07-28T00:00:00",
          "2023-07-29T00:00:00",
          "2023-07-30T00:00:00",
          "2023-07-31T00:00:00",
          "2023-08-01T00:00:00",
          "2023-08-02T00:00:00",
          "2023-08-03T00:00:00",
          "2023-08-04T00:00:00",
          "2023-08-05T00:00:00",
          "2023-08-06T00:00:00",
          "2023-08-07T00:00:00"
         ],
         "xaxis": "x",
         "y": [
          0.2787637633767055,
          0.3373072806946489,
          0.4430160789420583,
          0.5250694479295568,
          0.8083330307705232,
          0.7711908683820745,
          0.7148577012752568,
          0.8066949174187705,
          0.7938793522698262,
          0.9797937281703994,
          0.8227861856590977,
          0.6466768594927004,
          0.6955236082604159,
          0.6624295568526293,
          0.5685005373659315,
          0.5510047571205696,
          0.6309613346887772,
          0.5309222685735904,
          0.5420486104712374,
          0.6577734747096926,
          0.8480619089879937,
          0.756715287989195,
          0.8160821195708508,
          0.8608336081787229,
          0.8490002796791671,
          0.6080397475972958,
          0.9287024447222264,
          0.9236865438927424,
          0.6722462026335627,
          0.5415777569877278,
          0.3822157908232206,
          0.3081362438453041,
          0.4574013478669982,
          0.374832588947438,
          0.3087977132422921,
          0.3458591475612884,
          0.2975101316521211,
          0.4930033213518037,
          0.4980300407092457,
          0.6623930289127742,
          0.4937741703885834,
          0.5906204740718728,
          0.3932509923052549,
          0.3764672586159996,
          0.4995673858633118,
          0.3751455094242395,
          0.4141166142213599,
          0.5608119771214604,
          0.693023498845978,
          0.5409618150471651,
          0.5499837884128276,
          0.4739910287875801,
          0.4733778521231961,
          0.508271837860395,
          0.5884260687117688,
          0.4915111789086666,
          0.6083707624031369,
          0.5168281195866946,
          0.3909493049746189,
          0.4125647472762637,
          0.5110380641947323,
          0.5137277053481917,
          0.5722102797977371,
          0.4138509875955414,
          0.3585174270246156,
          0.4186235092537309,
          0.401436977035754,
          0.3653941760815975,
          0.4904432098421125,
          0.5950937734915449,
          0.5121510174334567,
          0.4643604830391403,
          0.7055929606134654,
          0.6287453203157867,
          0.8279636359212503,
          0.7363852096468797,
          0.7339876917374291,
          0.4789259245709232,
          0.4726146422424477,
          0.5831605615893167,
          0.6762368579193492,
          0.6274680743299257,
          0.5847700763287484,
          0.689559493379253,
          0.830478731623419,
          0.6136170755955099,
          0.5187302164581773,
          0.5321533958323492,
          0.5189462856219329,
          0.5492052375415,
          0.4675738401295959,
          0.2515040580670842,
          0.3498885102934252,
          0.3329551261890842,
          0.336656450497621,
          0.3888193272634019,
          0.3666565028034512,
          0.3935175097447043,
          0.3645794626214993,
          0.4130981782030432,
          0.4060743181177138,
          0.4310031796174769,
          0.4891295891017186,
          0.544091032520214,
          0.4345506563702628,
          0.4933610195999698,
          0.500418554740822,
          0.6932348088177314,
          0.6273639830425779,
          0.785647563195063,
          0.8259124025542519,
          0.7101337755772796,
          0.541019209324773,
          0.5278142662847962,
          0.5450973066000024,
          0.5777877409964844,
          0.591856999122502,
          0.6582974884560038,
          0.7304735104717786,
          0.4900549826629934,
          0.4076522640032571,
          0.3783630988223976,
          0.4112026815892307,
          0.4552205869262629,
          0.5143923074444565,
          0.4563435350575062,
          0.4428446384309552,
          0.4744918507590476,
          0.3178844365973248,
          0.5698334889405565,
          0.5616080838797934,
          0.5328815602793995,
          0.5509907140980488,
          0.4985036070940616,
          0.4685898779862469,
          0.4660274904659829,
          0.4574076328183629,
          0.4424634752608156,
          0.3987899301037174,
          0.3753322846062517,
          0.4302609184780905,
          0.3972940543434156,
          0.4719280190670289,
          0.5020470827879322,
          0.5391632573907259,
          0.5122626714801477,
          0.5235029607872939,
          0.4647763426941047,
          0.634741593327341,
          0.5930833313224753,
          0.5692375353397985,
          0.5102975130907552,
          0.593843733050992,
          0.7679713458223816,
          0.8003818308928565,
          0.7746760459959496,
          0.6627087401105918,
          0.5419183719601719,
          0.6004547581392323,
          0.7069711457269072,
          0.8459823394840811,
          0.8665064898254222,
          0.6267347267785652,
          0.6829667884870538,
          0.6301298213312059,
          0.5846911090855471,
          0.7680452314677026,
          0.8537221429794357,
          0.8496235334746984,
          0.8327445838520866,
          0.850616245699733,
          0.9383885285811644,
          0.9660678898902084,
          0.8284406749906097,
          0.8153610390845394,
          0.5919403789949058,
          0.5205597304715006,
          0.520570087983188,
          0.521332235482852,
          0.6315688026581618,
          0.6612236396732847,
          0.6333574280583179,
          0.6364766756480513,
          0.7484222995694729,
          0.8291199408139356,
          0.8550576442150302,
          0.7906271793348836,
          0.6593374836687644,
          0.8146005310339817,
          0.625758250505811,
          0.6253348292681302,
          0.8158774874630836,
          0.825609391689607,
          0.6823675032421548,
          0.8389662537659106,
          0.8563539808986427,
          0.7132733778764155,
          0.6220026735079891,
          0.6700965477021938,
          0.5981290729834328,
          0.6466963367423517,
          0.6147156056225143,
          0.6283657512447682,
          0.6428404857320054,
          0.6826508465134964,
          0.7737064398476257,
          0.7376896089145575,
          0.652410850959722,
          0.6764387370713116,
          0.5574766719373976,
          0.5988995937852728,
          0.5114945449250818,
          0.455313024712094,
          0.488304395332058,
          0.5083102066100977,
          0.4819437672429707,
          0.4327917921141448,
          0.4699344577218589,
          0.4458542979481947,
          0.4513262072220811,
          0.5238076006769283,
          0.550114048956619,
          0.5448886377638509,
          0.5625418664005188,
          0.5233225426954853,
          0.5144599610042384,
          0.5007162631211273,
          0.547303035694128,
          0.5158259810941175,
          0.5098919442155747,
          0.5896859873877283,
          0.5459553337683047,
          0.6249456781093947,
          0.6167602363479503,
          0.5874767302828872,
          0.6408042272683687,
          0.825066440405628,
          0.8161429948068175,
          0.6478098998000839,
          0.6879362276004706,
          0.6309235992717461,
          0.8759809459886689,
          0.7952771303593735,
          0.8258887731372937,
          0.8422557364497543,
          0.6153938012415132,
          0.6236549019707134,
          0.7245761245383697,
          0.8476805463134554,
          0.8722117212397613,
          0.8595522955977231,
          0.7892482315005473,
          0.6605684121416857,
          0.8638686838702299,
          0.92641286146738,
          0.7826613806616294,
          0.7126698496091031,
          0.8685978781853265,
          0.8189734325991047,
          0.6273119492527641,
          0.7039641416921576,
          0.7597779851670445,
          0.7715681634152673,
          0.8718204738416269,
          0.8758863837140716,
          0.8074824930231266,
          0.7779466752399138,
          0.5886725247649487,
          0.54454149753089,
          0.7462055619890684,
          0.8608358118954236,
          0.8946993401691614,
          0.8815943806888491,
          0.8560228445609752,
          0.8786121649280076,
          0.8109151756159143,
          0.8402293586845744,
          0.8969099802671785,
          0.7558886130873894,
          0.8214820487836114,
          0.7956666083250674,
          0.7365255409670866,
          0.8590593958451969,
          0.9332772915089648,
          0.8669494469956192,
          0.8973786654103222,
          0.9092400047200222,
          0.8249161249814172,
          0.6598238499344262,
          0.8625704430877441,
          0.8851020496198565,
          0.7352985826858642,
          0.6990581832334826,
          0.7766210407799541,
          0.6504624692666567,
          0.6369696444437736,
          0.7692483981598457,
          0.6450933153457434,
          0.6119966179044241,
          0.6449903226968772,
          0.6171529840541723,
          0.2244479908957934,
          0.5801867580435456,
          0.5964601132193934,
          0.3446154079335031,
          0.5586098238186352,
          0.6147877134065176,
          0.6065962110711851,
          0.6352174088564659,
          0.5450842081215832,
          0.634873266341117,
          0.6585383612857321,
          0.7093029618415123,
          0.7187483358553983,
          0.6631875892487962,
          0.6423370525881609,
          0.6383183834838277,
          0.7680126480995675,
          0.7199388716076456,
          0.699290388331157,
          0.6748962913432024,
          0.6813785549202542,
          0.6192688651501825,
          0.577238208838665,
          0.6522341755771279,
          0.6924645601965871,
          0.8488645499832401,
          0.8759520293038925,
          0.8472879565367641,
          0.867317158471419,
          0.904212659376963,
          0.8990167979303791,
          0.9282694361067456,
          0.8369203838902379,
          0.881783533066276,
          0.8955446170547461,
          0.8773256845012618,
          0.8378843450606226,
          0.9039011998321732,
          1,
          0.9501129214001232,
          0.8944987400959974,
          0.90497455909599,
          0.7563431135181418,
          0.8430158761098703,
          0.7979151900980384,
          0.8741944799967669,
          0.8964660477071611,
          0.8811100213849805,
          0.9008698871932844,
          0.8505558585440482,
          0.7316705620480732,
          0.6220178007297044,
          0.6242470779443572,
          0.5898824270610312,
          0.5176349409492964,
          0.4541013548963626,
          0.0816062053842792,
          0,
          0.2475616455622358,
          0.3845088103766443,
          0.4515321039903135,
          0.5112677291883898,
          0.4353980027904249,
          0.2633025273334475,
          0.2471298729055036,
          0.4074832332906233,
          0.4724828956339806,
          0.4453701290447895,
          0.4113458632589051,
          0.4410427894979385,
          0.3674020197204548,
          0.29629350712462,
          0.5029838031106202,
          0.4699531988199901,
          0.4158549646449643,
          0.4866221691893457,
          0.5637050480878756,
          0.5674936712328638,
          0.5174772961614131,
          0.5697342261728515,
          0.5849869452617291,
          0.570538435771045,
          0.5869783088687903,
          0.5616811644663429,
          0.5448084277798273,
          0.5485250608390402,
          0.6020687061624095,
          0.5852756205392033,
          0.583380381236136,
          0.5555474888042404,
          0.5168386236134239,
          0.4780386002807901,
          0.4302894683196676,
          0.4695911525643588,
          0.5065439211248624,
          0.5568365961334472,
          0.6397230032207766,
          0.6125678904242591,
          0.5863762165520683,
          0.5489220995667949,
          0.6555384887075952,
          0.7042335764318999,
          0.8277907893644461,
          0.6534512386955136,
          0.6689134197885807,
          0.7645865935327372,
          0.530033376992634,
          0.5587498736259775,
          0.5799085170091978,
          0.5521600709521408,
          0.511901017269409,
          0.5316992400144223,
          0.5304284748336414,
          0.4841354683842738,
          0.5378427934712064,
          0.5346172871366868,
          0.5039649525133356,
          0.553779606221724,
          0.5937842773248398,
          0.4828869271046514,
          0.6573883415089554,
          0.4181076988772361,
          0.4564934063611332,
          0.5377742438350488,
          0.4489858175454024,
          0.4616563544744316,
          0.5249242004662058,
          0.4888261197622157,
          0.4713976372079997,
          0.5036168519991762,
          0.5644841565765901,
          0.4288188170989642,
          0.3866305633407947,
          0.3545323508005538,
          0.523313372626621,
          0.3651685768520814,
          0.4612894848677165,
          0.4891939794110662,
          0.4868590697511692,
          0.5164914867053163,
          0.548018435549281,
          0.4891072402526113,
          0.5549056921053648,
          0.7675494423280576,
          0.8059984298234539,
          0.844834620213124,
          0.8770716077551022,
          0.8602103007531028,
          0.8506351556793881,
          0.8119352103479933,
          0.8026393022016656,
          0.852973865186037,
          0.8484247997584546,
          0.852895037768004,
          0.620257591522023,
          0.5710844430489281,
          0.5579608387968342,
          0.4972519030677063,
          0.4212510458113279,
          0.3112394688647555,
          0.2346697430594062,
          0.4379574866254643,
          0.5552751276944718,
          0.4587667090475982,
          0.5789193242034258,
          0.4976742891306216,
          0.5123157338146065,
          0.5510604155605279,
          0.5131041327122929,
          0.5653781435343177,
          0.5940597309465296,
          0.6149311877592929,
          0.7863126693411466,
          0.8174879590975941,
          0.7253662578125848,
          0.6079412919888618,
          0.5905938471482344,
          0.5806932433467971,
          0.5412228934637895,
          0.5666337839420486,
          0.6362357565738996,
          0.7676085630387455,
          0.6048269763441603,
          0.7368937986965172,
          0.4622089515958265,
          0.6567161604950549,
          0.5674935974216346,
          0.5358385020639247,
          0.6715955680040935,
          0.7935610367994208,
          0.8150069611139727,
          0.8657882027877761,
          0.8071262487868722,
          0.7845493296206385,
          0.5872895185427573,
          0.5246718205540226,
          0.5027243130986676,
          0.5713193086576638,
          0.8284331401693414,
          0.7331113419140607,
          0.5817597224531639,
          0.6561958809983715,
          0.785455345279729,
          0.6387370263896344,
          0.6031395781123123,
          0.6905333969630831,
          0.853672914810641,
          0.8303874820562847,
          0.8326538575483546,
          0.6823321669223539,
          0.7887113655170133,
          0.6037855930157505,
          0.7779089688507845,
          0.8008892246794836,
          0.7197838407641761,
          0.4470901856684257,
          0.4539178534999806,
          0.4661815195856569,
          0.4591353213097662,
          0.6185185764984098,
          0.496779166832713,
          0.7242779176837608,
          0.5645553983835931,
          0.5241479599627645,
          0.3964040890297653,
          0.3627441644025602,
          0.3188472562966886,
          0.4267917581190232,
          0.6501782004570806,
          0.4948000338088008,
          0.618898647269134,
          0.4686541093972209,
          0.4457599495545494,
          0.4619382984801383,
          0.5267788751555109,
          0.5040076722684752,
          0.5038434484317378,
          0.4452729503361468,
          0.367167610355537,
          0.3558171206424738,
          0.387659305732015,
          0.3860304379374355,
          0.3568038825778394,
          0.3759370531027883,
          0.3814817692647239,
          0.3964083121195401,
          0.373459312032768,
          0.428173740419222,
          0.5174884995728739,
          0.5446245363768902,
          0.6594376642731561,
          0.6159196282048605,
          0.6180022942071801,
          0.5653609467150318,
          0.6602918238209874,
          0.8186035679557762,
          0.6975174783792362,
          0.3251695066305515,
          0.3713018102374903,
          0.3262058764508246,
          0.3057814737127593,
          0.3670189032374367,
          0.4872865847734928,
          0.4105559217985899,
          0.5036249217674893,
          0.5077905599059882,
          0.3677361506372421,
          0.3114508582598745,
          0.3020161013741962,
          0.3520752559967199,
          0.3483652422409165,
          0.2593377643257888,
          0.2273529286280649,
          0.2102552793089387,
          0.2986695959101837,
          0.3510807469612302,
          0.3138478761012742,
          0.3484165535946744,
          0.3312547073453302,
          0.4479440078770018,
          0.4273838825478719,
          0.4313954136161833,
          0.4452896491236586
         ],
         "yaxis": "y"
        }
       ],
       "layout": {
        "legend": {
         "tracegroupgap": 0
        },
        "margin": {
         "t": 60
        },
        "template": {
         "data": {
          "bar": [
           {
            "error_x": {
             "color": "#2a3f5f"
            },
            "error_y": {
             "color": "#2a3f5f"
            },
            "marker": {
             "line": {
              "color": "#E5ECF6",
              "width": 0.5
             },
             "pattern": {
              "fillmode": "overlay",
              "size": 10,
              "solidity": 0.2
             }
            },
            "type": "bar"
           }
          ],
          "barpolar": [
           {
            "marker": {
             "line": {
              "color": "#E5ECF6",
              "width": 0.5
             },
             "pattern": {
              "fillmode": "overlay",
              "size": 10,
              "solidity": 0.2
             }
            },
            "type": "barpolar"
           }
          ],
          "carpet": [
           {
            "aaxis": {
             "endlinecolor": "#2a3f5f",
             "gridcolor": "white",
             "linecolor": "white",
             "minorgridcolor": "white",
             "startlinecolor": "#2a3f5f"
            },
            "baxis": {
             "endlinecolor": "#2a3f5f",
             "gridcolor": "white",
             "linecolor": "white",
             "minorgridcolor": "white",
             "startlinecolor": "#2a3f5f"
            },
            "type": "carpet"
           }
          ],
          "choropleth": [
           {
            "colorbar": {
             "outlinewidth": 0,
             "ticks": ""
            },
            "type": "choropleth"
           }
          ],
          "contour": [
           {
            "colorbar": {
             "outlinewidth": 0,
             "ticks": ""
            },
            "colorscale": [
             [
              0,
              "#0d0887"
             ],
             [
              0.1111111111111111,
              "#46039f"
             ],
             [
              0.2222222222222222,
              "#7201a8"
             ],
             [
              0.3333333333333333,
              "#9c179e"
             ],
             [
              0.4444444444444444,
              "#bd3786"
             ],
             [
              0.5555555555555556,
              "#d8576b"
             ],
             [
              0.6666666666666666,
              "#ed7953"
             ],
             [
              0.7777777777777778,
              "#fb9f3a"
             ],
             [
              0.8888888888888888,
              "#fdca26"
             ],
             [
              1,
              "#f0f921"
             ]
            ],
            "type": "contour"
           }
          ],
          "contourcarpet": [
           {
            "colorbar": {
             "outlinewidth": 0,
             "ticks": ""
            },
            "type": "contourcarpet"
           }
          ],
          "heatmap": [
           {
            "colorbar": {
             "outlinewidth": 0,
             "ticks": ""
            },
            "colorscale": [
             [
              0,
              "#0d0887"
             ],
             [
              0.1111111111111111,
              "#46039f"
             ],
             [
              0.2222222222222222,
              "#7201a8"
             ],
             [
              0.3333333333333333,
              "#9c179e"
             ],
             [
              0.4444444444444444,
              "#bd3786"
             ],
             [
              0.5555555555555556,
              "#d8576b"
             ],
             [
              0.6666666666666666,
              "#ed7953"
             ],
             [
              0.7777777777777778,
              "#fb9f3a"
             ],
             [
              0.8888888888888888,
              "#fdca26"
             ],
             [
              1,
              "#f0f921"
             ]
            ],
            "type": "heatmap"
           }
          ],
          "heatmapgl": [
           {
            "colorbar": {
             "outlinewidth": 0,
             "ticks": ""
            },
            "colorscale": [
             [
              0,
              "#0d0887"
             ],
             [
              0.1111111111111111,
              "#46039f"
             ],
             [
              0.2222222222222222,
              "#7201a8"
             ],
             [
              0.3333333333333333,
              "#9c179e"
             ],
             [
              0.4444444444444444,
              "#bd3786"
             ],
             [
              0.5555555555555556,
              "#d8576b"
             ],
             [
              0.6666666666666666,
              "#ed7953"
             ],
             [
              0.7777777777777778,
              "#fb9f3a"
             ],
             [
              0.8888888888888888,
              "#fdca26"
             ],
             [
              1,
              "#f0f921"
             ]
            ],
            "type": "heatmapgl"
           }
          ],
          "histogram": [
           {
            "marker": {
             "pattern": {
              "fillmode": "overlay",
              "size": 10,
              "solidity": 0.2
             }
            },
            "type": "histogram"
           }
          ],
          "histogram2d": [
           {
            "colorbar": {
             "outlinewidth": 0,
             "ticks": ""
            },
            "colorscale": [
             [
              0,
              "#0d0887"
             ],
             [
              0.1111111111111111,
              "#46039f"
             ],
             [
              0.2222222222222222,
              "#7201a8"
             ],
             [
              0.3333333333333333,
              "#9c179e"
             ],
             [
              0.4444444444444444,
              "#bd3786"
             ],
             [
              0.5555555555555556,
              "#d8576b"
             ],
             [
              0.6666666666666666,
              "#ed7953"
             ],
             [
              0.7777777777777778,
              "#fb9f3a"
             ],
             [
              0.8888888888888888,
              "#fdca26"
             ],
             [
              1,
              "#f0f921"
             ]
            ],
            "type": "histogram2d"
           }
          ],
          "histogram2dcontour": [
           {
            "colorbar": {
             "outlinewidth": 0,
             "ticks": ""
            },
            "colorscale": [
             [
              0,
              "#0d0887"
             ],
             [
              0.1111111111111111,
              "#46039f"
             ],
             [
              0.2222222222222222,
              "#7201a8"
             ],
             [
              0.3333333333333333,
              "#9c179e"
             ],
             [
              0.4444444444444444,
              "#bd3786"
             ],
             [
              0.5555555555555556,
              "#d8576b"
             ],
             [
              0.6666666666666666,
              "#ed7953"
             ],
             [
              0.7777777777777778,
              "#fb9f3a"
             ],
             [
              0.8888888888888888,
              "#fdca26"
             ],
             [
              1,
              "#f0f921"
             ]
            ],
            "type": "histogram2dcontour"
           }
          ],
          "mesh3d": [
           {
            "colorbar": {
             "outlinewidth": 0,
             "ticks": ""
            },
            "type": "mesh3d"
           }
          ],
          "parcoords": [
           {
            "line": {
             "colorbar": {
              "outlinewidth": 0,
              "ticks": ""
             }
            },
            "type": "parcoords"
           }
          ],
          "pie": [
           {
            "automargin": true,
            "type": "pie"
           }
          ],
          "scatter": [
           {
            "fillpattern": {
             "fillmode": "overlay",
             "size": 10,
             "solidity": 0.2
            },
            "type": "scatter"
           }
          ],
          "scatter3d": [
           {
            "line": {
             "colorbar": {
              "outlinewidth": 0,
              "ticks": ""
             }
            },
            "marker": {
             "colorbar": {
              "outlinewidth": 0,
              "ticks": ""
             }
            },
            "type": "scatter3d"
           }
          ],
          "scattercarpet": [
           {
            "marker": {
             "colorbar": {
              "outlinewidth": 0,
              "ticks": ""
             }
            },
            "type": "scattercarpet"
           }
          ],
          "scattergeo": [
           {
            "marker": {
             "colorbar": {
              "outlinewidth": 0,
              "ticks": ""
             }
            },
            "type": "scattergeo"
           }
          ],
          "scattergl": [
           {
            "marker": {
             "colorbar": {
              "outlinewidth": 0,
              "ticks": ""
             }
            },
            "type": "scattergl"
           }
          ],
          "scattermapbox": [
           {
            "marker": {
             "colorbar": {
              "outlinewidth": 0,
              "ticks": ""
             }
            },
            "type": "scattermapbox"
           }
          ],
          "scatterpolar": [
           {
            "marker": {
             "colorbar": {
              "outlinewidth": 0,
              "ticks": ""
             }
            },
            "type": "scatterpolar"
           }
          ],
          "scatterpolargl": [
           {
            "marker": {
             "colorbar": {
              "outlinewidth": 0,
              "ticks": ""
             }
            },
            "type": "scatterpolargl"
           }
          ],
          "scatterternary": [
           {
            "marker": {
             "colorbar": {
              "outlinewidth": 0,
              "ticks": ""
             }
            },
            "type": "scatterternary"
           }
          ],
          "surface": [
           {
            "colorbar": {
             "outlinewidth": 0,
             "ticks": ""
            },
            "colorscale": [
             [
              0,
              "#0d0887"
             ],
             [
              0.1111111111111111,
              "#46039f"
             ],
             [
              0.2222222222222222,
              "#7201a8"
             ],
             [
              0.3333333333333333,
              "#9c179e"
             ],
             [
              0.4444444444444444,
              "#bd3786"
             ],
             [
              0.5555555555555556,
              "#d8576b"
             ],
             [
              0.6666666666666666,
              "#ed7953"
             ],
             [
              0.7777777777777778,
              "#fb9f3a"
             ],
             [
              0.8888888888888888,
              "#fdca26"
             ],
             [
              1,
              "#f0f921"
             ]
            ],
            "type": "surface"
           }
          ],
          "table": [
           {
            "cells": {
             "fill": {
              "color": "#EBF0F8"
             },
             "line": {
              "color": "white"
             }
            },
            "header": {
             "fill": {
              "color": "#C8D4E3"
             },
             "line": {
              "color": "white"
             }
            },
            "type": "table"
           }
          ]
         },
         "layout": {
          "annotationdefaults": {
           "arrowcolor": "#2a3f5f",
           "arrowhead": 0,
           "arrowwidth": 1
          },
          "autotypenumbers": "strict",
          "coloraxis": {
           "colorbar": {
            "outlinewidth": 0,
            "ticks": ""
           }
          },
          "colorscale": {
           "diverging": [
            [
             0,
             "#8e0152"
            ],
            [
             0.1,
             "#c51b7d"
            ],
            [
             0.2,
             "#de77ae"
            ],
            [
             0.3,
             "#f1b6da"
            ],
            [
             0.4,
             "#fde0ef"
            ],
            [
             0.5,
             "#f7f7f7"
            ],
            [
             0.6,
             "#e6f5d0"
            ],
            [
             0.7,
             "#b8e186"
            ],
            [
             0.8,
             "#7fbc41"
            ],
            [
             0.9,
             "#4d9221"
            ],
            [
             1,
             "#276419"
            ]
           ],
           "sequential": [
            [
             0,
             "#0d0887"
            ],
            [
             0.1111111111111111,
             "#46039f"
            ],
            [
             0.2222222222222222,
             "#7201a8"
            ],
            [
             0.3333333333333333,
             "#9c179e"
            ],
            [
             0.4444444444444444,
             "#bd3786"
            ],
            [
             0.5555555555555556,
             "#d8576b"
            ],
            [
             0.6666666666666666,
             "#ed7953"
            ],
            [
             0.7777777777777778,
             "#fb9f3a"
            ],
            [
             0.8888888888888888,
             "#fdca26"
            ],
            [
             1,
             "#f0f921"
            ]
           ],
           "sequentialminus": [
            [
             0,
             "#0d0887"
            ],
            [
             0.1111111111111111,
             "#46039f"
            ],
            [
             0.2222222222222222,
             "#7201a8"
            ],
            [
             0.3333333333333333,
             "#9c179e"
            ],
            [
             0.4444444444444444,
             "#bd3786"
            ],
            [
             0.5555555555555556,
             "#d8576b"
            ],
            [
             0.6666666666666666,
             "#ed7953"
            ],
            [
             0.7777777777777778,
             "#fb9f3a"
            ],
            [
             0.8888888888888888,
             "#fdca26"
            ],
            [
             1,
             "#f0f921"
            ]
           ]
          },
          "colorway": [
           "#636efa",
           "#EF553B",
           "#00cc96",
           "#ab63fa",
           "#FFA15A",
           "#19d3f3",
           "#FF6692",
           "#B6E880",
           "#FF97FF",
           "#FECB52"
          ],
          "font": {
           "color": "#2a3f5f"
          },
          "geo": {
           "bgcolor": "white",
           "lakecolor": "white",
           "landcolor": "#E5ECF6",
           "showlakes": true,
           "showland": true,
           "subunitcolor": "white"
          },
          "hoverlabel": {
           "align": "left"
          },
          "hovermode": "closest",
          "mapbox": {
           "style": "light"
          },
          "paper_bgcolor": "white",
          "plot_bgcolor": "#E5ECF6",
          "polar": {
           "angularaxis": {
            "gridcolor": "white",
            "linecolor": "white",
            "ticks": ""
           },
           "bgcolor": "#E5ECF6",
           "radialaxis": {
            "gridcolor": "white",
            "linecolor": "white",
            "ticks": ""
           }
          },
          "scene": {
           "xaxis": {
            "backgroundcolor": "#E5ECF6",
            "gridcolor": "white",
            "gridwidth": 2,
            "linecolor": "white",
            "showbackground": true,
            "ticks": "",
            "zerolinecolor": "white"
           },
           "yaxis": {
            "backgroundcolor": "#E5ECF6",
            "gridcolor": "white",
            "gridwidth": 2,
            "linecolor": "white",
            "showbackground": true,
            "ticks": "",
            "zerolinecolor": "white"
           },
           "zaxis": {
            "backgroundcolor": "#E5ECF6",
            "gridcolor": "white",
            "gridwidth": 2,
            "linecolor": "white",
            "showbackground": true,
            "ticks": "",
            "zerolinecolor": "white"
           }
          },
          "shapedefaults": {
           "line": {
            "color": "#2a3f5f"
           }
          },
          "ternary": {
           "aaxis": {
            "gridcolor": "white",
            "linecolor": "white",
            "ticks": ""
           },
           "baxis": {
            "gridcolor": "white",
            "linecolor": "white",
            "ticks": ""
           },
           "bgcolor": "#E5ECF6",
           "caxis": {
            "gridcolor": "white",
            "linecolor": "white",
            "ticks": ""
           }
          },
          "title": {
           "x": 0.05
          },
          "xaxis": {
           "automargin": true,
           "gridcolor": "white",
           "linecolor": "white",
           "ticks": "",
           "title": {
            "standoff": 15
           },
           "zerolinecolor": "white",
           "zerolinewidth": 2
          },
          "yaxis": {
           "automargin": true,
           "gridcolor": "white",
           "linecolor": "white",
           "ticks": "",
           "title": {
            "standoff": 15
           },
           "zerolinecolor": "white",
           "zerolinewidth": 2
          }
         }
        },
        "title": {
         "text": "Luzon GWAP"
        },
        "xaxis": {
         "anchor": "y",
         "domain": [
          0,
          1
         ],
         "title": {
          "text": "Date"
         }
        },
        "yaxis": {
         "anchor": "x",
         "domain": [
          0,
          1
         ],
         "title": {
          "text": "GWAP"
         }
        }
       }
      }
     },
     "metadata": {},
     "output_type": "display_data"
    },
    {
     "data": {
      "application/vnd.plotly.v1+json": {
       "config": {
        "plotlyServerURL": "https://plot.ly"
       },
       "data": [
        {
         "hovertemplate": "Date=%{x}<br>LWAP=%{y}<extra></extra>",
         "legendgroup": "",
         "line": {
          "color": "#636efa",
          "dash": "solid"
         },
         "marker": {
          "symbol": "circle"
         },
         "mode": "lines",
         "name": "",
         "orientation": "v",
         "showlegend": false,
         "type": "scatter",
         "x": [
          "2022-01-01T00:00:00",
          "2022-01-02T00:00:00",
          "2022-01-03T00:00:00",
          "2022-01-04T00:00:00",
          "2022-01-05T00:00:00",
          "2022-01-06T00:00:00",
          "2022-01-07T00:00:00",
          "2022-01-08T00:00:00",
          "2022-01-09T00:00:00",
          "2022-01-10T00:00:00",
          "2022-01-11T00:00:00",
          "2022-01-12T00:00:00",
          "2022-01-13T00:00:00",
          "2022-01-14T00:00:00",
          "2022-01-15T00:00:00",
          "2022-01-16T00:00:00",
          "2022-01-17T00:00:00",
          "2022-01-18T00:00:00",
          "2022-01-19T00:00:00",
          "2022-01-20T00:00:00",
          "2022-01-21T00:00:00",
          "2022-01-22T00:00:00",
          "2022-01-23T00:00:00",
          "2022-01-24T00:00:00",
          "2022-01-25T00:00:00",
          "2022-01-26T00:00:00",
          "2022-01-27T00:00:00",
          "2022-01-28T00:00:00",
          "2022-01-29T00:00:00",
          "2022-01-30T00:00:00",
          "2022-01-31T00:00:00",
          "2022-02-01T00:00:00",
          "2022-02-02T00:00:00",
          "2022-02-03T00:00:00",
          "2022-02-04T00:00:00",
          "2022-02-05T00:00:00",
          "2022-02-06T00:00:00",
          "2022-02-07T00:00:00",
          "2022-02-08T00:00:00",
          "2022-02-09T00:00:00",
          "2022-02-10T00:00:00",
          "2022-02-11T00:00:00",
          "2022-02-12T00:00:00",
          "2022-02-13T00:00:00",
          "2022-02-14T00:00:00",
          "2022-02-15T00:00:00",
          "2022-02-16T00:00:00",
          "2022-02-17T00:00:00",
          "2022-02-18T00:00:00",
          "2022-02-19T00:00:00",
          "2022-02-20T00:00:00",
          "2022-02-21T00:00:00",
          "2022-02-22T00:00:00",
          "2022-02-23T00:00:00",
          "2022-02-24T00:00:00",
          "2022-02-25T00:00:00",
          "2022-02-26T00:00:00",
          "2022-02-27T00:00:00",
          "2022-02-28T00:00:00",
          "2022-03-01T00:00:00",
          "2022-03-02T00:00:00",
          "2022-03-03T00:00:00",
          "2022-03-04T00:00:00",
          "2022-03-05T00:00:00",
          "2022-03-06T00:00:00",
          "2022-03-07T00:00:00",
          "2022-03-08T00:00:00",
          "2022-03-09T00:00:00",
          "2022-03-10T00:00:00",
          "2022-03-11T00:00:00",
          "2022-03-12T00:00:00",
          "2022-03-13T00:00:00",
          "2022-03-14T00:00:00",
          "2022-03-15T00:00:00",
          "2022-03-16T00:00:00",
          "2022-03-17T00:00:00",
          "2022-03-18T00:00:00",
          "2022-03-19T00:00:00",
          "2022-03-20T00:00:00",
          "2022-03-21T00:00:00",
          "2022-03-22T00:00:00",
          "2022-03-23T00:00:00",
          "2022-03-24T00:00:00",
          "2022-03-25T00:00:00",
          "2022-03-26T00:00:00",
          "2022-03-27T00:00:00",
          "2022-03-28T00:00:00",
          "2022-03-29T00:00:00",
          "2022-03-30T00:00:00",
          "2022-03-31T00:00:00",
          "2022-04-01T00:00:00",
          "2022-04-02T00:00:00",
          "2022-04-03T00:00:00",
          "2022-04-04T00:00:00",
          "2022-04-05T00:00:00",
          "2022-04-06T00:00:00",
          "2022-04-07T00:00:00",
          "2022-04-08T00:00:00",
          "2022-04-09T00:00:00",
          "2022-04-10T00:00:00",
          "2022-04-11T00:00:00",
          "2022-04-12T00:00:00",
          "2022-04-13T00:00:00",
          "2022-04-14T00:00:00",
          "2022-04-15T00:00:00",
          "2022-04-16T00:00:00",
          "2022-04-17T00:00:00",
          "2022-04-18T00:00:00",
          "2022-04-19T00:00:00",
          "2022-04-20T00:00:00",
          "2022-04-21T00:00:00",
          "2022-04-22T00:00:00",
          "2022-04-23T00:00:00",
          "2022-04-24T00:00:00",
          "2022-04-25T00:00:00",
          "2022-04-26T00:00:00",
          "2022-04-27T00:00:00",
          "2022-04-28T00:00:00",
          "2022-04-29T00:00:00",
          "2022-04-30T00:00:00",
          "2022-05-01T00:00:00",
          "2022-05-02T00:00:00",
          "2022-05-03T00:00:00",
          "2022-05-04T00:00:00",
          "2022-05-05T00:00:00",
          "2022-05-06T00:00:00",
          "2022-05-07T00:00:00",
          "2022-05-08T00:00:00",
          "2022-05-09T00:00:00",
          "2022-05-10T00:00:00",
          "2022-05-11T00:00:00",
          "2022-05-12T00:00:00",
          "2022-05-13T00:00:00",
          "2022-05-14T00:00:00",
          "2022-05-15T00:00:00",
          "2022-05-16T00:00:00",
          "2022-05-17T00:00:00",
          "2022-05-18T00:00:00",
          "2022-05-19T00:00:00",
          "2022-05-20T00:00:00",
          "2022-05-21T00:00:00",
          "2022-05-22T00:00:00",
          "2022-05-23T00:00:00",
          "2022-05-24T00:00:00",
          "2022-05-25T00:00:00",
          "2022-05-26T00:00:00",
          "2022-05-27T00:00:00",
          "2022-05-28T00:00:00",
          "2022-05-29T00:00:00",
          "2022-05-30T00:00:00",
          "2022-05-31T00:00:00",
          "2022-06-01T00:00:00",
          "2022-06-02T00:00:00",
          "2022-06-03T00:00:00",
          "2022-06-04T00:00:00",
          "2022-06-05T00:00:00",
          "2022-06-06T00:00:00",
          "2022-06-07T00:00:00",
          "2022-06-08T00:00:00",
          "2022-06-09T00:00:00",
          "2022-06-10T00:00:00",
          "2022-06-11T00:00:00",
          "2022-06-12T00:00:00",
          "2022-06-13T00:00:00",
          "2022-06-14T00:00:00",
          "2022-06-15T00:00:00",
          "2022-06-16T00:00:00",
          "2022-06-17T00:00:00",
          "2022-06-18T00:00:00",
          "2022-06-19T00:00:00",
          "2022-06-20T00:00:00",
          "2022-06-21T00:00:00",
          "2022-06-22T00:00:00",
          "2022-06-23T00:00:00",
          "2022-06-24T00:00:00",
          "2022-06-25T00:00:00",
          "2022-06-26T00:00:00",
          "2022-06-27T00:00:00",
          "2022-06-28T00:00:00",
          "2022-06-29T00:00:00",
          "2022-06-30T00:00:00",
          "2022-07-01T00:00:00",
          "2022-07-02T00:00:00",
          "2022-07-03T00:00:00",
          "2022-07-04T00:00:00",
          "2022-07-05T00:00:00",
          "2022-07-06T00:00:00",
          "2022-07-07T00:00:00",
          "2022-07-08T00:00:00",
          "2022-07-09T00:00:00",
          "2022-07-10T00:00:00",
          "2022-07-11T00:00:00",
          "2022-07-12T00:00:00",
          "2022-07-13T00:00:00",
          "2022-07-14T00:00:00",
          "2022-07-15T00:00:00",
          "2022-07-16T00:00:00",
          "2022-07-17T00:00:00",
          "2022-07-18T00:00:00",
          "2022-07-19T00:00:00",
          "2022-07-20T00:00:00",
          "2022-07-21T00:00:00",
          "2022-07-22T00:00:00",
          "2022-07-23T00:00:00",
          "2022-07-24T00:00:00",
          "2022-07-25T00:00:00",
          "2022-07-26T00:00:00",
          "2022-07-27T00:00:00",
          "2022-07-28T00:00:00",
          "2022-07-29T00:00:00",
          "2022-07-30T00:00:00",
          "2022-07-31T00:00:00",
          "2022-08-01T00:00:00",
          "2022-08-02T00:00:00",
          "2022-08-03T00:00:00",
          "2022-08-04T00:00:00",
          "2022-08-05T00:00:00",
          "2022-08-06T00:00:00",
          "2022-08-07T00:00:00",
          "2022-08-08T00:00:00",
          "2022-08-09T00:00:00",
          "2022-08-10T00:00:00",
          "2022-08-11T00:00:00",
          "2022-08-12T00:00:00",
          "2022-08-13T00:00:00",
          "2022-08-14T00:00:00",
          "2022-08-15T00:00:00",
          "2022-08-16T00:00:00",
          "2022-08-17T00:00:00",
          "2022-08-18T00:00:00",
          "2022-08-19T00:00:00",
          "2022-08-20T00:00:00",
          "2022-08-21T00:00:00",
          "2022-08-22T00:00:00",
          "2022-08-23T00:00:00",
          "2022-08-24T00:00:00",
          "2022-08-25T00:00:00",
          "2022-08-26T00:00:00",
          "2022-08-27T00:00:00",
          "2022-08-28T00:00:00",
          "2022-08-29T00:00:00",
          "2022-08-30T00:00:00",
          "2022-08-31T00:00:00",
          "2022-09-01T00:00:00",
          "2022-09-02T00:00:00",
          "2022-09-03T00:00:00",
          "2022-09-04T00:00:00",
          "2022-09-05T00:00:00",
          "2022-09-06T00:00:00",
          "2022-09-07T00:00:00",
          "2022-09-08T00:00:00",
          "2022-09-09T00:00:00",
          "2022-09-10T00:00:00",
          "2022-09-11T00:00:00",
          "2022-09-12T00:00:00",
          "2022-09-13T00:00:00",
          "2022-09-14T00:00:00",
          "2022-09-15T00:00:00",
          "2022-09-16T00:00:00",
          "2022-09-17T00:00:00",
          "2022-09-18T00:00:00",
          "2022-09-19T00:00:00",
          "2022-09-20T00:00:00",
          "2022-09-21T00:00:00",
          "2022-09-22T00:00:00",
          "2022-09-23T00:00:00",
          "2022-09-24T00:00:00",
          "2022-09-25T00:00:00",
          "2022-09-26T00:00:00",
          "2022-09-27T00:00:00",
          "2022-09-28T00:00:00",
          "2022-09-29T00:00:00",
          "2022-09-30T00:00:00",
          "2022-10-01T00:00:00",
          "2022-10-02T00:00:00",
          "2022-10-03T00:00:00",
          "2022-10-04T00:00:00",
          "2022-10-05T00:00:00",
          "2022-10-06T00:00:00",
          "2022-10-07T00:00:00",
          "2022-10-08T00:00:00",
          "2022-10-09T00:00:00",
          "2022-10-10T00:00:00",
          "2022-10-11T00:00:00",
          "2022-10-12T00:00:00",
          "2022-10-13T00:00:00",
          "2022-10-14T00:00:00",
          "2022-10-15T00:00:00",
          "2022-10-16T00:00:00",
          "2022-10-17T00:00:00",
          "2022-10-18T00:00:00",
          "2022-10-19T00:00:00",
          "2022-10-20T00:00:00",
          "2022-10-21T00:00:00",
          "2022-10-22T00:00:00",
          "2022-10-23T00:00:00",
          "2022-10-24T00:00:00",
          "2022-10-25T00:00:00",
          "2022-10-26T00:00:00",
          "2022-10-27T00:00:00",
          "2022-10-28T00:00:00",
          "2022-10-29T00:00:00",
          "2022-10-30T00:00:00",
          "2022-10-31T00:00:00",
          "2022-11-01T00:00:00",
          "2022-11-02T00:00:00",
          "2022-11-03T00:00:00",
          "2022-11-04T00:00:00",
          "2022-11-05T00:00:00",
          "2022-11-06T00:00:00",
          "2022-11-07T00:00:00",
          "2022-11-08T00:00:00",
          "2022-11-09T00:00:00",
          "2022-11-10T00:00:00",
          "2022-11-11T00:00:00",
          "2022-11-12T00:00:00",
          "2022-11-13T00:00:00",
          "2022-11-14T00:00:00",
          "2022-11-15T00:00:00",
          "2022-11-16T00:00:00",
          "2022-11-17T00:00:00",
          "2022-11-18T00:00:00",
          "2022-11-19T00:00:00",
          "2022-11-20T00:00:00",
          "2022-11-21T00:00:00",
          "2022-11-22T00:00:00",
          "2022-11-23T00:00:00",
          "2022-11-24T00:00:00",
          "2022-11-25T00:00:00",
          "2022-11-26T00:00:00",
          "2022-11-27T00:00:00",
          "2022-11-28T00:00:00",
          "2022-11-29T00:00:00",
          "2022-11-30T00:00:00",
          "2022-12-01T00:00:00",
          "2022-12-02T00:00:00",
          "2022-12-03T00:00:00",
          "2022-12-04T00:00:00",
          "2022-12-05T00:00:00",
          "2022-12-06T00:00:00",
          "2022-12-07T00:00:00",
          "2022-12-08T00:00:00",
          "2022-12-09T00:00:00",
          "2022-12-10T00:00:00",
          "2022-12-11T00:00:00",
          "2022-12-12T00:00:00",
          "2022-12-13T00:00:00",
          "2022-12-14T00:00:00",
          "2022-12-15T00:00:00",
          "2022-12-16T00:00:00",
          "2022-12-17T00:00:00",
          "2022-12-18T00:00:00",
          "2022-12-19T00:00:00",
          "2022-12-20T00:00:00",
          "2022-12-21T00:00:00",
          "2022-12-22T00:00:00",
          "2022-12-23T00:00:00",
          "2022-12-24T00:00:00",
          "2022-12-25T00:00:00",
          "2022-12-26T00:00:00",
          "2022-12-27T00:00:00",
          "2022-12-28T00:00:00",
          "2022-12-29T00:00:00",
          "2022-12-30T00:00:00",
          "2022-12-31T00:00:00",
          "2023-01-01T00:00:00",
          "2023-01-02T00:00:00",
          "2023-01-03T00:00:00",
          "2023-01-04T00:00:00",
          "2023-01-05T00:00:00",
          "2023-01-06T00:00:00",
          "2023-01-07T00:00:00",
          "2023-01-08T00:00:00",
          "2023-01-09T00:00:00",
          "2023-01-10T00:00:00",
          "2023-01-11T00:00:00",
          "2023-01-12T00:00:00",
          "2023-01-13T00:00:00",
          "2023-01-14T00:00:00",
          "2023-01-15T00:00:00",
          "2023-01-16T00:00:00",
          "2023-01-17T00:00:00",
          "2023-01-18T00:00:00",
          "2023-01-19T00:00:00",
          "2023-01-20T00:00:00",
          "2023-01-21T00:00:00",
          "2023-01-22T00:00:00",
          "2023-01-23T00:00:00",
          "2023-01-24T00:00:00",
          "2023-01-25T00:00:00",
          "2023-01-26T00:00:00",
          "2023-01-27T00:00:00",
          "2023-01-28T00:00:00",
          "2023-01-29T00:00:00",
          "2023-01-30T00:00:00",
          "2023-01-31T00:00:00",
          "2023-02-01T00:00:00",
          "2023-02-02T00:00:00",
          "2023-02-03T00:00:00",
          "2023-02-04T00:00:00",
          "2023-02-05T00:00:00",
          "2023-02-06T00:00:00",
          "2023-02-07T00:00:00",
          "2023-02-08T00:00:00",
          "2023-02-09T00:00:00",
          "2023-02-10T00:00:00",
          "2023-02-11T00:00:00",
          "2023-02-12T00:00:00",
          "2023-02-13T00:00:00",
          "2023-02-14T00:00:00",
          "2023-02-15T00:00:00",
          "2023-02-16T00:00:00",
          "2023-02-17T00:00:00",
          "2023-02-18T00:00:00",
          "2023-02-19T00:00:00",
          "2023-02-20T00:00:00",
          "2023-02-21T00:00:00",
          "2023-02-22T00:00:00",
          "2023-02-23T00:00:00",
          "2023-02-24T00:00:00",
          "2023-02-25T00:00:00",
          "2023-02-26T00:00:00",
          "2023-02-27T00:00:00",
          "2023-02-28T00:00:00",
          "2023-03-01T00:00:00",
          "2023-03-02T00:00:00",
          "2023-03-03T00:00:00",
          "2023-03-04T00:00:00",
          "2023-03-05T00:00:00",
          "2023-03-06T00:00:00",
          "2023-03-07T00:00:00",
          "2023-03-08T00:00:00",
          "2023-03-09T00:00:00",
          "2023-03-10T00:00:00",
          "2023-03-11T00:00:00",
          "2023-03-12T00:00:00",
          "2023-03-13T00:00:00",
          "2023-03-14T00:00:00",
          "2023-03-15T00:00:00",
          "2023-03-16T00:00:00",
          "2023-03-17T00:00:00",
          "2023-03-18T00:00:00",
          "2023-03-19T00:00:00",
          "2023-03-20T00:00:00",
          "2023-03-21T00:00:00",
          "2023-03-22T00:00:00",
          "2023-03-23T00:00:00",
          "2023-03-24T00:00:00",
          "2023-03-25T00:00:00",
          "2023-03-26T00:00:00",
          "2023-03-27T00:00:00",
          "2023-03-28T00:00:00",
          "2023-03-29T00:00:00",
          "2023-03-30T00:00:00",
          "2023-03-31T00:00:00",
          "2023-04-01T00:00:00",
          "2023-04-02T00:00:00",
          "2023-04-03T00:00:00",
          "2023-04-04T00:00:00",
          "2023-04-05T00:00:00",
          "2023-04-06T00:00:00",
          "2023-04-07T00:00:00",
          "2023-04-08T00:00:00",
          "2023-04-09T00:00:00",
          "2023-04-10T00:00:00",
          "2023-04-11T00:00:00",
          "2023-04-12T00:00:00",
          "2023-04-13T00:00:00",
          "2023-04-14T00:00:00",
          "2023-04-15T00:00:00",
          "2023-04-16T00:00:00",
          "2023-04-17T00:00:00",
          "2023-04-18T00:00:00",
          "2023-04-19T00:00:00",
          "2023-04-20T00:00:00",
          "2023-04-21T00:00:00",
          "2023-04-22T00:00:00",
          "2023-04-23T00:00:00",
          "2023-04-24T00:00:00",
          "2023-04-25T00:00:00",
          "2023-04-26T00:00:00",
          "2023-04-27T00:00:00",
          "2023-04-28T00:00:00",
          "2023-04-29T00:00:00",
          "2023-04-30T00:00:00",
          "2023-05-01T00:00:00",
          "2023-05-02T00:00:00",
          "2023-05-03T00:00:00",
          "2023-05-04T00:00:00",
          "2023-05-05T00:00:00",
          "2023-05-06T00:00:00",
          "2023-05-07T00:00:00",
          "2023-05-08T00:00:00",
          "2023-05-09T00:00:00",
          "2023-05-10T00:00:00",
          "2023-05-11T00:00:00",
          "2023-05-12T00:00:00",
          "2023-05-13T00:00:00",
          "2023-05-14T00:00:00",
          "2023-05-15T00:00:00",
          "2023-05-16T00:00:00",
          "2023-05-17T00:00:00",
          "2023-05-18T00:00:00",
          "2023-05-19T00:00:00",
          "2023-05-20T00:00:00",
          "2023-05-21T00:00:00",
          "2023-05-22T00:00:00",
          "2023-05-23T00:00:00",
          "2023-05-24T00:00:00",
          "2023-05-25T00:00:00",
          "2023-05-26T00:00:00",
          "2023-05-27T00:00:00",
          "2023-05-28T00:00:00",
          "2023-05-29T00:00:00",
          "2023-05-30T00:00:00",
          "2023-05-31T00:00:00",
          "2023-06-01T00:00:00",
          "2023-06-02T00:00:00",
          "2023-06-03T00:00:00",
          "2023-06-04T00:00:00",
          "2023-06-05T00:00:00",
          "2023-06-06T00:00:00",
          "2023-06-07T00:00:00",
          "2023-06-08T00:00:00",
          "2023-06-09T00:00:00",
          "2023-06-10T00:00:00",
          "2023-06-11T00:00:00",
          "2023-06-12T00:00:00",
          "2023-06-13T00:00:00",
          "2023-06-14T00:00:00",
          "2023-06-15T00:00:00",
          "2023-06-16T00:00:00",
          "2023-06-17T00:00:00",
          "2023-06-18T00:00:00",
          "2023-06-19T00:00:00",
          "2023-06-20T00:00:00",
          "2023-06-21T00:00:00",
          "2023-06-22T00:00:00",
          "2023-06-23T00:00:00",
          "2023-06-24T00:00:00",
          "2023-06-25T00:00:00",
          "2023-06-26T00:00:00",
          "2023-06-27T00:00:00",
          "2023-06-28T00:00:00",
          "2023-06-29T00:00:00",
          "2023-06-30T00:00:00",
          "2023-07-01T00:00:00",
          "2023-07-02T00:00:00",
          "2023-07-03T00:00:00",
          "2023-07-04T00:00:00",
          "2023-07-05T00:00:00",
          "2023-07-06T00:00:00",
          "2023-07-07T00:00:00",
          "2023-07-08T00:00:00",
          "2023-07-09T00:00:00",
          "2023-07-10T00:00:00",
          "2023-07-11T00:00:00",
          "2023-07-12T00:00:00",
          "2023-07-13T00:00:00",
          "2023-07-14T00:00:00",
          "2023-07-15T00:00:00",
          "2023-07-16T00:00:00",
          "2023-07-17T00:00:00",
          "2023-07-18T00:00:00",
          "2023-07-19T00:00:00",
          "2023-07-20T00:00:00",
          "2023-07-21T00:00:00",
          "2023-07-22T00:00:00",
          "2023-07-23T00:00:00",
          "2023-07-24T00:00:00",
          "2023-07-25T00:00:00",
          "2023-07-26T00:00:00",
          "2023-07-27T00:00:00",
          "2023-07-28T00:00:00",
          "2023-07-29T00:00:00",
          "2023-07-30T00:00:00",
          "2023-07-31T00:00:00",
          "2023-08-01T00:00:00",
          "2023-08-02T00:00:00",
          "2023-08-03T00:00:00",
          "2023-08-04T00:00:00",
          "2023-08-05T00:00:00",
          "2023-08-06T00:00:00",
          "2023-08-07T00:00:00"
         ],
         "xaxis": "x",
         "y": [
          0.2581054778983045,
          0.3145555264349227,
          0.4187238723077477,
          0.5010986700733078,
          0.7878125978174246,
          0.7489042395203249,
          0.6928091332025836,
          0.7868932395943702,
          0.7728166169661108,
          0.976727387700759,
          0.8051058825902082,
          0.623573095454006,
          0.6723385585513704,
          0.637321382285652,
          0.5398259572491781,
          0.5248056852303264,
          0.606632900598914,
          0.5051515977040353,
          0.5155525147699009,
          0.6328189499528847,
          0.8312470161871204,
          0.7338663792307649,
          0.7959761876881544,
          0.844779909525073,
          0.8323092411450794,
          0.5839006011285193,
          0.922066321644035,
          0.9146153416080836,
          0.6462503400404991,
          0.5183205124934602,
          0.3621665201987767,
          0.2893997060845059,
          0.4356072321633171,
          0.3559469551267362,
          0.2943135135711365,
          0.3270614718252602,
          0.2829450511782454,
          0.474842782515509,
          0.4811305568725359,
          0.6441703269469308,
          0.4757300725872255,
          0.5687442092184725,
          0.3712233563304075,
          0.3570409152767482,
          0.4807073534432788,
          0.3618392050042054,
          0.3978434699763262,
          0.5431954705528028,
          0.6792543338213264,
          0.5208916827081858,
          0.5317633084592117,
          0.4604467741733664,
          0.4564027086456477,
          0.4903613464153764,
          0.57094200597734,
          0.4735860908715459,
          0.5897023475845593,
          0.4959638789513469,
          0.3762809060139815,
          0.3953804611777833,
          0.4951182391818172,
          0.4998129389369659,
          0.5569468694542685,
          0.3935941981116819,
          0.340260491052323,
          0.4020618799393958,
          0.3852140305698306,
          0.3492167616588126,
          0.4711144616040066,
          0.5743556454217931,
          0.4909788628243525,
          0.4442026480273,
          0.6883943933540166,
          0.610104654719116,
          0.815324963302757,
          0.7212258456466643,
          0.7182849842548542,
          0.4614983055236976,
          0.4541468372859327,
          0.5674913678626865,
          0.6608801857270485,
          0.6112941597312762,
          0.568729931852296,
          0.6747447480731203,
          0.8144017089992062,
          0.6031553731152428,
          0.5035915369131452,
          0.5164781575602966,
          0.504873699782447,
          0.5342887815279447,
          0.4522914844745038,
          0.2408295055766522,
          0.3322579801408132,
          0.3223340228660127,
          0.3219500617067972,
          0.3728500548161477,
          0.3516084506270154,
          0.376358220514895,
          0.3449203181609555,
          0.3928799921903199,
          0.3881604313860194,
          0.4131102278855003,
          0.4670251838720283,
          0.5143288519946907,
          0.4108364859523092,
          0.4702518686650236,
          0.4761439218810537,
          0.6722289779544042,
          0.6075544405129527,
          0.7706988348773365,
          0.8125094781935829,
          0.692517221079985,
          0.5193803790389744,
          0.5051312291243306,
          0.5261799200708666,
          0.560275922559974,
          0.5761505868347854,
          0.6412595373763921,
          0.7190168484339416,
          0.5375001284723098,
          0.4233715746999209,
          0.4046878842935903,
          0.4594429592282232,
          0.4802630138593144,
          0.5313526430662137,
          0.4850188340429291,
          0.4643542778570655,
          0.4718503948748029,
          0.3032683094963175,
          0.5527011478281167,
          0.5455761403602217,
          0.5442589114669687,
          0.5781598294839299,
          0.4884938171783552,
          0.4511858496310168,
          0.4683634185057386,
          0.4888509305715018,
          0.4315604130741874,
          0.4120129838595687,
          0.3630543160503769,
          0.4113136973035587,
          0.38156753203193,
          0.4614130893586043,
          0.5398858348784188,
          0.6078105485349745,
          0.5317836549123705,
          0.5318861340324439,
          0.4558700185944779,
          0.690358442499555,
          0.5771141430138833,
          0.5504656683552867,
          0.4915204669141282,
          0.577723596428477,
          0.7583333882188086,
          0.7851000532654773,
          0.7611256379174343,
          0.6654848312120372,
          0.548770960134565,
          0.5958258990812908,
          0.6938837278365142,
          0.8360011030112204,
          0.8532221831940632,
          0.607086663634778,
          0.6721829640052626,
          0.6174795968727018,
          0.5718522960078722,
          0.7579267614088749,
          0.8537858849790538,
          0.8406633922053324,
          0.8183071157766335,
          0.8438748279688042,
          0.940890767324028,
          0.9706992597399378,
          0.819964214854835,
          0.8044942254337073,
          0.571499367135889,
          0.4995248899034834,
          0.5032441162114836,
          0.5047954311932479,
          0.6147539325420439,
          0.6447709524915659,
          0.6164804887842621,
          0.6171666282351183,
          0.731980399165618,
          0.8175174448806004,
          0.8452226644775642,
          0.7764040434172408,
          0.6412486029408448,
          0.8042505587630231,
          0.6074674069086257,
          0.6082077050281818,
          0.8056434905697465,
          0.8150424520444304,
          0.6679913380928362,
          0.8337212078697398,
          0.8489641668669954,
          0.699579966510548,
          0.6025733251968433,
          0.6541197076882845,
          0.5817071244911851,
          0.635499379310879,
          0.5981755941067881,
          0.6318386476936411,
          0.6805409889646228,
          0.7145969824826857,
          0.7884167042573687,
          0.7571422857363004,
          0.6543174491275039,
          0.7613809819953339,
          0.5785583405854169,
          0.609143120556034,
          0.4970890685039819,
          0.4552563782032663,
          0.5112631829460668,
          0.5844272158337631,
          0.5428107351506881,
          0.506135313003437,
          0.451017143347844,
          0.4276757984472397,
          0.4424038941453325,
          0.5213735828696322,
          0.5547213914267459,
          0.6214165570878052,
          0.6234751664340124,
          0.5298563445724191,
          0.5029374699521476,
          0.5065982330421441,
          0.6360046396644137,
          0.5059448316787005,
          0.548668207301759,
          0.6007524258388592,
          0.5257037801422868,
          0.6027947999708019,
          0.5970307422152992,
          0.5666580033552435,
          0.621055181536498,
          0.8107735876969215,
          0.8030100559326669,
          0.6255751417393292,
          0.6645206899891605,
          0.6082032582218275,
          0.864668516588619,
          0.7800373081829406,
          0.8141558708006436,
          0.8318747887452744,
          0.5947770691418519,
          0.6029343575204535,
          0.7095299643086825,
          0.8368569341535235,
          0.8641200966452196,
          0.8550512277786524,
          0.7974540509218784,
          0.6382177212399576,
          0.8492769742535415,
          0.9169657084702294,
          0.7908590022014721,
          0.7293753790570676,
          0.8969424325649733,
          0.8560701293418873,
          0.6253911338970006,
          0.6870752911577434,
          0.7423865567020158,
          0.7541095869788457,
          0.861257700731823,
          0.8651404993760927,
          0.7931434453147723,
          0.7729819353641432,
          0.5700297534188223,
          0.5323682813124933,
          0.7290247371043534,
          0.848082837341618,
          0.8847043940385291,
          0.8686230946991458,
          0.841372968511898,
          0.8666974570044488,
          0.7962742154203859,
          0.8274578326187374,
          0.8882538304962821,
          0.772352079866387,
          0.8158991041682349,
          0.7790222615699491,
          0.7162759045791738,
          0.8508154889728985,
          0.9394838697406732,
          0.8566701714126559,
          0.9044640846994234,
          0.9092555337153492,
          0.8104467946020222,
          0.6385171060758488,
          0.8525600784574507,
          0.8768854886063693,
          0.7194641216803888,
          0.6807300409577337,
          0.7627416337438468,
          0.6303131231662604,
          0.6147054273583628,
          0.7530677042957556,
          0.6235469160746021,
          0.5915448288276224,
          0.6232719342322284,
          0.5949479328471519,
          0.2107369356043307,
          0.556390952681248,
          0.5754702910448692,
          0.3249857484798859,
          0.5406014212740331,
          0.593052746588338,
          0.5842350490358363,
          0.6134020028562084,
          0.5218530545348763,
          0.614581378661736,
          0.6377155070984273,
          0.6906734195695776,
          0.7008332231839027,
          0.644520243082134,
          0.620492085271696,
          0.6151707873631338,
          0.7518306836562942,
          0.7000307238046233,
          0.680647072342552,
          0.6560392701499147,
          0.6609324653436204,
          0.5954160558873909,
          0.5580591727522979,
          0.6305660634538022,
          0.6716269503187959,
          0.8357807770340493,
          0.8636157746393742,
          0.83342625433583,
          0.8535646051812016,
          0.8914198288497204,
          0.8879181715407078,
          0.9222329289287964,
          0.8198381342032874,
          0.8693322808093988,
          0.88397720063751,
          0.8645034734963133,
          0.822442539766687,
          0.8924997885612314,
          1,
          0.9440259461928306,
          0.8826644327136854,
          0.8940616675185957,
          0.7342822292136582,
          0.8276218951689813,
          0.7835262053348977,
          0.8634263594786589,
          0.8864017975865721,
          0.8701747987148281,
          0.8917439769685913,
          0.8396008061968026,
          0.714317512479397,
          0.6047695631155463,
          0.6065390556437471,
          0.5701486075674751,
          0.4971696675669399,
          0.432913573136453,
          0.075143405714904,
          0,
          0.239540903438499,
          0.368218683086841,
          0.4311691356124747,
          0.49220741955547,
          0.415111523968303,
          0.2495045155121076,
          0.2354146249513391,
          0.3891506229476675,
          0.4539793672155845,
          0.4281553918344798,
          0.3936398608210574,
          0.4229618970284825,
          0.3503683584627595,
          0.2793386680813299,
          0.4828126822574425,
          0.4515102030645117,
          0.3982391371261826,
          0.4661572895724788,
          0.5438140696794704,
          0.5447587817888149,
          0.4967688545789706,
          0.5521024241866179,
          0.5667583424070486,
          0.552907747475416,
          0.5665765187743084,
          0.5433421009379451,
          0.5578763876806754,
          0.5378413826071728,
          0.5831816402665133,
          0.5673880082275211,
          0.5666704616192177,
          0.5390048869758353,
          0.5007477760695593,
          0.4986696692562056,
          0.4371497931203656,
          0.4538783691078336,
          0.4911008131783489,
          0.539517189248393,
          0.6200613946345577,
          0.5973897062452913,
          0.5676367751974141,
          0.5279334415052475,
          0.6429703386901764,
          0.7156512754257669,
          0.8509642381390954,
          0.6445480239138135,
          0.6535201745651307,
          0.7774712177310548,
          0.5285200769202376,
          0.559337924209224,
          0.5810798517471767,
          0.5607143165271822,
          0.5209125139630757,
          0.5448923928005094,
          0.5290512991450598,
          0.4692496417633087,
          0.5194463318386333,
          0.515961626055077,
          0.484230743599042,
          0.5330531069555988,
          0.5739674372110031,
          0.4765007449744551,
          0.7396644846933143,
          0.4016993836336979,
          0.439123854782828,
          0.5272296789242326,
          0.4302257400729559,
          0.4522346707563223,
          0.502583766491707,
          0.5147120560382348,
          0.4503406402131276,
          0.4821143862261507,
          0.5425080908614461,
          0.4325138054805393,
          0.4063180476643921,
          0.4041591097363728,
          0.585734464973374,
          0.3560805915929563,
          0.4582685115128662,
          0.4754991325180597,
          0.4763356335111339,
          0.5243957095925715,
          0.5666619510819331,
          0.4993054982154739,
          0.5412329901292416,
          0.7530591122013277,
          0.8205510489895751,
          0.8589754127149583,
          0.8874372475329011,
          0.8559167407619057,
          0.8388118740752226,
          0.8110228481955417,
          0.7939252319129366,
          0.8397581057391328,
          0.8347847355925673,
          0.8387751209575036,
          0.639203906176153,
          0.6215353818886236,
          0.5762228942016954,
          0.5026341209315568,
          0.4543155324392707,
          0.3063221355248053,
          0.2300196256600593,
          0.4329045794976203,
          0.5887497489535214,
          0.4685350310411031,
          0.5921907658435686,
          0.5163779865541258,
          0.4994513116584258,
          0.5780103194940303,
          0.5553562069390736,
          0.5881698326262814,
          0.605887197905286,
          0.6204756307550809,
          0.7746111123240844,
          0.8071956624720968,
          0.7075589074359883,
          0.5890358396264546,
          0.572012342235702,
          0.6181911588168738,
          0.5607418247352634,
          0.5594670332104741,
          0.6354017316117542,
          0.7774187248819864,
          0.6181763064827557,
          0.7806805495282418,
          0.4656888132306953,
          0.658291862938043,
          0.580215255434446,
          0.545304513843341,
          0.7046827485028366,
          0.8067566391085066,
          0.8406791147122163,
          0.8915324038701407,
          0.80805875775728,
          0.7729151779686525,
          0.5830988385870093,
          0.5124376926612833,
          0.4939567938553892,
          0.6035386050954479,
          0.8166829069437185,
          0.7560043659609832,
          0.6037557256792176,
          0.6591423311238671,
          0.7714220308168329,
          0.617893059887443,
          0.5828979818324456,
          0.6760259247642644,
          0.8609461180557361,
          0.8249136793718854,
          0.8213517214471935,
          0.6668663898053957,
          0.7754572655496297,
          0.5818300272319448,
          0.7634707105541558,
          0.7870760764241993,
          0.7175965854745492,
          0.4295990939948417,
          0.4358156223431741,
          0.4473867470430974,
          0.4403681098091425,
          0.5994809246080557,
          0.4783947842079854,
          0.7083875340103987,
          0.5439059465997111,
          0.5053951163397663,
          0.3779892766535013,
          0.3456202180582757,
          0.3039466937451536,
          0.4360837989711115,
          0.6334032203405329,
          0.4764204110449164,
          0.599420212360247,
          0.4517512946081865,
          0.4568855371614511,
          0.4713266614032676,
          0.5493365290493202,
          0.4933355035371995,
          0.4966012005036866,
          0.430536799786104,
          0.3512594156178465,
          0.3419467440576049,
          0.3741080492450841,
          0.3738695805461276,
          0.3432586460438678,
          0.3603968109661188,
          0.3846853958429435,
          0.3965859571795889,
          0.364503641937123,
          0.4136302649660379,
          0.5016384780413645,
          0.5303637017940055,
          0.6522907555125208,
          0.6009264309224136,
          0.601020893956008,
          0.5477329498638852,
          0.6440866067473685,
          0.8079340114444626,
          0.6839952192464196,
          0.311846110363053,
          0.3571540586840811,
          0.3119626039587508,
          0.2902705764024915,
          0.3523982118146485,
          0.4710800748184134,
          0.3969911753892816,
          0.4877869828707517,
          0.4893554765313936,
          0.3560795057322252,
          0.2977076028096164,
          0.2889854204221933,
          0.3379507000983217,
          0.3339638893808221,
          0.2466202051839516,
          0.2159508094724991,
          0.1961835403968947,
          0.2800645080055588,
          0.3347390612415992,
          0.2971974598793139,
          0.333018451280143,
          0.3170264667117344,
          0.432208994362881,
          0.4109194269289666,
          0.415498915854755,
          0.4265664680373611
         ],
         "yaxis": "y"
        }
       ],
       "layout": {
        "legend": {
         "tracegroupgap": 0
        },
        "margin": {
         "t": 60
        },
        "template": {
         "data": {
          "bar": [
           {
            "error_x": {
             "color": "#2a3f5f"
            },
            "error_y": {
             "color": "#2a3f5f"
            },
            "marker": {
             "line": {
              "color": "#E5ECF6",
              "width": 0.5
             },
             "pattern": {
              "fillmode": "overlay",
              "size": 10,
              "solidity": 0.2
             }
            },
            "type": "bar"
           }
          ],
          "barpolar": [
           {
            "marker": {
             "line": {
              "color": "#E5ECF6",
              "width": 0.5
             },
             "pattern": {
              "fillmode": "overlay",
              "size": 10,
              "solidity": 0.2
             }
            },
            "type": "barpolar"
           }
          ],
          "carpet": [
           {
            "aaxis": {
             "endlinecolor": "#2a3f5f",
             "gridcolor": "white",
             "linecolor": "white",
             "minorgridcolor": "white",
             "startlinecolor": "#2a3f5f"
            },
            "baxis": {
             "endlinecolor": "#2a3f5f",
             "gridcolor": "white",
             "linecolor": "white",
             "minorgridcolor": "white",
             "startlinecolor": "#2a3f5f"
            },
            "type": "carpet"
           }
          ],
          "choropleth": [
           {
            "colorbar": {
             "outlinewidth": 0,
             "ticks": ""
            },
            "type": "choropleth"
           }
          ],
          "contour": [
           {
            "colorbar": {
             "outlinewidth": 0,
             "ticks": ""
            },
            "colorscale": [
             [
              0,
              "#0d0887"
             ],
             [
              0.1111111111111111,
              "#46039f"
             ],
             [
              0.2222222222222222,
              "#7201a8"
             ],
             [
              0.3333333333333333,
              "#9c179e"
             ],
             [
              0.4444444444444444,
              "#bd3786"
             ],
             [
              0.5555555555555556,
              "#d8576b"
             ],
             [
              0.6666666666666666,
              "#ed7953"
             ],
             [
              0.7777777777777778,
              "#fb9f3a"
             ],
             [
              0.8888888888888888,
              "#fdca26"
             ],
             [
              1,
              "#f0f921"
             ]
            ],
            "type": "contour"
           }
          ],
          "contourcarpet": [
           {
            "colorbar": {
             "outlinewidth": 0,
             "ticks": ""
            },
            "type": "contourcarpet"
           }
          ],
          "heatmap": [
           {
            "colorbar": {
             "outlinewidth": 0,
             "ticks": ""
            },
            "colorscale": [
             [
              0,
              "#0d0887"
             ],
             [
              0.1111111111111111,
              "#46039f"
             ],
             [
              0.2222222222222222,
              "#7201a8"
             ],
             [
              0.3333333333333333,
              "#9c179e"
             ],
             [
              0.4444444444444444,
              "#bd3786"
             ],
             [
              0.5555555555555556,
              "#d8576b"
             ],
             [
              0.6666666666666666,
              "#ed7953"
             ],
             [
              0.7777777777777778,
              "#fb9f3a"
             ],
             [
              0.8888888888888888,
              "#fdca26"
             ],
             [
              1,
              "#f0f921"
             ]
            ],
            "type": "heatmap"
           }
          ],
          "heatmapgl": [
           {
            "colorbar": {
             "outlinewidth": 0,
             "ticks": ""
            },
            "colorscale": [
             [
              0,
              "#0d0887"
             ],
             [
              0.1111111111111111,
              "#46039f"
             ],
             [
              0.2222222222222222,
              "#7201a8"
             ],
             [
              0.3333333333333333,
              "#9c179e"
             ],
             [
              0.4444444444444444,
              "#bd3786"
             ],
             [
              0.5555555555555556,
              "#d8576b"
             ],
             [
              0.6666666666666666,
              "#ed7953"
             ],
             [
              0.7777777777777778,
              "#fb9f3a"
             ],
             [
              0.8888888888888888,
              "#fdca26"
             ],
             [
              1,
              "#f0f921"
             ]
            ],
            "type": "heatmapgl"
           }
          ],
          "histogram": [
           {
            "marker": {
             "pattern": {
              "fillmode": "overlay",
              "size": 10,
              "solidity": 0.2
             }
            },
            "type": "histogram"
           }
          ],
          "histogram2d": [
           {
            "colorbar": {
             "outlinewidth": 0,
             "ticks": ""
            },
            "colorscale": [
             [
              0,
              "#0d0887"
             ],
             [
              0.1111111111111111,
              "#46039f"
             ],
             [
              0.2222222222222222,
              "#7201a8"
             ],
             [
              0.3333333333333333,
              "#9c179e"
             ],
             [
              0.4444444444444444,
              "#bd3786"
             ],
             [
              0.5555555555555556,
              "#d8576b"
             ],
             [
              0.6666666666666666,
              "#ed7953"
             ],
             [
              0.7777777777777778,
              "#fb9f3a"
             ],
             [
              0.8888888888888888,
              "#fdca26"
             ],
             [
              1,
              "#f0f921"
             ]
            ],
            "type": "histogram2d"
           }
          ],
          "histogram2dcontour": [
           {
            "colorbar": {
             "outlinewidth": 0,
             "ticks": ""
            },
            "colorscale": [
             [
              0,
              "#0d0887"
             ],
             [
              0.1111111111111111,
              "#46039f"
             ],
             [
              0.2222222222222222,
              "#7201a8"
             ],
             [
              0.3333333333333333,
              "#9c179e"
             ],
             [
              0.4444444444444444,
              "#bd3786"
             ],
             [
              0.5555555555555556,
              "#d8576b"
             ],
             [
              0.6666666666666666,
              "#ed7953"
             ],
             [
              0.7777777777777778,
              "#fb9f3a"
             ],
             [
              0.8888888888888888,
              "#fdca26"
             ],
             [
              1,
              "#f0f921"
             ]
            ],
            "type": "histogram2dcontour"
           }
          ],
          "mesh3d": [
           {
            "colorbar": {
             "outlinewidth": 0,
             "ticks": ""
            },
            "type": "mesh3d"
           }
          ],
          "parcoords": [
           {
            "line": {
             "colorbar": {
              "outlinewidth": 0,
              "ticks": ""
             }
            },
            "type": "parcoords"
           }
          ],
          "pie": [
           {
            "automargin": true,
            "type": "pie"
           }
          ],
          "scatter": [
           {
            "fillpattern": {
             "fillmode": "overlay",
             "size": 10,
             "solidity": 0.2
            },
            "type": "scatter"
           }
          ],
          "scatter3d": [
           {
            "line": {
             "colorbar": {
              "outlinewidth": 0,
              "ticks": ""
             }
            },
            "marker": {
             "colorbar": {
              "outlinewidth": 0,
              "ticks": ""
             }
            },
            "type": "scatter3d"
           }
          ],
          "scattercarpet": [
           {
            "marker": {
             "colorbar": {
              "outlinewidth": 0,
              "ticks": ""
             }
            },
            "type": "scattercarpet"
           }
          ],
          "scattergeo": [
           {
            "marker": {
             "colorbar": {
              "outlinewidth": 0,
              "ticks": ""
             }
            },
            "type": "scattergeo"
           }
          ],
          "scattergl": [
           {
            "marker": {
             "colorbar": {
              "outlinewidth": 0,
              "ticks": ""
             }
            },
            "type": "scattergl"
           }
          ],
          "scattermapbox": [
           {
            "marker": {
             "colorbar": {
              "outlinewidth": 0,
              "ticks": ""
             }
            },
            "type": "scattermapbox"
           }
          ],
          "scatterpolar": [
           {
            "marker": {
             "colorbar": {
              "outlinewidth": 0,
              "ticks": ""
             }
            },
            "type": "scatterpolar"
           }
          ],
          "scatterpolargl": [
           {
            "marker": {
             "colorbar": {
              "outlinewidth": 0,
              "ticks": ""
             }
            },
            "type": "scatterpolargl"
           }
          ],
          "scatterternary": [
           {
            "marker": {
             "colorbar": {
              "outlinewidth": 0,
              "ticks": ""
             }
            },
            "type": "scatterternary"
           }
          ],
          "surface": [
           {
            "colorbar": {
             "outlinewidth": 0,
             "ticks": ""
            },
            "colorscale": [
             [
              0,
              "#0d0887"
             ],
             [
              0.1111111111111111,
              "#46039f"
             ],
             [
              0.2222222222222222,
              "#7201a8"
             ],
             [
              0.3333333333333333,
              "#9c179e"
             ],
             [
              0.4444444444444444,
              "#bd3786"
             ],
             [
              0.5555555555555556,
              "#d8576b"
             ],
             [
              0.6666666666666666,
              "#ed7953"
             ],
             [
              0.7777777777777778,
              "#fb9f3a"
             ],
             [
              0.8888888888888888,
              "#fdca26"
             ],
             [
              1,
              "#f0f921"
             ]
            ],
            "type": "surface"
           }
          ],
          "table": [
           {
            "cells": {
             "fill": {
              "color": "#EBF0F8"
             },
             "line": {
              "color": "white"
             }
            },
            "header": {
             "fill": {
              "color": "#C8D4E3"
             },
             "line": {
              "color": "white"
             }
            },
            "type": "table"
           }
          ]
         },
         "layout": {
          "annotationdefaults": {
           "arrowcolor": "#2a3f5f",
           "arrowhead": 0,
           "arrowwidth": 1
          },
          "autotypenumbers": "strict",
          "coloraxis": {
           "colorbar": {
            "outlinewidth": 0,
            "ticks": ""
           }
          },
          "colorscale": {
           "diverging": [
            [
             0,
             "#8e0152"
            ],
            [
             0.1,
             "#c51b7d"
            ],
            [
             0.2,
             "#de77ae"
            ],
            [
             0.3,
             "#f1b6da"
            ],
            [
             0.4,
             "#fde0ef"
            ],
            [
             0.5,
             "#f7f7f7"
            ],
            [
             0.6,
             "#e6f5d0"
            ],
            [
             0.7,
             "#b8e186"
            ],
            [
             0.8,
             "#7fbc41"
            ],
            [
             0.9,
             "#4d9221"
            ],
            [
             1,
             "#276419"
            ]
           ],
           "sequential": [
            [
             0,
             "#0d0887"
            ],
            [
             0.1111111111111111,
             "#46039f"
            ],
            [
             0.2222222222222222,
             "#7201a8"
            ],
            [
             0.3333333333333333,
             "#9c179e"
            ],
            [
             0.4444444444444444,
             "#bd3786"
            ],
            [
             0.5555555555555556,
             "#d8576b"
            ],
            [
             0.6666666666666666,
             "#ed7953"
            ],
            [
             0.7777777777777778,
             "#fb9f3a"
            ],
            [
             0.8888888888888888,
             "#fdca26"
            ],
            [
             1,
             "#f0f921"
            ]
           ],
           "sequentialminus": [
            [
             0,
             "#0d0887"
            ],
            [
             0.1111111111111111,
             "#46039f"
            ],
            [
             0.2222222222222222,
             "#7201a8"
            ],
            [
             0.3333333333333333,
             "#9c179e"
            ],
            [
             0.4444444444444444,
             "#bd3786"
            ],
            [
             0.5555555555555556,
             "#d8576b"
            ],
            [
             0.6666666666666666,
             "#ed7953"
            ],
            [
             0.7777777777777778,
             "#fb9f3a"
            ],
            [
             0.8888888888888888,
             "#fdca26"
            ],
            [
             1,
             "#f0f921"
            ]
           ]
          },
          "colorway": [
           "#636efa",
           "#EF553B",
           "#00cc96",
           "#ab63fa",
           "#FFA15A",
           "#19d3f3",
           "#FF6692",
           "#B6E880",
           "#FF97FF",
           "#FECB52"
          ],
          "font": {
           "color": "#2a3f5f"
          },
          "geo": {
           "bgcolor": "white",
           "lakecolor": "white",
           "landcolor": "#E5ECF6",
           "showlakes": true,
           "showland": true,
           "subunitcolor": "white"
          },
          "hoverlabel": {
           "align": "left"
          },
          "hovermode": "closest",
          "mapbox": {
           "style": "light"
          },
          "paper_bgcolor": "white",
          "plot_bgcolor": "#E5ECF6",
          "polar": {
           "angularaxis": {
            "gridcolor": "white",
            "linecolor": "white",
            "ticks": ""
           },
           "bgcolor": "#E5ECF6",
           "radialaxis": {
            "gridcolor": "white",
            "linecolor": "white",
            "ticks": ""
           }
          },
          "scene": {
           "xaxis": {
            "backgroundcolor": "#E5ECF6",
            "gridcolor": "white",
            "gridwidth": 2,
            "linecolor": "white",
            "showbackground": true,
            "ticks": "",
            "zerolinecolor": "white"
           },
           "yaxis": {
            "backgroundcolor": "#E5ECF6",
            "gridcolor": "white",
            "gridwidth": 2,
            "linecolor": "white",
            "showbackground": true,
            "ticks": "",
            "zerolinecolor": "white"
           },
           "zaxis": {
            "backgroundcolor": "#E5ECF6",
            "gridcolor": "white",
            "gridwidth": 2,
            "linecolor": "white",
            "showbackground": true,
            "ticks": "",
            "zerolinecolor": "white"
           }
          },
          "shapedefaults": {
           "line": {
            "color": "#2a3f5f"
           }
          },
          "ternary": {
           "aaxis": {
            "gridcolor": "white",
            "linecolor": "white",
            "ticks": ""
           },
           "baxis": {
            "gridcolor": "white",
            "linecolor": "white",
            "ticks": ""
           },
           "bgcolor": "#E5ECF6",
           "caxis": {
            "gridcolor": "white",
            "linecolor": "white",
            "ticks": ""
           }
          },
          "title": {
           "x": 0.05
          },
          "xaxis": {
           "automargin": true,
           "gridcolor": "white",
           "linecolor": "white",
           "ticks": "",
           "title": {
            "standoff": 15
           },
           "zerolinecolor": "white",
           "zerolinewidth": 2
          },
          "yaxis": {
           "automargin": true,
           "gridcolor": "white",
           "linecolor": "white",
           "ticks": "",
           "title": {
            "standoff": 15
           },
           "zerolinecolor": "white",
           "zerolinewidth": 2
          }
         }
        },
        "title": {
         "text": "Luzon LWAP"
        },
        "xaxis": {
         "anchor": "y",
         "domain": [
          0,
          1
         ],
         "title": {
          "text": "Date"
         }
        },
        "yaxis": {
         "anchor": "x",
         "domain": [
          0,
          1
         ],
         "title": {
          "text": "LWAP"
         }
        }
       }
      }
     },
     "metadata": {},
     "output_type": "display_data"
    }
   ],
   "source": [
    "#Plotting Train LWAP ang GWAP\n",
    "# Create the line plot\n",
    "luz_gwap_plot = px.line(LUZ_GWAP_train, x=LUZ_GWAP_train.index, y='GWAP')\n",
    "luz_lwap_plot = px.line(LUZ_LWAP_train, x=LUZ_LWAP_train.index, y='LWAP')\n",
    "# Set the title using the ticker value\n",
    "luz_gwap_plot.update_layout(title=f\"Luzon GWAP\")\n",
    "luz_lwap_plot.update_layout(title=f\"Luzon LWAP\")\n",
    "# Display the plot\n",
    "luz_gwap_plot.show()\n",
    "luz_lwap_plot.show()"
   ]
  },
  {
   "cell_type": "code",
   "execution_count": 46,
   "metadata": {},
   "outputs": [],
   "source": [
    "def perform_differencing(data, max_differences=3):\n",
    "    # Function to check if data is stationary using ADF\n",
    "    def adf_test(series):\n",
    "        result = adfuller(series)\n",
    "        return result[1]  # p-value\n",
    "\n",
    "    # Function to check if data is stationary using KPSS\n",
    "    def kpss_test(series):\n",
    "        result = kpss(series, regression='c')\n",
    "        return result[1]  # p-value\n",
    "\n",
    "    # Check initial stationarity\n",
    "    for i in range(max_differences):\n",
    "        adf_p_value = adf_test(data)\n",
    "        kpss_p_value = kpss_test(data)\n",
    "\n",
    "        # If ADF p-value is less than 0.05 and KPSS p-value is greater than 0.05, it's stationary\n",
    "        if adf_p_value < 0.05 and kpss_p_value > 0.05:\n",
    "            print(f\"Data is stationary after differencing {i} times.\")\n",
    "            return data\n",
    "\n",
    "        # If not stationary, apply differencing\n",
    "        data = data.diff().dropna()\n",
    "\n",
    "    print(f\"Data could not be made stationary after {max_differences} differencing operations.\")\n",
    "    return data\n",
    "\n",
    "#same test for dataframe\n",
    "def perform_df_differencing(data, max_differences=3):\n",
    "    # Function to check if data is stationary using ADF\n",
    "    def adf_test(series):\n",
    "        result = adfuller(series)\n",
    "        return result[1]  # p-value\n",
    "\n",
    "    # Function to check if data is stationary using KPSS \n",
    "    def kpss_test(series):\n",
    "        result = kpss(series, regression='c')\n",
    "        return result[1]  # p-value\n",
    "\n",
    "    # Store in new DataFrame\n",
    "    diff_exog = pd.DataFrame(index=data.index)\n",
    "\n",
    "    # Check each column in the DataFrame\n",
    "    for column in data.columns:\n",
    "        series = data[column].copy()  # Copy the series to avoid modifying the original\n",
    "\n",
    "        for i in range(max_differences):\n",
    "            adf_p_value = adf_test(series)\n",
    "            kpss_p_value = kpss_test(series)\n",
    "\n",
    "            # If stationary, break the loop and store the series\n",
    "            if adf_p_value < 0.05 and kpss_p_value > 0.05:\n",
    "                print(f\"Column '{column}' is stationary after differencing {i} times.\")\n",
    "                diff_exog[column] = series  # Store the stationary series\n",
    "                break\n",
    "\n",
    "            # If not stationary, apply differencing\n",
    "            if i < max_differences - 1:  # Don't drop NA on the last iteration\n",
    "                series = series.diff().dropna()\n",
    "\n",
    "        else:  # This else corresponds to the for-loop\n",
    "            print(f\"Column '{column}' could not be made stationary after {max_differences} differencing operations.\")\n",
    "            diff_exog[column] = series  # Store the last differenced result\n",
    "\n",
    "    return diff_exog\n"
   ]
  },
  {
   "cell_type": "code",
   "execution_count": 55,
   "metadata": {},
   "outputs": [
    {
     "name": "stderr",
     "output_type": "stream",
     "text": [
      "/var/folders/r2/vst9rfjd3ps2_vb675mrrrrw0000gn/T/ipykernel_40048/2411308064.py:9: InterpolationWarning:\n",
      "\n",
      "The test statistic is outside of the range of p-values available in the\n",
      "look-up table. The actual p-value is greater than the p-value returned.\n",
      "\n",
      "\n",
      "/var/folders/r2/vst9rfjd3ps2_vb675mrrrrw0000gn/T/ipykernel_40048/2411308064.py:9: InterpolationWarning:\n",
      "\n",
      "The test statistic is outside of the range of p-values available in the\n",
      "look-up table. The actual p-value is greater than the p-value returned.\n",
      "\n",
      "\n",
      "/var/folders/r2/vst9rfjd3ps2_vb675mrrrrw0000gn/T/ipykernel_40048/2411308064.py:37: InterpolationWarning:\n",
      "\n",
      "The test statistic is outside of the range of p-values available in the\n",
      "look-up table. The actual p-value is greater than the p-value returned.\n",
      "\n",
      "\n",
      "/var/folders/r2/vst9rfjd3ps2_vb675mrrrrw0000gn/T/ipykernel_40048/2411308064.py:37: InterpolationWarning:\n",
      "\n",
      "The test statistic is outside of the range of p-values available in the\n",
      "look-up table. The actual p-value is greater than the p-value returned.\n",
      "\n",
      "\n",
      "/var/folders/r2/vst9rfjd3ps2_vb675mrrrrw0000gn/T/ipykernel_40048/2411308064.py:37: InterpolationWarning:\n",
      "\n",
      "The test statistic is outside of the range of p-values available in the\n",
      "look-up table. The actual p-value is greater than the p-value returned.\n",
      "\n",
      "\n",
      "/var/folders/r2/vst9rfjd3ps2_vb675mrrrrw0000gn/T/ipykernel_40048/2411308064.py:37: InterpolationWarning:\n",
      "\n",
      "The test statistic is outside of the range of p-values available in the\n",
      "look-up table. The actual p-value is greater than the p-value returned.\n",
      "\n",
      "\n",
      "/var/folders/r2/vst9rfjd3ps2_vb675mrrrrw0000gn/T/ipykernel_40048/2411308064.py:37: InterpolationWarning:\n",
      "\n",
      "The test statistic is outside of the range of p-values available in the\n",
      "look-up table. The actual p-value is smaller than the p-value returned.\n",
      "\n",
      "\n",
      "/var/folders/r2/vst9rfjd3ps2_vb675mrrrrw0000gn/T/ipykernel_40048/2411308064.py:37: InterpolationWarning:\n",
      "\n",
      "The test statistic is outside of the range of p-values available in the\n",
      "look-up table. The actual p-value is greater than the p-value returned.\n",
      "\n",
      "\n",
      "/var/folders/r2/vst9rfjd3ps2_vb675mrrrrw0000gn/T/ipykernel_40048/2411308064.py:37: InterpolationWarning:\n",
      "\n",
      "The test statistic is outside of the range of p-values available in the\n",
      "look-up table. The actual p-value is greater than the p-value returned.\n",
      "\n",
      "\n",
      "/var/folders/r2/vst9rfjd3ps2_vb675mrrrrw0000gn/T/ipykernel_40048/2411308064.py:37: InterpolationWarning:\n",
      "\n",
      "The test statistic is outside of the range of p-values available in the\n",
      "look-up table. The actual p-value is greater than the p-value returned.\n",
      "\n",
      "\n",
      "/var/folders/r2/vst9rfjd3ps2_vb675mrrrrw0000gn/T/ipykernel_40048/2411308064.py:37: InterpolationWarning:\n",
      "\n",
      "The test statistic is outside of the range of p-values available in the\n",
      "look-up table. The actual p-value is greater than the p-value returned.\n",
      "\n",
      "\n",
      "/var/folders/r2/vst9rfjd3ps2_vb675mrrrrw0000gn/T/ipykernel_40048/2411308064.py:37: InterpolationWarning:\n",
      "\n",
      "The test statistic is outside of the range of p-values available in the\n",
      "look-up table. The actual p-value is greater than the p-value returned.\n",
      "\n",
      "\n",
      "/var/folders/r2/vst9rfjd3ps2_vb675mrrrrw0000gn/T/ipykernel_40048/2411308064.py:37: InterpolationWarning:\n",
      "\n",
      "The test statistic is outside of the range of p-values available in the\n",
      "look-up table. The actual p-value is greater than the p-value returned.\n",
      "\n",
      "\n"
     ]
    },
    {
     "name": "stdout",
     "output_type": "stream",
     "text": [
      "Data is stationary after differencing 0 times.\n",
      "Data is stationary after differencing 0 times.\n",
      "Column 'FLOW_LUZ' is stationary after differencing 0 times.\n",
      "Column 'RESERVE_GWAP_Fr' is stationary after differencing 0 times.\n",
      "Column 'RESERVE_GWAP_Ru' is stationary after differencing 0 times.\n",
      "Column 'RESERVE_GWAP_Rd' is stationary after differencing 0 times.\n",
      "Column 'RESERVE_GWAP_Dr' is stationary after differencing 1 times.\n",
      "Column 'Hourly Demand' is stationary after differencing 1 times.\n",
      "Column 'RAINFALL_Cubi Point' is stationary after differencing 0 times.\n",
      "Column 'TMAX_Cubi Point' is stationary after differencing 1 times.\n",
      "Column 'TMIN_Cubi Point' is stationary after differencing 1 times.\n",
      "Column 'RAINFALL_NAIA' is stationary after differencing 1 times.\n"
     ]
    },
    {
     "name": "stderr",
     "output_type": "stream",
     "text": [
      "/var/folders/r2/vst9rfjd3ps2_vb675mrrrrw0000gn/T/ipykernel_40048/2411308064.py:37: InterpolationWarning:\n",
      "\n",
      "The test statistic is outside of the range of p-values available in the\n",
      "look-up table. The actual p-value is greater than the p-value returned.\n",
      "\n",
      "\n",
      "/var/folders/r2/vst9rfjd3ps2_vb675mrrrrw0000gn/T/ipykernel_40048/2411308064.py:37: InterpolationWarning:\n",
      "\n",
      "The test statistic is outside of the range of p-values available in the\n",
      "look-up table. The actual p-value is greater than the p-value returned.\n",
      "\n",
      "\n",
      "/var/folders/r2/vst9rfjd3ps2_vb675mrrrrw0000gn/T/ipykernel_40048/2411308064.py:37: InterpolationWarning:\n",
      "\n",
      "The test statistic is outside of the range of p-values available in the\n",
      "look-up table. The actual p-value is smaller than the p-value returned.\n",
      "\n",
      "\n",
      "/var/folders/r2/vst9rfjd3ps2_vb675mrrrrw0000gn/T/ipykernel_40048/2411308064.py:37: InterpolationWarning:\n",
      "\n",
      "The test statistic is outside of the range of p-values available in the\n",
      "look-up table. The actual p-value is greater than the p-value returned.\n",
      "\n",
      "\n",
      "/var/folders/r2/vst9rfjd3ps2_vb675mrrrrw0000gn/T/ipykernel_40048/2411308064.py:37: InterpolationWarning:\n",
      "\n",
      "The test statistic is outside of the range of p-values available in the\n",
      "look-up table. The actual p-value is greater than the p-value returned.\n",
      "\n",
      "\n",
      "/var/folders/r2/vst9rfjd3ps2_vb675mrrrrw0000gn/T/ipykernel_40048/2411308064.py:37: InterpolationWarning:\n",
      "\n",
      "The test statistic is outside of the range of p-values available in the\n",
      "look-up table. The actual p-value is greater than the p-value returned.\n",
      "\n",
      "\n",
      "/var/folders/r2/vst9rfjd3ps2_vb675mrrrrw0000gn/T/ipykernel_40048/2411308064.py:37: InterpolationWarning:\n",
      "\n",
      "The test statistic is outside of the range of p-values available in the\n",
      "look-up table. The actual p-value is smaller than the p-value returned.\n",
      "\n",
      "\n",
      "/var/folders/r2/vst9rfjd3ps2_vb675mrrrrw0000gn/T/ipykernel_40048/2411308064.py:37: InterpolationWarning:\n",
      "\n",
      "The test statistic is outside of the range of p-values available in the\n",
      "look-up table. The actual p-value is greater than the p-value returned.\n",
      "\n",
      "\n",
      "/var/folders/r2/vst9rfjd3ps2_vb675mrrrrw0000gn/T/ipykernel_40048/2411308064.py:37: InterpolationWarning:\n",
      "\n",
      "The test statistic is outside of the range of p-values available in the\n",
      "look-up table. The actual p-value is greater than the p-value returned.\n",
      "\n",
      "\n",
      "/var/folders/r2/vst9rfjd3ps2_vb675mrrrrw0000gn/T/ipykernel_40048/2411308064.py:37: InterpolationWarning:\n",
      "\n",
      "The test statistic is outside of the range of p-values available in the\n",
      "look-up table. The actual p-value is greater than the p-value returned.\n",
      "\n",
      "\n",
      "/var/folders/r2/vst9rfjd3ps2_vb675mrrrrw0000gn/T/ipykernel_40048/2411308064.py:37: InterpolationWarning:\n",
      "\n",
      "The test statistic is outside of the range of p-values available in the\n",
      "look-up table. The actual p-value is greater than the p-value returned.\n",
      "\n",
      "\n"
     ]
    },
    {
     "name": "stdout",
     "output_type": "stream",
     "text": [
      "Column 'TMAX_NAIA' is stationary after differencing 0 times.\n",
      "Column 'TMIN_NAIA' is stationary after differencing 1 times.\n",
      "Column 'RAINFALL_Science Garden' is stationary after differencing 1 times.\n",
      "Column 'TMAX_Science Garden' is stationary after differencing 0 times.\n",
      "Column 'TMIN_Science Garden' is stationary after differencing 0 times.\n",
      "Column 'RAINFALL_San Jose' is stationary after differencing 0 times.\n",
      "Column 'TMAX_San Jose' is stationary after differencing 1 times.\n",
      "Column 'TMIN_San Jose' is stationary after differencing 0 times.\n",
      "Column 'RAINFALL_Tayabas' is stationary after differencing 0 times.\n",
      "Column 'TMAX_Tayabas' is stationary after differencing 0 times.\n",
      "Column 'TMIN_Tayabas' is stationary after differencing 1 times.\n"
     ]
    },
    {
     "name": "stderr",
     "output_type": "stream",
     "text": [
      "/var/folders/r2/vst9rfjd3ps2_vb675mrrrrw0000gn/T/ipykernel_40048/2411308064.py:37: InterpolationWarning:\n",
      "\n",
      "The test statistic is outside of the range of p-values available in the\n",
      "look-up table. The actual p-value is greater than the p-value returned.\n",
      "\n",
      "\n",
      "/var/folders/r2/vst9rfjd3ps2_vb675mrrrrw0000gn/T/ipykernel_40048/2411308064.py:37: InterpolationWarning:\n",
      "\n",
      "The test statistic is outside of the range of p-values available in the\n",
      "look-up table. The actual p-value is greater than the p-value returned.\n",
      "\n",
      "\n",
      "/var/folders/r2/vst9rfjd3ps2_vb675mrrrrw0000gn/T/ipykernel_40048/2411308064.py:37: InterpolationWarning:\n",
      "\n",
      "The test statistic is outside of the range of p-values available in the\n",
      "look-up table. The actual p-value is smaller than the p-value returned.\n",
      "\n",
      "\n",
      "/var/folders/r2/vst9rfjd3ps2_vb675mrrrrw0000gn/T/ipykernel_40048/2411308064.py:37: InterpolationWarning:\n",
      "\n",
      "The test statistic is outside of the range of p-values available in the\n",
      "look-up table. The actual p-value is greater than the p-value returned.\n",
      "\n",
      "\n",
      "/var/folders/r2/vst9rfjd3ps2_vb675mrrrrw0000gn/T/ipykernel_40048/2411308064.py:37: InterpolationWarning:\n",
      "\n",
      "The test statistic is outside of the range of p-values available in the\n",
      "look-up table. The actual p-value is smaller than the p-value returned.\n",
      "\n",
      "\n",
      "/var/folders/r2/vst9rfjd3ps2_vb675mrrrrw0000gn/T/ipykernel_40048/2411308064.py:37: InterpolationWarning:\n",
      "\n",
      "The test statistic is outside of the range of p-values available in the\n",
      "look-up table. The actual p-value is greater than the p-value returned.\n",
      "\n",
      "\n",
      "/var/folders/r2/vst9rfjd3ps2_vb675mrrrrw0000gn/T/ipykernel_40048/2411308064.py:37: InterpolationWarning:\n",
      "\n",
      "The test statistic is outside of the range of p-values available in the\n",
      "look-up table. The actual p-value is smaller than the p-value returned.\n",
      "\n",
      "\n",
      "/var/folders/r2/vst9rfjd3ps2_vb675mrrrrw0000gn/T/ipykernel_40048/2411308064.py:37: InterpolationWarning:\n",
      "\n",
      "The test statistic is outside of the range of p-values available in the\n",
      "look-up table. The actual p-value is greater than the p-value returned.\n",
      "\n",
      "\n",
      "/var/folders/r2/vst9rfjd3ps2_vb675mrrrrw0000gn/T/ipykernel_40048/2411308064.py:37: InterpolationWarning:\n",
      "\n",
      "The test statistic is outside of the range of p-values available in the\n",
      "look-up table. The actual p-value is greater than the p-value returned.\n",
      "\n",
      "\n"
     ]
    },
    {
     "name": "stdout",
     "output_type": "stream",
     "text": [
      "Column 'RAINFALL_CLSU' is stationary after differencing 1 times.\n",
      "Column 'TMAX_CLSU' is stationary after differencing 1 times.\n",
      "Column 'TMIN_CLSU' is stationary after differencing 1 times.\n",
      "Column 'RAINFALL_Tanay' is stationary after differencing 1 times.\n",
      "Column 'TMAX_Tanay' is stationary after differencing 1 times.\n",
      "Column 'TMIN_Tanay' is stationary after differencing 1 times.\n",
      "Column 'RAINFALL_Ambulong' is stationary after differencing 0 times.\n",
      "Column 'TMAX_Ambulong' is stationary after differencing 0 times.\n",
      "Column 'TMIN_Ambulong' is stationary after differencing 0 times.\n",
      "Column 'RAINFALL_Casiguran' is stationary after differencing 0 times.\n",
      "Column 'TMAX_Casiguran' is stationary after differencing 1 times.\n",
      "Column 'TMIN_Casiguran' is stationary after differencing 1 times.\n",
      "Column 'RAINFALL_Clark' is stationary after differencing 0 times.\n",
      "Column 'TMAX_Clark' is stationary after differencing 1 times.\n",
      "Column 'TMIN_Clark' is stationary after differencing 0 times.\n",
      "Column 'RAINFALL_Calapan' is stationary after differencing 1 times.\n",
      "Column 'TMAX_Calapan' is stationary after differencing 0 times.\n",
      "Column 'TMIN_Calapan' is stationary after differencing 0 times.\n"
     ]
    },
    {
     "name": "stderr",
     "output_type": "stream",
     "text": [
      "/var/folders/r2/vst9rfjd3ps2_vb675mrrrrw0000gn/T/ipykernel_40048/2411308064.py:37: InterpolationWarning:\n",
      "\n",
      "The test statistic is outside of the range of p-values available in the\n",
      "look-up table. The actual p-value is greater than the p-value returned.\n",
      "\n",
      "\n",
      "/var/folders/r2/vst9rfjd3ps2_vb675mrrrrw0000gn/T/ipykernel_40048/2411308064.py:37: InterpolationWarning:\n",
      "\n",
      "The test statistic is outside of the range of p-values available in the\n",
      "look-up table. The actual p-value is greater than the p-value returned.\n",
      "\n",
      "\n",
      "/var/folders/r2/vst9rfjd3ps2_vb675mrrrrw0000gn/T/ipykernel_40048/2411308064.py:37: InterpolationWarning:\n",
      "\n",
      "The test statistic is outside of the range of p-values available in the\n",
      "look-up table. The actual p-value is greater than the p-value returned.\n",
      "\n",
      "\n",
      "/var/folders/r2/vst9rfjd3ps2_vb675mrrrrw0000gn/T/ipykernel_40048/2411308064.py:37: InterpolationWarning:\n",
      "\n",
      "The test statistic is outside of the range of p-values available in the\n",
      "look-up table. The actual p-value is greater than the p-value returned.\n",
      "\n",
      "\n",
      "/var/folders/r2/vst9rfjd3ps2_vb675mrrrrw0000gn/T/ipykernel_40048/2411308064.py:37: InterpolationWarning:\n",
      "\n",
      "The test statistic is outside of the range of p-values available in the\n",
      "look-up table. The actual p-value is greater than the p-value returned.\n",
      "\n",
      "\n",
      "/var/folders/r2/vst9rfjd3ps2_vb675mrrrrw0000gn/T/ipykernel_40048/2411308064.py:37: InterpolationWarning:\n",
      "\n",
      "The test statistic is outside of the range of p-values available in the\n",
      "look-up table. The actual p-value is greater than the p-value returned.\n",
      "\n",
      "\n",
      "/var/folders/r2/vst9rfjd3ps2_vb675mrrrrw0000gn/T/ipykernel_40048/2411308064.py:37: InterpolationWarning:\n",
      "\n",
      "The test statistic is outside of the range of p-values available in the\n",
      "look-up table. The actual p-value is greater than the p-value returned.\n",
      "\n",
      "\n",
      "/var/folders/r2/vst9rfjd3ps2_vb675mrrrrw0000gn/T/ipykernel_40048/2411308064.py:37: InterpolationWarning:\n",
      "\n",
      "The test statistic is outside of the range of p-values available in the\n",
      "look-up table. The actual p-value is greater than the p-value returned.\n",
      "\n",
      "\n",
      "/var/folders/r2/vst9rfjd3ps2_vb675mrrrrw0000gn/T/ipykernel_40048/2411308064.py:37: InterpolationWarning:\n",
      "\n",
      "The test statistic is outside of the range of p-values available in the\n",
      "look-up table. The actual p-value is greater than the p-value returned.\n",
      "\n",
      "\n",
      "/var/folders/r2/vst9rfjd3ps2_vb675mrrrrw0000gn/T/ipykernel_40048/2411308064.py:37: InterpolationWarning:\n",
      "\n",
      "The test statistic is outside of the range of p-values available in the\n",
      "look-up table. The actual p-value is greater than the p-value returned.\n",
      "\n",
      "\n"
     ]
    }
   ],
   "source": [
    "#Checking for stationarity in GWAP data\n",
    "perform_differencing(LUZ_GWAP_train)\n",
    "perform_differencing(LUZ_LWAP_train)\n",
    "\n",
    "LUZ_diff_exog = perform_df_differencing(LUZ_exog_train)\n",
    "LUZ_diff_exog = LUZ_diff_exog.fillna(0)\n"
   ]
  },
  {
   "cell_type": "code",
   "execution_count": 56,
   "metadata": {},
   "outputs": [
    {
     "name": "stdout",
     "output_type": "stream",
     "text": [
      "            FLOW_LUZ  RESERVE_GWAP_Fr  RESERVE_GWAP_Ru  RESERVE_GWAP_Rd  \\\n",
      "Date                                                                      \n",
      "2022-01-01  0.279279         0.379310         0.348315         0.326733   \n",
      "2022-01-02  0.342342         0.318966         0.224719         0.306931   \n",
      "2022-01-03  0.378378         0.439655         0.348315         0.386139   \n",
      "2022-01-04  0.414414         0.474138         0.314607         0.386139   \n",
      "2022-01-05  0.432432         0.500000         0.426966         0.425743   \n",
      "...              ...              ...              ...              ...   \n",
      "2023-08-03  0.351351         0.534483         0.651685         0.514851   \n",
      "2023-08-04  0.396396         0.586207         0.730337         0.485149   \n",
      "2023-08-05  0.342342         0.525862         0.853933         0.534653   \n",
      "2023-08-06  0.432432         0.551724         0.696629         0.584158   \n",
      "2023-08-07  0.414414         0.568966         0.629213         0.465347   \n",
      "\n",
      "            RESERVE_GWAP_Dr  Hourly Demand  RAINFALL_Cubi Point  \\\n",
      "Date                                                              \n",
      "2022-01-01         0.000000       0.000000             0.368421   \n",
      "2022-01-02        -0.098214       0.016949             0.078947   \n",
      "2022-01-03         0.151786      -0.211864             0.254386   \n",
      "2022-01-04        -0.071429      -0.042373             0.385965   \n",
      "2022-01-05        -0.035714       0.127119             0.456140   \n",
      "...                     ...            ...                  ...   \n",
      "2023-08-03        -0.026786       0.169492             0.789474   \n",
      "2023-08-04         0.214286      -0.093220             0.877193   \n",
      "2023-08-05        -0.160714       0.144068             0.763158   \n",
      "2023-08-06         0.080357       0.033898             0.719298   \n",
      "2023-08-07         0.044643      -0.025424             0.728070   \n",
      "\n",
      "            TMAX_Cubi Point  TMIN_Cubi Point  RAINFALL_NAIA  ...  \\\n",
      "Date                                                         ...   \n",
      "2022-01-01         0.000000         0.000000       0.000000  ...   \n",
      "2022-01-02        -0.040541         0.041322       0.070423  ...   \n",
      "2022-01-03         0.162162        -0.033058      -0.028169  ...   \n",
      "2022-01-04        -0.027027         0.008264       0.070423  ...   \n",
      "2022-01-05        -0.054054         0.041322      -0.028169  ...   \n",
      "...                     ...              ...            ...  ...   \n",
      "2023-08-03         0.067568        -0.041322       0.169014  ...   \n",
      "2023-08-04         0.175676         0.107438      -0.070423  ...   \n",
      "2023-08-05        -0.040541         0.033058      -0.042254  ...   \n",
      "2023-08-06        -0.067568         0.049587       0.084507  ...   \n",
      "2023-08-07        -0.040541         0.041322       0.000000  ...   \n",
      "\n",
      "            TMIN_Ambulong  RAINFALL_Casiguran  TMAX_Casiguran  TMIN_Casiguran  \\\n",
      "Date                                                                            \n",
      "2022-01-01       0.000000            0.460708        0.000000        0.000000   \n",
      "2022-01-02       0.416132            0.543042        0.000000       -0.341918   \n",
      "2022-01-03       0.416132            0.000000        0.000000        0.341918   \n",
      "2022-01-04       0.416132            0.297818        0.000000        0.000000   \n",
      "2022-01-05       0.416132            0.000000        0.000000        0.000000   \n",
      "...                   ...                 ...             ...             ...   \n",
      "2023-08-03       0.747313            0.235760       -0.161315       -0.242455   \n",
      "2023-08-04       0.667048            0.235760        0.166837        0.101187   \n",
      "2023-08-05       0.416132            0.235760       -0.148140       -0.037647   \n",
      "2023-08-06       0.416132            0.235760        0.041664       -0.110055   \n",
      "2023-08-07       0.687053            0.000000       -0.010598        0.260863   \n",
      "\n",
      "            RAINFALL_Clark  TMAX_Clark  TMIN_Clark  RAINFALL_Calapan  \\\n",
      "Date                                                                   \n",
      "2022-01-01        0.183211    0.000000    0.412346          0.000000   \n",
      "2022-01-02        0.055467    0.047184    0.000000         -0.146128   \n",
      "2022-01-03        0.144227    0.020496    0.412346          0.000000   \n",
      "2022-01-04        0.281655   -0.020496    0.412346          0.306746   \n",
      "2022-01-05        0.351170    0.031108    0.412346         -0.078305   \n",
      "...                    ...         ...         ...               ...   \n",
      "2023-08-03        0.405376   -0.050692    0.412346          0.000000   \n",
      "2023-08-04        0.480444    0.000000    0.434658          0.000000   \n",
      "2023-08-05        0.538860    0.086302    0.454412          0.000000   \n",
      "2023-08-06        0.396218    0.018368    0.606735          0.000000   \n",
      "2023-08-07        0.470885   -0.071232    0.454412          0.000000   \n",
      "\n",
      "            TMAX_Calapan  TMIN_Calapan  \n",
      "Date                                    \n",
      "2022-01-01      0.413148      0.554929  \n",
      "2022-01-02      0.413148      0.794508  \n",
      "2022-01-03      0.413148      0.446631  \n",
      "2022-01-04      0.413148      0.446631  \n",
      "2022-01-05      0.413148      0.446631  \n",
      "...                  ...           ...  \n",
      "2023-08-03      0.692034      0.470213  \n",
      "2023-08-04      0.455595      0.446631  \n",
      "2023-08-05      0.000000      0.446631  \n",
      "2023-08-06      0.517692      0.446631  \n",
      "2023-08-07      0.000000      0.446631  \n",
      "\n",
      "[584 rows x 39 columns]\n"
     ]
    }
   ],
   "source": [
    "print(LUZ_diff_exog)"
   ]
  },
  {
   "cell_type": "code",
   "execution_count": 57,
   "metadata": {},
   "outputs": [
    {
     "name": "stdout",
     "output_type": "stream",
     "text": [
      "Date\n",
      "2022-01-01    0.278764\n",
      "2022-01-02    0.337307\n",
      "2022-01-03    0.443016\n",
      "2022-01-04    0.525069\n",
      "2022-01-05    0.808333\n",
      "                ...   \n",
      "2023-08-03    0.331255\n",
      "2023-08-04    0.447944\n",
      "2023-08-05    0.427384\n",
      "2023-08-06    0.431395\n",
      "2023-08-07    0.445290\n",
      "Freq: D, Name: GWAP, Length: 584, dtype: float64\n"
     ]
    }
   ],
   "source": [
    "print(LUZ_GWAP_train)"
   ]
  },
  {
   "cell_type": "code",
   "execution_count": 59,
   "metadata": {},
   "outputs": [
    {
     "data": {
      "image/png": "[encoded data removed]",
      "text/plain": [
       "<Figure size 640x480 with 1 Axes>"
      ]
     },
     "execution_count": 59,
     "metadata": {},
     "output_type": "execute_result"
    },
    {
     "data": {
      "image/png": "[encoded data removed]",
      "text/plain": [
       "<Figure size 640x480 with 1 Axes>"
      ]
     },
     "metadata": {},
     "output_type": "display_data"
    },
    {
     "data": {
      "image/png": "[encoded data removed]",
      "text/plain": [
       "<Figure size 640x480 with 1 Axes>"
      ]
     },
     "metadata": {},
     "output_type": "display_data"
    }
   ],
   "source": [
    "# Visualize autocorrelation using plot_acf\n",
    "plot_acf(LUZ_GWAP_train, lags=25, alpha=0.05)  # Plot autocorrelation using plot_acf with confidence interval\n",
    "# Generate a partial autocorrelation plot\n",
    "plot_pacf(LUZ_GWAP_train, lags=25, alpha=0.05)"
   ]
  },
  {
   "cell_type": "code",
   "execution_count": 62,
   "metadata": {},
   "outputs": [
    {
     "name": "stdout",
     "output_type": "stream",
     "text": [
      "Performing stepwise search to minimize aic\n",
      " ARIMA(0,1,0)(0,0,0)[0] intercept   : AIC=-1019.602, Time=0.06 sec\n",
      " ARIMA(1,1,0)(0,0,0)[0] intercept   : AIC=-1028.298, Time=0.02 sec\n",
      " ARIMA(0,1,1)(0,0,0)[0] intercept   : AIC=-1033.009, Time=0.04 sec\n",
      " ARIMA(0,1,0)(0,0,0)[0]             : AIC=-1021.597, Time=0.02 sec\n",
      " ARIMA(1,1,1)(0,0,0)[0] intercept   : AIC=-1065.384, Time=0.11 sec\n",
      " ARIMA(1,1,2)(0,0,0)[0] intercept   : AIC=-1064.312, Time=0.19 sec\n",
      " ARIMA(0,1,2)(0,0,0)[0] intercept   : AIC=-1048.248, Time=0.07 sec\n",
      " ARIMA(1,1,1)(0,0,0)[0]             : AIC=-1067.240, Time=0.05 sec\n",
      " ARIMA(0,1,1)(0,0,0)[0]             : AIC=-1035.004, Time=0.03 sec\n",
      " ARIMA(1,1,0)(0,0,0)[0]             : AIC=-1030.293, Time=0.02 sec\n",
      " ARIMA(1,1,2)(0,0,0)[0]             : AIC=-1066.236, Time=0.09 sec\n",
      " ARIMA(0,1,2)(0,0,0)[0]             : AIC=-1050.245, Time=0.03 sec\n",
      "\n",
      "Best model:  ARIMA(1,1,1)(0,0,0)[0]          \n",
      "Total fit time: 0.737 seconds\n"
     ]
    }
   ],
   "source": [
    "#PACF for GWAP cuts off at lag 1; ACF for LWAP cuts off at lag 13\n",
    "#Auto-Arima: Identification of best orders using AIC\n",
    "LUZ_GWAP_sarimax = auto_arima(LUZ_GWAP_train, \n",
    "                            start_p=0, start_d=0, start_q=0,\n",
    "                            max_p=1, max_d=2, max_q=13, \n",
    "                            seasonal=False,\n",
    "                            error_action='warn', trace=True,\n",
    "                            suppress_warnings=True, stepwise=True,\n",
    "                            exog=LUZ_diff_exog)"
   ]
  },
  {
   "cell_type": "code",
   "execution_count": 92,
   "metadata": {},
   "outputs": [
    {
     "name": "stdout",
     "output_type": "stream",
     "text": [
      "Date\n",
      "2022-01-01    0.278764\n",
      "2022-01-02    0.337307\n",
      "2022-01-03    0.443016\n",
      "2022-01-04    0.525069\n",
      "2022-01-05    0.808333\n",
      "                ...   \n",
      "2023-08-03    0.331255\n",
      "2023-08-04    0.447944\n",
      "2023-08-05    0.427384\n",
      "2023-08-06    0.431395\n",
      "2023-08-07    0.445290\n",
      "Freq: D, Name: GWAP, Length: 584, dtype: float64\n",
      "         GWAP      LWAP  FLOW_LUZ  RESERVE_GWAP_Fr  RESERVE_GWAP_Ru  \\\n",
      "0    0.699592  0.007430  0.279279         0.379310         0.348315   \n",
      "1    0.699592  0.051217  0.342342         0.318966         0.224719   \n",
      "2    0.699313  0.278965  0.378378         0.439655         0.348315   \n",
      "3    0.698963  0.373526  0.414414         0.474138         0.314607   \n",
      "4    0.698890  0.408867  0.432432         0.500000         0.426966   \n",
      "..        ...       ...       ...              ...              ...   \n",
      "579  1.000000  0.654257  0.351351         0.534483         0.651685   \n",
      "580  0.680691  0.729433  0.396396         0.586207         0.730337   \n",
      "581  0.571970  0.709250  0.342342         0.525862         0.853933   \n",
      "582  0.391242  0.612099  0.432432         0.551724         0.696629   \n",
      "583  0.690517  0.806836  0.414414         0.568966         0.629213   \n",
      "\n",
      "     RESERVE_GWAP_Rd  RESERVE_GWAP_Dr  Hourly Demand  RAINFALL_Cubi Point  \\\n",
      "0           0.326733         0.625000       0.432203             0.368421   \n",
      "1           0.306931         0.526786       0.449153             0.078947   \n",
      "2           0.386139         0.678571       0.237288             0.254386   \n",
      "3           0.386139         0.607143       0.194915             0.385965   \n",
      "4           0.425743         0.571429       0.322034             0.456140   \n",
      "..               ...              ...            ...                  ...   \n",
      "579         0.514851         0.375000       0.915254             0.789474   \n",
      "580         0.485149         0.589286       0.822034             0.877193   \n",
      "581         0.534653         0.428571       0.966102             0.763158   \n",
      "582         0.584158         0.508929       1.000000             0.719298   \n",
      "583         0.465347         0.553571       0.974576             0.728070   \n",
      "\n",
      "     TMAX_Cubi Point  ...  TMIN_Ambulong  RAINFALL_Casiguran  TMAX_Casiguran  \\\n",
      "0           0.229730  ...       0.000000            0.460708        0.479208   \n",
      "1           0.189189  ...       0.416132            0.543042        0.479208   \n",
      "2           0.351351  ...       0.416132            0.000000        0.479208   \n",
      "3           0.324324  ...       0.416132            0.297818        0.479208   \n",
      "4           0.270270  ...       0.416132            0.000000        0.479208   \n",
      "..               ...  ...            ...                 ...             ...   \n",
      "579         0.662162  ...       0.747313            0.235760        0.783880   \n",
      "580         0.837838  ...       0.667048            0.235760        0.950717   \n",
      "581         0.797297  ...       0.416132            0.235760        0.802577   \n",
      "582         0.729730  ...       0.416132            0.235760        0.844241   \n",
      "583         0.689189  ...       0.687053            0.000000        0.833643   \n",
      "\n",
      "     TMIN_Casiguran  RAINFALL_Clark  TMAX_Clark  TMIN_Clark  RAINFALL_Calapan  \\\n",
      "0          0.341918        0.183211    0.159963    0.412346          0.549809   \n",
      "1          0.000000        0.055467    0.207147    0.000000          0.403680   \n",
      "2          0.341918        0.144227    0.227643    0.412346          0.403680   \n",
      "3          0.341918        0.281655    0.207147    0.412346          0.710426   \n",
      "4          0.341918        0.351170    0.238256    0.412346          0.632121   \n",
      "..              ...             ...         ...         ...               ...   \n",
      "579        0.611450        0.405376    0.492803    0.412346          0.403680   \n",
      "580        0.712637        0.480444    0.492803    0.434658          0.403680   \n",
      "581        0.674990        0.538860    0.579105    0.454412          0.403680   \n",
      "582        0.564935        0.396218    0.597473    0.606735          0.403680   \n",
      "583        0.825798        0.470885    0.526241    0.454412          0.403680   \n",
      "\n",
      "     TMAX_Calapan  TMIN_Calapan  \n",
      "0        0.413148      0.554929  \n",
      "1        0.413148      0.794508  \n",
      "2        0.413148      0.446631  \n",
      "3        0.413148      0.446631  \n",
      "4        0.413148      0.446631  \n",
      "..            ...           ...  \n",
      "579      0.692034      0.470213  \n",
      "580      0.455595      0.446631  \n",
      "581      0.000000      0.446631  \n",
      "582      0.517692      0.446631  \n",
      "583      0.000000      0.446631  \n",
      "\n",
      "[584 rows x 41 columns]\n"
     ]
    }
   ],
   "source": [
    "print(LUZ_GWAP_train)\n",
    "print(LUZ_data_train)"
   ]
  },
  {
   "cell_type": "code",
   "execution_count": 103,
   "metadata": {},
   "outputs": [
    {
     "name": "stdout",
     "output_type": "stream",
     "text": [
      "                FLOW_LUZ  RESERVE_GWAP_Fr  RESERVE_GWAP_Ru  RESERVE_GWAP_Rd  \\\n",
      "Date                                                                          \n",
      "2022-01-01      0.279279         0.379310         0.348315         0.326733   \n",
      "2022-01-02      0.342342         0.318966         0.224719         0.306931   \n",
      "2022-01-03      0.378378         0.439655         0.348315         0.386139   \n",
      "2022-01-04      0.414414         0.474138         0.314607         0.386139   \n",
      "2022-01-05      0.432432         0.500000         0.426966         0.425743   \n",
      "...                  ...              ...              ...              ...   \n",
      "2023-12-27 -24416.540000      3698.677664      6068.115985      1208.347276   \n",
      "2023-12-28 -18873.450000      3268.687856      6649.677833      3186.783962   \n",
      "2023-12-29   5849.070000        75.866019      7602.698723      2349.359595   \n",
      "2023-12-30  13005.470000        52.908627        87.260609         0.000064   \n",
      "2023-12-31 -12328.640000         6.778533       640.291309         1.317087   \n",
      "\n",
      "            RESERVE_GWAP_Dr  Hourly Demand  RAINFALL_Cubi Point  \\\n",
      "Date                                                              \n",
      "2022-01-01         0.625000       0.432203             0.368421   \n",
      "2022-01-02         0.526786       0.449153             0.078947   \n",
      "2022-01-03         0.678571       0.237288             0.254386   \n",
      "2022-01-04         0.607143       0.194915             0.385965   \n",
      "2022-01-05         0.571429       0.322034             0.456140   \n",
      "...                     ...            ...                  ...   \n",
      "2023-12-27       167.767873  200355.000000             0.000000   \n",
      "2023-12-28         1.659022  204468.000000             0.000000   \n",
      "2023-12-29        71.272021  201231.000000             0.000000   \n",
      "2023-12-30        49.692740  187399.000000            -1.000000   \n",
      "2023-12-31         7.402608  182278.000000             0.000000   \n",
      "\n",
      "            TMAX_Cubi Point  TMIN_Cubi Point  RAINFALL_NAIA  ...  \\\n",
      "Date                                                         ...   \n",
      "2022-01-01         0.229730         0.305785       0.267606  ...   \n",
      "2022-01-02         0.189189         0.347107       0.338028  ...   \n",
      "2022-01-03         0.351351         0.314050       0.309859  ...   \n",
      "2022-01-04         0.324324         0.322314       0.380282  ...   \n",
      "2022-01-05         0.270270         0.363636       0.352113  ...   \n",
      "...                     ...              ...            ...  ...   \n",
      "2023-12-27        33.300000        24.300000       5.500000  ...   \n",
      "2023-12-28        32.700000        23.600000       0.000000  ...   \n",
      "2023-12-29        33.300000        23.900000       0.500000  ...   \n",
      "2023-12-30        34.100000        23.700000      -1.000000  ...   \n",
      "2023-12-31        34.100000        25.300000       0.000000  ...   \n",
      "\n",
      "            TMIN_Ambulong  RAINFALL_Casiguran  TMAX_Casiguran  TMIN_Casiguran  \\\n",
      "Date                                                                            \n",
      "2022-01-01       0.000000            0.460708        0.479208        0.341918   \n",
      "2022-01-02       0.416132            0.543042        0.479208        0.000000   \n",
      "2022-01-03       0.416132            0.000000        0.479208        0.341918   \n",
      "2022-01-04       0.416132            0.297818        0.479208        0.341918   \n",
      "2022-01-05       0.416132            0.000000        0.479208        0.341918   \n",
      "...                   ...                 ...             ...             ...   \n",
      "2023-12-27      24.400000           45.000000       29.500000       22.000000   \n",
      "2023-12-28      23.200000            1.000000       30.000000       22.000000   \n",
      "2023-12-29      24.600000           31.500000       30.500000       23.000000   \n",
      "2023-12-30      23.900000            7.000000       30.400000       23.200000   \n",
      "2023-12-31      24.800000            0.500000       31.200000       23.000000   \n",
      "\n",
      "            RAINFALL_Clark  TMAX_Clark  TMIN_Clark  RAINFALL_Calapan  \\\n",
      "Date                                                                   \n",
      "2022-01-01        0.183211    0.159963    0.412346          0.549809   \n",
      "2022-01-02        0.055467    0.207147    0.000000          0.403680   \n",
      "2022-01-03        0.144227    0.227643    0.412346          0.403680   \n",
      "2022-01-04        0.281655    0.207147    0.412346          0.710426   \n",
      "2022-01-05        0.351170    0.238256    0.412346          0.632121   \n",
      "...                    ...         ...         ...               ...   \n",
      "2023-12-27        0.000000   31.600000   24.500000          0.000000   \n",
      "2023-12-28        0.000000   33.000000   23.500000          0.000000   \n",
      "2023-12-29        0.000000   32.500000   24.200000          0.800000   \n",
      "2023-12-30        0.000000   32.300000   24.800000          4.600000   \n",
      "2023-12-31       -1.000000   32.700000   24.200000          0.000000   \n",
      "\n",
      "            TMAX_Calapan  TMIN_Calapan  \n",
      "Date                                    \n",
      "2022-01-01      0.413148      0.554929  \n",
      "2022-01-02      0.413148      0.794508  \n",
      "2022-01-03      0.413148      0.446631  \n",
      "2022-01-04      0.413148      0.446631  \n",
      "2022-01-05      0.413148      0.446631  \n",
      "...                  ...           ...  \n",
      "2023-12-27     30.000000     24.800000  \n",
      "2023-12-28     30.300000     25.000000  \n",
      "2023-12-29     29.600000     25.300000  \n",
      "2023-12-30     31.000000     24.200000  \n",
      "2023-12-31     30.000000     25.500000  \n",
      "\n",
      "[730 rows x 39 columns]\n"
     ]
    }
   ],
   "source": [
    "luz_exog = pd.concat([LUZ_exog_train, LUZ_exog_test], axis=0)\n",
    "print(luz_exog)"
   ]
  },
  {
   "cell_type": "code",
   "execution_count": 121,
   "metadata": {},
   "outputs": [
    {
     "name": "stdout",
     "output_type": "stream",
     "text": [
      "            FLOW_LUZ  RESERVE_GWAP_Fr  RESERVE_GWAP_Ru  RESERVE_GWAP_Rd  \\\n",
      "Date                                                                      \n",
      "2023-08-08   -634.11      1487.960668      3181.738826         0.000082   \n",
      "2023-08-09  -3076.80      1756.467906      2290.057382         0.000102   \n",
      "2023-08-10 -30344.56      2955.255204      5026.898520         0.000086   \n",
      "2023-08-11 -29323.08      2444.164721      3005.440897         0.000109   \n",
      "2023-08-12 -46005.71      1883.738436      1842.556046         0.000011   \n",
      "...              ...              ...              ...              ...   \n",
      "2023-12-27 -24416.54      3698.677664      6068.115985      1208.347276   \n",
      "2023-12-28 -18873.45      3268.687856      6649.677833      3186.783962   \n",
      "2023-12-29   5849.07        75.866019      7602.698723      2349.359595   \n",
      "2023-12-30  13005.47        52.908627        87.260609         0.000064   \n",
      "2023-12-31 -12328.64         6.778533       640.291309         1.317087   \n",
      "\n",
      "            RESERVE_GWAP_Dr  Hourly Demand  RAINFALL_Cubi Point  \\\n",
      "Date                                                              \n",
      "2023-08-08       114.820903       244011.0                  2.5   \n",
      "2023-08-09         0.000574       249361.0                  0.0   \n",
      "2023-08-10       360.002225       249625.0                  1.5   \n",
      "2023-08-11         0.000647       248280.0                 12.8   \n",
      "2023-08-12         0.000611       233444.0                  0.0   \n",
      "...                     ...            ...                  ...   \n",
      "2023-12-27       167.767873       200355.0                  0.0   \n",
      "2023-12-28         1.659022       204468.0                  0.0   \n",
      "2023-12-29        71.272021       201231.0                  0.0   \n",
      "2023-12-30        49.692740       187399.0                 -1.0   \n",
      "2023-12-31         7.402608       182278.0                  0.0   \n",
      "\n",
      "            TMAX_Cubi Point  TMIN_Cubi Point  RAINFALL_NAIA  ...  \\\n",
      "Date                                                         ...   \n",
      "2023-08-08             30.5             26.2            3.5  ...   \n",
      "2023-08-09             32.4             25.7           -1.0  ...   \n",
      "2023-08-10             32.9             25.8            0.0  ...   \n",
      "2023-08-11             31.6             24.0           -1.0  ...   \n",
      "2023-08-12             31.5             25.3            0.0  ...   \n",
      "...                     ...              ...            ...  ...   \n",
      "2023-12-27             33.3             24.3            5.5  ...   \n",
      "2023-12-28             32.7             23.6            0.0  ...   \n",
      "2023-12-29             33.3             23.9            0.5  ...   \n",
      "2023-12-30             34.1             23.7           -1.0  ...   \n",
      "2023-12-31             34.1             25.3            0.0  ...   \n",
      "\n",
      "            TMIN_Ambulong  RAINFALL_Casiguran  TMAX_Casiguran  TMIN_Casiguran  \\\n",
      "Date                                                                            \n",
      "2023-08-08           25.6                 5.2            35.0            23.0   \n",
      "2023-08-09           25.1                 0.0            35.0            24.5   \n",
      "2023-08-10           26.0                 0.0            35.0            25.0   \n",
      "2023-08-11           24.6                23.5            35.0            23.2   \n",
      "2023-08-12           24.5                 0.0            30.4            24.4   \n",
      "...                   ...                 ...             ...             ...   \n",
      "2023-12-27           24.4                45.0            29.5            22.0   \n",
      "2023-12-28           23.2                 1.0            30.0            22.0   \n",
      "2023-12-29           24.6                31.5            30.5            23.0   \n",
      "2023-12-30           23.9                 7.0            30.4            23.2   \n",
      "2023-12-31           24.8                 0.5            31.2            23.0   \n",
      "\n",
      "            RAINFALL_Clark  TMAX_Clark  TMIN_Clark  RAINFALL_Calapan  \\\n",
      "Date                                                                   \n",
      "2023-08-08             0.0        33.6        27.0               0.0   \n",
      "2023-08-09             0.0        34.6        25.9               0.0   \n",
      "2023-08-10             0.6        32.4        25.9               0.0   \n",
      "2023-08-11             0.0        34.0        26.1               0.0   \n",
      "2023-08-12             0.9        33.2        25.7               0.0   \n",
      "...                    ...         ...         ...               ...   \n",
      "2023-12-27             0.0        31.6        24.5               0.0   \n",
      "2023-12-28             0.0        33.0        23.5               0.0   \n",
      "2023-12-29             0.0        32.5        24.2               0.8   \n",
      "2023-12-30             0.0        32.3        24.8               4.6   \n",
      "2023-12-31            -1.0        32.7        24.2               0.0   \n",
      "\n",
      "            TMAX_Calapan  TMIN_Calapan  \n",
      "Date                                    \n",
      "2023-08-08          33.4          26.5  \n",
      "2023-08-09          33.5          26.0  \n",
      "2023-08-10          33.6          26.5  \n",
      "2023-08-11          33.8          26.8  \n",
      "2023-08-12          34.3          25.2  \n",
      "...                  ...           ...  \n",
      "2023-12-27          30.0          24.8  \n",
      "2023-12-28          30.3          25.0  \n",
      "2023-12-29          29.6          25.3  \n",
      "2023-12-30          31.0          24.2  \n",
      "2023-12-31          30.0          25.5  \n",
      "\n",
      "[146 rows x 39 columns]\n"
     ]
    }
   ],
   "source": [
    "print(LUZ_exog_test)"
   ]
  },
  {
   "cell_type": "code",
   "execution_count": null,
   "metadata": {},
   "outputs": [],
   "source": []
  },
  {
   "cell_type": "code",
   "execution_count": 116,
   "metadata": {},
   "outputs": [
    {
     "name": "stdout",
     "output_type": "stream",
     "text": [
      "Mean Squared Error (MAE): 36751532.644298114\n",
      "Date\n",
      "2023-08-08    7953.672194\n",
      "2023-08-09    7116.523973\n",
      "2023-08-10    9804.539158\n",
      "2023-08-11    8101.978364\n",
      "2023-08-12    6522.459813\n",
      "                 ...     \n",
      "2023-12-27    3991.018676\n",
      "2023-12-28    3688.349524\n",
      "2023-12-29    3674.409234\n",
      "2023-12-30    3304.265247\n",
      "2023-12-31    3491.397388\n",
      "Freq: D, Name: GWAP, Length: 146, dtype: float64\n",
      "2023-08-08    0.449934\n",
      "2023-08-09    0.453611\n",
      "2023-08-10    0.456522\n",
      "2023-08-11    0.458827\n",
      "2023-08-12    0.460653\n",
      "                ...   \n",
      "2023-12-27    0.467595\n",
      "2023-12-28    0.467595\n",
      "2023-12-29    0.467595\n",
      "2023-12-30    0.467595\n",
      "2023-12-31    0.467595\n",
      "Freq: D, Name: predicted_mean, Length: 146, dtype: float64\n"
     ]
    },
    {
     "name": "stderr",
     "output_type": "stream",
     "text": [
      "/Library/Frameworks/Python.framework/Versions/3.12/lib/python3.12/site-packages/statsmodels/tsa/statespace/representation.py:374: FutureWarning:\n",
      "\n",
      "Unknown keyword arguments: dict_keys(['iter']).Passing unknown keyword arguments will raise a TypeError beginning in version 0.15.\n",
      "\n"
     ]
    }
   ],
   "source": [
    "LUZ_GWAP_forecaster = sm.tsa.SARIMAX(endog=LUZ_GWAP_train, exog= LUZ_exog_train, order=(1,1,1))\n",
    "fit_luz_gwap = LUZ_GWAP_forecaster.fit(disp=False)\n",
    "\n",
    "# Forecasting\n",
    "luz_gwap_forecast = fit_luz_gwap.forecast(steps=len(LUZ_GWAP_test), iter=1000)\n",
    "\n",
    "# Calculate MSE\n",
    "mse = mean_squared_error(LUZ_GWAP_test, luz_gwap_forecast)\n",
    "print(f\"Mean Squared Error (MAE): {mse}\")  \n",
    "\n",
    "print(luz_gwap_forecast)"
   ]
  },
  {
   "cell_type": "code",
   "execution_count": 119,
   "metadata": {},
   "outputs": [
    {
     "data": {
      "text/plain": [
       "<matplotlib.legend.Legend at 0x2868c3e90>"
      ]
     },
     "execution_count": 119,
     "metadata": {},
     "output_type": "execute_result"
    },
    {
     "data": {
      "image/png": "[encoded data removed]",
      "text/plain": [
       "<Figure size 700x300 with 1 Axes>"
      ]
     },
     "metadata": {},
     "output_type": "display_data"
    }
   ],
   "source": [
    "#Plot predictions\n",
    "# ==============================================================================\n",
    "fig, ax = plt.subplots(figsize=(7, 3))\n",
    "LUZ_GWAP_train.plot(ax=ax, label='train')\n",
    "luz_gwap_forecast.plot(ax=ax, label='Predictions')\n",
    "ax.set_title('Predictions with ARIMA models')\n",
    "ax.legend()"
   ]
  },
  {
   "cell_type": "code",
   "execution_count": 118,
   "metadata": {},
   "outputs": [
    {
     "data": {
      "text/plain": [
       "<matplotlib.legend.Legend at 0x2856bbec0>"
      ]
     },
     "execution_count": 118,
     "metadata": {},
     "output_type": "execute_result"
    },
    {
     "data": {
      "image/png": "[encoded data removed]",
      "text/plain": [
       "<Figure size 700x300 with 1 Axes>"
      ]
     },
     "metadata": {},
     "output_type": "display_data"
    }
   ],
   "source": [
    "#Plot predictions\n",
    "# ==============================================================================\n",
    "fig, ax = plt.subplots(figsize=(7, 3))\n",
    "LUZ_GWAP_train.plot(ax=ax, label='train')\n",
    "LUZ_GWAP_test.plot(ax=ax, label='test')\n",
    "luz_gwap_forecast.plot(ax=ax, label='Predictions')\n",
    "ax.set_title('Predictions with ARIMA models')\n",
    "ax.legend()"
   ]
  },
  {
   "cell_type": "code",
   "execution_count": 97,
   "metadata": {},
   "outputs": [
    {
     "ename": "NameError",
     "evalue": "name 'predictions111' is not defined",
     "output_type": "error",
     "traceback": [
      "\u001b[0;31m---------------------------------------------------------------------------\u001b[0m",
      "\u001b[0;31mNameError\u001b[0m                                 Traceback (most recent call last)",
      "Cell \u001b[0;32mIn[97], line 3\u001b[0m\n\u001b[1;32m      1\u001b[0m plt\u001b[38;5;241m.\u001b[39mfigure(figsize\u001b[38;5;241m=\u001b[39m(\u001b[38;5;241m12\u001b[39m, \u001b[38;5;241m6\u001b[39m))\n\u001b[1;32m      2\u001b[0m plt\u001b[38;5;241m.\u001b[39mplot(LUZ_GWAP, label\u001b[38;5;241m=\u001b[39m\u001b[38;5;124m'\u001b[39m\u001b[38;5;124mOriginal Data\u001b[39m\u001b[38;5;124m'\u001b[39m, color\u001b[38;5;241m=\u001b[39m\u001b[38;5;124m'\u001b[39m\u001b[38;5;124mblue\u001b[39m\u001b[38;5;124m'\u001b[39m)\n\u001b[0;32m----> 3\u001b[0m plt\u001b[38;5;241m.\u001b[39mplot(\u001b[43mpredictions111\u001b[49m, label\u001b[38;5;241m=\u001b[39m\u001b[38;5;124m'\u001b[39m\u001b[38;5;124mPredictions\u001b[39m\u001b[38;5;124m'\u001b[39m, color\u001b[38;5;241m=\u001b[39m\u001b[38;5;124m'\u001b[39m\u001b[38;5;124mred\u001b[39m\u001b[38;5;124m'\u001b[39m, linestyle\u001b[38;5;241m=\u001b[39m\u001b[38;5;124m'\u001b[39m\u001b[38;5;124m--\u001b[39m\u001b[38;5;124m'\u001b[39m)\n\u001b[1;32m      4\u001b[0m plt\u001b[38;5;241m.\u001b[39mtitle(\u001b[38;5;124m'\u001b[39m\u001b[38;5;124mPredictions vs Original Data\u001b[39m\u001b[38;5;124m'\u001b[39m)\n\u001b[1;32m      5\u001b[0m plt\u001b[38;5;241m.\u001b[39mxlabel(\u001b[38;5;124m'\u001b[39m\u001b[38;5;124mDate\u001b[39m\u001b[38;5;124m'\u001b[39m)\n",
      "\u001b[0;31mNameError\u001b[0m: name 'predictions111' is not defined"
     ]
    },
    {
     "data": {
      "image/png": "[encoded data removed]",
      "text/plain": [
       "<Figure size 1200x600 with 1 Axes>"
      ]
     },
     "metadata": {},
     "output_type": "display_data"
    }
   ],
   "source": [
    "plt.figure(figsize=(12, 6))\n",
    "plt.plot(LUZ_GWAP, label='Original Data', color='blue')\n",
    "plt.plot(predictions111, label='Predictions', color='red', linestyle='--')\n",
    "plt.title('Predictions vs Original Data')\n",
    "plt.xlabel('Date')\n",
    "plt.ylabel('Values')\n",
    "plt.legend()\n",
    "plt.show()"
   ]
  },
  {
   "cell_type": "code",
   "execution_count": 153,
   "metadata": {},
   "outputs": [
    {
     "name": "stdout",
     "output_type": "stream",
     "text": [
      "Information of backtesting process\n",
      "----------------------------------\n",
      "Number of observations used for initial training: 438\n",
      "Number of observations used for backtesting: 292\n",
      "    Number of folds: 1\n",
      "    Number skipped folds: 0 \n",
      "    Number of steps per fold: 292\n",
      "    Number of steps to exclude from the end of each train set before test (gap): 0\n",
      "\n",
      "Fold: 0\n",
      "    Training:   2022-01-01 00:00:00 -- 2023-03-14 00:00:00  (n=438)\n",
      "    Validation: 2023-03-15 00:00:00 -- 2023-12-31 00:00:00  (n=292)\n",
      "\n"
     ]
    },
    {
     "name": "stderr",
     "output_type": "stream",
     "text": [
      "100%|██████████| 1/1 [00:00<00:00, 79.54it/s]\n"
     ]
    },
    {
     "data": {
      "text/html": [
       "<div>\n",
       "<style scoped>\n",
       "    .dataframe tbody tr th:only-of-type {\n",
       "        vertical-align: middle;\n",
       "    }\n",
       "\n",
       "    .dataframe tbody tr th {\n",
       "        vertical-align: top;\n",
       "    }\n",
       "\n",
       "    .dataframe thead th {\n",
       "        text-align: right;\n",
       "    }\n",
       "</style>\n",
       "<table border=\"1\" class=\"dataframe\">\n",
       "  <thead>\n",
       "    <tr style=\"text-align: right;\">\n",
       "      <th></th>\n",
       "      <th>mean_absolute_error</th>\n",
       "    </tr>\n",
       "  </thead>\n",
       "  <tbody>\n",
       "    <tr>\n",
       "      <th>0</th>\n",
       "      <td>0.168742</td>\n",
       "    </tr>\n",
       "  </tbody>\n",
       "</table>\n",
       "</div>"
      ],
      "text/plain": [
       "   mean_absolute_error\n",
       "0             0.168742"
      ]
     },
     "metadata": {},
     "output_type": "display_data"
    },
    {
     "data": {
      "text/html": [
       "<div>\n",
       "<style scoped>\n",
       "    .dataframe tbody tr th:only-of-type {\n",
       "        vertical-align: middle;\n",
       "    }\n",
       "\n",
       "    .dataframe tbody tr th {\n",
       "        vertical-align: top;\n",
       "    }\n",
       "\n",
       "    .dataframe thead th {\n",
       "        text-align: right;\n",
       "    }\n",
       "</style>\n",
       "<table border=\"1\" class=\"dataframe\">\n",
       "  <thead>\n",
       "    <tr style=\"text-align: right;\">\n",
       "      <th></th>\n",
       "      <th>pred</th>\n",
       "    </tr>\n",
       "  </thead>\n",
       "  <tbody>\n",
       "    <tr>\n",
       "      <th>2023-03-15</th>\n",
       "      <td>0.484258</td>\n",
       "    </tr>\n",
       "    <tr>\n",
       "      <th>2023-03-16</th>\n",
       "      <td>0.478540</td>\n",
       "    </tr>\n",
       "    <tr>\n",
       "      <th>2023-03-17</th>\n",
       "      <td>0.489471</td>\n",
       "    </tr>\n",
       "    <tr>\n",
       "      <th>2023-03-18</th>\n",
       "      <td>0.513321</td>\n",
       "    </tr>\n",
       "  </tbody>\n",
       "</table>\n",
       "</div>"
      ],
      "text/plain": [
       "                pred\n",
       "2023-03-15  0.484258\n",
       "2023-03-16  0.478540\n",
       "2023-03-17  0.489471\n",
       "2023-03-18  0.513321"
      ]
     },
     "execution_count": 153,
     "metadata": {},
     "output_type": "execute_result"
    }
   ],
   "source": [
    "forecaster102 = ForecasterSarimax(LUZ_GWAP_sarimax)\n",
    "metric102, predictions102 = backtesting_sarimax(\n",
    "                          forecaster            = forecaster102,\n",
    "                          y                     = LUZ_GWAP,\n",
    "                          initial_train_size    = len(LUZ_GWAP_train),\n",
    "                          fixed_train_size      = True,\n",
    "                          steps=292,\n",
    "                          metric                = 'mean_absolute_error',\n",
    "                          refit                 = False,\n",
    "                          n_jobs                = \"auto\",\n",
    "                          suppress_warnings_fit = True,\n",
    "                          verbose               = True,\n",
    "                          show_progress         = True\n",
    "                      )\n",
    "display(metric102)\n",
    "predictions.head(4)"
   ]
  },
  {
   "cell_type": "code",
   "execution_count": 154,
   "metadata": {},
   "outputs": [
    {
     "data": {
      "image/png": "[encoded data removed]",
      "text/plain": [
       "<Figure size 1200x600 with 1 Axes>"
      ]
     },
     "metadata": {},
     "output_type": "display_data"
    }
   ],
   "source": [
    "plt.figure(figsize=(12, 6))\n",
    "plt.plot(LUZ_GWAP, label='Original Data', color='blue')\n",
    "plt.plot(predictions102, label='Predictions', color='red', linestyle='--')\n",
    "plt.title('Predictions vs Original Data')\n",
    "plt.xlabel('Date')\n",
    "plt.ylabel('Values')\n",
    "plt.legend()\n",
    "plt.show()"
   ]
  },
  {
   "cell_type": "code",
   "execution_count": 72,
   "metadata": {},
   "outputs": [],
   "source": [
    "def fit_sarimax(data, model, data_test):\n",
    "    \n",
    "    # ARIMA model with ForecasterSarimax and skforecast Sarimax\n",
    "    # ==============================================================================\n",
    "    forecaster = sm.tsa.SARIMAX()\n",
    "    forecaster.fit(y=data, suppress_warnings=True)\n",
    "\n",
    "    # Prediction\n",
    "    predictions = forecaster.forecast(steps=len(data_test))\n",
    "    \n",
    "    # Calculate MSE\n",
    "    mae = mean_absolute_error(data_test, predictions)\n",
    "    print(f\"Mean Absolute Error (MAE): {mae}\")\n",
    "\n",
    "    \n",
    "    # Plot predictions\n",
    "    # ==============================================================================\n",
    "    fig, ax = plt.subplots(figsize=(7, 3))\n",
    "    data.plot(ax=ax, label='train')\n",
    "    data_test.plot(ax=ax, label='test')\n",
    "    predictions.plot(ax=ax, label='Predictions')\n",
    "    ax.set_title('Predictions with ARIMA models')\n",
    "    ax.legend()\n",
    "\n",
    "    return predictions, mae\n"
   ]
  },
  {
   "cell_type": "code",
   "execution_count": 74,
   "metadata": {},
   "outputs": [
    {
     "ename": "TypeError",
     "evalue": "SARIMAX.__init__() missing 1 required positional argument: 'endog'",
     "output_type": "error",
     "traceback": [
      "\u001b[0;31m---------------------------------------------------------------------------\u001b[0m",
      "\u001b[0;31mTypeError\u001b[0m                                 Traceback (most recent call last)",
      "Cell \u001b[0;32mIn[74], line 1\u001b[0m\n\u001b[0;32m----> 1\u001b[0m \u001b[43mfit_sarimax\u001b[49m\u001b[43m(\u001b[49m\u001b[43mLUZ_GWAP_train\u001b[49m\u001b[43m,\u001b[49m\u001b[43mLUZ_GWAP_sarimax\u001b[49m\u001b[43m,\u001b[49m\u001b[43mLUZ_data_test\u001b[49m\u001b[43m)\u001b[49m\n",
      "Cell \u001b[0;32mIn[72], line 5\u001b[0m, in \u001b[0;36mfit_sarimax\u001b[0;34m(data, model, data_test)\u001b[0m\n\u001b[1;32m      1\u001b[0m \u001b[38;5;28;01mdef\u001b[39;00m \u001b[38;5;21mfit_sarimax\u001b[39m(data, model, data_test):\n\u001b[1;32m      2\u001b[0m     \n\u001b[1;32m      3\u001b[0m     \u001b[38;5;66;03m# ARIMA model with ForecasterSarimax and skforecast Sarimax\u001b[39;00m\n\u001b[1;32m      4\u001b[0m     \u001b[38;5;66;03m# ==============================================================================\u001b[39;00m\n\u001b[0;32m----> 5\u001b[0m     forecaster \u001b[38;5;241m=\u001b[39m \u001b[43msm\u001b[49m\u001b[38;5;241;43m.\u001b[39;49m\u001b[43mtsa\u001b[49m\u001b[38;5;241;43m.\u001b[39;49m\u001b[43mSARIMAX\u001b[49m\u001b[43m(\u001b[49m\u001b[43mregressor\u001b[49m\u001b[38;5;241;43m=\u001b[39;49m\u001b[43mmodel\u001b[49m\u001b[43m)\u001b[49m\n\u001b[1;32m      6\u001b[0m     forecaster\u001b[38;5;241m.\u001b[39mfit(y\u001b[38;5;241m=\u001b[39mdata, suppress_warnings\u001b[38;5;241m=\u001b[39m\u001b[38;5;28;01mTrue\u001b[39;00m)\n\u001b[1;32m      8\u001b[0m     \u001b[38;5;66;03m# Prediction\u001b[39;00m\n",
      "\u001b[0;31mTypeError\u001b[0m: SARIMAX.__init__() missing 1 required positional argument: 'endog'"
     ]
    }
   ],
   "source": [
    "fit_sarimax(LUZ_GWAP_train,LUZ_GWAP_sarimax,LUZ_data_test)"
   ]
  },
  {
   "cell_type": "code",
   "execution_count": 161,
   "metadata": {},
   "outputs": [
    {
     "name": "stdout",
     "output_type": "stream",
     "text": [
      "Mean Absolute Error (MAE): 0.13687666407476454\n"
     ]
    },
    {
     "data": {
      "text/plain": [
       "(2023-03-15    0.467035\n",
       " 2023-03-16    0.478495\n",
       " 2023-03-17    0.487537\n",
       " 2023-03-18    0.494672\n",
       " 2023-03-19    0.500301\n",
       "                 ...   \n",
       " 2023-12-27    0.521353\n",
       " 2023-12-28    0.521353\n",
       " 2023-12-29    0.521353\n",
       " 2023-12-30    0.521353\n",
       " 2023-12-31    0.521353\n",
       " Freq: D, Name: pred, Length: 292, dtype: float64,\n",
       " 0.13687666407476454)"
      ]
     },
     "execution_count": 161,
     "metadata": {},
     "output_type": "execute_result"
    },
    {
     "data": {
      "image/png": "[encoded data removed]",
      "text/plain": [
       "<Figure size 700x300 with 1 Axes>"
      ]
     },
     "metadata": {},
     "output_type": "display_data"
    }
   ],
   "source": [
    "fit_sarimax(LUZ_GWAP_train,LUZ_GWAP_sarimax_diff,LUZ_GWAP_test2)"
   ]
  },
  {
   "cell_type": "code",
   "execution_count": 166,
   "metadata": {},
   "outputs": [],
   "source": [
    "#experiment 2\n",
    "def fit_sarimax2(data_train, model, data_test):\n",
    "    # Initialize the SARIMAX forecaster\n",
    "    forecaster = ForecasterSarimax(regressor=model)\n",
    "    \n",
    "    # Fit the forecaster to the training data\n",
    "    forecaster.fit(y=data_train, suppress_warnings=True)\n",
    "\n",
    "    # Prediction on the training set\n",
    "    predictions_train = forecaster.forecast(steps=len(data_train))\n",
    "    \n",
    "    # Calculate MAE for the training set\n",
    "    mae_train = mean_absolute_error(data_train, predictions_train)\n",
    "    print(f\"Mean Absolute Error (MAE) on Training Set: {mae_train}\")\n",
    "\n",
    "    # Prediction on the test set\n",
    "    predictions_test = forecaster.forecast(steps=len(data_test))\n",
    "    \n",
    "    # Calculate MAE for the test set\n",
    "    mae_test = mean_absolute_error(data_test, predictions_test)\n",
    "    print(f\"Mean Absolute Error (MAE) on Test Set: {mae_test}\")\n",
    "\n",
    "    # Plot predictions\n",
    "    fig, ax = plt.subplots(figsize=(10, 5))\n",
    "    data_train.plot(ax=ax, label='Training Data')\n",
    "    data_test.plot(ax=ax, label='Test Data')\n",
    "    predictions_train.plot(ax=ax, label='Predictions on Training Set')\n",
    "    predictions_test.plot(ax=ax, label='Predictions on Test Set', linestyle='--')\n",
    "    ax.set_title('SARIMAX Predictions')\n",
    "    ax.legend()\n",
    "    plt.show()\n",
    "\n",
    "    return predictions_train, mae_train, predictions_test, mae_test"
   ]
  },
  {
   "cell_type": "code",
   "execution_count": 167,
   "metadata": {},
   "outputs": [
    {
     "ename": "AttributeError",
     "evalue": "'ForecasterSarimax' object has no attribute 'forecast'",
     "output_type": "error",
     "traceback": [
      "\u001b[0;31m---------------------------------------------------------------------------\u001b[0m",
      "\u001b[0;31mAttributeError\u001b[0m                            Traceback (most recent call last)",
      "Cell \u001b[0;32mIn[167], line 1\u001b[0m\n\u001b[0;32m----> 1\u001b[0m \u001b[43mfit_sarimax2\u001b[49m\u001b[43m(\u001b[49m\u001b[43mLUZ_GWAP_train\u001b[49m\u001b[43m,\u001b[49m\u001b[43mLUZ_GWAP_sarimax\u001b[49m\u001b[43m,\u001b[49m\u001b[43mLUZ_GWAP_train\u001b[49m\u001b[43m)\u001b[49m\n",
      "Cell \u001b[0;32mIn[166], line 10\u001b[0m, in \u001b[0;36mfit_sarimax2\u001b[0;34m(data_train, model, data_test)\u001b[0m\n\u001b[1;32m      7\u001b[0m forecaster\u001b[38;5;241m.\u001b[39mfit(y\u001b[38;5;241m=\u001b[39mdata_train, suppress_warnings\u001b[38;5;241m=\u001b[39m\u001b[38;5;28;01mTrue\u001b[39;00m)\n\u001b[1;32m      9\u001b[0m \u001b[38;5;66;03m# Prediction on the training set\u001b[39;00m\n\u001b[0;32m---> 10\u001b[0m predictions_train \u001b[38;5;241m=\u001b[39m \u001b[43mforecaster\u001b[49m\u001b[38;5;241;43m.\u001b[39;49m\u001b[43mforecast\u001b[49m(steps\u001b[38;5;241m=\u001b[39m\u001b[38;5;28mlen\u001b[39m(data_train))\n\u001b[1;32m     12\u001b[0m \u001b[38;5;66;03m# Calculate MAE for the training set\u001b[39;00m\n\u001b[1;32m     13\u001b[0m mae_train \u001b[38;5;241m=\u001b[39m mean_absolute_error(data_train, predictions_train)\n",
      "\u001b[0;31mAttributeError\u001b[0m: 'ForecasterSarimax' object has no attribute 'forecast'"
     ]
    }
   ],
   "source": [
    "fit_sarimax2(LUZ_GWAP_train,LUZ_GWAP_sarimax,LUZ_GWAP_train)"
   ]
  },
  {
   "cell_type": "code",
   "execution_count": 150,
   "metadata": {},
   "outputs": [
    {
     "name": "stdout",
     "output_type": "stream",
     "text": [
      "Date\n",
      "2023-03-15    0.480256\n",
      "2023-03-16    0.477933\n",
      "2023-03-17    0.507448\n",
      "2023-03-18    0.538917\n",
      "2023-03-19    0.480170\n",
      "                ...   \n",
      "2023-12-27    0.362859\n",
      "2023-12-28    0.332509\n",
      "2023-12-29    0.331029\n",
      "2023-12-30    0.288643\n",
      "2023-12-31    0.310847\n",
      "Freq: D, Name: GWAP, Length: 292, dtype: float64\n"
     ]
    }
   ],
   "source": [
    "LUZ_GWAP_test2 = pd.concat([LUZ_GWAP_val, LUZ_GWAP_test], ignore_index=False)\n",
    "print(LUZ_GWAP_test2)\n"
   ]
  }
 ],
 "metadata": {
  "kernelspec": {
   "display_name": "Python 3",
   "language": "python",
   "name": "python3"
  },
  "language_info": {
   "codemirror_mode": {
    "name": "ipython",
    "version": 3
   },
   "file_extension": ".py",
   "mimetype": "text/x-python",
   "name": "python",
   "nbconvert_exporter": "python",
   "pygments_lexer": "ipython3",
   "version": "3.12.5"
  }
 },
 "nbformat": 4,
 "nbformat_minor": 2
}
