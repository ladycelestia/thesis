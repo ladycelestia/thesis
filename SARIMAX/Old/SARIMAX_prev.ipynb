{
 "cells": [
  {
   "cell_type": "code",
   "execution_count": 130,
   "metadata": {},
   "outputs": [],
   "source": [
    "# Import necessary libraries for data manipulation and analysis\n",
    "import numpy as np # Numerical operations\n",
    "import pandas as pd # Data manipulation\n",
    "from datetime import datetime, timedelta # Date operations\n",
    "\n",
    "#Import necessary libraries for transformations\n",
    "from sklearn.preprocessing import MinMaxScaler, PowerTransformer\n",
    "from sklearn.compose import ColumnTransformer\n",
    "from sklearn.pipeline import Pipeline\n",
    "from scipy import stats\n",
    "from scipy.stats import skew, kurtosis\n",
    "\n",
    "# Import libraries for plotting and visualization\n",
    "import matplotlib.pyplot as plt # Matplotlib for basic plotting\n",
    "import seaborn as sns # Seaborn for enhanced visualization\n",
    "import plotly.express as px # Plotly for interactive plots\n",
    "\n",
    "# Import libraries for time series analysis and modeling\n",
    "from statsmodels.tsa.stattools import adfuller # Augmented Dickey-Fuller Test for stationarity check\n",
    "from statsmodels.tsa.stattools import kpss # Kwiatkowski-Phillips-Schmidt-Shin Test for stationarity check\n",
    "from statsmodels.tsa.statespace.sarimax import SARIMAX # SARIMAX model for time series forecasting\n",
    "from statsmodels.tsa.seasonal import seasonal_decompose # Seasonal decomposition for trend, seasonal, and residual components\n",
    "from sklearn.metrics import mean_squared_error\n",
    "from sklearn.metrics import mean_absolute_error\n",
    "from skforecast.model_selection_sarimax import backtesting_sarimax\n",
    "from skforecast.model_selection_sarimax import grid_search_sarimax\n",
    "\n",
    "# Import necessary libraries for computing acf and pacf\n",
    "from statsmodels.graphics.tsaplots import plot_acf, plot_pacf  # For autocorrelation and partial autocorrelation plots\n",
    "from statsmodels.tsa.stattools import acf, pacf  # For computing autocorrelation and partial autocorrelation\n"
   ]
  },
  {
   "cell_type": "code",
   "execution_count": 22,
   "metadata": {},
   "outputs": [],
   "source": [
    "from pmdarima.arima import auto_arima #SARIMAX using pmdarima\n",
    "from skforecast.ForecasterSarimax import ForecasterSarimax"
   ]
  },
  {
   "cell_type": "markdown",
   "metadata": {},
   "source": [
    "SARIMAX for Luzon"
   ]
  },
  {
   "cell_type": "code",
   "execution_count": 23,
   "metadata": {},
   "outputs": [],
   "source": [
    "input_file = r'/Users/jojielyn/Desktop/School/04 Senior/Thesis/SARIMAX/LUZ_Daily_Complete.csv'\n",
    "data = pd.read_csv(input_file)\n",
    "data = data.fillna(0)\n",
    "\n",
    "X = data.values\n",
    "\n",
    "y = data[['GWAP','LWAP']].values"
   ]
  },
  {
   "cell_type": "code",
   "execution_count": 24,
   "metadata": {},
   "outputs": [],
   "source": [
    "train_size = int(0.6 * len(X))  # 60% for training\n",
    "val_size = int(0.20 * len(X))   # 20% for validation\n",
    "test_size = len(X) - train_size - val_size  # Remaining 15% for testing\n",
    "\n",
    "train_data = X[:train_size]\n",
    "train_labels = y[:train_size]\n",
    "\n",
    "val_data = X[train_size:train_size + val_size]\n",
    "val_labels = y[train_size:train_size + val_size]\n",
    "\n",
    "test_data = X[train_size + val_size:]\n",
    "test_labels = y[train_size + val_size:]\n",
    "seq_len=7\n",
    "batch_size=64"
   ]
  },
  {
   "cell_type": "code",
   "execution_count": 25,
   "metadata": {},
   "outputs": [],
   "source": [
    "def classify_features(data):\n",
    "    minmax_cols = []\n",
    "    boxcox_cols = []\n",
    "    yeojohnson_cols = []\n",
    "\n",
    "    for i in range(data.shape[1]):  # Iterate over columns by index\n",
    "        col_data = data[:, i]  # Get each column as a separate array\n",
    "        skewness = skew(col_data)\n",
    "        kurt = kurtosis(col_data)\n",
    "        is_positive = np.all(col_data > 0)\n",
    "\n",
    "        if -1 <= skewness <= 1 and -1 <= kurt <= 1:\n",
    "            minmax_cols.append(i)  # Add index for MinMax family\n",
    "        elif is_positive:\n",
    "            boxcox_cols.append(i)  # Add index for BoxCox family\n",
    "        else:\n",
    "            yeojohnson_cols.append(i)  # Add index for YeoJohnson family\n",
    "\n",
    "    return minmax_cols, boxcox_cols, yeojohnson_cols\n",
    "minmax_cols, boxcox_cols, yeojohnson_cols = classify_features(X)\n",
    "\n",
    "transformers = [\n",
    "    ('minmax', MinMaxScaler(), minmax_cols),\n",
    "    ('boxcox_minmax', Pipeline([\n",
    "        ('boxcox', PowerTransformer(method='box-cox', standardize=False)),\n",
    "        ('minmax', MinMaxScaler())\n",
    "    ]), boxcox_cols),\n",
    "    ('yeojohnson_minmax', Pipeline([\n",
    "        ('yeojohnson', PowerTransformer(method='yeo-johnson', standardize=False)),\n",
    "        ('minmax', MinMaxScaler())\n",
    "    ]), yeojohnson_cols)\n",
    "]\n",
    "\n",
    "\n",
    "preprocessor = ColumnTransformer(transformers=transformers)\n",
    "\n",
    "# Build the full pipeline\n",
    "pipeline = Pipeline(steps=[\n",
    "    ('preprocessor', preprocessor)\n",
    "])\n",
    "\n",
    "\n",
    "pipeline.fit(train_data)\n",
    "transformed_train_data = pipeline.transform(train_data)\n",
    "transformed_val_data = pipeline.transform(val_data)\n",
    "transformed_test_data = pipeline.transform(test_data)\n",
    "\n",
    "minmax_colsy, boxcox_colsy, yeojohnson_colsy = classify_features(y)\n",
    "transformersy = [\n",
    "    ('minmax', MinMaxScaler(), minmax_colsy),\n",
    "    ('boxcox_minmax', Pipeline([\n",
    "        ('boxcox', PowerTransformer(method='box-cox', standardize=False)),\n",
    "        ('minmax', MinMaxScaler())\n",
    "    ]), boxcox_colsy),\n",
    "    ('yeojohnson_minmax', Pipeline([\n",
    "        ('yeojohnson', PowerTransformer(method='yeo-johnson', standardize=False)),\n",
    "        ('minmax', MinMaxScaler())\n",
    "    ]), yeojohnson_colsy)\n",
    "]\n",
    "preprocessory = ColumnTransformer(transformers=transformersy)\n",
    "\n",
    "# Build the full pipeline\n",
    "pipeliney = Pipeline(steps=[\n",
    "    ('preprocessor', preprocessory)\n",
    "])\n",
    "pipeliney.fit(train_labels)\n",
    "\n",
    "transformed_train_labels = pipeliney.transform(train_labels)\n",
    "transformed_val_labels = pipeliney.transform(val_labels)\n",
    "transformed_test_labels = pipeliney.transform(test_labels)\n",
    "\n"
   ]
  },
  {
   "cell_type": "code",
   "execution_count": 26,
   "metadata": {},
   "outputs": [],
   "source": [
    "date_range = pd.date_range(start='2022-01-01', end='2023-12-31', freq='D')\n",
    "date_df = pd.DataFrame(date_range, columns=['Date'])\n",
    "train_date = date_df[:train_size]\n",
    "val_date = date_df[train_size:train_size + val_size]\n",
    "test_date= date_df[train_size + val_size:]\n",
    "\n",
    "#Resetting the Index\n",
    "val_date = val_date.reset_index(drop=True)\n",
    "test_date = test_date.reset_index(drop=True)\n"
   ]
  },
  {
   "cell_type": "code",
   "execution_count": 27,
   "metadata": {},
   "outputs": [],
   "source": [
    "#Converting to dataframes\n",
    "labels_columns = ['GWAP', 'LWAP']\n",
    "labels_train = pd.DataFrame(transformed_train_labels, columns = labels_columns)\n",
    "labels_val = pd.DataFrame(transformed_val_labels, columns = labels_columns)\n",
    "labels_test = pd.DataFrame(transformed_test_labels, columns = labels_columns)\n",
    "\n",
    "LUZ_data_columns = ['GWAP', 'LWAP', 'FLOW_LUZ','RESERVE_GWAP_Fr','RESERVE_GWAP_Ru','RESERVE_GWAP_Rd','RESERVE_GWAP_Dr','Hourly Demand','RAINFALL_Cubi Point','TMAX_Cubi Point','TMIN_Cubi Point','RAINFALL_NAIA','TMAX_NAIA','TMIN_NAIA','RAINFALL_Science Garden','TMAX_Science Garden','TMIN_Science Garden','RAINFALL_San Jose','TMAX_San Jose','TMIN_San Jose','RAINFALL_Tayabas','TMAX_Tayabas','TMIN_Tayabas','RAINFALL_CLSU','TMAX_CLSU','TMIN_CLSU','RAINFALL_Tanay','TMAX_Tanay','TMIN_Tanay','RAINFALL_Ambulong','TMAX_Ambulong','TMIN_Ambulong','RAINFALL_Casiguran','TMAX_Casiguran','TMIN_Casiguran','RAINFALL_Clark','TMAX_Clark','TMIN_Clark','RAINFALL_Calapan','TMAX_Calapan','TMIN_Calapan']\n",
    "LUZ_data_train = pd.DataFrame(transformed_train_data, columns = LUZ_data_columns)\n",
    "LUZ_data_val = pd.DataFrame(transformed_val_data, columns = LUZ_data_columns)\n",
    "LUZ_data_test = pd.DataFrame(transformed_test_data, columns = LUZ_data_columns)\n"
   ]
  },
  {
   "cell_type": "code",
   "execution_count": 85,
   "metadata": {},
   "outputs": [],
   "source": [
    "#Preparing GWAP datasets\n",
    "LUZ_GWAP_train = labels_train['GWAP']\n",
    "LUZ_GWAP_train = pd.concat([train_date,LUZ_GWAP_train], axis=1)\n",
    "LUZ_GWAP_train.set_index('Date', inplace=True)\n",
    "LUZ_GWAP_train.index = pd.to_datetime(LUZ_GWAP_train.index)\n",
    "LUZ_GWAP_train.index.freq='D'\n",
    "LUZ_GWAP_train = LUZ_GWAP_train.squeeze()\n",
    "\n",
    "\n",
    "LUZ_GWAP_val = labels_val['GWAP']\n",
    "LUZ_GWAP_val = pd.concat([val_date,LUZ_GWAP_val], axis=1)\n",
    "LUZ_GWAP_val.set_index('Date', inplace=True)\n",
    "LUZ_GWAP_val.index = pd.to_datetime(LUZ_GWAP_val.index)\n",
    "LUZ_GWAP_val.index.freq='D'\n",
    "LUZ_GWAP_val = LUZ_GWAP_val.squeeze()\n",
    "\n",
    "LUZ_GWAP_test = labels_test['GWAP']\n",
    "LUZ_GWAP_test = pd.concat([test_date,LUZ_GWAP_test], axis=1)\n",
    "LUZ_GWAP_test.set_index('Date', inplace=True)\n",
    "LUZ_GWAP_test.index = pd.to_datetime(LUZ_GWAP_test.index)\n",
    "LUZ_GWAP_test.index.freq='D'\n",
    "LUZ_GWAP_test = LUZ_GWAP_test.squeeze()\n",
    "\n",
    "LUZ_GWAP = pd.concat([LUZ_GWAP_train, LUZ_GWAP_val, LUZ_GWAP_test], ignore_index=False)\n",
    "\n",
    "\n",
    "#Preparing the LWAP datasets\n",
    "LUZ_LWAP_train = labels_train['LWAP']\n",
    "LUZ_LWAP_train = pd.concat([train_date,LUZ_LWAP_train], axis=1)\n",
    "LUZ_LWAP_train.set_index('Date', inplace=True)\n",
    "LUZ_LWAP_train.index = pd.to_datetime(LUZ_LWAP_train.index)\n",
    "LUZ_LWAP_train.index.freq='D'\n",
    "LUZ_LWAP_train = LUZ_LWAP_train.squeeze()\n",
    "\n",
    "LUZ_LWAP_val = labels_val['LWAP']\n",
    "LUZ_LWAP_val = pd.concat([val_date,LUZ_LWAP_val], axis=1)\n",
    "LUZ_LWAP_val.set_index('Date', inplace=True)\n",
    "LUZ_LWAP_val.index = pd.to_datetime(LUZ_LWAP_val.index)\n",
    "LUZ_LWAP_val.index.freq='D'\n",
    "LUZ_LWAP_val = LUZ_LWAP_val.squeeze()\n",
    "\n",
    "LUZ_LWAP_test = labels_test['LWAP']\n",
    "LUZ_LWAP_test = pd.concat([test_date,LUZ_LWAP_test], axis=1)\n",
    "LUZ_LWAP_test.set_index('Date', inplace=True)\n",
    "LUZ_LWAP_test.index = pd.to_datetime(LUZ_LWAP_test.index)\n",
    "LUZ_LWAP_test.index.freq='D'\n",
    "LUZ_LWAP_test = LUZ_LWAP_test.squeeze()\n",
    "\n",
    "#Preparing the exogenous datasets\n",
    "LUZ_exog_train = LUZ_data_train[['FLOW_LUZ','RESERVE_GWAP_Fr','RESERVE_GWAP_Ru','RESERVE_GWAP_Rd','RESERVE_GWAP_Dr','Hourly Demand','RAINFALL_Cubi Point','TMAX_Cubi Point','TMIN_Cubi Point','RAINFALL_NAIA','TMAX_NAIA','TMIN_NAIA','RAINFALL_Science Garden','TMAX_Science Garden','TMIN_Science Garden','RAINFALL_San Jose','TMAX_San Jose','TMIN_San Jose','RAINFALL_Tayabas','TMAX_Tayabas','TMIN_Tayabas','RAINFALL_CLSU','TMAX_CLSU','TMIN_CLSU','RAINFALL_Tanay','TMAX_Tanay','TMIN_Tanay','RAINFALL_Ambulong','TMAX_Ambulong','TMIN_Ambulong','RAINFALL_Casiguran','TMAX_Casiguran','TMIN_Casiguran','RAINFALL_Clark','TMAX_Clark','TMIN_Clark','RAINFALL_Calapan','TMAX_Calapan','TMIN_Calapan']]\n",
    "LUZ_exog_train = pd.concat([train_date,LUZ_exog_train], axis=1)\n",
    "LUZ_exog_train.set_index('Date', inplace=True)\n",
    "\n",
    "LUZ_exog_val = LUZ_data_val[['FLOW_LUZ','RESERVE_GWAP_Fr','RESERVE_GWAP_Ru','RESERVE_GWAP_Rd','RESERVE_GWAP_Dr','Hourly Demand','RAINFALL_Cubi Point','TMAX_Cubi Point','TMIN_Cubi Point','RAINFALL_NAIA','TMAX_NAIA','TMIN_NAIA','RAINFALL_Science Garden','TMAX_Science Garden','TMIN_Science Garden','RAINFALL_San Jose','TMAX_San Jose','TMIN_San Jose','RAINFALL_Tayabas','TMAX_Tayabas','TMIN_Tayabas','RAINFALL_CLSU','TMAX_CLSU','TMIN_CLSU','RAINFALL_Tanay','TMAX_Tanay','TMIN_Tanay','RAINFALL_Ambulong','TMAX_Ambulong','TMIN_Ambulong','RAINFALL_Casiguran','TMAX_Casiguran','TMIN_Casiguran','RAINFALL_Clark','TMAX_Clark','TMIN_Clark','RAINFALL_Calapan','TMAX_Calapan','TMIN_Calapan']]\n",
    "LUZ_exog_val = pd.concat([val_date,LUZ_exog_val], axis=1)\n",
    "LUZ_exog_val.set_index('Date', inplace=True)\n",
    "\n",
    "LUZ_exog_test = LUZ_data_test[['FLOW_LUZ','RESERVE_GWAP_Fr','RESERVE_GWAP_Ru','RESERVE_GWAP_Rd','RESERVE_GWAP_Dr','Hourly Demand','RAINFALL_Cubi Point','TMAX_Cubi Point','TMIN_Cubi Point','RAINFALL_NAIA','TMAX_NAIA','TMIN_NAIA','RAINFALL_Science Garden','TMAX_Science Garden','TMIN_Science Garden','RAINFALL_San Jose','TMAX_San Jose','TMIN_San Jose','RAINFALL_Tayabas','TMAX_Tayabas','TMIN_Tayabas','RAINFALL_CLSU','TMAX_CLSU','TMIN_CLSU','RAINFALL_Tanay','TMAX_Tanay','TMIN_Tanay','RAINFALL_Ambulong','TMAX_Ambulong','TMIN_Ambulong','RAINFALL_Casiguran','TMAX_Casiguran','TMIN_Casiguran','RAINFALL_Clark','TMAX_Clark','TMIN_Clark','RAINFALL_Calapan','TMAX_Calapan','TMIN_Calapan']]\n",
    "LUZ_exog_test = pd.concat([test_date,LUZ_exog_test], axis=1)\n",
    "LUZ_exog_test.set_index('Date', inplace=True)\n"
   ]
  },
  {
   "cell_type": "code",
   "execution_count": 29,
   "metadata": {},
   "outputs": [
    {
     "data": {
      "application/vnd.plotly.v1+json": {
       "config": {
        "plotlyServerURL": "https://plot.ly"
       },
       "data": [
        {
         "hovertemplate": "Date=%{x}<br>GWAP=%{y}<extra></extra>",
         "legendgroup": "",
         "line": {
          "color": "#636efa",
          "dash": "solid"
         },
         "marker": {
          "symbol": "circle"
         },
         "mode": "lines",
         "name": "",
         "orientation": "v",
         "showlegend": false,
         "type": "scatter",
         "x": [
          "2022-01-01T00:00:00",
          "2022-01-02T00:00:00",
          "2022-01-03T00:00:00",
          "2022-01-04T00:00:00",
          "2022-01-05T00:00:00",
          "2022-01-06T00:00:00",
          "2022-01-07T00:00:00",
          "2022-01-08T00:00:00",
          "2022-01-09T00:00:00",
          "2022-01-10T00:00:00",
          "2022-01-11T00:00:00",
          "2022-01-12T00:00:00",
          "2022-01-13T00:00:00",
          "2022-01-14T00:00:00",
          "2022-01-15T00:00:00",
          "2022-01-16T00:00:00",
          "2022-01-17T00:00:00",
          "2022-01-18T00:00:00",
          "2022-01-19T00:00:00",
          "2022-01-20T00:00:00",
          "2022-01-21T00:00:00",
          "2022-01-22T00:00:00",
          "2022-01-23T00:00:00",
          "2022-01-24T00:00:00",
          "2022-01-25T00:00:00",
          "2022-01-26T00:00:00",
          "2022-01-27T00:00:00",
          "2022-01-28T00:00:00",
          "2022-01-29T00:00:00",
          "2022-01-30T00:00:00",
          "2022-01-31T00:00:00",
          "2022-02-01T00:00:00",
          "2022-02-02T00:00:00",
          "2022-02-03T00:00:00",
          "2022-02-04T00:00:00",
          "2022-02-05T00:00:00",
          "2022-02-06T00:00:00",
          "2022-02-07T00:00:00",
          "2022-02-08T00:00:00",
          "2022-02-09T00:00:00",
          "2022-02-10T00:00:00",
          "2022-02-11T00:00:00",
          "2022-02-12T00:00:00",
          "2022-02-13T00:00:00",
          "2022-02-14T00:00:00",
          "2022-02-15T00:00:00",
          "2022-02-16T00:00:00",
          "2022-02-17T00:00:00",
          "2022-02-18T00:00:00",
          "2022-02-19T00:00:00",
          "2022-02-20T00:00:00",
          "2022-02-21T00:00:00",
          "2022-02-22T00:00:00",
          "2022-02-23T00:00:00",
          "2022-02-24T00:00:00",
          "2022-02-25T00:00:00",
          "2022-02-26T00:00:00",
          "2022-02-27T00:00:00",
          "2022-02-28T00:00:00",
          "2022-03-01T00:00:00",
          "2022-03-02T00:00:00",
          "2022-03-03T00:00:00",
          "2022-03-04T00:00:00",
          "2022-03-05T00:00:00",
          "2022-03-06T00:00:00",
          "2022-03-07T00:00:00",
          "2022-03-08T00:00:00",
          "2022-03-09T00:00:00",
          "2022-03-10T00:00:00",
          "2022-03-11T00:00:00",
          "2022-03-12T00:00:00",
          "2022-03-13T00:00:00",
          "2022-03-14T00:00:00",
          "2022-03-15T00:00:00",
          "2022-03-16T00:00:00",
          "2022-03-17T00:00:00",
          "2022-03-18T00:00:00",
          "2022-03-19T00:00:00",
          "2022-03-20T00:00:00",
          "2022-03-21T00:00:00",
          "2022-03-22T00:00:00",
          "2022-03-23T00:00:00",
          "2022-03-24T00:00:00",
          "2022-03-25T00:00:00",
          "2022-03-26T00:00:00",
          "2022-03-27T00:00:00",
          "2022-03-28T00:00:00",
          "2022-03-29T00:00:00",
          "2022-03-30T00:00:00",
          "2022-03-31T00:00:00",
          "2022-04-01T00:00:00",
          "2022-04-02T00:00:00",
          "2022-04-03T00:00:00",
          "2022-04-04T00:00:00",
          "2022-04-05T00:00:00",
          "2022-04-06T00:00:00",
          "2022-04-07T00:00:00",
          "2022-04-08T00:00:00",
          "2022-04-09T00:00:00",
          "2022-04-10T00:00:00",
          "2022-04-11T00:00:00",
          "2022-04-12T00:00:00",
          "2022-04-13T00:00:00",
          "2022-04-14T00:00:00",
          "2022-04-15T00:00:00",
          "2022-04-16T00:00:00",
          "2022-04-17T00:00:00",
          "2022-04-18T00:00:00",
          "2022-04-19T00:00:00",
          "2022-04-20T00:00:00",
          "2022-04-21T00:00:00",
          "2022-04-22T00:00:00",
          "2022-04-23T00:00:00",
          "2022-04-24T00:00:00",
          "2022-04-25T00:00:00",
          "2022-04-26T00:00:00",
          "2022-04-27T00:00:00",
          "2022-04-28T00:00:00",
          "2022-04-29T00:00:00",
          "2022-04-30T00:00:00",
          "2022-05-01T00:00:00",
          "2022-05-02T00:00:00",
          "2022-05-03T00:00:00",
          "2022-05-04T00:00:00",
          "2022-05-05T00:00:00",
          "2022-05-06T00:00:00",
          "2022-05-07T00:00:00",
          "2022-05-08T00:00:00",
          "2022-05-09T00:00:00",
          "2022-05-10T00:00:00",
          "2022-05-11T00:00:00",
          "2022-05-12T00:00:00",
          "2022-05-13T00:00:00",
          "2022-05-14T00:00:00",
          "2022-05-15T00:00:00",
          "2022-05-16T00:00:00",
          "2022-05-17T00:00:00",
          "2022-05-18T00:00:00",
          "2022-05-19T00:00:00",
          "2022-05-20T00:00:00",
          "2022-05-21T00:00:00",
          "2022-05-22T00:00:00",
          "2022-05-23T00:00:00",
          "2022-05-24T00:00:00",
          "2022-05-25T00:00:00",
          "2022-05-26T00:00:00",
          "2022-05-27T00:00:00",
          "2022-05-28T00:00:00",
          "2022-05-29T00:00:00",
          "2022-05-30T00:00:00",
          "2022-05-31T00:00:00",
          "2022-06-01T00:00:00",
          "2022-06-02T00:00:00",
          "2022-06-03T00:00:00",
          "2022-06-04T00:00:00",
          "2022-06-05T00:00:00",
          "2022-06-06T00:00:00",
          "2022-06-07T00:00:00",
          "2022-06-08T00:00:00",
          "2022-06-09T00:00:00",
          "2022-06-10T00:00:00",
          "2022-06-11T00:00:00",
          "2022-06-12T00:00:00",
          "2022-06-13T00:00:00",
          "2022-06-14T00:00:00",
          "2022-06-15T00:00:00",
          "2022-06-16T00:00:00",
          "2022-06-17T00:00:00",
          "2022-06-18T00:00:00",
          "2022-06-19T00:00:00",
          "2022-06-20T00:00:00",
          "2022-06-21T00:00:00",
          "2022-06-22T00:00:00",
          "2022-06-23T00:00:00",
          "2022-06-24T00:00:00",
          "2022-06-25T00:00:00",
          "2022-06-26T00:00:00",
          "2022-06-27T00:00:00",
          "2022-06-28T00:00:00",
          "2022-06-29T00:00:00",
          "2022-06-30T00:00:00",
          "2022-07-01T00:00:00",
          "2022-07-02T00:00:00",
          "2022-07-03T00:00:00",
          "2022-07-04T00:00:00",
          "2022-07-05T00:00:00",
          "2022-07-06T00:00:00",
          "2022-07-07T00:00:00",
          "2022-07-08T00:00:00",
          "2022-07-09T00:00:00",
          "2022-07-10T00:00:00",
          "2022-07-11T00:00:00",
          "2022-07-12T00:00:00",
          "2022-07-13T00:00:00",
          "2022-07-14T00:00:00",
          "2022-07-15T00:00:00",
          "2022-07-16T00:00:00",
          "2022-07-17T00:00:00",
          "2022-07-18T00:00:00",
          "2022-07-19T00:00:00",
          "2022-07-20T00:00:00",
          "2022-07-21T00:00:00",
          "2022-07-22T00:00:00",
          "2022-07-23T00:00:00",
          "2022-07-24T00:00:00",
          "2022-07-25T00:00:00",
          "2022-07-26T00:00:00",
          "2022-07-27T00:00:00",
          "2022-07-28T00:00:00",
          "2022-07-29T00:00:00",
          "2022-07-30T00:00:00",
          "2022-07-31T00:00:00",
          "2022-08-01T00:00:00",
          "2022-08-02T00:00:00",
          "2022-08-03T00:00:00",
          "2022-08-04T00:00:00",
          "2022-08-05T00:00:00",
          "2022-08-06T00:00:00",
          "2022-08-07T00:00:00",
          "2022-08-08T00:00:00",
          "2022-08-09T00:00:00",
          "2022-08-10T00:00:00",
          "2022-08-11T00:00:00",
          "2022-08-12T00:00:00",
          "2022-08-13T00:00:00",
          "2022-08-14T00:00:00",
          "2022-08-15T00:00:00",
          "2022-08-16T00:00:00",
          "2022-08-17T00:00:00",
          "2022-08-18T00:00:00",
          "2022-08-19T00:00:00",
          "2022-08-20T00:00:00",
          "2022-08-21T00:00:00",
          "2022-08-22T00:00:00",
          "2022-08-23T00:00:00",
          "2022-08-24T00:00:00",
          "2022-08-25T00:00:00",
          "2022-08-26T00:00:00",
          "2022-08-27T00:00:00",
          "2022-08-28T00:00:00",
          "2022-08-29T00:00:00",
          "2022-08-30T00:00:00",
          "2022-08-31T00:00:00",
          "2022-09-01T00:00:00",
          "2022-09-02T00:00:00",
          "2022-09-03T00:00:00",
          "2022-09-04T00:00:00",
          "2022-09-05T00:00:00",
          "2022-09-06T00:00:00",
          "2022-09-07T00:00:00",
          "2022-09-08T00:00:00",
          "2022-09-09T00:00:00",
          "2022-09-10T00:00:00",
          "2022-09-11T00:00:00",
          "2022-09-12T00:00:00",
          "2022-09-13T00:00:00",
          "2022-09-14T00:00:00",
          "2022-09-15T00:00:00",
          "2022-09-16T00:00:00",
          "2022-09-17T00:00:00",
          "2022-09-18T00:00:00",
          "2022-09-19T00:00:00",
          "2022-09-20T00:00:00",
          "2022-09-21T00:00:00",
          "2022-09-22T00:00:00",
          "2022-09-23T00:00:00",
          "2022-09-24T00:00:00",
          "2022-09-25T00:00:00",
          "2022-09-26T00:00:00",
          "2022-09-27T00:00:00",
          "2022-09-28T00:00:00",
          "2022-09-29T00:00:00",
          "2022-09-30T00:00:00",
          "2022-10-01T00:00:00",
          "2022-10-02T00:00:00",
          "2022-10-03T00:00:00",
          "2022-10-04T00:00:00",
          "2022-10-05T00:00:00",
          "2022-10-06T00:00:00",
          "2022-10-07T00:00:00",
          "2022-10-08T00:00:00",
          "2022-10-09T00:00:00",
          "2022-10-10T00:00:00",
          "2022-10-11T00:00:00",
          "2022-10-12T00:00:00",
          "2022-10-13T00:00:00",
          "2022-10-14T00:00:00",
          "2022-10-15T00:00:00",
          "2022-10-16T00:00:00",
          "2022-10-17T00:00:00",
          "2022-10-18T00:00:00",
          "2022-10-19T00:00:00",
          "2022-10-20T00:00:00",
          "2022-10-21T00:00:00",
          "2022-10-22T00:00:00",
          "2022-10-23T00:00:00",
          "2022-10-24T00:00:00",
          "2022-10-25T00:00:00",
          "2022-10-26T00:00:00",
          "2022-10-27T00:00:00",
          "2022-10-28T00:00:00",
          "2022-10-29T00:00:00",
          "2022-10-30T00:00:00",
          "2022-10-31T00:00:00",
          "2022-11-01T00:00:00",
          "2022-11-02T00:00:00",
          "2022-11-03T00:00:00",
          "2022-11-04T00:00:00",
          "2022-11-05T00:00:00",
          "2022-11-06T00:00:00",
          "2022-11-07T00:00:00",
          "2022-11-08T00:00:00",
          "2022-11-09T00:00:00",
          "2022-11-10T00:00:00",
          "2022-11-11T00:00:00",
          "2022-11-12T00:00:00",
          "2022-11-13T00:00:00",
          "2022-11-14T00:00:00",
          "2022-11-15T00:00:00",
          "2022-11-16T00:00:00",
          "2022-11-17T00:00:00",
          "2022-11-18T00:00:00",
          "2022-11-19T00:00:00",
          "2022-11-20T00:00:00",
          "2022-11-21T00:00:00",
          "2022-11-22T00:00:00",
          "2022-11-23T00:00:00",
          "2022-11-24T00:00:00",
          "2022-11-25T00:00:00",
          "2022-11-26T00:00:00",
          "2022-11-27T00:00:00",
          "2022-11-28T00:00:00",
          "2022-11-29T00:00:00",
          "2022-11-30T00:00:00",
          "2022-12-01T00:00:00",
          "2022-12-02T00:00:00",
          "2022-12-03T00:00:00",
          "2022-12-04T00:00:00",
          "2022-12-05T00:00:00",
          "2022-12-06T00:00:00",
          "2022-12-07T00:00:00",
          "2022-12-08T00:00:00",
          "2022-12-09T00:00:00",
          "2022-12-10T00:00:00",
          "2022-12-11T00:00:00",
          "2022-12-12T00:00:00",
          "2022-12-13T00:00:00",
          "2022-12-14T00:00:00",
          "2022-12-15T00:00:00",
          "2022-12-16T00:00:00",
          "2022-12-17T00:00:00",
          "2022-12-18T00:00:00",
          "2022-12-19T00:00:00",
          "2022-12-20T00:00:00",
          "2022-12-21T00:00:00",
          "2022-12-22T00:00:00",
          "2022-12-23T00:00:00",
          "2022-12-24T00:00:00",
          "2022-12-25T00:00:00",
          "2022-12-26T00:00:00",
          "2022-12-27T00:00:00",
          "2022-12-28T00:00:00",
          "2022-12-29T00:00:00",
          "2022-12-30T00:00:00",
          "2022-12-31T00:00:00",
          "2023-01-01T00:00:00",
          "2023-01-02T00:00:00",
          "2023-01-03T00:00:00",
          "2023-01-04T00:00:00",
          "2023-01-05T00:00:00",
          "2023-01-06T00:00:00",
          "2023-01-07T00:00:00",
          "2023-01-08T00:00:00",
          "2023-01-09T00:00:00",
          "2023-01-10T00:00:00",
          "2023-01-11T00:00:00",
          "2023-01-12T00:00:00",
          "2023-01-13T00:00:00",
          "2023-01-14T00:00:00",
          "2023-01-15T00:00:00",
          "2023-01-16T00:00:00",
          "2023-01-17T00:00:00",
          "2023-01-18T00:00:00",
          "2023-01-19T00:00:00",
          "2023-01-20T00:00:00",
          "2023-01-21T00:00:00",
          "2023-01-22T00:00:00",
          "2023-01-23T00:00:00",
          "2023-01-24T00:00:00",
          "2023-01-25T00:00:00",
          "2023-01-26T00:00:00",
          "2023-01-27T00:00:00",
          "2023-01-28T00:00:00",
          "2023-01-29T00:00:00",
          "2023-01-30T00:00:00",
          "2023-01-31T00:00:00",
          "2023-02-01T00:00:00",
          "2023-02-02T00:00:00",
          "2023-02-03T00:00:00",
          "2023-02-04T00:00:00",
          "2023-02-05T00:00:00",
          "2023-02-06T00:00:00",
          "2023-02-07T00:00:00",
          "2023-02-08T00:00:00",
          "2023-02-09T00:00:00",
          "2023-02-10T00:00:00",
          "2023-02-11T00:00:00",
          "2023-02-12T00:00:00",
          "2023-02-13T00:00:00",
          "2023-02-14T00:00:00",
          "2023-02-15T00:00:00",
          "2023-02-16T00:00:00",
          "2023-02-17T00:00:00",
          "2023-02-18T00:00:00",
          "2023-02-19T00:00:00",
          "2023-02-20T00:00:00",
          "2023-02-21T00:00:00",
          "2023-02-22T00:00:00",
          "2023-02-23T00:00:00",
          "2023-02-24T00:00:00",
          "2023-02-25T00:00:00",
          "2023-02-26T00:00:00",
          "2023-02-27T00:00:00",
          "2023-02-28T00:00:00",
          "2023-03-01T00:00:00",
          "2023-03-02T00:00:00",
          "2023-03-03T00:00:00",
          "2023-03-04T00:00:00",
          "2023-03-05T00:00:00",
          "2023-03-06T00:00:00",
          "2023-03-07T00:00:00",
          "2023-03-08T00:00:00",
          "2023-03-09T00:00:00",
          "2023-03-10T00:00:00",
          "2023-03-11T00:00:00",
          "2023-03-12T00:00:00",
          "2023-03-13T00:00:00",
          "2023-03-14T00:00:00"
         ],
         "xaxis": "x",
         "y": [
          0.27217103063111736,
          0.3298083887936585,
          0.4343678269337836,
          0.516003563734099,
          0.8017828841425043,
          0.7638972072594328,
          0.7067006805264313,
          0.8001088838290507,
          0.7870225679551304,
          0.9788491058550441,
          0.8165654850450395,
          0.6378618343761815,
          0.6871388006437265,
          0.6537311783948709,
          0.5593981504198382,
          0.5419009713584977,
          0.622050192559854,
          0.5218437300373964,
          0.5329525808174793,
          0.6490384727822907,
          0.8424743039443356,
          0.749170341698477,
          0.8097057253053173,
          0.8555945280152457,
          0.8434376149361746,
          0.5990236915863925,
          0.9256654123940145,
          0.9204653328305454,
          0.6636310201996949,
          0.532482291896951,
          0.3741491363728642,
          0.3010659959039046,
          0.448648450600615,
          0.36685141845326186,
          0.3017172368229737,
          0.3382434104055996,
          0.29060738926462903,
          0.48404812324122304,
          0.48905293386594195,
          0.653694356069817,
          0.48481550403395346,
          0.5815519063373848,
          0.3850624561953886,
          0.36846689122442555,
          0.4905839132396963,
          0.3671606522479287,
          0.40571718485807295,
          0.5517062556992265,
          0.6846116783018168,
          0.5318671120232494,
          0.5408805995395625,
          0.46513368968828317,
          0.4645240598880065,
          0.4992552980968057,
          0.5793525184256794,
          0.4825628057256921,
          0.5993559293079223,
          0.5077840456182017,
          0.38278560491998803,
          0.4041801118121491,
          0.5020120810162858,
          0.5046930358104404,
          0.5631110419511138,
          0.40545408020367546,
          0.3507362091634576,
          0.4101819356309164,
          0.3931626305036815,
          0.35752683534821017,
          0.481499811531112,
          0.5860364870385943,
          0.5031213805399268,
          0.4555616374693656,
          0.6973225824632259,
          0.6198222242753566,
          0.8218666333734994,
          0.728522168665048,
          0.7260897588091133,
          0.47004092384224805,
          0.4637652985462637,
          0.574076527863788,
          0.667657838913648,
          0.6185382662324166,
          0.5756890271530466,
          0.6811111565848158,
          0.8244429176913499,
          0.6046227581049664,
          0.5096806965347334,
          0.5230724972259679,
          0.509896162666017,
          0.5401025536734032,
          0.45875481735072654,
          0.24539451943662627,
          0.34221912569750046,
          0.32551724680205396,
          0.3291666163324898,
          0.3806788861375381,
          0.35877364398294986,
          0.3853261178393659,
          0.35672218539442824,
          0.4047084412826152,
          0.3977531153082978,
          0.42245216455325973,
          0.48019241287124004,
          0.5349927347251295,
          0.42597000242965777,
          0.4844042072354142,
          0.4914316252669195,
          0.6848252500370826,
          0.618433633655119,
          0.7786260866080781,
          0.8197660295774121,
          0.7019179812614347,
          0.5319244341636775,
          0.5187421529485015,
          0.5359979995268631,
          0.5686951394661826,
          0.5827913986784736,
          0.6495665177999825,
          0.7225254179092637,
          0.48111341141493114,
          0.39931540848641944,
          0.3703406597893917,
          0.4028311494759329,
          0.4464827188497118,
          0.5053555670234573,
          0.4475978904843778,
          0.43419771144026953,
          0.46563163267791907,
          0.3106658231222674,
          0.5607321176171851,
          0.5525025088380602,
          0.5237993153144345,
          0.5418869360424985,
          0.48952452257871215,
          0.4597646125859569,
          0.4572180952302709,
          0.44865469267146096,
          0.43381950071144715,
          0.39054289997201863,
          0.36734522961004856,
          0.42171620244811336,
          0.3890626436987574,
          0.463082709531097,
          0.4930536739571494,
          0.5300709321231594,
          0.5032326726602463,
          0.5144408640592886,
          0.4559748487724953,
          0.625851749938672,
          0.5840207876385328,
          0.5601356938951341,
          0.5012740074354056,
          0.5847831418219691,
          0.7606199776894869,
          0.7936602168798785,
          0.7674460394773632,
          0.6540126153413937,
          0.5328224969044086,
          0.5914129905689904,
          0.6987171371900942,
          0.8403398357102212,
          0.8614285822180037,
          0.6178011235063465,
          0.674451858033855,
          0.6212141477997442,
          0.5756099089701685,
          0.7606951759212883,
          0.8482865736482381,
          0.844077491714124,
          0.8267645143541387,
          0.8450967765562396,
          0.9357174994712096,
          0.9645208512097803,
          0.8223552226756894,
          0.8089681969614517,
          0.5828749827867412,
          0.511505205307401,
          0.5115155351338494,
          0.5122756655833243,
          0.622661005914118,
          0.6525156016755389,
          0.6244596530163058,
          0.6275969923899254,
          0.7407427535583473,
          0.8230509798545143,
          0.8496585074145209,
          0.7837044767682144,
          0.6506145816188784,
          0.8081904041397046,
          0.6168196601360023,
          0.616394099898212,
          0.8094964196752272,
          0.8194557661090478,
          0.6738467070251524,
          0.833142293600865,
          0.8509904141831157,
          0.7050964184745467,
          0.6130456062995044,
          0.6614624485449596,
          0.5890803044411648,
          0.6378814431991557,
          0.6057258547843531,
          0.6194406469680303,
          0.6340001495982222,
          0.6741328197580252,
          0.7664585998276472,
          0.7298457809181222,
          0.6436359061564474,
          0.6678615837577091,
          0.5483708341641993,
          0.589853099046934,
          0.5024670530376021,
          0.44657451349620203,
          0.47937118567716297,
          0.499293532335642,
          0.47304262807134734,
          0.4242257369091078,
          0.4611010327208085,
          0.4371843754385836,
          0.44261592258539295,
          0.5147447541800325,
          0.541010779799894,
          0.5357895341046301,
          0.5534365214418457,
          0.5142608930105936,
          0.5054230114565392,
          0.4917281359569827,
          0.5382017667882799,
          0.506784875463751,
          0.5008698110827865,
          0.5806152535684284,
          0.5368552226261869,
          0.6160029953941653,
          0.6077792359506979,
          0.5784011365491644,
          0.631950943879179,
          0.8188998452149185,
          0.8097679917466571,
          0.639002580332118,
          0.6794711416638712,
          0.6220122503037082,
          0.871181137297885,
          0.7884490219093934,
          0.8197418342134668,
          0.8365161323249026,
          0.6064069166925776,
          0.6147058260500486,
          0.7165464649919748,
          0.8420828352226053,
          0.8672999280760116,
          0.8542773588427615,
          0.7822979160149082,
          0.6518551768050962,
          0.8587153404542001,
          0.9232913095705371,
          0.7755819141072067,
          0.704485355175418,
          0.8635803926072789,
          0.8126635696833517,
          0.6183813296049223,
          0.6956746377504608,
          0.7522844599521541,
          0.7642813337023142,
          0.8668971591179968,
          0.8710837436107575,
          0.8009136767229386,
          0.7707775333430327,
          0.579599516033177,
          0.5354427390852479,
          0.7384911742692815,
          0.8555967935741791,
          0.8904826460515984,
          0.8769646899081387,
          0.8506501724921591,
          0.8738915962721805,
          0.8044221928146769,
          0.8344376401831326,
          0.8927651774867122,
          0.748329946346054,
          0.8152306671133651,
          0.788846527139615,
          0.7286645591991032,
          0.853770719019149,
          0.9304114141458619,
          0.8618842914703642,
          0.8932491881068643,
          0.9055082294126784,
          0.8187459450636467,
          0.6511047522687221,
          0.8573802877194936,
          0.8805807111010431,
          0.7274196599978886,
          0.6907125114895258,
          0.7694270973942245,
          0.6416736018221592,
          0.6280928921126048,
          0.7619197945596312,
          0.6362676968914514,
          0.6029957356138418,
          0.6361640223602123,
          0.6081737019285818,
          0.2188550936896867,
          0.5710977173903338,
          0.5874065744965726,
          0.3370164124895254,
          0.5495039357117051,
          0.6057982656154515,
          0.5975749208769372,
          0.6263303275871799,
          0.5359849137265584,
          0.625984185494783,
          0.6498092513626688,
          0.7010770409450409,
          0.7106412555855108,
          0.6544953452047793,
          0.6334934840753412,
          0.629449750278301,
          0.7606620136382176,
          0.711847351672521,
          0.6909473265542054,
          0.6663049720254648,
          0.6728481470325853,
          0.6102990479809165,
          0.5681448515919172,
          0.6434579553767854,
          0.6840467760298665,
          0.8432982712919745,
          0.8711513546606433,
          0.8416798599259181,
          0.8622626073057802,
          0.9003099929238303,
          0.8949411161761915,
          0.9252163613546216,
          0.8310445955931378,
          0.8771596448043937,
          0.8913553351699974,
          0.872566263118447,
          0.8320329162226088,
          0.8999880594304628,
          1,
          0.9479035853600735,
          0.8902755544522769,
          0.9010975697788552,
          0.7487919818440076,
          0.8372959454291156,
          0.7911417690419746,
          0.8693413715945901,
          0.8923067558278639,
          0.876465493130798,
          0.8968554934974087,
          0.8450347696130258,
          0.7237394246451991,
          0.6130608057092495,
          0.6153009186977556,
          0.5808121431224293,
          0.5085885268364265,
          0.4453713166037119,
          0.07931622160436902,
          0,
          0.24152511383776343,
          0.3764162473733563,
          0.44282033716991975,
          0.5022409851869973,
          0.4268103836058792,
          0.25697919511391376,
          0.24110138437703554,
          0.3991480474191995,
          0.4636343236461258,
          0.43670386784562965,
          0.4029729484894631,
          0.4324098987423852,
          0.35951003861728736,
          0.2894103247820041,
          0.49398674758736405,
          0.4611196609070589,
          0.4074391351786524,
          0.477697184055323,
          0.5546000780193197,
          0.5583906031035291,
          0.5084313358043708,
          0.5606327747435778,
          0.5759063130097388,
          0.5614376540783894,
          0.5779016693394396,
          0.5525756051570809,
          0.535709403129232,
          0.5394228534233392,
          0.5930320398069249,
          0.5761955487075809,
          0.5742967437353599,
          0.5464419489616539,
          0.5077945188937818,
          0.46915845712011617,
          0.4217445093848866,
          0.4607597999021671,
          0.4975335416252271,
          0.5477308275908932,
          0.6308629818742126,
          0.6035692991635209,
          0.5772983385221053,
          0.5398196100393235,
          0.646786549618092,
          0.695947219742699,
          0.8216896081892848,
          0.6446838566629935,
          0.6602690769110282,
          0.757175684097767,
          0.5209566078039671,
          0.5496439857134128,
          0.5708190414980479,
          0.5430556993250022,
          0.5028721938088623,
          0.5226191997799639,
          0.5213509124390825,
          0.47522298016205866,
          0.528752358304331,
          0.5255319815765134,
          0.49496414023123236,
          0.5446745736852172,
          0.5847235318576303,
          0.4739808656960207,
          0.6486503913191868,
          0.4096708866890886,
          0.44774672993102627,
          0.5286839101231529,
          0.4402925672173197,
          0.4528749982159255,
          0.515858660355299,
          0.47989039706371983,
          0.46255546460533736,
          0.4946173652010408,
          0.5553794924565487,
          0.42028643538558086,
          0.3785142984635961,
          0.34680226176110907,
          0.5142517457231612,
          0.3573040189955101,
          0.4525105371777549
         ],
         "yaxis": "y"
        }
       ],
       "layout": {
        "legend": {
         "tracegroupgap": 0
        },
        "margin": {
         "t": 60
        },
        "template": {
         "data": {
          "bar": [
           {
            "error_x": {
             "color": "#2a3f5f"
            },
            "error_y": {
             "color": "#2a3f5f"
            },
            "marker": {
             "line": {
              "color": "#E5ECF6",
              "width": 0.5
             },
             "pattern": {
              "fillmode": "overlay",
              "size": 10,
              "solidity": 0.2
             }
            },
            "type": "bar"
           }
          ],
          "barpolar": [
           {
            "marker": {
             "line": {
              "color": "#E5ECF6",
              "width": 0.5
             },
             "pattern": {
              "fillmode": "overlay",
              "size": 10,
              "solidity": 0.2
             }
            },
            "type": "barpolar"
           }
          ],
          "carpet": [
           {
            "aaxis": {
             "endlinecolor": "#2a3f5f",
             "gridcolor": "white",
             "linecolor": "white",
             "minorgridcolor": "white",
             "startlinecolor": "#2a3f5f"
            },
            "baxis": {
             "endlinecolor": "#2a3f5f",
             "gridcolor": "white",
             "linecolor": "white",
             "minorgridcolor": "white",
             "startlinecolor": "#2a3f5f"
            },
            "type": "carpet"
           }
          ],
          "choropleth": [
           {
            "colorbar": {
             "outlinewidth": 0,
             "ticks": ""
            },
            "type": "choropleth"
           }
          ],
          "contour": [
           {
            "colorbar": {
             "outlinewidth": 0,
             "ticks": ""
            },
            "colorscale": [
             [
              0,
              "#0d0887"
             ],
             [
              0.1111111111111111,
              "#46039f"
             ],
             [
              0.2222222222222222,
              "#7201a8"
             ],
             [
              0.3333333333333333,
              "#9c179e"
             ],
             [
              0.4444444444444444,
              "#bd3786"
             ],
             [
              0.5555555555555556,
              "#d8576b"
             ],
             [
              0.6666666666666666,
              "#ed7953"
             ],
             [
              0.7777777777777778,
              "#fb9f3a"
             ],
             [
              0.8888888888888888,
              "#fdca26"
             ],
             [
              1,
              "#f0f921"
             ]
            ],
            "type": "contour"
           }
          ],
          "contourcarpet": [
           {
            "colorbar": {
             "outlinewidth": 0,
             "ticks": ""
            },
            "type": "contourcarpet"
           }
          ],
          "heatmap": [
           {
            "colorbar": {
             "outlinewidth": 0,
             "ticks": ""
            },
            "colorscale": [
             [
              0,
              "#0d0887"
             ],
             [
              0.1111111111111111,
              "#46039f"
             ],
             [
              0.2222222222222222,
              "#7201a8"
             ],
             [
              0.3333333333333333,
              "#9c179e"
             ],
             [
              0.4444444444444444,
              "#bd3786"
             ],
             [
              0.5555555555555556,
              "#d8576b"
             ],
             [
              0.6666666666666666,
              "#ed7953"
             ],
             [
              0.7777777777777778,
              "#fb9f3a"
             ],
             [
              0.8888888888888888,
              "#fdca26"
             ],
             [
              1,
              "#f0f921"
             ]
            ],
            "type": "heatmap"
           }
          ],
          "heatmapgl": [
           {
            "colorbar": {
             "outlinewidth": 0,
             "ticks": ""
            },
            "colorscale": [
             [
              0,
              "#0d0887"
             ],
             [
              0.1111111111111111,
              "#46039f"
             ],
             [
              0.2222222222222222,
              "#7201a8"
             ],
             [
              0.3333333333333333,
              "#9c179e"
             ],
             [
              0.4444444444444444,
              "#bd3786"
             ],
             [
              0.5555555555555556,
              "#d8576b"
             ],
             [
              0.6666666666666666,
              "#ed7953"
             ],
             [
              0.7777777777777778,
              "#fb9f3a"
             ],
             [
              0.8888888888888888,
              "#fdca26"
             ],
             [
              1,
              "#f0f921"
             ]
            ],
            "type": "heatmapgl"
           }
          ],
          "histogram": [
           {
            "marker": {
             "pattern": {
              "fillmode": "overlay",
              "size": 10,
              "solidity": 0.2
             }
            },
            "type": "histogram"
           }
          ],
          "histogram2d": [
           {
            "colorbar": {
             "outlinewidth": 0,
             "ticks": ""
            },
            "colorscale": [
             [
              0,
              "#0d0887"
             ],
             [
              0.1111111111111111,
              "#46039f"
             ],
             [
              0.2222222222222222,
              "#7201a8"
             ],
             [
              0.3333333333333333,
              "#9c179e"
             ],
             [
              0.4444444444444444,
              "#bd3786"
             ],
             [
              0.5555555555555556,
              "#d8576b"
             ],
             [
              0.6666666666666666,
              "#ed7953"
             ],
             [
              0.7777777777777778,
              "#fb9f3a"
             ],
             [
              0.8888888888888888,
              "#fdca26"
             ],
             [
              1,
              "#f0f921"
             ]
            ],
            "type": "histogram2d"
           }
          ],
          "histogram2dcontour": [
           {
            "colorbar": {
             "outlinewidth": 0,
             "ticks": ""
            },
            "colorscale": [
             [
              0,
              "#0d0887"
             ],
             [
              0.1111111111111111,
              "#46039f"
             ],
             [
              0.2222222222222222,
              "#7201a8"
             ],
             [
              0.3333333333333333,
              "#9c179e"
             ],
             [
              0.4444444444444444,
              "#bd3786"
             ],
             [
              0.5555555555555556,
              "#d8576b"
             ],
             [
              0.6666666666666666,
              "#ed7953"
             ],
             [
              0.7777777777777778,
              "#fb9f3a"
             ],
             [
              0.8888888888888888,
              "#fdca26"
             ],
             [
              1,
              "#f0f921"
             ]
            ],
            "type": "histogram2dcontour"
           }
          ],
          "mesh3d": [
           {
            "colorbar": {
             "outlinewidth": 0,
             "ticks": ""
            },
            "type": "mesh3d"
           }
          ],
          "parcoords": [
           {
            "line": {
             "colorbar": {
              "outlinewidth": 0,
              "ticks": ""
             }
            },
            "type": "parcoords"
           }
          ],
          "pie": [
           {
            "automargin": true,
            "type": "pie"
           }
          ],
          "scatter": [
           {
            "fillpattern": {
             "fillmode": "overlay",
             "size": 10,
             "solidity": 0.2
            },
            "type": "scatter"
           }
          ],
          "scatter3d": [
           {
            "line": {
             "colorbar": {
              "outlinewidth": 0,
              "ticks": ""
             }
            },
            "marker": {
             "colorbar": {
              "outlinewidth": 0,
              "ticks": ""
             }
            },
            "type": "scatter3d"
           }
          ],
          "scattercarpet": [
           {
            "marker": {
             "colorbar": {
              "outlinewidth": 0,
              "ticks": ""
             }
            },
            "type": "scattercarpet"
           }
          ],
          "scattergeo": [
           {
            "marker": {
             "colorbar": {
              "outlinewidth": 0,
              "ticks": ""
             }
            },
            "type": "scattergeo"
           }
          ],
          "scattergl": [
           {
            "marker": {
             "colorbar": {
              "outlinewidth": 0,
              "ticks": ""
             }
            },
            "type": "scattergl"
           }
          ],
          "scattermapbox": [
           {
            "marker": {
             "colorbar": {
              "outlinewidth": 0,
              "ticks": ""
             }
            },
            "type": "scattermapbox"
           }
          ],
          "scatterpolar": [
           {
            "marker": {
             "colorbar": {
              "outlinewidth": 0,
              "ticks": ""
             }
            },
            "type": "scatterpolar"
           }
          ],
          "scatterpolargl": [
           {
            "marker": {
             "colorbar": {
              "outlinewidth": 0,
              "ticks": ""
             }
            },
            "type": "scatterpolargl"
           }
          ],
          "scatterternary": [
           {
            "marker": {
             "colorbar": {
              "outlinewidth": 0,
              "ticks": ""
             }
            },
            "type": "scatterternary"
           }
          ],
          "surface": [
           {
            "colorbar": {
             "outlinewidth": 0,
             "ticks": ""
            },
            "colorscale": [
             [
              0,
              "#0d0887"
             ],
             [
              0.1111111111111111,
              "#46039f"
             ],
             [
              0.2222222222222222,
              "#7201a8"
             ],
             [
              0.3333333333333333,
              "#9c179e"
             ],
             [
              0.4444444444444444,
              "#bd3786"
             ],
             [
              0.5555555555555556,
              "#d8576b"
             ],
             [
              0.6666666666666666,
              "#ed7953"
             ],
             [
              0.7777777777777778,
              "#fb9f3a"
             ],
             [
              0.8888888888888888,
              "#fdca26"
             ],
             [
              1,
              "#f0f921"
             ]
            ],
            "type": "surface"
           }
          ],
          "table": [
           {
            "cells": {
             "fill": {
              "color": "#EBF0F8"
             },
             "line": {
              "color": "white"
             }
            },
            "header": {
             "fill": {
              "color": "#C8D4E3"
             },
             "line": {
              "color": "white"
             }
            },
            "type": "table"
           }
          ]
         },
         "layout": {
          "annotationdefaults": {
           "arrowcolor": "#2a3f5f",
           "arrowhead": 0,
           "arrowwidth": 1
          },
          "autotypenumbers": "strict",
          "coloraxis": {
           "colorbar": {
            "outlinewidth": 0,
            "ticks": ""
           }
          },
          "colorscale": {
           "diverging": [
            [
             0,
             "#8e0152"
            ],
            [
             0.1,
             "#c51b7d"
            ],
            [
             0.2,
             "#de77ae"
            ],
            [
             0.3,
             "#f1b6da"
            ],
            [
             0.4,
             "#fde0ef"
            ],
            [
             0.5,
             "#f7f7f7"
            ],
            [
             0.6,
             "#e6f5d0"
            ],
            [
             0.7,
             "#b8e186"
            ],
            [
             0.8,
             "#7fbc41"
            ],
            [
             0.9,
             "#4d9221"
            ],
            [
             1,
             "#276419"
            ]
           ],
           "sequential": [
            [
             0,
             "#0d0887"
            ],
            [
             0.1111111111111111,
             "#46039f"
            ],
            [
             0.2222222222222222,
             "#7201a8"
            ],
            [
             0.3333333333333333,
             "#9c179e"
            ],
            [
             0.4444444444444444,
             "#bd3786"
            ],
            [
             0.5555555555555556,
             "#d8576b"
            ],
            [
             0.6666666666666666,
             "#ed7953"
            ],
            [
             0.7777777777777778,
             "#fb9f3a"
            ],
            [
             0.8888888888888888,
             "#fdca26"
            ],
            [
             1,
             "#f0f921"
            ]
           ],
           "sequentialminus": [
            [
             0,
             "#0d0887"
            ],
            [
             0.1111111111111111,
             "#46039f"
            ],
            [
             0.2222222222222222,
             "#7201a8"
            ],
            [
             0.3333333333333333,
             "#9c179e"
            ],
            [
             0.4444444444444444,
             "#bd3786"
            ],
            [
             0.5555555555555556,
             "#d8576b"
            ],
            [
             0.6666666666666666,
             "#ed7953"
            ],
            [
             0.7777777777777778,
             "#fb9f3a"
            ],
            [
             0.8888888888888888,
             "#fdca26"
            ],
            [
             1,
             "#f0f921"
            ]
           ]
          },
          "colorway": [
           "#636efa",
           "#EF553B",
           "#00cc96",
           "#ab63fa",
           "#FFA15A",
           "#19d3f3",
           "#FF6692",
           "#B6E880",
           "#FF97FF",
           "#FECB52"
          ],
          "font": {
           "color": "#2a3f5f"
          },
          "geo": {
           "bgcolor": "white",
           "lakecolor": "white",
           "landcolor": "#E5ECF6",
           "showlakes": true,
           "showland": true,
           "subunitcolor": "white"
          },
          "hoverlabel": {
           "align": "left"
          },
          "hovermode": "closest",
          "mapbox": {
           "style": "light"
          },
          "paper_bgcolor": "white",
          "plot_bgcolor": "#E5ECF6",
          "polar": {
           "angularaxis": {
            "gridcolor": "white",
            "linecolor": "white",
            "ticks": ""
           },
           "bgcolor": "#E5ECF6",
           "radialaxis": {
            "gridcolor": "white",
            "linecolor": "white",
            "ticks": ""
           }
          },
          "scene": {
           "xaxis": {
            "backgroundcolor": "#E5ECF6",
            "gridcolor": "white",
            "gridwidth": 2,
            "linecolor": "white",
            "showbackground": true,
            "ticks": "",
            "zerolinecolor": "white"
           },
           "yaxis": {
            "backgroundcolor": "#E5ECF6",
            "gridcolor": "white",
            "gridwidth": 2,
            "linecolor": "white",
            "showbackground": true,
            "ticks": "",
            "zerolinecolor": "white"
           },
           "zaxis": {
            "backgroundcolor": "#E5ECF6",
            "gridcolor": "white",
            "gridwidth": 2,
            "linecolor": "white",
            "showbackground": true,
            "ticks": "",
            "zerolinecolor": "white"
           }
          },
          "shapedefaults": {
           "line": {
            "color": "#2a3f5f"
           }
          },
          "ternary": {
           "aaxis": {
            "gridcolor": "white",
            "linecolor": "white",
            "ticks": ""
           },
           "baxis": {
            "gridcolor": "white",
            "linecolor": "white",
            "ticks": ""
           },
           "bgcolor": "#E5ECF6",
           "caxis": {
            "gridcolor": "white",
            "linecolor": "white",
            "ticks": ""
           }
          },
          "title": {
           "x": 0.05
          },
          "xaxis": {
           "automargin": true,
           "gridcolor": "white",
           "linecolor": "white",
           "ticks": "",
           "title": {
            "standoff": 15
           },
           "zerolinecolor": "white",
           "zerolinewidth": 2
          },
          "yaxis": {
           "automargin": true,
           "gridcolor": "white",
           "linecolor": "white",
           "ticks": "",
           "title": {
            "standoff": 15
           },
           "zerolinecolor": "white",
           "zerolinewidth": 2
          }
         }
        },
        "title": {
         "text": "Luzon GWAP"
        },
        "xaxis": {
         "anchor": "y",
         "domain": [
          0,
          1
         ],
         "title": {
          "text": "Date"
         }
        },
        "yaxis": {
         "anchor": "x",
         "domain": [
          0,
          1
         ],
         "title": {
          "text": "GWAP"
         }
        }
       }
      }
     },
     "metadata": {},
     "output_type": "display_data"
    },
    {
     "data": {
      "application/vnd.plotly.v1+json": {
       "config": {
        "plotlyServerURL": "https://plot.ly"
       },
       "data": [
        {
         "hovertemplate": "Date=%{x}<br>LWAP=%{y}<extra></extra>",
         "legendgroup": "",
         "line": {
          "color": "#636efa",
          "dash": "solid"
         },
         "marker": {
          "symbol": "circle"
         },
         "mode": "lines",
         "name": "",
         "orientation": "v",
         "showlegend": false,
         "type": "scatter",
         "x": [
          "2022-01-01T00:00:00",
          "2022-01-02T00:00:00",
          "2022-01-03T00:00:00",
          "2022-01-04T00:00:00",
          "2022-01-05T00:00:00",
          "2022-01-06T00:00:00",
          "2022-01-07T00:00:00",
          "2022-01-08T00:00:00",
          "2022-01-09T00:00:00",
          "2022-01-10T00:00:00",
          "2022-01-11T00:00:00",
          "2022-01-12T00:00:00",
          "2022-01-13T00:00:00",
          "2022-01-14T00:00:00",
          "2022-01-15T00:00:00",
          "2022-01-16T00:00:00",
          "2022-01-17T00:00:00",
          "2022-01-18T00:00:00",
          "2022-01-19T00:00:00",
          "2022-01-20T00:00:00",
          "2022-01-21T00:00:00",
          "2022-01-22T00:00:00",
          "2022-01-23T00:00:00",
          "2022-01-24T00:00:00",
          "2022-01-25T00:00:00",
          "2022-01-26T00:00:00",
          "2022-01-27T00:00:00",
          "2022-01-28T00:00:00",
          "2022-01-29T00:00:00",
          "2022-01-30T00:00:00",
          "2022-01-31T00:00:00",
          "2022-02-01T00:00:00",
          "2022-02-02T00:00:00",
          "2022-02-03T00:00:00",
          "2022-02-04T00:00:00",
          "2022-02-05T00:00:00",
          "2022-02-06T00:00:00",
          "2022-02-07T00:00:00",
          "2022-02-08T00:00:00",
          "2022-02-09T00:00:00",
          "2022-02-10T00:00:00",
          "2022-02-11T00:00:00",
          "2022-02-12T00:00:00",
          "2022-02-13T00:00:00",
          "2022-02-14T00:00:00",
          "2022-02-15T00:00:00",
          "2022-02-16T00:00:00",
          "2022-02-17T00:00:00",
          "2022-02-18T00:00:00",
          "2022-02-19T00:00:00",
          "2022-02-20T00:00:00",
          "2022-02-21T00:00:00",
          "2022-02-22T00:00:00",
          "2022-02-23T00:00:00",
          "2022-02-24T00:00:00",
          "2022-02-25T00:00:00",
          "2022-02-26T00:00:00",
          "2022-02-27T00:00:00",
          "2022-02-28T00:00:00",
          "2022-03-01T00:00:00",
          "2022-03-02T00:00:00",
          "2022-03-03T00:00:00",
          "2022-03-04T00:00:00",
          "2022-03-05T00:00:00",
          "2022-03-06T00:00:00",
          "2022-03-07T00:00:00",
          "2022-03-08T00:00:00",
          "2022-03-09T00:00:00",
          "2022-03-10T00:00:00",
          "2022-03-11T00:00:00",
          "2022-03-12T00:00:00",
          "2022-03-13T00:00:00",
          "2022-03-14T00:00:00",
          "2022-03-15T00:00:00",
          "2022-03-16T00:00:00",
          "2022-03-17T00:00:00",
          "2022-03-18T00:00:00",
          "2022-03-19T00:00:00",
          "2022-03-20T00:00:00",
          "2022-03-21T00:00:00",
          "2022-03-22T00:00:00",
          "2022-03-23T00:00:00",
          "2022-03-24T00:00:00",
          "2022-03-25T00:00:00",
          "2022-03-26T00:00:00",
          "2022-03-27T00:00:00",
          "2022-03-28T00:00:00",
          "2022-03-29T00:00:00",
          "2022-03-30T00:00:00",
          "2022-03-31T00:00:00",
          "2022-04-01T00:00:00",
          "2022-04-02T00:00:00",
          "2022-04-03T00:00:00",
          "2022-04-04T00:00:00",
          "2022-04-05T00:00:00",
          "2022-04-06T00:00:00",
          "2022-04-07T00:00:00",
          "2022-04-08T00:00:00",
          "2022-04-09T00:00:00",
          "2022-04-10T00:00:00",
          "2022-04-11T00:00:00",
          "2022-04-12T00:00:00",
          "2022-04-13T00:00:00",
          "2022-04-14T00:00:00",
          "2022-04-15T00:00:00",
          "2022-04-16T00:00:00",
          "2022-04-17T00:00:00",
          "2022-04-18T00:00:00",
          "2022-04-19T00:00:00",
          "2022-04-20T00:00:00",
          "2022-04-21T00:00:00",
          "2022-04-22T00:00:00",
          "2022-04-23T00:00:00",
          "2022-04-24T00:00:00",
          "2022-04-25T00:00:00",
          "2022-04-26T00:00:00",
          "2022-04-27T00:00:00",
          "2022-04-28T00:00:00",
          "2022-04-29T00:00:00",
          "2022-04-30T00:00:00",
          "2022-05-01T00:00:00",
          "2022-05-02T00:00:00",
          "2022-05-03T00:00:00",
          "2022-05-04T00:00:00",
          "2022-05-05T00:00:00",
          "2022-05-06T00:00:00",
          "2022-05-07T00:00:00",
          "2022-05-08T00:00:00",
          "2022-05-09T00:00:00",
          "2022-05-10T00:00:00",
          "2022-05-11T00:00:00",
          "2022-05-12T00:00:00",
          "2022-05-13T00:00:00",
          "2022-05-14T00:00:00",
          "2022-05-15T00:00:00",
          "2022-05-16T00:00:00",
          "2022-05-17T00:00:00",
          "2022-05-18T00:00:00",
          "2022-05-19T00:00:00",
          "2022-05-20T00:00:00",
          "2022-05-21T00:00:00",
          "2022-05-22T00:00:00",
          "2022-05-23T00:00:00",
          "2022-05-24T00:00:00",
          "2022-05-25T00:00:00",
          "2022-05-26T00:00:00",
          "2022-05-27T00:00:00",
          "2022-05-28T00:00:00",
          "2022-05-29T00:00:00",
          "2022-05-30T00:00:00",
          "2022-05-31T00:00:00",
          "2022-06-01T00:00:00",
          "2022-06-02T00:00:00",
          "2022-06-03T00:00:00",
          "2022-06-04T00:00:00",
          "2022-06-05T00:00:00",
          "2022-06-06T00:00:00",
          "2022-06-07T00:00:00",
          "2022-06-08T00:00:00",
          "2022-06-09T00:00:00",
          "2022-06-10T00:00:00",
          "2022-06-11T00:00:00",
          "2022-06-12T00:00:00",
          "2022-06-13T00:00:00",
          "2022-06-14T00:00:00",
          "2022-06-15T00:00:00",
          "2022-06-16T00:00:00",
          "2022-06-17T00:00:00",
          "2022-06-18T00:00:00",
          "2022-06-19T00:00:00",
          "2022-06-20T00:00:00",
          "2022-06-21T00:00:00",
          "2022-06-22T00:00:00",
          "2022-06-23T00:00:00",
          "2022-06-24T00:00:00",
          "2022-06-25T00:00:00",
          "2022-06-26T00:00:00",
          "2022-06-27T00:00:00",
          "2022-06-28T00:00:00",
          "2022-06-29T00:00:00",
          "2022-06-30T00:00:00",
          "2022-07-01T00:00:00",
          "2022-07-02T00:00:00",
          "2022-07-03T00:00:00",
          "2022-07-04T00:00:00",
          "2022-07-05T00:00:00",
          "2022-07-06T00:00:00",
          "2022-07-07T00:00:00",
          "2022-07-08T00:00:00",
          "2022-07-09T00:00:00",
          "2022-07-10T00:00:00",
          "2022-07-11T00:00:00",
          "2022-07-12T00:00:00",
          "2022-07-13T00:00:00",
          "2022-07-14T00:00:00",
          "2022-07-15T00:00:00",
          "2022-07-16T00:00:00",
          "2022-07-17T00:00:00",
          "2022-07-18T00:00:00",
          "2022-07-19T00:00:00",
          "2022-07-20T00:00:00",
          "2022-07-21T00:00:00",
          "2022-07-22T00:00:00",
          "2022-07-23T00:00:00",
          "2022-07-24T00:00:00",
          "2022-07-25T00:00:00",
          "2022-07-26T00:00:00",
          "2022-07-27T00:00:00",
          "2022-07-28T00:00:00",
          "2022-07-29T00:00:00",
          "2022-07-30T00:00:00",
          "2022-07-31T00:00:00",
          "2022-08-01T00:00:00",
          "2022-08-02T00:00:00",
          "2022-08-03T00:00:00",
          "2022-08-04T00:00:00",
          "2022-08-05T00:00:00",
          "2022-08-06T00:00:00",
          "2022-08-07T00:00:00",
          "2022-08-08T00:00:00",
          "2022-08-09T00:00:00",
          "2022-08-10T00:00:00",
          "2022-08-11T00:00:00",
          "2022-08-12T00:00:00",
          "2022-08-13T00:00:00",
          "2022-08-14T00:00:00",
          "2022-08-15T00:00:00",
          "2022-08-16T00:00:00",
          "2022-08-17T00:00:00",
          "2022-08-18T00:00:00",
          "2022-08-19T00:00:00",
          "2022-08-20T00:00:00",
          "2022-08-21T00:00:00",
          "2022-08-22T00:00:00",
          "2022-08-23T00:00:00",
          "2022-08-24T00:00:00",
          "2022-08-25T00:00:00",
          "2022-08-26T00:00:00",
          "2022-08-27T00:00:00",
          "2022-08-28T00:00:00",
          "2022-08-29T00:00:00",
          "2022-08-30T00:00:00",
          "2022-08-31T00:00:00",
          "2022-09-01T00:00:00",
          "2022-09-02T00:00:00",
          "2022-09-03T00:00:00",
          "2022-09-04T00:00:00",
          "2022-09-05T00:00:00",
          "2022-09-06T00:00:00",
          "2022-09-07T00:00:00",
          "2022-09-08T00:00:00",
          "2022-09-09T00:00:00",
          "2022-09-10T00:00:00",
          "2022-09-11T00:00:00",
          "2022-09-12T00:00:00",
          "2022-09-13T00:00:00",
          "2022-09-14T00:00:00",
          "2022-09-15T00:00:00",
          "2022-09-16T00:00:00",
          "2022-09-17T00:00:00",
          "2022-09-18T00:00:00",
          "2022-09-19T00:00:00",
          "2022-09-20T00:00:00",
          "2022-09-21T00:00:00",
          "2022-09-22T00:00:00",
          "2022-09-23T00:00:00",
          "2022-09-24T00:00:00",
          "2022-09-25T00:00:00",
          "2022-09-26T00:00:00",
          "2022-09-27T00:00:00",
          "2022-09-28T00:00:00",
          "2022-09-29T00:00:00",
          "2022-09-30T00:00:00",
          "2022-10-01T00:00:00",
          "2022-10-02T00:00:00",
          "2022-10-03T00:00:00",
          "2022-10-04T00:00:00",
          "2022-10-05T00:00:00",
          "2022-10-06T00:00:00",
          "2022-10-07T00:00:00",
          "2022-10-08T00:00:00",
          "2022-10-09T00:00:00",
          "2022-10-10T00:00:00",
          "2022-10-11T00:00:00",
          "2022-10-12T00:00:00",
          "2022-10-13T00:00:00",
          "2022-10-14T00:00:00",
          "2022-10-15T00:00:00",
          "2022-10-16T00:00:00",
          "2022-10-17T00:00:00",
          "2022-10-18T00:00:00",
          "2022-10-19T00:00:00",
          "2022-10-20T00:00:00",
          "2022-10-21T00:00:00",
          "2022-10-22T00:00:00",
          "2022-10-23T00:00:00",
          "2022-10-24T00:00:00",
          "2022-10-25T00:00:00",
          "2022-10-26T00:00:00",
          "2022-10-27T00:00:00",
          "2022-10-28T00:00:00",
          "2022-10-29T00:00:00",
          "2022-10-30T00:00:00",
          "2022-10-31T00:00:00",
          "2022-11-01T00:00:00",
          "2022-11-02T00:00:00",
          "2022-11-03T00:00:00",
          "2022-11-04T00:00:00",
          "2022-11-05T00:00:00",
          "2022-11-06T00:00:00",
          "2022-11-07T00:00:00",
          "2022-11-08T00:00:00",
          "2022-11-09T00:00:00",
          "2022-11-10T00:00:00",
          "2022-11-11T00:00:00",
          "2022-11-12T00:00:00",
          "2022-11-13T00:00:00",
          "2022-11-14T00:00:00",
          "2022-11-15T00:00:00",
          "2022-11-16T00:00:00",
          "2022-11-17T00:00:00",
          "2022-11-18T00:00:00",
          "2022-11-19T00:00:00",
          "2022-11-20T00:00:00",
          "2022-11-21T00:00:00",
          "2022-11-22T00:00:00",
          "2022-11-23T00:00:00",
          "2022-11-24T00:00:00",
          "2022-11-25T00:00:00",
          "2022-11-26T00:00:00",
          "2022-11-27T00:00:00",
          "2022-11-28T00:00:00",
          "2022-11-29T00:00:00",
          "2022-11-30T00:00:00",
          "2022-12-01T00:00:00",
          "2022-12-02T00:00:00",
          "2022-12-03T00:00:00",
          "2022-12-04T00:00:00",
          "2022-12-05T00:00:00",
          "2022-12-06T00:00:00",
          "2022-12-07T00:00:00",
          "2022-12-08T00:00:00",
          "2022-12-09T00:00:00",
          "2022-12-10T00:00:00",
          "2022-12-11T00:00:00",
          "2022-12-12T00:00:00",
          "2022-12-13T00:00:00",
          "2022-12-14T00:00:00",
          "2022-12-15T00:00:00",
          "2022-12-16T00:00:00",
          "2022-12-17T00:00:00",
          "2022-12-18T00:00:00",
          "2022-12-19T00:00:00",
          "2022-12-20T00:00:00",
          "2022-12-21T00:00:00",
          "2022-12-22T00:00:00",
          "2022-12-23T00:00:00",
          "2022-12-24T00:00:00",
          "2022-12-25T00:00:00",
          "2022-12-26T00:00:00",
          "2022-12-27T00:00:00",
          "2022-12-28T00:00:00",
          "2022-12-29T00:00:00",
          "2022-12-30T00:00:00",
          "2022-12-31T00:00:00",
          "2023-01-01T00:00:00",
          "2023-01-02T00:00:00",
          "2023-01-03T00:00:00",
          "2023-01-04T00:00:00",
          "2023-01-05T00:00:00",
          "2023-01-06T00:00:00",
          "2023-01-07T00:00:00",
          "2023-01-08T00:00:00",
          "2023-01-09T00:00:00",
          "2023-01-10T00:00:00",
          "2023-01-11T00:00:00",
          "2023-01-12T00:00:00",
          "2023-01-13T00:00:00",
          "2023-01-14T00:00:00",
          "2023-01-15T00:00:00",
          "2023-01-16T00:00:00",
          "2023-01-17T00:00:00",
          "2023-01-18T00:00:00",
          "2023-01-19T00:00:00",
          "2023-01-20T00:00:00",
          "2023-01-21T00:00:00",
          "2023-01-22T00:00:00",
          "2023-01-23T00:00:00",
          "2023-01-24T00:00:00",
          "2023-01-25T00:00:00",
          "2023-01-26T00:00:00",
          "2023-01-27T00:00:00",
          "2023-01-28T00:00:00",
          "2023-01-29T00:00:00",
          "2023-01-30T00:00:00",
          "2023-01-31T00:00:00",
          "2023-02-01T00:00:00",
          "2023-02-02T00:00:00",
          "2023-02-03T00:00:00",
          "2023-02-04T00:00:00",
          "2023-02-05T00:00:00",
          "2023-02-06T00:00:00",
          "2023-02-07T00:00:00",
          "2023-02-08T00:00:00",
          "2023-02-09T00:00:00",
          "2023-02-10T00:00:00",
          "2023-02-11T00:00:00",
          "2023-02-12T00:00:00",
          "2023-02-13T00:00:00",
          "2023-02-14T00:00:00",
          "2023-02-15T00:00:00",
          "2023-02-16T00:00:00",
          "2023-02-17T00:00:00",
          "2023-02-18T00:00:00",
          "2023-02-19T00:00:00",
          "2023-02-20T00:00:00",
          "2023-02-21T00:00:00",
          "2023-02-22T00:00:00",
          "2023-02-23T00:00:00",
          "2023-02-24T00:00:00",
          "2023-02-25T00:00:00",
          "2023-02-26T00:00:00",
          "2023-02-27T00:00:00",
          "2023-02-28T00:00:00",
          "2023-03-01T00:00:00",
          "2023-03-02T00:00:00",
          "2023-03-03T00:00:00",
          "2023-03-04T00:00:00",
          "2023-03-05T00:00:00",
          "2023-03-06T00:00:00",
          "2023-03-07T00:00:00",
          "2023-03-08T00:00:00",
          "2023-03-09T00:00:00",
          "2023-03-10T00:00:00",
          "2023-03-11T00:00:00",
          "2023-03-12T00:00:00",
          "2023-03-13T00:00:00",
          "2023-03-14T00:00:00"
         ],
         "xaxis": "x",
         "y": [
          0.2551310092515102,
          0.3111420379273149,
          0.41472539993797497,
          0.49686161060741796,
          0.7845979017604101,
          0.7453565405883289,
          0.688898389889335,
          0.7836698700937035,
          0.7694653724171445,
          0.9762414062313702,
          0.8020618170414586,
          0.6193902641758697,
          0.6683278409337028,
          0.6331778897490246,
          0.5355507125483747,
          0.5205394095588929,
          0.6024112340898498,
          0.5009082539766609,
          0.5112954690036453,
          0.628661793938587,
          0.8284885286789923,
          0.7302081634856243,
          0.7928402614176804,
          0.8421827658824519,
          0.82956307940497,
          0.5796431633053984,
          0.9205801842626329,
          0.9130072811341456,
          0.6421362147990557,
          0.5140604120469092,
          0.3584482183673181,
          0.28617168808684923,
          0.43154306776307294,
          0.35226496520288464,
          0.29104796765059504,
          0.32356199260072316,
          0.27976727809453195,
          0.4706590782282234,
          0.47693209775716383,
          0.6400490894755215,
          0.4715442114297623,
          0.5644730925714647,
          0.36745409681910246,
          0.3533524610246488,
          0.47650984861848045,
          0.35812278747772197,
          0.393937790287044,
          0.5389192467973665,
          0.6752755109323374,
          0.5166289690207861,
          0.5274919471745108,
          0.4563014716780849,
          0.45226934065944135,
          0.4861434734515129,
          0.5666723757711587,
          0.46940548333781607,
          0.5854522845150036,
          0.4917355366920546,
          0.37248418730564126,
          0.3914865577062727,
          0.490891413225949,
          0.49557798313466606,
          0.5526706244447297,
          0.3897089439048962,
          0.3366748031223423,
          0.3981364359286417,
          0.3813705692127449,
          0.3455752652219388,
          0.46694008783077123,
          0.5700886570142387,
          0.486759787084754,
          0.4401082984340654,
          0.6844606612608679,
          0.6058900904797362,
          0.8123885124311272,
          0.7174823121091762,
          0.7145225790402598,
          0.4573499818449598,
          0.4500203435853116,
          0.5632194788338083,
          0.6568207853149666,
          0.607082129952115,
          0.5644588060969049,
          0.6707449116503597,
          0.8114553253681684,
          0.598927031465518,
          0.49935054968196013,
          0.5122200624740678,
          0.5006307700941299,
          0.5300159708973773,
          0.4481707606664429,
          0.23800561140968668,
          0.3287239996973561,
          0.31886655940372677,
          0.31848522476787977,
          0.36907188519111855,
          0.3479524217134511,
          0.37256108760847795,
          0.3413053209733121,
          0.3889982217786567,
          0.38430204817477076,
          0.4091354570777668,
          0.46286153935698593,
          0.5100732362083278,
          0.40687157697520604,
          0.4660797150619871,
          0.47195706310386853,
          0.6682177702613252,
          0.6033346164599998,
          0.7673291451518836,
          0.8095428681665098,
          0.6886049332228055,
          0.5151191751828677,
          0.5008879156596215,
          0.5219125132397551,
          0.5560006400581159,
          0.5718851505589697,
          0.6371286238947924,
          0.715259105388121,
          0.5332257814824608,
          0.41935417826616117,
          0.4007503957845735,
          0.4553005724329502,
          0.47606651702281866,
          0.5270815374779296,
          0.48081187018203764,
          0.4601979198947852,
          0.4676741451644624,
          0.2999359900421865,
          0.5484242246337132,
          0.5412994549273833,
          0.539982457899054,
          0.5738962643354384,
          0.48427965514767735,
          0.4470686139331086,
          0.46419620587321475,
          0.48463605039977864,
          0.4275112249353086,
          0.4080429532938048,
          0.35933091826271735,
          0.4073467060493705,
          0.3777428788593227,
          0.45726500925417923,
          0.5356105694564022,
          0.6035912420077203,
          0.5275122811046238,
          0.5276146973586329,
          0.45173825987791716,
          0.6864348399668501,
          0.5728495864172842,
          0.54618863460745,
          0.48730034620195184,
          0.5734596130156504,
          0.7548600794302693,
          0.7818598807052624,
          0.757675122193433,
          0.6614443744700118,
          0.5444939555416184,
          0.5915849185492803,
          0.6899787002809923,
          0.8332982267471962,
          0.8507304903930013,
          0.602865900487096,
          0.6681715506665924,
          0.6132815815588728,
          0.5675833306011029,
          0.7544501625910343,
          0.8513013663730931,
          0.838016174755321,
          0.815403035528643,
          0.8412665996184039,
          0.9397276684316154,
          0.9700934728686263,
          0.8170783123503433,
          0.8014438800142578,
          0.5672301405590972,
          0.49529041265030926,
          0.4990036644155431,
          0.5005526185655107,
          0.6105495686298497,
          0.6406517517873915,
          0.6122801146373966,
          0.6129678700690491,
          0.728309018176585,
          0.8146047501297318,
          0.8426309588188232,
          0.7730845148742169,
          0.6371176537187537,
          0.8011977166676374,
          0.6032474075271921,
          0.6039892057675367,
          0.8026049595966107,
          0.8121029573392811,
          0.6639615426414025,
          0.8309915188838524,
          0.8464188222207838,
          0.6957060262353778,
          0.5983439090831091,
          0.6500339913028874,
          0.5774472085665785,
          0.6313502655315268,
          0.5939384548600373,
          0.6276786178904921,
          0.6765683104888147,
          0.7108114278911586,
          0.785207729146773,
          0.7536593606750834,
          0.6502324773192711,
          0.7579325681722935,
          0.5742951633648588,
          0.6049265453269399,
          0.4928587440101637,
          0.4511264840340665,
          0.5070113633936835,
          0.5801703982313811,
          0.5385346039071877,
          0.50189052361997,
          0.4469004431553145,
          0.4236414441908778,
          0.43831567794089565,
          0.5171104034815812,
          0.5504447143033424,
          0.6172281950272094,
          0.6192920802632358,
          0.5255862179319131,
          0.4986974939718287,
          0.5023527741438123,
          0.6318570721593595,
          0.501700319791091,
          0.5443912076040256,
          0.5965197273603522,
          0.5214367581879955,
          0.5985657912572968,
          0.5927917066104484,
          0.5623856306455224,
          0.6168659095263749,
          0.8077885769139996,
          0.7999445478135065,
          0.621397599547798,
          0.6604761980341394,
          0.6039847498907598,
          0.862325806083458,
          0.7767505072682006,
          0.8112068494133879,
          0.829123578822589,
          0.5905344378844433,
          0.5987056064321123,
          0.7057135366838381,
          0.8341641913911246,
          0.8617700884529995,
          0.852582874162529,
          0.7943327231504682,
          0.6340770401122207,
          0.8467355386927835,
          0.9153957501544063,
          0.7876733313950446,
          0.7256860658589659,
          0.8950582562847522,
          0.8536148538896668,
          0.6212130993665994,
          0.6831348435620548,
          0.7387897417604421,
          0.7506024645989413,
          0.8588698653615126,
          0.8628040823836969,
          0.7899798280208685,
          0.769632139348225,
          0.5657594858726824,
          0.5280965535417259,
          0.7253330324891465,
          0.8455265064153323,
          0.8826395271554155,
          0.8663334868478039,
          0.8387343199903974,
          0.8643818859110013,
          0.7931412247036924,
          0.824655841391742,
          0.886240499409439,
          0.7689967717290571,
          0.8129688513301261,
          0.7757262557146269,
          0.7125008173610858,
          0.8482933544478932,
          0.9382958711461704,
          0.8542226235487185,
          0.9026952027932609,
          0.9075618070701843,
          0.8074583362507859,
          0.6343773707535014,
          0.8500599804726292,
          0.8747095723996168,
          0.7157092390457578,
          0.6767582708849886,
          0.7593044699745768,
          0.6261486929394238,
          0.6105009529405123,
          0.7495523637712047,
          0.6193640166211161,
          0.5872973578266212,
          0.6190883202183208,
          0.5907055678217645,
          0.20819292392762279,
          0.5521145838888017,
          0.5712042532520627,
          0.32150025310097874,
          0.5363259175121229,
          0.5888074870109392,
          0.5799780039738138,
          0.6091945912650054,
          0.5175894193488979,
          0.6103766220259885,
          0.6335732470101867,
          0.68675145609701,
          0.6969663014319316,
          0.6404001905296148,
          0.6163014050060944,
          0.6109673767000636,
          0.7483056485852266,
          0.6961593004226714,
          0.6766749034256385,
          0.651960845627741,
          0.6568732753607947,
          0.5911744256244944,
          0.5537832071278252,
          0.626402356809475,
          0.6676130586707991,
          0.8330752980506659,
          0.8612590698291527,
          0.8306931158914246,
          0.8510772683648362,
          0.8894530642106062,
          0.8858999366067479,
          0.920749555812943,
          0.8169508438519237,
          0.8670522854679739,
          0.8819018623671226,
          0.8621585651025363,
          0.8195840782580994,
          0.8905490379061689,
          1,
          0.9429187811689417,
          0.8805702656307162,
          0.8921341939728435,
          0.7306269370427145,
          0.8248217725474234,
          0.7802714092469891,
          0.861067143056264,
          0.8843614879089827,
          0.8679062585802093,
          0.8897820119594542,
          0.8369408053203315,
          0.710530227028201,
          0.6005442654075246,
          0.6023172032396502,
          0.5658784214205177,
          0.49293920263192703,
          0.42885932302297647,
          0.07412413529065986,
          0,
          0.23672853836422547,
          0.36446607591472713,
          0.4271214213323731,
          0.48798598681199934,
          0.4111281977358452,
          0.24660407970565146,
          0.23263945394787555,
          0.38528728036098414,
          0.44985339002510116,
          0.4241191819843557,
          0.3897543843739619,
          0.418946143141369,
          0.34671984508026554,
          0.2761894353475931,
          0.47861048559788344,
          0.4473919402343256,
          0.39433158188743533,
          0.4619959886621885,
          0.5395377076137144,
          0.5404822333489001,
          0.49253909009397745,
          0.547825454740476,
          0.5624860266616096,
          0.5486308430692475,
          0.5623041000604694,
          0.5390658432341304,
          0.5536003732391706,
          0.5335668925799055,
          0.5789233714961703,
          0.5631160579039438,
          0.5623980959633492,
          0.53472993852305,
          0.49651128547114,
          0.49443662845290604,
          0.4330800486494475,
          0.4497527038276701,
          0.48688150133651575,
          0.5352420533055664,
          0.6158696451619541,
          0.5931512601708242,
          0.5633649730245125,
          0.5236646817301853,
          0.6388450731573521,
          0.7118722800393265,
          0.8484439762853242,
          0.6404280656355006,
          0.6494322099278591,
          0.7741612386008789,
          0.5242508871851399,
          0.555062332097858,
          0.5768192583296283,
          0.5564391890779525,
          0.5166497799873042,
          0.5406158204275151,
          0.5247817298778266,
          0.46508009666351313,
          0.5151850605340407,
          0.5117041130725504,
          0.48002546513014366,
          0.5287809789886921,
          0.5697001279075486,
          0.4723130303295626,
          0.7360477091013138,
          0.39777561788869775,
          0.43504707311194224,
          0.5229614499527884,
          0.42618159806322,
          0.44811412528223826,
          0.49834434309389763,
          0.5104559871970196,
          0.4462260960397799,
          0.4779137303476304,
          0.5382320358865478,
          0.4284610451710549,
          0.4023731824734078,
          0.4002240305039102,
          0.5814792293503643,
          0.3523978102283465,
          0.4541295751928125
         ],
         "yaxis": "y"
        }
       ],
       "layout": {
        "legend": {
         "tracegroupgap": 0
        },
        "margin": {
         "t": 60
        },
        "template": {
         "data": {
          "bar": [
           {
            "error_x": {
             "color": "#2a3f5f"
            },
            "error_y": {
             "color": "#2a3f5f"
            },
            "marker": {
             "line": {
              "color": "#E5ECF6",
              "width": 0.5
             },
             "pattern": {
              "fillmode": "overlay",
              "size": 10,
              "solidity": 0.2
             }
            },
            "type": "bar"
           }
          ],
          "barpolar": [
           {
            "marker": {
             "line": {
              "color": "#E5ECF6",
              "width": 0.5
             },
             "pattern": {
              "fillmode": "overlay",
              "size": 10,
              "solidity": 0.2
             }
            },
            "type": "barpolar"
           }
          ],
          "carpet": [
           {
            "aaxis": {
             "endlinecolor": "#2a3f5f",
             "gridcolor": "white",
             "linecolor": "white",
             "minorgridcolor": "white",
             "startlinecolor": "#2a3f5f"
            },
            "baxis": {
             "endlinecolor": "#2a3f5f",
             "gridcolor": "white",
             "linecolor": "white",
             "minorgridcolor": "white",
             "startlinecolor": "#2a3f5f"
            },
            "type": "carpet"
           }
          ],
          "choropleth": [
           {
            "colorbar": {
             "outlinewidth": 0,
             "ticks": ""
            },
            "type": "choropleth"
           }
          ],
          "contour": [
           {
            "colorbar": {
             "outlinewidth": 0,
             "ticks": ""
            },
            "colorscale": [
             [
              0,
              "#0d0887"
             ],
             [
              0.1111111111111111,
              "#46039f"
             ],
             [
              0.2222222222222222,
              "#7201a8"
             ],
             [
              0.3333333333333333,
              "#9c179e"
             ],
             [
              0.4444444444444444,
              "#bd3786"
             ],
             [
              0.5555555555555556,
              "#d8576b"
             ],
             [
              0.6666666666666666,
              "#ed7953"
             ],
             [
              0.7777777777777778,
              "#fb9f3a"
             ],
             [
              0.8888888888888888,
              "#fdca26"
             ],
             [
              1,
              "#f0f921"
             ]
            ],
            "type": "contour"
           }
          ],
          "contourcarpet": [
           {
            "colorbar": {
             "outlinewidth": 0,
             "ticks": ""
            },
            "type": "contourcarpet"
           }
          ],
          "heatmap": [
           {
            "colorbar": {
             "outlinewidth": 0,
             "ticks": ""
            },
            "colorscale": [
             [
              0,
              "#0d0887"
             ],
             [
              0.1111111111111111,
              "#46039f"
             ],
             [
              0.2222222222222222,
              "#7201a8"
             ],
             [
              0.3333333333333333,
              "#9c179e"
             ],
             [
              0.4444444444444444,
              "#bd3786"
             ],
             [
              0.5555555555555556,
              "#d8576b"
             ],
             [
              0.6666666666666666,
              "#ed7953"
             ],
             [
              0.7777777777777778,
              "#fb9f3a"
             ],
             [
              0.8888888888888888,
              "#fdca26"
             ],
             [
              1,
              "#f0f921"
             ]
            ],
            "type": "heatmap"
           }
          ],
          "heatmapgl": [
           {
            "colorbar": {
             "outlinewidth": 0,
             "ticks": ""
            },
            "colorscale": [
             [
              0,
              "#0d0887"
             ],
             [
              0.1111111111111111,
              "#46039f"
             ],
             [
              0.2222222222222222,
              "#7201a8"
             ],
             [
              0.3333333333333333,
              "#9c179e"
             ],
             [
              0.4444444444444444,
              "#bd3786"
             ],
             [
              0.5555555555555556,
              "#d8576b"
             ],
             [
              0.6666666666666666,
              "#ed7953"
             ],
             [
              0.7777777777777778,
              "#fb9f3a"
             ],
             [
              0.8888888888888888,
              "#fdca26"
             ],
             [
              1,
              "#f0f921"
             ]
            ],
            "type": "heatmapgl"
           }
          ],
          "histogram": [
           {
            "marker": {
             "pattern": {
              "fillmode": "overlay",
              "size": 10,
              "solidity": 0.2
             }
            },
            "type": "histogram"
           }
          ],
          "histogram2d": [
           {
            "colorbar": {
             "outlinewidth": 0,
             "ticks": ""
            },
            "colorscale": [
             [
              0,
              "#0d0887"
             ],
             [
              0.1111111111111111,
              "#46039f"
             ],
             [
              0.2222222222222222,
              "#7201a8"
             ],
             [
              0.3333333333333333,
              "#9c179e"
             ],
             [
              0.4444444444444444,
              "#bd3786"
             ],
             [
              0.5555555555555556,
              "#d8576b"
             ],
             [
              0.6666666666666666,
              "#ed7953"
             ],
             [
              0.7777777777777778,
              "#fb9f3a"
             ],
             [
              0.8888888888888888,
              "#fdca26"
             ],
             [
              1,
              "#f0f921"
             ]
            ],
            "type": "histogram2d"
           }
          ],
          "histogram2dcontour": [
           {
            "colorbar": {
             "outlinewidth": 0,
             "ticks": ""
            },
            "colorscale": [
             [
              0,
              "#0d0887"
             ],
             [
              0.1111111111111111,
              "#46039f"
             ],
             [
              0.2222222222222222,
              "#7201a8"
             ],
             [
              0.3333333333333333,
              "#9c179e"
             ],
             [
              0.4444444444444444,
              "#bd3786"
             ],
             [
              0.5555555555555556,
              "#d8576b"
             ],
             [
              0.6666666666666666,
              "#ed7953"
             ],
             [
              0.7777777777777778,
              "#fb9f3a"
             ],
             [
              0.8888888888888888,
              "#fdca26"
             ],
             [
              1,
              "#f0f921"
             ]
            ],
            "type": "histogram2dcontour"
           }
          ],
          "mesh3d": [
           {
            "colorbar": {
             "outlinewidth": 0,
             "ticks": ""
            },
            "type": "mesh3d"
           }
          ],
          "parcoords": [
           {
            "line": {
             "colorbar": {
              "outlinewidth": 0,
              "ticks": ""
             }
            },
            "type": "parcoords"
           }
          ],
          "pie": [
           {
            "automargin": true,
            "type": "pie"
           }
          ],
          "scatter": [
           {
            "fillpattern": {
             "fillmode": "overlay",
             "size": 10,
             "solidity": 0.2
            },
            "type": "scatter"
           }
          ],
          "scatter3d": [
           {
            "line": {
             "colorbar": {
              "outlinewidth": 0,
              "ticks": ""
             }
            },
            "marker": {
             "colorbar": {
              "outlinewidth": 0,
              "ticks": ""
             }
            },
            "type": "scatter3d"
           }
          ],
          "scattercarpet": [
           {
            "marker": {
             "colorbar": {
              "outlinewidth": 0,
              "ticks": ""
             }
            },
            "type": "scattercarpet"
           }
          ],
          "scattergeo": [
           {
            "marker": {
             "colorbar": {
              "outlinewidth": 0,
              "ticks": ""
             }
            },
            "type": "scattergeo"
           }
          ],
          "scattergl": [
           {
            "marker": {
             "colorbar": {
              "outlinewidth": 0,
              "ticks": ""
             }
            },
            "type": "scattergl"
           }
          ],
          "scattermapbox": [
           {
            "marker": {
             "colorbar": {
              "outlinewidth": 0,
              "ticks": ""
             }
            },
            "type": "scattermapbox"
           }
          ],
          "scatterpolar": [
           {
            "marker": {
             "colorbar": {
              "outlinewidth": 0,
              "ticks": ""
             }
            },
            "type": "scatterpolar"
           }
          ],
          "scatterpolargl": [
           {
            "marker": {
             "colorbar": {
              "outlinewidth": 0,
              "ticks": ""
             }
            },
            "type": "scatterpolargl"
           }
          ],
          "scatterternary": [
           {
            "marker": {
             "colorbar": {
              "outlinewidth": 0,
              "ticks": ""
             }
            },
            "type": "scatterternary"
           }
          ],
          "surface": [
           {
            "colorbar": {
             "outlinewidth": 0,
             "ticks": ""
            },
            "colorscale": [
             [
              0,
              "#0d0887"
             ],
             [
              0.1111111111111111,
              "#46039f"
             ],
             [
              0.2222222222222222,
              "#7201a8"
             ],
             [
              0.3333333333333333,
              "#9c179e"
             ],
             [
              0.4444444444444444,
              "#bd3786"
             ],
             [
              0.5555555555555556,
              "#d8576b"
             ],
             [
              0.6666666666666666,
              "#ed7953"
             ],
             [
              0.7777777777777778,
              "#fb9f3a"
             ],
             [
              0.8888888888888888,
              "#fdca26"
             ],
             [
              1,
              "#f0f921"
             ]
            ],
            "type": "surface"
           }
          ],
          "table": [
           {
            "cells": {
             "fill": {
              "color": "#EBF0F8"
             },
             "line": {
              "color": "white"
             }
            },
            "header": {
             "fill": {
              "color": "#C8D4E3"
             },
             "line": {
              "color": "white"
             }
            },
            "type": "table"
           }
          ]
         },
         "layout": {
          "annotationdefaults": {
           "arrowcolor": "#2a3f5f",
           "arrowhead": 0,
           "arrowwidth": 1
          },
          "autotypenumbers": "strict",
          "coloraxis": {
           "colorbar": {
            "outlinewidth": 0,
            "ticks": ""
           }
          },
          "colorscale": {
           "diverging": [
            [
             0,
             "#8e0152"
            ],
            [
             0.1,
             "#c51b7d"
            ],
            [
             0.2,
             "#de77ae"
            ],
            [
             0.3,
             "#f1b6da"
            ],
            [
             0.4,
             "#fde0ef"
            ],
            [
             0.5,
             "#f7f7f7"
            ],
            [
             0.6,
             "#e6f5d0"
            ],
            [
             0.7,
             "#b8e186"
            ],
            [
             0.8,
             "#7fbc41"
            ],
            [
             0.9,
             "#4d9221"
            ],
            [
             1,
             "#276419"
            ]
           ],
           "sequential": [
            [
             0,
             "#0d0887"
            ],
            [
             0.1111111111111111,
             "#46039f"
            ],
            [
             0.2222222222222222,
             "#7201a8"
            ],
            [
             0.3333333333333333,
             "#9c179e"
            ],
            [
             0.4444444444444444,
             "#bd3786"
            ],
            [
             0.5555555555555556,
             "#d8576b"
            ],
            [
             0.6666666666666666,
             "#ed7953"
            ],
            [
             0.7777777777777778,
             "#fb9f3a"
            ],
            [
             0.8888888888888888,
             "#fdca26"
            ],
            [
             1,
             "#f0f921"
            ]
           ],
           "sequentialminus": [
            [
             0,
             "#0d0887"
            ],
            [
             0.1111111111111111,
             "#46039f"
            ],
            [
             0.2222222222222222,
             "#7201a8"
            ],
            [
             0.3333333333333333,
             "#9c179e"
            ],
            [
             0.4444444444444444,
             "#bd3786"
            ],
            [
             0.5555555555555556,
             "#d8576b"
            ],
            [
             0.6666666666666666,
             "#ed7953"
            ],
            [
             0.7777777777777778,
             "#fb9f3a"
            ],
            [
             0.8888888888888888,
             "#fdca26"
            ],
            [
             1,
             "#f0f921"
            ]
           ]
          },
          "colorway": [
           "#636efa",
           "#EF553B",
           "#00cc96",
           "#ab63fa",
           "#FFA15A",
           "#19d3f3",
           "#FF6692",
           "#B6E880",
           "#FF97FF",
           "#FECB52"
          ],
          "font": {
           "color": "#2a3f5f"
          },
          "geo": {
           "bgcolor": "white",
           "lakecolor": "white",
           "landcolor": "#E5ECF6",
           "showlakes": true,
           "showland": true,
           "subunitcolor": "white"
          },
          "hoverlabel": {
           "align": "left"
          },
          "hovermode": "closest",
          "mapbox": {
           "style": "light"
          },
          "paper_bgcolor": "white",
          "plot_bgcolor": "#E5ECF6",
          "polar": {
           "angularaxis": {
            "gridcolor": "white",
            "linecolor": "white",
            "ticks": ""
           },
           "bgcolor": "#E5ECF6",
           "radialaxis": {
            "gridcolor": "white",
            "linecolor": "white",
            "ticks": ""
           }
          },
          "scene": {
           "xaxis": {
            "backgroundcolor": "#E5ECF6",
            "gridcolor": "white",
            "gridwidth": 2,
            "linecolor": "white",
            "showbackground": true,
            "ticks": "",
            "zerolinecolor": "white"
           },
           "yaxis": {
            "backgroundcolor": "#E5ECF6",
            "gridcolor": "white",
            "gridwidth": 2,
            "linecolor": "white",
            "showbackground": true,
            "ticks": "",
            "zerolinecolor": "white"
           },
           "zaxis": {
            "backgroundcolor": "#E5ECF6",
            "gridcolor": "white",
            "gridwidth": 2,
            "linecolor": "white",
            "showbackground": true,
            "ticks": "",
            "zerolinecolor": "white"
           }
          },
          "shapedefaults": {
           "line": {
            "color": "#2a3f5f"
           }
          },
          "ternary": {
           "aaxis": {
            "gridcolor": "white",
            "linecolor": "white",
            "ticks": ""
           },
           "baxis": {
            "gridcolor": "white",
            "linecolor": "white",
            "ticks": ""
           },
           "bgcolor": "#E5ECF6",
           "caxis": {
            "gridcolor": "white",
            "linecolor": "white",
            "ticks": ""
           }
          },
          "title": {
           "x": 0.05
          },
          "xaxis": {
           "automargin": true,
           "gridcolor": "white",
           "linecolor": "white",
           "ticks": "",
           "title": {
            "standoff": 15
           },
           "zerolinecolor": "white",
           "zerolinewidth": 2
          },
          "yaxis": {
           "automargin": true,
           "gridcolor": "white",
           "linecolor": "white",
           "ticks": "",
           "title": {
            "standoff": 15
           },
           "zerolinecolor": "white",
           "zerolinewidth": 2
          }
         }
        },
        "title": {
         "text": "Luzon LWAP"
        },
        "xaxis": {
         "anchor": "y",
         "domain": [
          0,
          1
         ],
         "title": {
          "text": "Date"
         }
        },
        "yaxis": {
         "anchor": "x",
         "domain": [
          0,
          1
         ],
         "title": {
          "text": "LWAP"
         }
        }
       }
      }
     },
     "metadata": {},
     "output_type": "display_data"
    }
   ],
   "source": [
    "#Plotting Train LWAP ang GWAP\n",
    "# Create the line plot\n",
    "luz_gwap_plot = px.line(LUZ_GWAP_train, x=LUZ_GWAP_train.index, y='GWAP')\n",
    "luz_lwap_plot = px.line(LUZ_LWAP_train, x=LUZ_LWAP_train.index, y='LWAP')\n",
    "# Set the title using the ticker value\n",
    "luz_gwap_plot.update_layout(title=f\"Luzon GWAP\")\n",
    "luz_lwap_plot.update_layout(title=f\"Luzon LWAP\")\n",
    "# Display the plot\n",
    "luz_gwap_plot.show()\n",
    "luz_lwap_plot.show()"
   ]
  },
  {
   "cell_type": "code",
   "execution_count": 30,
   "metadata": {},
   "outputs": [],
   "source": [
    "def perform_differencing(data, max_differences=3):\n",
    "    # Function to check if data is stationary using ADF\n",
    "    def adf_test(series):\n",
    "        result = adfuller(series)\n",
    "        return result[1]  # p-value\n",
    "\n",
    "    # Function to check if data is stationary using KPSS\n",
    "    def kpss_test(series):\n",
    "        result = kpss(series, regression='c')\n",
    "        return result[1]  # p-value\n",
    "\n",
    "    # Check initial stationarity\n",
    "    for i in range(max_differences):\n",
    "        adf_p_value = adf_test(data)\n",
    "        kpss_p_value = kpss_test(data)\n",
    "\n",
    "        # If ADF p-value is less than 0.05 and KPSS p-value is greater than 0.05, it's stationary\n",
    "        if adf_p_value < 0.05 and kpss_p_value > 0.05:\n",
    "            print(f\"Data is stationary after differencing {i} times.\")\n",
    "            return data\n",
    "\n",
    "        # If not stationary, apply differencing\n",
    "        data = data.diff().dropna()\n",
    "\n",
    "    print(f\"Data could not be made stationary after {max_differences} differencing operations.\")\n",
    "    return data\n",
    "\n",
    "#same test for dataframe\n",
    "def perform_df_differencing(data, max_differences=3):\n",
    "    # Function to check if data is stationary using ADF\n",
    "    def adf_test(series):\n",
    "        result = adfuller(series)\n",
    "        return result[1]  # p-value\n",
    "\n",
    "    # Function to check if data is stationary using KPSS \n",
    "    def kpss_test(series):\n",
    "        result = kpss(series, regression='c')\n",
    "        return result[1]  # p-value\n",
    "\n",
    "    # Store in new DataFrame\n",
    "    diff_exog = pd.DataFrame(index=data.index)\n",
    "\n",
    "    # Check each column in the DataFrame\n",
    "    for column in data.columns:\n",
    "        series = data[column].copy()  # Copy the series to avoid modifying the original\n",
    "\n",
    "        for i in range(max_differences):\n",
    "            adf_p_value = adf_test(series)\n",
    "            kpss_p_value = kpss_test(series)\n",
    "\n",
    "            # If stationary, break the loop and store the series\n",
    "            if adf_p_value < 0.05 and kpss_p_value > 0.05:\n",
    "                print(f\"Column '{column}' is stationary after differencing {i} times.\")\n",
    "                diff_exog[column] = series  # Store the stationary series\n",
    "                break\n",
    "\n",
    "            # If not stationary, apply differencing\n",
    "            if i < max_differences - 1:  # Don't drop NA on the last iteration\n",
    "                series = series.diff().dropna()\n",
    "\n",
    "        else:  # This else corresponds to the for-loop\n",
    "            print(f\"Column '{column}' could not be made stationary after {max_differences} differencing operations.\")\n",
    "            diff_exog[column] = series  # Store the last differenced result\n",
    "\n",
    "    return diff_exog\n"
   ]
  },
  {
   "cell_type": "code",
   "execution_count": 31,
   "metadata": {},
   "outputs": [
    {
     "name": "stderr",
     "output_type": "stream",
     "text": [
      "/var/folders/r2/vst9rfjd3ps2_vb675mrrrrw0000gn/T/ipykernel_71835/2411308064.py:9: InterpolationWarning:\n",
      "\n",
      "The test statistic is outside of the range of p-values available in the\n",
      "look-up table. The actual p-value is greater than the p-value returned.\n",
      "\n",
      "\n",
      "/var/folders/r2/vst9rfjd3ps2_vb675mrrrrw0000gn/T/ipykernel_71835/2411308064.py:37: InterpolationWarning:\n",
      "\n",
      "The test statistic is outside of the range of p-values available in the\n",
      "look-up table. The actual p-value is smaller than the p-value returned.\n",
      "\n",
      "\n",
      "/var/folders/r2/vst9rfjd3ps2_vb675mrrrrw0000gn/T/ipykernel_71835/2411308064.py:37: InterpolationWarning:\n",
      "\n",
      "The test statistic is outside of the range of p-values available in the\n",
      "look-up table. The actual p-value is greater than the p-value returned.\n",
      "\n",
      "\n",
      "/var/folders/r2/vst9rfjd3ps2_vb675mrrrrw0000gn/T/ipykernel_71835/2411308064.py:37: InterpolationWarning:\n",
      "\n",
      "The test statistic is outside of the range of p-values available in the\n",
      "look-up table. The actual p-value is smaller than the p-value returned.\n",
      "\n",
      "\n",
      "/var/folders/r2/vst9rfjd3ps2_vb675mrrrrw0000gn/T/ipykernel_71835/2411308064.py:37: InterpolationWarning:\n",
      "\n",
      "The test statistic is outside of the range of p-values available in the\n",
      "look-up table. The actual p-value is greater than the p-value returned.\n",
      "\n",
      "\n",
      "/var/folders/r2/vst9rfjd3ps2_vb675mrrrrw0000gn/T/ipykernel_71835/2411308064.py:37: InterpolationWarning:\n",
      "\n",
      "The test statistic is outside of the range of p-values available in the\n",
      "look-up table. The actual p-value is greater than the p-value returned.\n",
      "\n",
      "\n",
      "/var/folders/r2/vst9rfjd3ps2_vb675mrrrrw0000gn/T/ipykernel_71835/2411308064.py:37: InterpolationWarning:\n",
      "\n",
      "The test statistic is outside of the range of p-values available in the\n",
      "look-up table. The actual p-value is smaller than the p-value returned.\n",
      "\n",
      "\n",
      "/var/folders/r2/vst9rfjd3ps2_vb675mrrrrw0000gn/T/ipykernel_71835/2411308064.py:37: InterpolationWarning:\n",
      "\n",
      "The test statistic is outside of the range of p-values available in the\n",
      "look-up table. The actual p-value is greater than the p-value returned.\n",
      "\n",
      "\n",
      "/var/folders/r2/vst9rfjd3ps2_vb675mrrrrw0000gn/T/ipykernel_71835/2411308064.py:37: InterpolationWarning:\n",
      "\n",
      "The test statistic is outside of the range of p-values available in the\n",
      "look-up table. The actual p-value is smaller than the p-value returned.\n",
      "\n",
      "\n",
      "/var/folders/r2/vst9rfjd3ps2_vb675mrrrrw0000gn/T/ipykernel_71835/2411308064.py:37: InterpolationWarning:\n",
      "\n",
      "The test statistic is outside of the range of p-values available in the\n",
      "look-up table. The actual p-value is greater than the p-value returned.\n",
      "\n",
      "\n",
      "/var/folders/r2/vst9rfjd3ps2_vb675mrrrrw0000gn/T/ipykernel_71835/2411308064.py:37: InterpolationWarning:\n",
      "\n",
      "The test statistic is outside of the range of p-values available in the\n",
      "look-up table. The actual p-value is smaller than the p-value returned.\n",
      "\n",
      "\n",
      "/var/folders/r2/vst9rfjd3ps2_vb675mrrrrw0000gn/T/ipykernel_71835/2411308064.py:37: InterpolationWarning:\n",
      "\n",
      "The test statistic is outside of the range of p-values available in the\n",
      "look-up table. The actual p-value is greater than the p-value returned.\n",
      "\n",
      "\n",
      "/var/folders/r2/vst9rfjd3ps2_vb675mrrrrw0000gn/T/ipykernel_71835/2411308064.py:37: InterpolationWarning:\n",
      "\n",
      "The test statistic is outside of the range of p-values available in the\n",
      "look-up table. The actual p-value is smaller than the p-value returned.\n",
      "\n",
      "\n",
      "/var/folders/r2/vst9rfjd3ps2_vb675mrrrrw0000gn/T/ipykernel_71835/2411308064.py:37: InterpolationWarning:\n",
      "\n",
      "The test statistic is outside of the range of p-values available in the\n",
      "look-up table. The actual p-value is greater than the p-value returned.\n",
      "\n",
      "\n",
      "/var/folders/r2/vst9rfjd3ps2_vb675mrrrrw0000gn/T/ipykernel_71835/2411308064.py:37: InterpolationWarning:\n",
      "\n",
      "The test statistic is outside of the range of p-values available in the\n",
      "look-up table. The actual p-value is smaller than the p-value returned.\n",
      "\n",
      "\n",
      "/var/folders/r2/vst9rfjd3ps2_vb675mrrrrw0000gn/T/ipykernel_71835/2411308064.py:37: InterpolationWarning:\n",
      "\n",
      "The test statistic is outside of the range of p-values available in the\n",
      "look-up table. The actual p-value is greater than the p-value returned.\n",
      "\n",
      "\n",
      "/var/folders/r2/vst9rfjd3ps2_vb675mrrrrw0000gn/T/ipykernel_71835/2411308064.py:37: InterpolationWarning:\n",
      "\n",
      "The test statistic is outside of the range of p-values available in the\n",
      "look-up table. The actual p-value is smaller than the p-value returned.\n",
      "\n",
      "\n",
      "/var/folders/r2/vst9rfjd3ps2_vb675mrrrrw0000gn/T/ipykernel_71835/2411308064.py:37: InterpolationWarning:\n",
      "\n",
      "The test statistic is outside of the range of p-values available in the\n",
      "look-up table. The actual p-value is greater than the p-value returned.\n",
      "\n",
      "\n",
      "/var/folders/r2/vst9rfjd3ps2_vb675mrrrrw0000gn/T/ipykernel_71835/2411308064.py:37: InterpolationWarning:\n",
      "\n",
      "The test statistic is outside of the range of p-values available in the\n",
      "look-up table. The actual p-value is smaller than the p-value returned.\n",
      "\n",
      "\n",
      "/var/folders/r2/vst9rfjd3ps2_vb675mrrrrw0000gn/T/ipykernel_71835/2411308064.py:37: InterpolationWarning:\n",
      "\n",
      "The test statistic is outside of the range of p-values available in the\n",
      "look-up table. The actual p-value is greater than the p-value returned.\n",
      "\n",
      "\n",
      "/var/folders/r2/vst9rfjd3ps2_vb675mrrrrw0000gn/T/ipykernel_71835/2411308064.py:37: InterpolationWarning:\n",
      "\n",
      "The test statistic is outside of the range of p-values available in the\n",
      "look-up table. The actual p-value is smaller than the p-value returned.\n",
      "\n",
      "\n",
      "/var/folders/r2/vst9rfjd3ps2_vb675mrrrrw0000gn/T/ipykernel_71835/2411308064.py:37: InterpolationWarning:\n",
      "\n",
      "The test statistic is outside of the range of p-values available in the\n",
      "look-up table. The actual p-value is greater than the p-value returned.\n",
      "\n",
      "\n",
      "/var/folders/r2/vst9rfjd3ps2_vb675mrrrrw0000gn/T/ipykernel_71835/2411308064.py:37: InterpolationWarning:\n",
      "\n",
      "The test statistic is outside of the range of p-values available in the\n",
      "look-up table. The actual p-value is greater than the p-value returned.\n",
      "\n",
      "\n",
      "/var/folders/r2/vst9rfjd3ps2_vb675mrrrrw0000gn/T/ipykernel_71835/2411308064.py:37: InterpolationWarning:\n",
      "\n",
      "The test statistic is outside of the range of p-values available in the\n",
      "look-up table. The actual p-value is greater than the p-value returned.\n",
      "\n",
      "\n",
      "/var/folders/r2/vst9rfjd3ps2_vb675mrrrrw0000gn/T/ipykernel_71835/2411308064.py:37: InterpolationWarning:\n",
      "\n",
      "The test statistic is outside of the range of p-values available in the\n",
      "look-up table. The actual p-value is smaller than the p-value returned.\n",
      "\n",
      "\n",
      "/var/folders/r2/vst9rfjd3ps2_vb675mrrrrw0000gn/T/ipykernel_71835/2411308064.py:37: InterpolationWarning:\n",
      "\n",
      "The test statistic is outside of the range of p-values available in the\n",
      "look-up table. The actual p-value is greater than the p-value returned.\n",
      "\n",
      "\n",
      "/var/folders/r2/vst9rfjd3ps2_vb675mrrrrw0000gn/T/ipykernel_71835/2411308064.py:37: InterpolationWarning:\n",
      "\n",
      "The test statistic is outside of the range of p-values available in the\n",
      "look-up table. The actual p-value is smaller than the p-value returned.\n",
      "\n",
      "\n",
      "/var/folders/r2/vst9rfjd3ps2_vb675mrrrrw0000gn/T/ipykernel_71835/2411308064.py:37: InterpolationWarning:\n",
      "\n",
      "The test statistic is outside of the range of p-values available in the\n",
      "look-up table. The actual p-value is smaller than the p-value returned.\n",
      "\n",
      "\n",
      "/var/folders/r2/vst9rfjd3ps2_vb675mrrrrw0000gn/T/ipykernel_71835/2411308064.py:37: InterpolationWarning:\n",
      "\n",
      "The test statistic is outside of the range of p-values available in the\n",
      "look-up table. The actual p-value is greater than the p-value returned.\n",
      "\n",
      "\n",
      "/var/folders/r2/vst9rfjd3ps2_vb675mrrrrw0000gn/T/ipykernel_71835/2411308064.py:37: InterpolationWarning:\n",
      "\n",
      "The test statistic is outside of the range of p-values available in the\n",
      "look-up table. The actual p-value is greater than the p-value returned.\n",
      "\n",
      "\n",
      "/var/folders/r2/vst9rfjd3ps2_vb675mrrrrw0000gn/T/ipykernel_71835/2411308064.py:37: InterpolationWarning:\n",
      "\n",
      "The test statistic is outside of the range of p-values available in the\n",
      "look-up table. The actual p-value is greater than the p-value returned.\n",
      "\n",
      "\n",
      "/var/folders/r2/vst9rfjd3ps2_vb675mrrrrw0000gn/T/ipykernel_71835/2411308064.py:37: InterpolationWarning:\n",
      "\n",
      "The test statistic is outside of the range of p-values available in the\n",
      "look-up table. The actual p-value is smaller than the p-value returned.\n",
      "\n",
      "\n",
      "/var/folders/r2/vst9rfjd3ps2_vb675mrrrrw0000gn/T/ipykernel_71835/2411308064.py:37: InterpolationWarning:\n",
      "\n",
      "The test statistic is outside of the range of p-values available in the\n",
      "look-up table. The actual p-value is greater than the p-value returned.\n",
      "\n",
      "\n",
      "/var/folders/r2/vst9rfjd3ps2_vb675mrrrrw0000gn/T/ipykernel_71835/2411308064.py:37: InterpolationWarning:\n",
      "\n",
      "The test statistic is outside of the range of p-values available in the\n",
      "look-up table. The actual p-value is smaller than the p-value returned.\n",
      "\n",
      "\n",
      "/var/folders/r2/vst9rfjd3ps2_vb675mrrrrw0000gn/T/ipykernel_71835/2411308064.py:37: InterpolationWarning:\n",
      "\n",
      "The test statistic is outside of the range of p-values available in the\n",
      "look-up table. The actual p-value is greater than the p-value returned.\n",
      "\n",
      "\n",
      "/var/folders/r2/vst9rfjd3ps2_vb675mrrrrw0000gn/T/ipykernel_71835/2411308064.py:37: InterpolationWarning:\n",
      "\n",
      "The test statistic is outside of the range of p-values available in the\n",
      "look-up table. The actual p-value is greater than the p-value returned.\n",
      "\n",
      "\n",
      "/var/folders/r2/vst9rfjd3ps2_vb675mrrrrw0000gn/T/ipykernel_71835/2411308064.py:37: InterpolationWarning:\n",
      "\n",
      "The test statistic is outside of the range of p-values available in the\n",
      "look-up table. The actual p-value is greater than the p-value returned.\n",
      "\n",
      "\n",
      "/var/folders/r2/vst9rfjd3ps2_vb675mrrrrw0000gn/T/ipykernel_71835/2411308064.py:37: InterpolationWarning:\n",
      "\n",
      "The test statistic is outside of the range of p-values available in the\n",
      "look-up table. The actual p-value is greater than the p-value returned.\n",
      "\n",
      "\n",
      "/var/folders/r2/vst9rfjd3ps2_vb675mrrrrw0000gn/T/ipykernel_71835/2411308064.py:37: InterpolationWarning:\n",
      "\n",
      "The test statistic is outside of the range of p-values available in the\n",
      "look-up table. The actual p-value is greater than the p-value returned.\n",
      "\n",
      "\n",
      "/var/folders/r2/vst9rfjd3ps2_vb675mrrrrw0000gn/T/ipykernel_71835/2411308064.py:37: InterpolationWarning:\n",
      "\n",
      "The test statistic is outside of the range of p-values available in the\n",
      "look-up table. The actual p-value is greater than the p-value returned.\n",
      "\n",
      "\n",
      "/var/folders/r2/vst9rfjd3ps2_vb675mrrrrw0000gn/T/ipykernel_71835/2411308064.py:37: InterpolationWarning:\n",
      "\n",
      "The test statistic is outside of the range of p-values available in the\n",
      "look-up table. The actual p-value is greater than the p-value returned.\n",
      "\n",
      "\n",
      "/var/folders/r2/vst9rfjd3ps2_vb675mrrrrw0000gn/T/ipykernel_71835/2411308064.py:37: InterpolationWarning:\n",
      "\n",
      "The test statistic is outside of the range of p-values available in the\n",
      "look-up table. The actual p-value is greater than the p-value returned.\n",
      "\n",
      "\n",
      "/var/folders/r2/vst9rfjd3ps2_vb675mrrrrw0000gn/T/ipykernel_71835/2411308064.py:37: InterpolationWarning:\n",
      "\n",
      "The test statistic is outside of the range of p-values available in the\n",
      "look-up table. The actual p-value is greater than the p-value returned.\n",
      "\n",
      "\n",
      "/var/folders/r2/vst9rfjd3ps2_vb675mrrrrw0000gn/T/ipykernel_71835/2411308064.py:37: InterpolationWarning:\n",
      "\n",
      "The test statistic is outside of the range of p-values available in the\n",
      "look-up table. The actual p-value is smaller than the p-value returned.\n",
      "\n",
      "\n",
      "/var/folders/r2/vst9rfjd3ps2_vb675mrrrrw0000gn/T/ipykernel_71835/2411308064.py:37: InterpolationWarning:\n",
      "\n",
      "The test statistic is outside of the range of p-values available in the\n",
      "look-up table. The actual p-value is greater than the p-value returned.\n",
      "\n",
      "\n",
      "/var/folders/r2/vst9rfjd3ps2_vb675mrrrrw0000gn/T/ipykernel_71835/2411308064.py:37: InterpolationWarning:\n",
      "\n",
      "The test statistic is outside of the range of p-values available in the\n",
      "look-up table. The actual p-value is greater than the p-value returned.\n",
      "\n",
      "\n",
      "/var/folders/r2/vst9rfjd3ps2_vb675mrrrrw0000gn/T/ipykernel_71835/2411308064.py:37: InterpolationWarning:\n",
      "\n",
      "The test statistic is outside of the range of p-values available in the\n",
      "look-up table. The actual p-value is greater than the p-value returned.\n",
      "\n",
      "\n"
     ]
    },
    {
     "name": "stdout",
     "output_type": "stream",
     "text": [
      "Data is stationary after differencing 0 times.\n",
      "Data is stationary after differencing 0 times.\n",
      "Column 'FLOW_LUZ' is stationary after differencing 1 times.\n",
      "Column 'RESERVE_GWAP_Fr' is stationary after differencing 1 times.\n",
      "Column 'RESERVE_GWAP_Ru' is stationary after differencing 1 times.\n",
      "Column 'RESERVE_GWAP_Rd' is stationary after differencing 1 times.\n",
      "Column 'RESERVE_GWAP_Dr' is stationary after differencing 1 times.\n",
      "Column 'Hourly Demand' is stationary after differencing 1 times.\n",
      "Column 'RAINFALL_Cubi Point' is stationary after differencing 1 times.\n",
      "Column 'TMAX_Cubi Point' is stationary after differencing 1 times.\n",
      "Column 'TMIN_Cubi Point' is stationary after differencing 1 times.\n",
      "Column 'RAINFALL_NAIA' is stationary after differencing 1 times.\n",
      "Column 'TMAX_NAIA' is stationary after differencing 1 times.\n",
      "Column 'TMIN_NAIA' is stationary after differencing 2 times.\n",
      "Column 'RAINFALL_Science Garden' is stationary after differencing 1 times.\n",
      "Column 'TMAX_Science Garden' is stationary after differencing 1 times.\n",
      "Column 'TMIN_Science Garden' is stationary after differencing 1 times.\n",
      "Column 'RAINFALL_San Jose' is stationary after differencing 1 times.\n",
      "Column 'TMAX_San Jose' is stationary after differencing 1 times.\n",
      "Column 'TMIN_San Jose' is stationary after differencing 0 times.\n",
      "Column 'RAINFALL_Tayabas' is stationary after differencing 0 times.\n",
      "Column 'TMAX_Tayabas' is stationary after differencing 1 times.\n",
      "Column 'TMIN_Tayabas' is stationary after differencing 1 times.\n",
      "Column 'RAINFALL_CLSU' is stationary after differencing 1 times.\n",
      "Column 'TMAX_CLSU' is stationary after differencing 0 times.\n",
      "Column 'TMIN_CLSU' is stationary after differencing 0 times.\n",
      "Column 'RAINFALL_Tanay' is stationary after differencing 0 times.\n",
      "Column 'TMAX_Tanay' is stationary after differencing 0 times.\n",
      "Column 'TMIN_Tanay' is stationary after differencing 1 times.\n",
      "Column 'RAINFALL_Ambulong' is stationary after differencing 0 times.\n",
      "Column 'TMAX_Ambulong' is stationary after differencing 1 times.\n",
      "Column 'TMIN_Ambulong' is stationary after differencing 1 times.\n",
      "Column 'RAINFALL_Casiguran' is stationary after differencing 1 times.\n",
      "Column 'TMAX_Casiguran' is stationary after differencing 1 times.\n",
      "Column 'TMIN_Casiguran' is stationary after differencing 1 times.\n",
      "Column 'RAINFALL_Clark' is stationary after differencing 1 times.\n",
      "Column 'TMAX_Clark' is stationary after differencing 1 times.\n",
      "Column 'TMIN_Clark' is stationary after differencing 1 times.\n",
      "Column 'RAINFALL_Calapan' is stationary after differencing 0 times.\n",
      "Column 'TMAX_Calapan' is stationary after differencing 1 times.\n",
      "Column 'TMIN_Calapan' is stationary after differencing 0 times.\n"
     ]
    },
    {
     "name": "stderr",
     "output_type": "stream",
     "text": [
      "/var/folders/r2/vst9rfjd3ps2_vb675mrrrrw0000gn/T/ipykernel_71835/2411308064.py:37: InterpolationWarning:\n",
      "\n",
      "The test statistic is outside of the range of p-values available in the\n",
      "look-up table. The actual p-value is greater than the p-value returned.\n",
      "\n",
      "\n",
      "/var/folders/r2/vst9rfjd3ps2_vb675mrrrrw0000gn/T/ipykernel_71835/2411308064.py:37: InterpolationWarning:\n",
      "\n",
      "The test statistic is outside of the range of p-values available in the\n",
      "look-up table. The actual p-value is smaller than the p-value returned.\n",
      "\n",
      "\n",
      "/var/folders/r2/vst9rfjd3ps2_vb675mrrrrw0000gn/T/ipykernel_71835/2411308064.py:37: InterpolationWarning:\n",
      "\n",
      "The test statistic is outside of the range of p-values available in the\n",
      "look-up table. The actual p-value is greater than the p-value returned.\n",
      "\n",
      "\n",
      "/var/folders/r2/vst9rfjd3ps2_vb675mrrrrw0000gn/T/ipykernel_71835/2411308064.py:37: InterpolationWarning:\n",
      "\n",
      "The test statistic is outside of the range of p-values available in the\n",
      "look-up table. The actual p-value is smaller than the p-value returned.\n",
      "\n",
      "\n",
      "/var/folders/r2/vst9rfjd3ps2_vb675mrrrrw0000gn/T/ipykernel_71835/2411308064.py:37: InterpolationWarning:\n",
      "\n",
      "The test statistic is outside of the range of p-values available in the\n",
      "look-up table. The actual p-value is greater than the p-value returned.\n",
      "\n",
      "\n",
      "/var/folders/r2/vst9rfjd3ps2_vb675mrrrrw0000gn/T/ipykernel_71835/2411308064.py:37: InterpolationWarning:\n",
      "\n",
      "The test statistic is outside of the range of p-values available in the\n",
      "look-up table. The actual p-value is greater than the p-value returned.\n",
      "\n",
      "\n",
      "/var/folders/r2/vst9rfjd3ps2_vb675mrrrrw0000gn/T/ipykernel_71835/2411308064.py:37: InterpolationWarning:\n",
      "\n",
      "The test statistic is outside of the range of p-values available in the\n",
      "look-up table. The actual p-value is greater than the p-value returned.\n",
      "\n",
      "\n",
      "/var/folders/r2/vst9rfjd3ps2_vb675mrrrrw0000gn/T/ipykernel_71835/2411308064.py:37: InterpolationWarning:\n",
      "\n",
      "The test statistic is outside of the range of p-values available in the\n",
      "look-up table. The actual p-value is greater than the p-value returned.\n",
      "\n",
      "\n",
      "/var/folders/r2/vst9rfjd3ps2_vb675mrrrrw0000gn/T/ipykernel_71835/2411308064.py:37: InterpolationWarning:\n",
      "\n",
      "The test statistic is outside of the range of p-values available in the\n",
      "look-up table. The actual p-value is greater than the p-value returned.\n",
      "\n",
      "\n"
     ]
    }
   ],
   "source": [
    "#Checking for stationarity in GWAP data\n",
    "perform_differencing(LUZ_GWAP_train)\n",
    "perform_differencing(LUZ_LWAP_train)\n",
    "\n",
    "LUZ_diff_exog = perform_df_differencing(LUZ_exog_train)\n",
    "LUZ_diff_exog = LUZ_diff_exog.fillna(0)\n"
   ]
  },
  {
   "cell_type": "code",
   "execution_count": 32,
   "metadata": {},
   "outputs": [
    {
     "name": "stdout",
     "output_type": "stream",
     "text": [
      "            FLOW_LUZ  RESERVE_GWAP_Fr  RESERVE_GWAP_Ru  RESERVE_GWAP_Rd  \\\n",
      "Date                                                                      \n",
      "2022-01-01  0.000000         0.000000         0.000000         0.000000   \n",
      "2022-01-02  0.063063        -0.063063        -0.135802        -0.020202   \n",
      "2022-01-03  0.036036         0.126126         0.135802         0.080808   \n",
      "2022-01-04  0.036036         0.036036        -0.037037         0.000000   \n",
      "2022-01-05  0.018018         0.027027         0.123457         0.040404   \n",
      "...              ...              ...              ...              ...   \n",
      "2023-03-10 -0.036036        -0.054054        -0.222222        -0.191919   \n",
      "2023-03-11  0.117117        -0.063063        -0.024691         0.151515   \n",
      "2023-03-12 -0.009009         0.126126         0.234568         0.090909   \n",
      "2023-03-13 -0.198198        -0.207207        -0.135802        -0.282828   \n",
      "2023-03-14  0.261261         0.180180         0.135802         0.252525   \n",
      "\n",
      "            RESERVE_GWAP_Dr  Hourly Demand  RAINFALL_Cubi Point  \\\n",
      "Date                                                              \n",
      "2022-01-01         0.000000       0.000000             0.000000   \n",
      "2022-01-02        -0.098214       0.018519            -0.297297   \n",
      "2022-01-03         0.151786      -0.231481             0.180180   \n",
      "2022-01-04        -0.071429      -0.046296             0.135135   \n",
      "2022-01-05        -0.035714       0.138889             0.072072   \n",
      "...                     ...            ...                  ...   \n",
      "2023-03-10         0.026786      -0.064815            -0.108108   \n",
      "2023-03-11        -0.035714      -0.120370            -0.036036   \n",
      "2023-03-12         0.053571       0.120370             0.090090   \n",
      "2023-03-13         0.000000      -0.027778            -0.306306   \n",
      "2023-03-14         0.044643       0.212963             0.288288   \n",
      "\n",
      "            TMAX_Cubi Point  TMIN_Cubi Point  RAINFALL_NAIA  ...  \\\n",
      "Date                                                         ...   \n",
      "2022-01-01         0.000000         0.000000       0.000000  ...   \n",
      "2022-01-02        -0.053571         0.041322       0.078125  ...   \n",
      "2022-01-03         0.214286        -0.033058      -0.031250  ...   \n",
      "2022-01-04        -0.035714         0.008264       0.078125  ...   \n",
      "2022-01-05        -0.071429         0.041322      -0.031250  ...   \n",
      "...                     ...              ...            ...  ...   \n",
      "2023-03-10        -0.053571        -0.123967      -0.078125  ...   \n",
      "2023-03-11         0.125000         0.066116       0.140625  ...   \n",
      "2023-03-12        -0.178571         0.107438       0.062500  ...   \n",
      "2023-03-13        -0.035714        -0.272727      -0.093750  ...   \n",
      "2023-03-14         0.178571         0.123967      -0.015625  ...   \n",
      "\n",
      "            TMIN_Ambulong  RAINFALL_Casiguran  TMAX_Casiguran  TMIN_Casiguran  \\\n",
      "Date                                                                            \n",
      "2022-01-01       0.000000            0.000000             0.0        0.000000   \n",
      "2022-01-02       0.417791            0.081552             0.0       -0.335037   \n",
      "2022-01-03       0.000000           -0.507514             0.0        0.335037   \n",
      "2022-01-04       0.000000            0.270214             0.0        0.000000   \n",
      "2022-01-05       0.000000           -0.270214             0.0        0.000000   \n",
      "...                   ...                 ...             ...             ...   \n",
      "2023-03-10       0.000000           -0.212722             0.0        0.132068   \n",
      "2023-03-11       0.000000            0.212722             0.0       -0.132068   \n",
      "2023-03-12       0.000000            0.311486             0.0        0.132068   \n",
      "2023-03-13       0.000000           -0.114941             0.0       -0.018878   \n",
      "2023-03-14       0.000000           -0.196545             0.0       -0.113190   \n",
      "\n",
      "            RAINFALL_Clark  TMAX_Clark  TMIN_Clark  RAINFALL_Calapan  \\\n",
      "Date                                                                   \n",
      "2022-01-01        0.000000    0.000000    0.000000          0.525630   \n",
      "2022-01-02       -0.146001    0.055670   -0.413668          0.383035   \n",
      "2022-01-03        0.102253    0.023882    0.413668          0.383035   \n",
      "2022-01-04        0.151453   -0.023882    0.000000          0.687179   \n",
      "2022-01-05        0.073907    0.036182    0.000000          0.607692   \n",
      "...                    ...         ...         ...               ...   \n",
      "2023-03-10       -0.141111   -0.052366    0.000000          0.383035   \n",
      "2023-03-11       -0.027519    0.010046    0.000000          0.383035   \n",
      "2023-03-12        0.197549   -0.010046    0.075811          0.789927   \n",
      "2023-03-13       -0.349002   -0.028908    0.000000          0.597054   \n",
      "2023-03-14        0.310494    0.164078   -0.075811          0.440294   \n",
      "\n",
      "            TMAX_Calapan  TMIN_Calapan  \n",
      "Date                                    \n",
      "2022-01-01      0.000000      0.543037  \n",
      "2022-01-02      0.000000      0.784420  \n",
      "2022-01-03      0.000000      0.435920  \n",
      "2022-01-04      0.000000      0.435920  \n",
      "2022-01-05      0.000000      0.435920  \n",
      "...                  ...           ...  \n",
      "2023-03-10      0.000000      0.435920  \n",
      "2023-03-11      0.000000      0.435920  \n",
      "2023-03-12     -0.422884      0.719509  \n",
      "2023-03-13      0.422884      0.635904  \n",
      "2023-03-14      0.000000      0.635904  \n",
      "\n",
      "[438 rows x 39 columns]\n"
     ]
    }
   ],
   "source": [
    "print(LUZ_diff_exog)"
   ]
  },
  {
   "cell_type": "code",
   "execution_count": 33,
   "metadata": {},
   "outputs": [
    {
     "data": {
      "image/png": "[encoded data removed]",
      "text/plain": [
       "<Figure size 640x480 with 1 Axes>"
      ]
     },
     "execution_count": 33,
     "metadata": {},
     "output_type": "execute_result"
    },
    {
     "data": {
      "image/png": "[encoded data removed]",
      "text/plain": [
       "<Figure size 640x480 with 1 Axes>"
      ]
     },
     "metadata": {},
     "output_type": "display_data"
    },
    {
     "data": {
      "image/png": "[encoded data removed]",
      "text/plain": [
       "<Figure size 640x480 with 1 Axes>"
      ]
     },
     "metadata": {},
     "output_type": "display_data"
    }
   ],
   "source": [
    "# Visualize autocorrelation using plot_acf\n",
    "plot_acf(LUZ_GWAP_train['GWAP'], lags=25, alpha=0.05)  # Plot autocorrelation using plot_acf with confidence interval\n",
    "# Generate a partial autocorrelation plot\n",
    "plot_pacf(LUZ_GWAP_train['GWAP'], lags=25, alpha=0.05)"
   ]
  },
  {
   "cell_type": "code",
   "execution_count": 34,
   "metadata": {},
   "outputs": [
    {
     "data": {
      "image/png": "[encoded data removed]",
      "text/plain": [
       "<Figure size 640x480 with 1 Axes>"
      ]
     },
     "execution_count": 34,
     "metadata": {},
     "output_type": "execute_result"
    },
    {
     "data": {
      "image/png": "[encoded data removed]",
      "text/plain": [
       "<Figure size 640x480 with 1 Axes>"
      ]
     },
     "metadata": {},
     "output_type": "display_data"
    },
    {
     "data": {
      "image/png": "[encoded data removed]",
      "text/plain": [
       "<Figure size 640x480 with 1 Axes>"
      ]
     },
     "metadata": {},
     "output_type": "display_data"
    }
   ],
   "source": [
    "# Visualize autocorrelation using plot_acf\n",
    "plot_acf(LUZ_LWAP_train['LWAP'], lags=50, alpha=0.05)  # Plot autocorrelation using plot_acf with confidence interval\n",
    "# Generate a partial autocorrelation plot\n",
    "plot_pacf(LUZ_LWAP_train['LWAP'], lags=50, alpha=0.05)"
   ]
  },
  {
   "cell_type": "code",
   "execution_count": 165,
   "metadata": {},
   "outputs": [
    {
     "name": "stderr",
     "output_type": "stream",
     "text": [
      "/Library/Frameworks/Python.framework/Versions/3.12/lib/python3.12/site-packages/statsmodels/tsa/base/tsa_model.py:473: ValueWarning:\n",
      "\n",
      "No frequency information was provided, so inferred frequency D will be used.\n",
      "\n",
      "/Library/Frameworks/Python.framework/Versions/3.12/lib/python3.12/site-packages/statsmodels/tsa/statespace/sarimax.py:978: UserWarning:\n",
      "\n",
      "Non-invertible starting MA parameters found. Using zeros as starting parameters.\n",
      "\n"
     ]
    },
    {
     "name": "stdout",
     "output_type": "stream",
     "text": [
      "RUNNING THE L-BFGS-B CODE\n",
      "\n",
      "           * * *\n",
      "\n",
      "Machine precision = 2.220D-16\n",
      " N =           43     M =           10\n",
      "\n",
      "At X0         0 variables are exactly at the bounds\n",
      "\n",
      "At iterate    0    f= -1.05886D+01    |proj g|=  6.93147D+04\n"
     ]
    },
    {
     "name": "stderr",
     "output_type": "stream",
     "text": [
      " This problem is unconstrained.\n",
      "\n",
      " Bad direction in the line search;\n",
      "   refresh the lbfgs memory and restart the iteration.\n"
     ]
    },
    {
     "name": "stdout",
     "output_type": "stream",
     "text": [
      "\n",
      "           * * *\n",
      "\n",
      "Tit   = total number of iterations\n",
      "Tnf   = total number of function evaluations\n",
      "Tnint = total number of segments explored during Cauchy searches\n",
      "Skip  = number of BFGS updates skipped\n",
      "Nact  = number of active bounds at final generalized Cauchy point\n",
      "Projg = norm of the final projected gradient\n",
      "F     = final function value\n",
      "\n",
      "           * * *\n",
      "\n",
      "   N    Tit     Tnf  Tnint  Skip  Nact     Projg        F\n",
      "   43      2     54      2     0     0   5.909D+04  -1.099D+01\n",
      "  F =  -10.990597570334456     \n",
      "\n",
      "ABNORMAL_TERMINATION_IN_LNSRCH                              \n"
     ]
    },
    {
     "name": "stderr",
     "output_type": "stream",
     "text": [
      "\n",
      " Line search cannot locate an adequate point after MAXLS\n",
      "/Library/Frameworks/Python.framework/Versions/3.12/lib/python3.12/site-packages/statsmodels/base/model.py:607: ConvergenceWarning:\n",
      "\n",
      "Maximum Likelihood optimization failed to converge. Check mle_retvals\n",
      "\n",
      "  function and gradient evaluations.\n",
      "  Previous x, f and g restored.\n",
      " Possible causes: 1 error in function or gradient evaluation;\n",
      "                  2 rounding error dominate computation.\n"
     ]
    },
    {
     "data": {
      "text/html": [
       "<table class=\"simpletable\">\n",
       "<caption>SARIMAX Results</caption>\n",
       "<tr>\n",
       "  <th>Dep. Variable:</th>         <td>GWAP</td>       <th>  No. Observations:  </th>    <td>438</td>   \n",
       "</tr>\n",
       "<tr>\n",
       "  <th>Model:</th>           <td>SARIMAX(1, 0, 2)</td> <th>  Log Likelihood     </th> <td>4813.882</td> \n",
       "</tr>\n",
       "<tr>\n",
       "  <th>Date:</th>            <td>Sat, 26 Oct 2024</td> <th>  AIC                </th> <td>-9541.763</td>\n",
       "</tr>\n",
       "<tr>\n",
       "  <th>Time:</th>                <td>20:49:18</td>     <th>  BIC                </th> <td>-9366.228</td>\n",
       "</tr>\n",
       "<tr>\n",
       "  <th>Sample:</th>             <td>01-01-2022</td>    <th>  HQIC               </th> <td>-9472.502</td>\n",
       "</tr>\n",
       "<tr>\n",
       "  <th></th>                   <td>- 03-14-2023</td>   <th>                     </th>     <td> </td>    \n",
       "</tr>\n",
       "<tr>\n",
       "  <th>Covariance Type:</th>        <td>opg</td>       <th>                     </th>     <td> </td>    \n",
       "</tr>\n",
       "</table>\n",
       "<table class=\"simpletable\">\n",
       "<tr>\n",
       "             <td></td>                <th>coef</th>     <th>std err</th>      <th>z</th>      <th>P>|z|</th>  <th>[0.025</th>    <th>0.975]</th>  \n",
       "</tr>\n",
       "<tr>\n",
       "  <th>FLOW_LUZ</th>                <td>-4.119e-07</td> <td> 9.88e-07</td> <td>   -0.417</td> <td> 0.677</td> <td>-2.35e-06</td> <td> 1.52e-06</td>\n",
       "</tr>\n",
       "<tr>\n",
       "  <th>RESERVE_GWAP_Fr</th>         <td>-5.488e-07</td> <td> 1.04e-06</td> <td>   -0.529</td> <td> 0.597</td> <td>-2.58e-06</td> <td> 1.48e-06</td>\n",
       "</tr>\n",
       "<tr>\n",
       "  <th>RESERVE_GWAP_Ru</th>         <td>-5.186e-07</td> <td> 9.91e-07</td> <td>   -0.523</td> <td> 0.601</td> <td>-2.46e-06</td> <td> 1.42e-06</td>\n",
       "</tr>\n",
       "<tr>\n",
       "  <th>RESERVE_GWAP_Rd</th>         <td>  -7.5e-07</td> <td> 1.01e-06</td> <td>   -0.742</td> <td> 0.458</td> <td>-2.73e-06</td> <td> 1.23e-06</td>\n",
       "</tr>\n",
       "<tr>\n",
       "  <th>RESERVE_GWAP_Dr</th>         <td>-5.465e-07</td> <td> 7.64e-07</td> <td>   -0.716</td> <td> 0.474</td> <td>-2.04e-06</td> <td>  9.5e-07</td>\n",
       "</tr>\n",
       "<tr>\n",
       "  <th>Hourly Demand</th>           <td>-2.725e-07</td> <td> 1.19e-06</td> <td>   -0.229</td> <td> 0.819</td> <td>-2.61e-06</td> <td> 2.06e-06</td>\n",
       "</tr>\n",
       "<tr>\n",
       "  <th>RAINFALL_Cubi Point</th>     <td>-5.018e-07</td> <td>    1e-06</td> <td>   -0.501</td> <td> 0.616</td> <td>-2.46e-06</td> <td> 1.46e-06</td>\n",
       "</tr>\n",
       "<tr>\n",
       "  <th>TMAX_Cubi Point</th>         <td>-8.591e-07</td> <td> 5.96e-07</td> <td>   -1.442</td> <td> 0.149</td> <td>-2.03e-06</td> <td> 3.09e-07</td>\n",
       "</tr>\n",
       "<tr>\n",
       "  <th>TMIN_Cubi Point</th>         <td>-3.661e-07</td> <td> 1.07e-06</td> <td>   -0.344</td> <td> 0.731</td> <td>-2.45e-06</td> <td> 1.72e-06</td>\n",
       "</tr>\n",
       "<tr>\n",
       "  <th>RAINFALL_NAIA</th>           <td>-4.919e-07</td> <td> 9.66e-07</td> <td>   -0.509</td> <td> 0.611</td> <td>-2.39e-06</td> <td>  1.4e-06</td>\n",
       "</tr>\n",
       "<tr>\n",
       "  <th>TMAX_NAIA</th>               <td> -7.16e-07</td> <td> 9.25e-07</td> <td>   -0.774</td> <td> 0.439</td> <td>-2.53e-06</td> <td>  1.1e-06</td>\n",
       "</tr>\n",
       "<tr>\n",
       "  <th>TMIN_NAIA</th>               <td>-1.964e-06</td> <td> 4.33e-07</td> <td>   -4.532</td> <td> 0.000</td> <td>-2.81e-06</td> <td>-1.11e-06</td>\n",
       "</tr>\n",
       "<tr>\n",
       "  <th>RAINFALL_Science Garden</th> <td>-3.903e-07</td> <td> 1.04e-06</td> <td>   -0.374</td> <td> 0.709</td> <td>-2.44e-06</td> <td> 1.66e-06</td>\n",
       "</tr>\n",
       "<tr>\n",
       "  <th>TMAX_Science Garden</th>     <td>-3.126e-07</td> <td> 1.39e-06</td> <td>   -0.225</td> <td> 0.822</td> <td>-3.04e-06</td> <td> 2.41e-06</td>\n",
       "</tr>\n",
       "<tr>\n",
       "  <th>TMIN_Science Garden</th>     <td>-4.465e-07</td> <td> 1.01e-06</td> <td>   -0.444</td> <td> 0.657</td> <td>-2.42e-06</td> <td> 1.52e-06</td>\n",
       "</tr>\n",
       "<tr>\n",
       "  <th>RAINFALL_San Jose</th>       <td>-5.042e-07</td> <td>  9.3e-07</td> <td>   -0.542</td> <td> 0.588</td> <td>-2.33e-06</td> <td> 1.32e-06</td>\n",
       "</tr>\n",
       "<tr>\n",
       "  <th>TMAX_San Jose</th>           <td>-4.108e-07</td> <td> 9.33e-07</td> <td>   -0.440</td> <td> 0.660</td> <td>-2.24e-06</td> <td> 1.42e-06</td>\n",
       "</tr>\n",
       "<tr>\n",
       "  <th>TMIN_San Jose</th>           <td>    1.0000</td> <td>  1.8e-05</td> <td> 5.56e+04</td> <td> 0.000</td> <td>    1.000</td> <td>    1.000</td>\n",
       "</tr>\n",
       "<tr>\n",
       "  <th>RAINFALL_Tayabas</th>        <td>-1.066e-07</td> <td> 1.77e-05</td> <td>   -0.006</td> <td> 0.995</td> <td>-3.47e-05</td> <td> 3.45e-05</td>\n",
       "</tr>\n",
       "<tr>\n",
       "  <th>TMAX_Tayabas</th>            <td>-6.339e-07</td> <td> 8.15e-07</td> <td>   -0.778</td> <td> 0.437</td> <td>-2.23e-06</td> <td> 9.63e-07</td>\n",
       "</tr>\n",
       "<tr>\n",
       "  <th>TMIN_Tayabas</th>            <td>-4.837e-07</td> <td> 1.09e-06</td> <td>   -0.444</td> <td> 0.657</td> <td>-2.62e-06</td> <td> 1.65e-06</td>\n",
       "</tr>\n",
       "<tr>\n",
       "  <th>RAINFALL_CLSU</th>           <td>-6.412e-07</td> <td> 7.93e-07</td> <td>   -0.809</td> <td> 0.419</td> <td>-2.19e-06</td> <td> 9.12e-07</td>\n",
       "</tr>\n",
       "<tr>\n",
       "  <th>TMAX_CLSU</th>               <td>-3.382e-07</td> <td> 1.43e-06</td> <td>   -0.236</td> <td> 0.813</td> <td>-3.14e-06</td> <td> 2.47e-06</td>\n",
       "</tr>\n",
       "<tr>\n",
       "  <th>TMIN_CLSU</th>               <td>-1.884e-07</td> <td> 1.77e-06</td> <td>   -0.107</td> <td> 0.915</td> <td>-3.65e-06</td> <td> 3.28e-06</td>\n",
       "</tr>\n",
       "<tr>\n",
       "  <th>RAINFALL_Tanay</th>          <td> -9.75e-08</td> <td> 2.45e-06</td> <td>   -0.040</td> <td> 0.968</td> <td>-4.89e-06</td> <td>  4.7e-06</td>\n",
       "</tr>\n",
       "<tr>\n",
       "  <th>TMAX_Tanay</th>              <td>-5.653e-07</td> <td>  8.2e-07</td> <td>   -0.689</td> <td> 0.491</td> <td>-2.17e-06</td> <td> 1.04e-06</td>\n",
       "</tr>\n",
       "<tr>\n",
       "  <th>TMIN_Tanay</th>              <td>-1.456e-06</td> <td> 4.21e-07</td> <td>   -3.454</td> <td> 0.001</td> <td>-2.28e-06</td> <td> -6.3e-07</td>\n",
       "</tr>\n",
       "<tr>\n",
       "  <th>RAINFALL_Ambulong</th>       <td>-4.651e-08</td> <td> 2.57e-06</td> <td>   -0.018</td> <td> 0.986</td> <td>-5.09e-06</td> <td> 4.99e-06</td>\n",
       "</tr>\n",
       "<tr>\n",
       "  <th>TMAX_Ambulong</th>           <td>-2.909e-06</td> <td> 3.55e-07</td> <td>   -8.195</td> <td> 0.000</td> <td> -3.6e-06</td> <td>-2.21e-06</td>\n",
       "</tr>\n",
       "<tr>\n",
       "  <th>TMIN_Ambulong</th>           <td>-1.927e-06</td> <td> 4.35e-07</td> <td>   -4.425</td> <td> 0.000</td> <td>-2.78e-06</td> <td>-1.07e-06</td>\n",
       "</tr>\n",
       "<tr>\n",
       "  <th>RAINFALL_Casiguran</th>      <td>-2.296e-06</td> <td> 4.08e-07</td> <td>   -5.622</td> <td> 0.000</td> <td> -3.1e-06</td> <td> -1.5e-06</td>\n",
       "</tr>\n",
       "<tr>\n",
       "  <th>TMAX_Casiguran</th>          <td>-1.897e-06</td> <td> 3.59e-07</td> <td>   -5.288</td> <td> 0.000</td> <td> -2.6e-06</td> <td>-1.19e-06</td>\n",
       "</tr>\n",
       "<tr>\n",
       "  <th>TMIN_Casiguran</th>          <td>-2.459e-06</td> <td> 3.86e-07</td> <td>   -6.365</td> <td> 0.000</td> <td>-3.22e-06</td> <td> -1.7e-06</td>\n",
       "</tr>\n",
       "<tr>\n",
       "  <th>RAINFALL_Clark</th>          <td>-5.878e-07</td> <td> 9.19e-07</td> <td>   -0.640</td> <td> 0.522</td> <td>-2.39e-06</td> <td> 1.21e-06</td>\n",
       "</tr>\n",
       "<tr>\n",
       "  <th>TMAX_Clark</th>              <td>-2.732e-07</td> <td> 9.85e-07</td> <td>   -0.277</td> <td> 0.781</td> <td> -2.2e-06</td> <td> 1.66e-06</td>\n",
       "</tr>\n",
       "<tr>\n",
       "  <th>TMIN_Clark</th>              <td>-1.862e-06</td> <td> 4.53e-07</td> <td>   -4.111</td> <td> 0.000</td> <td>-2.75e-06</td> <td>-9.74e-07</td>\n",
       "</tr>\n",
       "<tr>\n",
       "  <th>RAINFALL_Calapan</th>        <td>-4.943e-07</td> <td> 7.54e-07</td> <td>   -0.656</td> <td> 0.512</td> <td>-1.97e-06</td> <td> 9.83e-07</td>\n",
       "</tr>\n",
       "<tr>\n",
       "  <th>TMAX_Calapan</th>            <td>-2.532e-06</td> <td> 3.65e-07</td> <td>   -6.936</td> <td> 0.000</td> <td>-3.25e-06</td> <td>-1.82e-06</td>\n",
       "</tr>\n",
       "<tr>\n",
       "  <th>TMIN_Calapan</th>            <td>-5.578e-07</td> <td> 6.56e-07</td> <td>   -0.851</td> <td> 0.395</td> <td>-1.84e-06</td> <td> 7.27e-07</td>\n",
       "</tr>\n",
       "<tr>\n",
       "  <th>ar.L1</th>                   <td>    0.9957</td> <td> 5.93e-11</td> <td> 1.68e+10</td> <td> 0.000</td> <td>    0.996</td> <td>    0.996</td>\n",
       "</tr>\n",
       "<tr>\n",
       "  <th>ma.L1</th>                   <td>-4.431e-13</td> <td> 2.03e-10</td> <td>   -0.002</td> <td> 0.998</td> <td>-3.98e-10</td> <td> 3.97e-10</td>\n",
       "</tr>\n",
       "<tr>\n",
       "  <th>ma.L2</th>                   <td>-4.412e-13</td> <td> 1.27e-09</td> <td>   -0.000</td> <td> 1.000</td> <td>-2.49e-09</td> <td> 2.49e-09</td>\n",
       "</tr>\n",
       "<tr>\n",
       "  <th>sigma2</th>                  <td> 1.232e-11</td> <td> 1.13e-10</td> <td>    0.109</td> <td> 0.913</td> <td> -2.1e-10</td> <td> 2.35e-10</td>\n",
       "</tr>\n",
       "</table>\n",
       "<table class=\"simpletable\">\n",
       "<tr>\n",
       "  <th>Ljung-Box (L1) (Q):</th>     <td>163.97</td> <th>  Jarque-Bera (JB):  </th> <td>15.07</td>\n",
       "</tr>\n",
       "<tr>\n",
       "  <th>Prob(Q):</th>                 <td>0.00</td>  <th>  Prob(JB):          </th> <td>0.00</td> \n",
       "</tr>\n",
       "<tr>\n",
       "  <th>Heteroskedasticity (H):</th>  <td>1.26</td>  <th>  Skew:              </th> <td>-0.28</td>\n",
       "</tr>\n",
       "<tr>\n",
       "  <th>Prob(H) (two-sided):</th>     <td>0.17</td>  <th>  Kurtosis:          </th> <td>3.72</td> \n",
       "</tr>\n",
       "</table><br/><br/>Warnings:<br/>[1] Covariance matrix calculated using the outer product of gradients (complex-step).<br/>[2] Covariance matrix is singular or near-singular, with condition number 1.64e+28. Standard errors may be unstable."
      ],
      "text/latex": [
       "\\begin{center}\n",
       "\\begin{tabular}{lclc}\n",
       "\\toprule\n",
       "\\textbf{Dep. Variable:}           &       GWAP       & \\textbf{  No. Observations:  } &    438      \\\\\n",
       "\\textbf{Model:}                   & SARIMAX(1, 0, 2) & \\textbf{  Log Likelihood     } &  4813.882   \\\\\n",
       "\\textbf{Date:}                    & Sat, 26 Oct 2024 & \\textbf{  AIC                } & -9541.763   \\\\\n",
       "\\textbf{Time:}                    &     20:49:18     & \\textbf{  BIC                } & -9366.228   \\\\\n",
       "\\textbf{Sample:}                  &    01-01-2022    & \\textbf{  HQIC               } & -9472.502   \\\\\n",
       "\\textbf{}                         &   - 03-14-2023   & \\textbf{                     } &             \\\\\n",
       "\\textbf{Covariance Type:}         &       opg        & \\textbf{                     } &             \\\\\n",
       "\\bottomrule\n",
       "\\end{tabular}\n",
       "\\begin{tabular}{lcccccc}\n",
       "                                  & \\textbf{coef} & \\textbf{std err} & \\textbf{z} & \\textbf{P$> |$z$|$} & \\textbf{[0.025} & \\textbf{0.975]}  \\\\\n",
       "\\midrule\n",
       "\\textbf{FLOW\\_LUZ}                &   -4.119e-07  &     9.88e-07     &    -0.417  &         0.677        &    -2.35e-06    &     1.52e-06     \\\\\n",
       "\\textbf{RESERVE\\_GWAP\\_Fr}        &   -5.488e-07  &     1.04e-06     &    -0.529  &         0.597        &    -2.58e-06    &     1.48e-06     \\\\\n",
       "\\textbf{RESERVE\\_GWAP\\_Ru}        &   -5.186e-07  &     9.91e-07     &    -0.523  &         0.601        &    -2.46e-06    &     1.42e-06     \\\\\n",
       "\\textbf{RESERVE\\_GWAP\\_Rd}        &     -7.5e-07  &     1.01e-06     &    -0.742  &         0.458        &    -2.73e-06    &     1.23e-06     \\\\\n",
       "\\textbf{RESERVE\\_GWAP\\_Dr}        &   -5.465e-07  &     7.64e-07     &    -0.716  &         0.474        &    -2.04e-06    &      9.5e-07     \\\\\n",
       "\\textbf{Hourly Demand}            &   -2.725e-07  &     1.19e-06     &    -0.229  &         0.819        &    -2.61e-06    &     2.06e-06     \\\\\n",
       "\\textbf{RAINFALL\\_Cubi Point}     &   -5.018e-07  &        1e-06     &    -0.501  &         0.616        &    -2.46e-06    &     1.46e-06     \\\\\n",
       "\\textbf{TMAX\\_Cubi Point}         &   -8.591e-07  &     5.96e-07     &    -1.442  &         0.149        &    -2.03e-06    &     3.09e-07     \\\\\n",
       "\\textbf{TMIN\\_Cubi Point}         &   -3.661e-07  &     1.07e-06     &    -0.344  &         0.731        &    -2.45e-06    &     1.72e-06     \\\\\n",
       "\\textbf{RAINFALL\\_NAIA}           &   -4.919e-07  &     9.66e-07     &    -0.509  &         0.611        &    -2.39e-06    &      1.4e-06     \\\\\n",
       "\\textbf{TMAX\\_NAIA}               &    -7.16e-07  &     9.25e-07     &    -0.774  &         0.439        &    -2.53e-06    &      1.1e-06     \\\\\n",
       "\\textbf{TMIN\\_NAIA}               &   -1.964e-06  &     4.33e-07     &    -4.532  &         0.000        &    -2.81e-06    &    -1.11e-06     \\\\\n",
       "\\textbf{RAINFALL\\_Science Garden} &   -3.903e-07  &     1.04e-06     &    -0.374  &         0.709        &    -2.44e-06    &     1.66e-06     \\\\\n",
       "\\textbf{TMAX\\_Science Garden}     &   -3.126e-07  &     1.39e-06     &    -0.225  &         0.822        &    -3.04e-06    &     2.41e-06     \\\\\n",
       "\\textbf{TMIN\\_Science Garden}     &   -4.465e-07  &     1.01e-06     &    -0.444  &         0.657        &    -2.42e-06    &     1.52e-06     \\\\\n",
       "\\textbf{RAINFALL\\_San Jose}       &   -5.042e-07  &      9.3e-07     &    -0.542  &         0.588        &    -2.33e-06    &     1.32e-06     \\\\\n",
       "\\textbf{TMAX\\_San Jose}           &   -4.108e-07  &     9.33e-07     &    -0.440  &         0.660        &    -2.24e-06    &     1.42e-06     \\\\\n",
       "\\textbf{TMIN\\_San Jose}           &       1.0000  &      1.8e-05     &  5.56e+04  &         0.000        &        1.000    &        1.000     \\\\\n",
       "\\textbf{RAINFALL\\_Tayabas}        &   -1.066e-07  &     1.77e-05     &    -0.006  &         0.995        &    -3.47e-05    &     3.45e-05     \\\\\n",
       "\\textbf{TMAX\\_Tayabas}            &   -6.339e-07  &     8.15e-07     &    -0.778  &         0.437        &    -2.23e-06    &     9.63e-07     \\\\\n",
       "\\textbf{TMIN\\_Tayabas}            &   -4.837e-07  &     1.09e-06     &    -0.444  &         0.657        &    -2.62e-06    &     1.65e-06     \\\\\n",
       "\\textbf{RAINFALL\\_CLSU}           &   -6.412e-07  &     7.93e-07     &    -0.809  &         0.419        &    -2.19e-06    &     9.12e-07     \\\\\n",
       "\\textbf{TMAX\\_CLSU}               &   -3.382e-07  &     1.43e-06     &    -0.236  &         0.813        &    -3.14e-06    &     2.47e-06     \\\\\n",
       "\\textbf{TMIN\\_CLSU}               &   -1.884e-07  &     1.77e-06     &    -0.107  &         0.915        &    -3.65e-06    &     3.28e-06     \\\\\n",
       "\\textbf{RAINFALL\\_Tanay}          &    -9.75e-08  &     2.45e-06     &    -0.040  &         0.968        &    -4.89e-06    &      4.7e-06     \\\\\n",
       "\\textbf{TMAX\\_Tanay}              &   -5.653e-07  &      8.2e-07     &    -0.689  &         0.491        &    -2.17e-06    &     1.04e-06     \\\\\n",
       "\\textbf{TMIN\\_Tanay}              &   -1.456e-06  &     4.21e-07     &    -3.454  &         0.001        &    -2.28e-06    &     -6.3e-07     \\\\\n",
       "\\textbf{RAINFALL\\_Ambulong}       &   -4.651e-08  &     2.57e-06     &    -0.018  &         0.986        &    -5.09e-06    &     4.99e-06     \\\\\n",
       "\\textbf{TMAX\\_Ambulong}           &   -2.909e-06  &     3.55e-07     &    -8.195  &         0.000        &     -3.6e-06    &    -2.21e-06     \\\\\n",
       "\\textbf{TMIN\\_Ambulong}           &   -1.927e-06  &     4.35e-07     &    -4.425  &         0.000        &    -2.78e-06    &    -1.07e-06     \\\\\n",
       "\\textbf{RAINFALL\\_Casiguran}      &   -2.296e-06  &     4.08e-07     &    -5.622  &         0.000        &     -3.1e-06    &     -1.5e-06     \\\\\n",
       "\\textbf{TMAX\\_Casiguran}          &   -1.897e-06  &     3.59e-07     &    -5.288  &         0.000        &     -2.6e-06    &    -1.19e-06     \\\\\n",
       "\\textbf{TMIN\\_Casiguran}          &   -2.459e-06  &     3.86e-07     &    -6.365  &         0.000        &    -3.22e-06    &     -1.7e-06     \\\\\n",
       "\\textbf{RAINFALL\\_Clark}          &   -5.878e-07  &     9.19e-07     &    -0.640  &         0.522        &    -2.39e-06    &     1.21e-06     \\\\\n",
       "\\textbf{TMAX\\_Clark}              &   -2.732e-07  &     9.85e-07     &    -0.277  &         0.781        &     -2.2e-06    &     1.66e-06     \\\\\n",
       "\\textbf{TMIN\\_Clark}              &   -1.862e-06  &     4.53e-07     &    -4.111  &         0.000        &    -2.75e-06    &    -9.74e-07     \\\\\n",
       "\\textbf{RAINFALL\\_Calapan}        &   -4.943e-07  &     7.54e-07     &    -0.656  &         0.512        &    -1.97e-06    &     9.83e-07     \\\\\n",
       "\\textbf{TMAX\\_Calapan}            &   -2.532e-06  &     3.65e-07     &    -6.936  &         0.000        &    -3.25e-06    &    -1.82e-06     \\\\\n",
       "\\textbf{TMIN\\_Calapan}            &   -5.578e-07  &     6.56e-07     &    -0.851  &         0.395        &    -1.84e-06    &     7.27e-07     \\\\\n",
       "\\textbf{ar.L1}                    &       0.9957  &     5.93e-11     &  1.68e+10  &         0.000        &        0.996    &        0.996     \\\\\n",
       "\\textbf{ma.L1}                    &   -4.431e-13  &     2.03e-10     &    -0.002  &         0.998        &    -3.98e-10    &     3.97e-10     \\\\\n",
       "\\textbf{ma.L2}                    &   -4.412e-13  &     1.27e-09     &    -0.000  &         1.000        &    -2.49e-09    &     2.49e-09     \\\\\n",
       "\\textbf{sigma2}                   &    1.232e-11  &     1.13e-10     &     0.109  &         0.913        &     -2.1e-10    &     2.35e-10     \\\\\n",
       "\\bottomrule\n",
       "\\end{tabular}\n",
       "\\begin{tabular}{lclc}\n",
       "\\textbf{Ljung-Box (L1) (Q):}     & 163.97 & \\textbf{  Jarque-Bera (JB):  } & 15.07  \\\\\n",
       "\\textbf{Prob(Q):}                &  0.00  & \\textbf{  Prob(JB):          } &  0.00  \\\\\n",
       "\\textbf{Heteroskedasticity (H):} &  1.26  & \\textbf{  Skew:              } & -0.28  \\\\\n",
       "\\textbf{Prob(H) (two-sided):}    &  0.17  & \\textbf{  Kurtosis:          } &  3.72  \\\\\n",
       "\\bottomrule\n",
       "\\end{tabular}\n",
       "%\\caption{SARIMAX Results}\n",
       "\\end{center}\n",
       "\n",
       "Warnings: \\newline\n",
       " [1] Covariance matrix calculated using the outer product of gradients (complex-step). \\newline\n",
       " [2] Covariance matrix is singular or near-singular, with condition number 1.64e+28. Standard errors may be unstable."
      ],
      "text/plain": [
       "<class 'statsmodels.iolib.summary.Summary'>\n",
       "\"\"\"\n",
       "                               SARIMAX Results                                \n",
       "==============================================================================\n",
       "Dep. Variable:                   GWAP   No. Observations:                  438\n",
       "Model:               SARIMAX(1, 0, 2)   Log Likelihood                4813.882\n",
       "Date:                Sat, 26 Oct 2024   AIC                          -9541.763\n",
       "Time:                        20:49:18   BIC                          -9366.228\n",
       "Sample:                    01-01-2022   HQIC                         -9472.502\n",
       "                         - 03-14-2023                                         \n",
       "Covariance Type:                  opg                                         \n",
       "===========================================================================================\n",
       "                              coef    std err          z      P>|z|      [0.025      0.975]\n",
       "-------------------------------------------------------------------------------------------\n",
       "FLOW_LUZ                -4.119e-07   9.88e-07     -0.417      0.677   -2.35e-06    1.52e-06\n",
       "RESERVE_GWAP_Fr         -5.488e-07   1.04e-06     -0.529      0.597   -2.58e-06    1.48e-06\n",
       "RESERVE_GWAP_Ru         -5.186e-07   9.91e-07     -0.523      0.601   -2.46e-06    1.42e-06\n",
       "RESERVE_GWAP_Rd           -7.5e-07   1.01e-06     -0.742      0.458   -2.73e-06    1.23e-06\n",
       "RESERVE_GWAP_Dr         -5.465e-07   7.64e-07     -0.716      0.474   -2.04e-06     9.5e-07\n",
       "Hourly Demand           -2.725e-07   1.19e-06     -0.229      0.819   -2.61e-06    2.06e-06\n",
       "RAINFALL_Cubi Point     -5.018e-07      1e-06     -0.501      0.616   -2.46e-06    1.46e-06\n",
       "TMAX_Cubi Point         -8.591e-07   5.96e-07     -1.442      0.149   -2.03e-06    3.09e-07\n",
       "TMIN_Cubi Point         -3.661e-07   1.07e-06     -0.344      0.731   -2.45e-06    1.72e-06\n",
       "RAINFALL_NAIA           -4.919e-07   9.66e-07     -0.509      0.611   -2.39e-06     1.4e-06\n",
       "TMAX_NAIA                -7.16e-07   9.25e-07     -0.774      0.439   -2.53e-06     1.1e-06\n",
       "TMIN_NAIA               -1.964e-06   4.33e-07     -4.532      0.000   -2.81e-06   -1.11e-06\n",
       "RAINFALL_Science Garden -3.903e-07   1.04e-06     -0.374      0.709   -2.44e-06    1.66e-06\n",
       "TMAX_Science Garden     -3.126e-07   1.39e-06     -0.225      0.822   -3.04e-06    2.41e-06\n",
       "TMIN_Science Garden     -4.465e-07   1.01e-06     -0.444      0.657   -2.42e-06    1.52e-06\n",
       "RAINFALL_San Jose       -5.042e-07    9.3e-07     -0.542      0.588   -2.33e-06    1.32e-06\n",
       "TMAX_San Jose           -4.108e-07   9.33e-07     -0.440      0.660   -2.24e-06    1.42e-06\n",
       "TMIN_San Jose               1.0000    1.8e-05   5.56e+04      0.000       1.000       1.000\n",
       "RAINFALL_Tayabas        -1.066e-07   1.77e-05     -0.006      0.995   -3.47e-05    3.45e-05\n",
       "TMAX_Tayabas            -6.339e-07   8.15e-07     -0.778      0.437   -2.23e-06    9.63e-07\n",
       "TMIN_Tayabas            -4.837e-07   1.09e-06     -0.444      0.657   -2.62e-06    1.65e-06\n",
       "RAINFALL_CLSU           -6.412e-07   7.93e-07     -0.809      0.419   -2.19e-06    9.12e-07\n",
       "TMAX_CLSU               -3.382e-07   1.43e-06     -0.236      0.813   -3.14e-06    2.47e-06\n",
       "TMIN_CLSU               -1.884e-07   1.77e-06     -0.107      0.915   -3.65e-06    3.28e-06\n",
       "RAINFALL_Tanay           -9.75e-08   2.45e-06     -0.040      0.968   -4.89e-06     4.7e-06\n",
       "TMAX_Tanay              -5.653e-07    8.2e-07     -0.689      0.491   -2.17e-06    1.04e-06\n",
       "TMIN_Tanay              -1.456e-06   4.21e-07     -3.454      0.001   -2.28e-06    -6.3e-07\n",
       "RAINFALL_Ambulong       -4.651e-08   2.57e-06     -0.018      0.986   -5.09e-06    4.99e-06\n",
       "TMAX_Ambulong           -2.909e-06   3.55e-07     -8.195      0.000    -3.6e-06   -2.21e-06\n",
       "TMIN_Ambulong           -1.927e-06   4.35e-07     -4.425      0.000   -2.78e-06   -1.07e-06\n",
       "RAINFALL_Casiguran      -2.296e-06   4.08e-07     -5.622      0.000    -3.1e-06    -1.5e-06\n",
       "TMAX_Casiguran          -1.897e-06   3.59e-07     -5.288      0.000    -2.6e-06   -1.19e-06\n",
       "TMIN_Casiguran          -2.459e-06   3.86e-07     -6.365      0.000   -3.22e-06    -1.7e-06\n",
       "RAINFALL_Clark          -5.878e-07   9.19e-07     -0.640      0.522   -2.39e-06    1.21e-06\n",
       "TMAX_Clark              -2.732e-07   9.85e-07     -0.277      0.781    -2.2e-06    1.66e-06\n",
       "TMIN_Clark              -1.862e-06   4.53e-07     -4.111      0.000   -2.75e-06   -9.74e-07\n",
       "RAINFALL_Calapan        -4.943e-07   7.54e-07     -0.656      0.512   -1.97e-06    9.83e-07\n",
       "TMAX_Calapan            -2.532e-06   3.65e-07     -6.936      0.000   -3.25e-06   -1.82e-06\n",
       "TMIN_Calapan            -5.578e-07   6.56e-07     -0.851      0.395   -1.84e-06    7.27e-07\n",
       "ar.L1                       0.9957   5.93e-11   1.68e+10      0.000       0.996       0.996\n",
       "ma.L1                   -4.431e-13   2.03e-10     -0.002      0.998   -3.98e-10    3.97e-10\n",
       "ma.L2                   -4.412e-13   1.27e-09     -0.000      1.000   -2.49e-09    2.49e-09\n",
       "sigma2                   1.232e-11   1.13e-10      0.109      0.913    -2.1e-10    2.35e-10\n",
       "===================================================================================\n",
       "Ljung-Box (L1) (Q):                 163.97   Jarque-Bera (JB):                15.07\n",
       "Prob(Q):                              0.00   Prob(JB):                         0.00\n",
       "Heteroskedasticity (H):               1.26   Skew:                            -0.28\n",
       "Prob(H) (two-sided):                  0.17   Kurtosis:                         3.72\n",
       "===================================================================================\n",
       "\n",
       "Warnings:\n",
       "[1] Covariance matrix calculated using the outer product of gradients (complex-step).\n",
       "[2] Covariance matrix is singular or near-singular, with condition number 1.64e+28. Standard errors may be unstable.\n",
       "\"\"\""
      ]
     },
     "execution_count": 165,
     "metadata": {},
     "output_type": "execute_result"
    }
   ],
   "source": [
    "model102 = SARIMAX(endog = LUZ_GWAP_train, exog=LUZ_diff_exog, order=(1, 0, 2), seasonal_order=(0, 0, 0, 0),enforce_invertibility='TRUE', enforce_stationarity='TRUE', freq='D', missing='drop')\n",
    "results = model102.fit(method='lbfgs', maxiter=300)\n",
    "results.summary()\n"
   ]
  },
  {
   "cell_type": "code",
   "execution_count": 164,
   "metadata": {},
   "outputs": [
    {
     "name": "stderr",
     "output_type": "stream",
     "text": [
      "/Library/Frameworks/Python.framework/Versions/3.12/lib/python3.12/site-packages/statsmodels/tsa/base/tsa_model.py:473: ValueWarning:\n",
      "\n",
      "No frequency information was provided, so inferred frequency D will be used.\n",
      "\n"
     ]
    },
    {
     "name": "stdout",
     "output_type": "stream",
     "text": [
      "RUNNING THE L-BFGS-B CODE\n",
      "\n",
      "           * * *\n",
      "\n",
      "Machine precision = 2.220D-16\n",
      " N =           42     M =           10\n",
      "\n",
      "At X0         0 variables are exactly at the bounds\n",
      "\n",
      "At iterate    0    f= -9.87863D+00    |proj g|=  4.65266D+06\n"
     ]
    },
    {
     "name": "stderr",
     "output_type": "stream",
     "text": [
      " This problem is unconstrained.\n",
      "\n",
      " Line search cannot locate an adequate point after MAXLS\n",
      "  function and gradient evaluations.\n",
      "  Previous x, f and g restored.\n",
      " Possible causes: 1 error in function or gradient evaluation;\n",
      "                  2 rounding error dominate computation.\n",
      "/Library/Frameworks/Python.framework/Versions/3.12/lib/python3.12/site-packages/statsmodels/base/model.py:607: ConvergenceWarning:\n",
      "\n",
      "Maximum Likelihood optimization failed to converge. Check mle_retvals\n",
      "\n"
     ]
    },
    {
     "name": "stdout",
     "output_type": "stream",
     "text": [
      "\n",
      "           * * *\n",
      "\n",
      "Tit   = total number of iterations\n",
      "Tnf   = total number of function evaluations\n",
      "Tnint = total number of segments explored during Cauchy searches\n",
      "Skip  = number of BFGS updates skipped\n",
      "Nact  = number of active bounds at final generalized Cauchy point\n",
      "Projg = norm of the final projected gradient\n",
      "F     = final function value\n",
      "\n",
      "           * * *\n",
      "\n",
      "   N    Tit     Tnf  Tnint  Skip  Nact     Projg        F\n",
      "   42      1     21      1     0     0   4.653D+06  -9.879D+00\n",
      "  F =  -9.8786289657230562     \n",
      "\n",
      "ABNORMAL_TERMINATION_IN_LNSRCH                              \n"
     ]
    },
    {
     "data": {
      "text/html": [
       "<table class=\"simpletable\">\n",
       "<caption>SARIMAX Results</caption>\n",
       "<tr>\n",
       "  <th>Dep. Variable:</th>         <td>GWAP</td>       <th>  No. Observations:  </th>    <td>438</td>   \n",
       "</tr>\n",
       "<tr>\n",
       "  <th>Model:</th>           <td>SARIMAX(1, 1, 1)</td> <th>  Log Likelihood     </th> <td>4326.839</td> \n",
       "</tr>\n",
       "<tr>\n",
       "  <th>Date:</th>            <td>Sat, 26 Oct 2024</td> <th>  AIC                </th> <td>-8569.679</td>\n",
       "</tr>\n",
       "<tr>\n",
       "  <th>Time:</th>                <td>20:44:00</td>     <th>  BIC                </th> <td>-8398.322</td>\n",
       "</tr>\n",
       "<tr>\n",
       "  <th>Sample:</th>             <td>01-01-2022</td>    <th>  HQIC               </th> <td>-8502.060</td>\n",
       "</tr>\n",
       "<tr>\n",
       "  <th></th>                   <td>- 03-14-2023</td>   <th>                     </th>     <td> </td>    \n",
       "</tr>\n",
       "<tr>\n",
       "  <th>Covariance Type:</th>        <td>opg</td>       <th>                     </th>     <td> </td>    \n",
       "</tr>\n",
       "</table>\n",
       "<table class=\"simpletable\">\n",
       "<tr>\n",
       "             <td></td>                <th>coef</th>     <th>std err</th>      <th>z</th>      <th>P>|z|</th>  <th>[0.025</th>    <th>0.975]</th>  \n",
       "</tr>\n",
       "<tr>\n",
       "  <th>FLOW_LUZ</th>                <td> 7.401e-17</td> <td> 6.46e-12</td> <td> 1.15e-05</td> <td> 1.000</td> <td>-1.27e-11</td> <td> 1.27e-11</td>\n",
       "</tr>\n",
       "<tr>\n",
       "  <th>RESERVE_GWAP_Fr</th>         <td>-2.775e-16</td> <td> 2.99e-11</td> <td>-9.29e-06</td> <td> 1.000</td> <td>-5.86e-11</td> <td> 5.86e-11</td>\n",
       "</tr>\n",
       "<tr>\n",
       "  <th>RESERVE_GWAP_Ru</th>         <td> 1.071e-16</td> <td> 3.34e-11</td> <td>  3.2e-06</td> <td> 1.000</td> <td>-6.55e-11</td> <td> 6.55e-11</td>\n",
       "</tr>\n",
       "<tr>\n",
       "  <th>RESERVE_GWAP_Rd</th>         <td> 1.004e-16</td> <td> 1.94e-11</td> <td> 5.17e-06</td> <td> 1.000</td> <td>-3.81e-11</td> <td> 3.81e-11</td>\n",
       "</tr>\n",
       "<tr>\n",
       "  <th>RESERVE_GWAP_Dr</th>         <td>-1.677e-16</td> <td> 3.53e-11</td> <td>-4.75e-06</td> <td> 1.000</td> <td>-6.91e-11</td> <td> 6.91e-11</td>\n",
       "</tr>\n",
       "<tr>\n",
       "  <th>Hourly Demand</th>           <td> 1.248e-16</td> <td> 5.66e-11</td> <td> 2.21e-06</td> <td> 1.000</td> <td>-1.11e-10</td> <td> 1.11e-10</td>\n",
       "</tr>\n",
       "<tr>\n",
       "  <th>RAINFALL_Cubi Point</th>     <td> 2.288e-16</td> <td>  4.4e-11</td> <td> 5.19e-06</td> <td> 1.000</td> <td>-8.63e-11</td> <td> 8.63e-11</td>\n",
       "</tr>\n",
       "<tr>\n",
       "  <th>TMAX_Cubi Point</th>         <td>-5.268e-17</td> <td> 5.17e-11</td> <td>-1.02e-06</td> <td> 1.000</td> <td>-1.01e-10</td> <td> 1.01e-10</td>\n",
       "</tr>\n",
       "<tr>\n",
       "  <th>TMIN_Cubi Point</th>         <td> 1.188e-16</td> <td> 7.98e-12</td> <td> 1.49e-05</td> <td> 1.000</td> <td>-1.56e-11</td> <td> 1.56e-11</td>\n",
       "</tr>\n",
       "<tr>\n",
       "  <th>RAINFALL_NAIA</th>           <td>-4.418e-17</td> <td> 6.43e-12</td> <td>-6.88e-06</td> <td> 1.000</td> <td>-1.26e-11</td> <td> 1.26e-11</td>\n",
       "</tr>\n",
       "<tr>\n",
       "  <th>TMAX_NAIA</th>               <td>-1.416e-16</td> <td> 5.25e-11</td> <td>-2.69e-06</td> <td> 1.000</td> <td>-1.03e-10</td> <td> 1.03e-10</td>\n",
       "</tr>\n",
       "<tr>\n",
       "  <th>TMIN_NAIA</th>               <td>  8.68e-17</td> <td> 4.53e-11</td> <td> 1.91e-06</td> <td> 1.000</td> <td>-8.89e-11</td> <td> 8.89e-11</td>\n",
       "</tr>\n",
       "<tr>\n",
       "  <th>RAINFALL_Science Garden</th> <td> 2.051e-16</td> <td> 1.51e-11</td> <td> 1.36e-05</td> <td> 1.000</td> <td>-2.97e-11</td> <td> 2.97e-11</td>\n",
       "</tr>\n",
       "<tr>\n",
       "  <th>TMAX_Science Garden</th>     <td> 1.876e-17</td> <td> 4.03e-12</td> <td> 4.66e-06</td> <td> 1.000</td> <td>-7.89e-12</td> <td> 7.89e-12</td>\n",
       "</tr>\n",
       "<tr>\n",
       "  <th>TMIN_Science Garden</th>     <td> -3.53e-16</td> <td>  2.3e-11</td> <td>-1.54e-05</td> <td> 1.000</td> <td> -4.5e-11</td> <td>  4.5e-11</td>\n",
       "</tr>\n",
       "<tr>\n",
       "  <th>RAINFALL_San Jose</th>       <td>-2.658e-16</td> <td> 1.65e-11</td> <td>-1.61e-05</td> <td> 1.000</td> <td>-3.24e-11</td> <td> 3.24e-11</td>\n",
       "</tr>\n",
       "<tr>\n",
       "  <th>TMAX_San Jose</th>           <td> 1.601e-16</td> <td> 5.89e-11</td> <td> 2.72e-06</td> <td> 1.000</td> <td>-1.15e-10</td> <td> 1.15e-10</td>\n",
       "</tr>\n",
       "<tr>\n",
       "  <th>TMIN_San Jose</th>           <td>    1.0000</td> <td> 4.27e-11</td> <td> 2.34e+10</td> <td> 0.000</td> <td>    1.000</td> <td>    1.000</td>\n",
       "</tr>\n",
       "<tr>\n",
       "  <th>RAINFALL_Tayabas</th>        <td> 1.473e-15</td> <td>  4.2e-11</td> <td>  3.5e-05</td> <td> 1.000</td> <td>-8.23e-11</td> <td> 8.24e-11</td>\n",
       "</tr>\n",
       "<tr>\n",
       "  <th>TMAX_Tayabas</th>            <td>-4.978e-16</td> <td> 2.79e-11</td> <td>-1.79e-05</td> <td> 1.000</td> <td>-5.46e-11</td> <td> 5.46e-11</td>\n",
       "</tr>\n",
       "<tr>\n",
       "  <th>TMIN_Tayabas</th>            <td> 2.752e-16</td> <td> 9.31e-12</td> <td> 2.96e-05</td> <td> 1.000</td> <td>-1.82e-11</td> <td> 1.82e-11</td>\n",
       "</tr>\n",
       "<tr>\n",
       "  <th>RAINFALL_CLSU</th>           <td>  1.26e-16</td> <td> 1.39e-11</td> <td> 9.06e-06</td> <td> 1.000</td> <td>-2.73e-11</td> <td> 2.73e-11</td>\n",
       "</tr>\n",
       "<tr>\n",
       "  <th>TMAX_CLSU</th>               <td> 1.811e-16</td> <td> 3.42e-11</td> <td>  5.3e-06</td> <td> 1.000</td> <td> -6.7e-11</td> <td>  6.7e-11</td>\n",
       "</tr>\n",
       "<tr>\n",
       "  <th>TMIN_CLSU</th>               <td>-8.219e-16</td> <td> 9.01e-12</td> <td>-9.12e-05</td> <td> 1.000</td> <td>-1.77e-11</td> <td> 1.77e-11</td>\n",
       "</tr>\n",
       "<tr>\n",
       "  <th>RAINFALL_Tanay</th>          <td> 5.106e-17</td> <td> 2.26e-11</td> <td> 2.26e-06</td> <td> 1.000</td> <td>-4.43e-11</td> <td> 4.43e-11</td>\n",
       "</tr>\n",
       "<tr>\n",
       "  <th>TMAX_Tanay</th>              <td> 1.897e-16</td> <td> 1.87e-11</td> <td> 1.01e-05</td> <td> 1.000</td> <td>-3.67e-11</td> <td> 3.67e-11</td>\n",
       "</tr>\n",
       "<tr>\n",
       "  <th>TMIN_Tanay</th>              <td> 1.391e-16</td> <td> 1.22e-13</td> <td>    0.001</td> <td> 0.999</td> <td> -2.4e-13</td> <td>  2.4e-13</td>\n",
       "</tr>\n",
       "<tr>\n",
       "  <th>RAINFALL_Ambulong</th>       <td> 7.793e-16</td> <td> 1.25e-17</td> <td>   62.294</td> <td> 0.000</td> <td> 7.55e-16</td> <td> 8.04e-16</td>\n",
       "</tr>\n",
       "<tr>\n",
       "  <th>TMAX_Ambulong</th>           <td> 8.897e-17</td> <td> 4.34e-13</td> <td>    0.000</td> <td> 1.000</td> <td>-8.51e-13</td> <td> 8.52e-13</td>\n",
       "</tr>\n",
       "<tr>\n",
       "  <th>TMIN_Ambulong</th>           <td> 1.777e-16</td> <td> 9.93e-13</td> <td>    0.000</td> <td> 1.000</td> <td>-1.95e-12</td> <td> 1.95e-12</td>\n",
       "</tr>\n",
       "<tr>\n",
       "  <th>RAINFALL_Casiguran</th>      <td> 1.389e-17</td> <td> 1.21e-10</td> <td> 1.14e-07</td> <td> 1.000</td> <td>-2.38e-10</td> <td> 2.38e-10</td>\n",
       "</tr>\n",
       "<tr>\n",
       "  <th>TMAX_Casiguran</th>          <td>-1.533e-16</td> <td> 1.65e-12</td> <td>-9.32e-05</td> <td> 1.000</td> <td>-3.23e-12</td> <td> 3.23e-12</td>\n",
       "</tr>\n",
       "<tr>\n",
       "  <th>TMIN_Casiguran</th>          <td> 8.326e-18</td> <td> 8.01e-11</td> <td> 1.04e-07</td> <td> 1.000</td> <td>-1.57e-10</td> <td> 1.57e-10</td>\n",
       "</tr>\n",
       "<tr>\n",
       "  <th>RAINFALL_Clark</th>          <td> -1.81e-16</td> <td> 2.63e-11</td> <td>-6.89e-06</td> <td> 1.000</td> <td>-5.15e-11</td> <td> 5.15e-11</td>\n",
       "</tr>\n",
       "<tr>\n",
       "  <th>TMAX_Clark</th>              <td>-1.562e-16</td> <td> 5.53e-12</td> <td>-2.82e-05</td> <td> 1.000</td> <td>-1.08e-11</td> <td> 1.08e-11</td>\n",
       "</tr>\n",
       "<tr>\n",
       "  <th>TMIN_Clark</th>              <td>-2.558e-16</td> <td> 9.99e-11</td> <td>-2.56e-06</td> <td> 1.000</td> <td>-1.96e-10</td> <td> 1.96e-10</td>\n",
       "</tr>\n",
       "<tr>\n",
       "  <th>RAINFALL_Calapan</th>        <td> 4.179e-17</td> <td> 3.59e-11</td> <td> 1.17e-06</td> <td> 1.000</td> <td>-7.03e-11</td> <td> 7.03e-11</td>\n",
       "</tr>\n",
       "<tr>\n",
       "  <th>TMAX_Calapan</th>            <td> 3.857e-17</td> <td> 3.61e-12</td> <td> 1.07e-05</td> <td> 1.000</td> <td>-7.07e-12</td> <td> 7.07e-12</td>\n",
       "</tr>\n",
       "<tr>\n",
       "  <th>TMIN_Calapan</th>            <td> -1.56e-16</td> <td> 2.65e-11</td> <td>-5.88e-06</td> <td> 1.000</td> <td> -5.2e-11</td> <td>  5.2e-11</td>\n",
       "</tr>\n",
       "<tr>\n",
       "  <th>ar.L1</th>                   <td>   -0.2735</td> <td> 2.28e-05</td> <td> -1.2e+04</td> <td> 0.000</td> <td>   -0.274</td> <td>   -0.273</td>\n",
       "</tr>\n",
       "<tr>\n",
       "  <th>ma.L1</th>                   <td>   -0.2980</td> <td> 1.11e-05</td> <td>-2.69e+04</td> <td> 0.000</td> <td>   -0.298</td> <td>   -0.298</td>\n",
       "</tr>\n",
       "<tr>\n",
       "  <th>sigma2</th>                  <td>     1e-10</td> <td> 9.52e-11</td> <td>    1.051</td> <td> 0.293</td> <td>-8.65e-11</td> <td> 2.87e-10</td>\n",
       "</tr>\n",
       "</table>\n",
       "<table class=\"simpletable\">\n",
       "<tr>\n",
       "  <th>Ljung-Box (L1) (Q):</th>     <td>225.81</td> <th>  Jarque-Bera (JB):  </th> <td>533979.79</td>\n",
       "</tr>\n",
       "<tr>\n",
       "  <th>Prob(Q):</th>                 <td>0.00</td>  <th>  Prob(JB):          </th>   <td>0.00</td>   \n",
       "</tr>\n",
       "<tr>\n",
       "  <th>Heteroskedasticity (H):</th>  <td>0.00</td>  <th>  Skew:              </th>  <td>-12.48</td>  \n",
       "</tr>\n",
       "<tr>\n",
       "  <th>Prob(H) (two-sided):</th>     <td>0.00</td>  <th>  Kurtosis:          </th>  <td>172.42</td>  \n",
       "</tr>\n",
       "</table><br/><br/>Warnings:<br/>[1] Covariance matrix calculated using the outer product of gradients (complex-step).<br/>[2] Covariance matrix is singular or near-singular, with condition number 2.06e+40. Standard errors may be unstable."
      ],
      "text/latex": [
       "\\begin{center}\n",
       "\\begin{tabular}{lclc}\n",
       "\\toprule\n",
       "\\textbf{Dep. Variable:}           &       GWAP       & \\textbf{  No. Observations:  } &    438      \\\\\n",
       "\\textbf{Model:}                   & SARIMAX(1, 1, 1) & \\textbf{  Log Likelihood     } &  4326.839   \\\\\n",
       "\\textbf{Date:}                    & Sat, 26 Oct 2024 & \\textbf{  AIC                } & -8569.679   \\\\\n",
       "\\textbf{Time:}                    &     20:44:00     & \\textbf{  BIC                } & -8398.322   \\\\\n",
       "\\textbf{Sample:}                  &    01-01-2022    & \\textbf{  HQIC               } & -8502.060   \\\\\n",
       "\\textbf{}                         &   - 03-14-2023   & \\textbf{                     } &             \\\\\n",
       "\\textbf{Covariance Type:}         &       opg        & \\textbf{                     } &             \\\\\n",
       "\\bottomrule\n",
       "\\end{tabular}\n",
       "\\begin{tabular}{lcccccc}\n",
       "                                  & \\textbf{coef} & \\textbf{std err} & \\textbf{z} & \\textbf{P$> |$z$|$} & \\textbf{[0.025} & \\textbf{0.975]}  \\\\\n",
       "\\midrule\n",
       "\\textbf{FLOW\\_LUZ}                &    7.401e-17  &     6.46e-12     &  1.15e-05  &         1.000        &    -1.27e-11    &     1.27e-11     \\\\\n",
       "\\textbf{RESERVE\\_GWAP\\_Fr}        &   -2.775e-16  &     2.99e-11     & -9.29e-06  &         1.000        &    -5.86e-11    &     5.86e-11     \\\\\n",
       "\\textbf{RESERVE\\_GWAP\\_Ru}        &    1.071e-16  &     3.34e-11     &   3.2e-06  &         1.000        &    -6.55e-11    &     6.55e-11     \\\\\n",
       "\\textbf{RESERVE\\_GWAP\\_Rd}        &    1.004e-16  &     1.94e-11     &  5.17e-06  &         1.000        &    -3.81e-11    &     3.81e-11     \\\\\n",
       "\\textbf{RESERVE\\_GWAP\\_Dr}        &   -1.677e-16  &     3.53e-11     & -4.75e-06  &         1.000        &    -6.91e-11    &     6.91e-11     \\\\\n",
       "\\textbf{Hourly Demand}            &    1.248e-16  &     5.66e-11     &  2.21e-06  &         1.000        &    -1.11e-10    &     1.11e-10     \\\\\n",
       "\\textbf{RAINFALL\\_Cubi Point}     &    2.288e-16  &      4.4e-11     &  5.19e-06  &         1.000        &    -8.63e-11    &     8.63e-11     \\\\\n",
       "\\textbf{TMAX\\_Cubi Point}         &   -5.268e-17  &     5.17e-11     & -1.02e-06  &         1.000        &    -1.01e-10    &     1.01e-10     \\\\\n",
       "\\textbf{TMIN\\_Cubi Point}         &    1.188e-16  &     7.98e-12     &  1.49e-05  &         1.000        &    -1.56e-11    &     1.56e-11     \\\\\n",
       "\\textbf{RAINFALL\\_NAIA}           &   -4.418e-17  &     6.43e-12     & -6.88e-06  &         1.000        &    -1.26e-11    &     1.26e-11     \\\\\n",
       "\\textbf{TMAX\\_NAIA}               &   -1.416e-16  &     5.25e-11     & -2.69e-06  &         1.000        &    -1.03e-10    &     1.03e-10     \\\\\n",
       "\\textbf{TMIN\\_NAIA}               &     8.68e-17  &     4.53e-11     &  1.91e-06  &         1.000        &    -8.89e-11    &     8.89e-11     \\\\\n",
       "\\textbf{RAINFALL\\_Science Garden} &    2.051e-16  &     1.51e-11     &  1.36e-05  &         1.000        &    -2.97e-11    &     2.97e-11     \\\\\n",
       "\\textbf{TMAX\\_Science Garden}     &    1.876e-17  &     4.03e-12     &  4.66e-06  &         1.000        &    -7.89e-12    &     7.89e-12     \\\\\n",
       "\\textbf{TMIN\\_Science Garden}     &    -3.53e-16  &      2.3e-11     & -1.54e-05  &         1.000        &     -4.5e-11    &      4.5e-11     \\\\\n",
       "\\textbf{RAINFALL\\_San Jose}       &   -2.658e-16  &     1.65e-11     & -1.61e-05  &         1.000        &    -3.24e-11    &     3.24e-11     \\\\\n",
       "\\textbf{TMAX\\_San Jose}           &    1.601e-16  &     5.89e-11     &  2.72e-06  &         1.000        &    -1.15e-10    &     1.15e-10     \\\\\n",
       "\\textbf{TMIN\\_San Jose}           &       1.0000  &     4.27e-11     &  2.34e+10  &         0.000        &        1.000    &        1.000     \\\\\n",
       "\\textbf{RAINFALL\\_Tayabas}        &    1.473e-15  &      4.2e-11     &   3.5e-05  &         1.000        &    -8.23e-11    &     8.24e-11     \\\\\n",
       "\\textbf{TMAX\\_Tayabas}            &   -4.978e-16  &     2.79e-11     & -1.79e-05  &         1.000        &    -5.46e-11    &     5.46e-11     \\\\\n",
       "\\textbf{TMIN\\_Tayabas}            &    2.752e-16  &     9.31e-12     &  2.96e-05  &         1.000        &    -1.82e-11    &     1.82e-11     \\\\\n",
       "\\textbf{RAINFALL\\_CLSU}           &     1.26e-16  &     1.39e-11     &  9.06e-06  &         1.000        &    -2.73e-11    &     2.73e-11     \\\\\n",
       "\\textbf{TMAX\\_CLSU}               &    1.811e-16  &     3.42e-11     &   5.3e-06  &         1.000        &     -6.7e-11    &      6.7e-11     \\\\\n",
       "\\textbf{TMIN\\_CLSU}               &   -8.219e-16  &     9.01e-12     & -9.12e-05  &         1.000        &    -1.77e-11    &     1.77e-11     \\\\\n",
       "\\textbf{RAINFALL\\_Tanay}          &    5.106e-17  &     2.26e-11     &  2.26e-06  &         1.000        &    -4.43e-11    &     4.43e-11     \\\\\n",
       "\\textbf{TMAX\\_Tanay}              &    1.897e-16  &     1.87e-11     &  1.01e-05  &         1.000        &    -3.67e-11    &     3.67e-11     \\\\\n",
       "\\textbf{TMIN\\_Tanay}              &    1.391e-16  &     1.22e-13     &     0.001  &         0.999        &     -2.4e-13    &      2.4e-13     \\\\\n",
       "\\textbf{RAINFALL\\_Ambulong}       &    7.793e-16  &     1.25e-17     &    62.294  &         0.000        &     7.55e-16    &     8.04e-16     \\\\\n",
       "\\textbf{TMAX\\_Ambulong}           &    8.897e-17  &     4.34e-13     &     0.000  &         1.000        &    -8.51e-13    &     8.52e-13     \\\\\n",
       "\\textbf{TMIN\\_Ambulong}           &    1.777e-16  &     9.93e-13     &     0.000  &         1.000        &    -1.95e-12    &     1.95e-12     \\\\\n",
       "\\textbf{RAINFALL\\_Casiguran}      &    1.389e-17  &     1.21e-10     &  1.14e-07  &         1.000        &    -2.38e-10    &     2.38e-10     \\\\\n",
       "\\textbf{TMAX\\_Casiguran}          &   -1.533e-16  &     1.65e-12     & -9.32e-05  &         1.000        &    -3.23e-12    &     3.23e-12     \\\\\n",
       "\\textbf{TMIN\\_Casiguran}          &    8.326e-18  &     8.01e-11     &  1.04e-07  &         1.000        &    -1.57e-10    &     1.57e-10     \\\\\n",
       "\\textbf{RAINFALL\\_Clark}          &    -1.81e-16  &     2.63e-11     & -6.89e-06  &         1.000        &    -5.15e-11    &     5.15e-11     \\\\\n",
       "\\textbf{TMAX\\_Clark}              &   -1.562e-16  &     5.53e-12     & -2.82e-05  &         1.000        &    -1.08e-11    &     1.08e-11     \\\\\n",
       "\\textbf{TMIN\\_Clark}              &   -2.558e-16  &     9.99e-11     & -2.56e-06  &         1.000        &    -1.96e-10    &     1.96e-10     \\\\\n",
       "\\textbf{RAINFALL\\_Calapan}        &    4.179e-17  &     3.59e-11     &  1.17e-06  &         1.000        &    -7.03e-11    &     7.03e-11     \\\\\n",
       "\\textbf{TMAX\\_Calapan}            &    3.857e-17  &     3.61e-12     &  1.07e-05  &         1.000        &    -7.07e-12    &     7.07e-12     \\\\\n",
       "\\textbf{TMIN\\_Calapan}            &    -1.56e-16  &     2.65e-11     & -5.88e-06  &         1.000        &     -5.2e-11    &      5.2e-11     \\\\\n",
       "\\textbf{ar.L1}                    &      -0.2735  &     2.28e-05     &  -1.2e+04  &         0.000        &       -0.274    &       -0.273     \\\\\n",
       "\\textbf{ma.L1}                    &      -0.2980  &     1.11e-05     & -2.69e+04  &         0.000        &       -0.298    &       -0.298     \\\\\n",
       "\\textbf{sigma2}                   &        1e-10  &     9.52e-11     &     1.051  &         0.293        &    -8.65e-11    &     2.87e-10     \\\\\n",
       "\\bottomrule\n",
       "\\end{tabular}\n",
       "\\begin{tabular}{lclc}\n",
       "\\textbf{Ljung-Box (L1) (Q):}     & 225.81 & \\textbf{  Jarque-Bera (JB):  } & 533979.79  \\\\\n",
       "\\textbf{Prob(Q):}                &  0.00  & \\textbf{  Prob(JB):          } &    0.00    \\\\\n",
       "\\textbf{Heteroskedasticity (H):} &  0.00  & \\textbf{  Skew:              } &   -12.48   \\\\\n",
       "\\textbf{Prob(H) (two-sided):}    &  0.00  & \\textbf{  Kurtosis:          } &   172.42   \\\\\n",
       "\\bottomrule\n",
       "\\end{tabular}\n",
       "%\\caption{SARIMAX Results}\n",
       "\\end{center}\n",
       "\n",
       "Warnings: \\newline\n",
       " [1] Covariance matrix calculated using the outer product of gradients (complex-step). \\newline\n",
       " [2] Covariance matrix is singular or near-singular, with condition number 2.06e+40. Standard errors may be unstable."
      ],
      "text/plain": [
       "<class 'statsmodels.iolib.summary.Summary'>\n",
       "\"\"\"\n",
       "                               SARIMAX Results                                \n",
       "==============================================================================\n",
       "Dep. Variable:                   GWAP   No. Observations:                  438\n",
       "Model:               SARIMAX(1, 1, 1)   Log Likelihood                4326.839\n",
       "Date:                Sat, 26 Oct 2024   AIC                          -8569.679\n",
       "Time:                        20:44:00   BIC                          -8398.322\n",
       "Sample:                    01-01-2022   HQIC                         -8502.060\n",
       "                         - 03-14-2023                                         \n",
       "Covariance Type:                  opg                                         \n",
       "===========================================================================================\n",
       "                              coef    std err          z      P>|z|      [0.025      0.975]\n",
       "-------------------------------------------------------------------------------------------\n",
       "FLOW_LUZ                 7.401e-17   6.46e-12   1.15e-05      1.000   -1.27e-11    1.27e-11\n",
       "RESERVE_GWAP_Fr         -2.775e-16   2.99e-11  -9.29e-06      1.000   -5.86e-11    5.86e-11\n",
       "RESERVE_GWAP_Ru          1.071e-16   3.34e-11    3.2e-06      1.000   -6.55e-11    6.55e-11\n",
       "RESERVE_GWAP_Rd          1.004e-16   1.94e-11   5.17e-06      1.000   -3.81e-11    3.81e-11\n",
       "RESERVE_GWAP_Dr         -1.677e-16   3.53e-11  -4.75e-06      1.000   -6.91e-11    6.91e-11\n",
       "Hourly Demand            1.248e-16   5.66e-11   2.21e-06      1.000   -1.11e-10    1.11e-10\n",
       "RAINFALL_Cubi Point      2.288e-16    4.4e-11   5.19e-06      1.000   -8.63e-11    8.63e-11\n",
       "TMAX_Cubi Point         -5.268e-17   5.17e-11  -1.02e-06      1.000   -1.01e-10    1.01e-10\n",
       "TMIN_Cubi Point          1.188e-16   7.98e-12   1.49e-05      1.000   -1.56e-11    1.56e-11\n",
       "RAINFALL_NAIA           -4.418e-17   6.43e-12  -6.88e-06      1.000   -1.26e-11    1.26e-11\n",
       "TMAX_NAIA               -1.416e-16   5.25e-11  -2.69e-06      1.000   -1.03e-10    1.03e-10\n",
       "TMIN_NAIA                 8.68e-17   4.53e-11   1.91e-06      1.000   -8.89e-11    8.89e-11\n",
       "RAINFALL_Science Garden  2.051e-16   1.51e-11   1.36e-05      1.000   -2.97e-11    2.97e-11\n",
       "TMAX_Science Garden      1.876e-17   4.03e-12   4.66e-06      1.000   -7.89e-12    7.89e-12\n",
       "TMIN_Science Garden      -3.53e-16    2.3e-11  -1.54e-05      1.000    -4.5e-11     4.5e-11\n",
       "RAINFALL_San Jose       -2.658e-16   1.65e-11  -1.61e-05      1.000   -3.24e-11    3.24e-11\n",
       "TMAX_San Jose            1.601e-16   5.89e-11   2.72e-06      1.000   -1.15e-10    1.15e-10\n",
       "TMIN_San Jose               1.0000   4.27e-11   2.34e+10      0.000       1.000       1.000\n",
       "RAINFALL_Tayabas         1.473e-15    4.2e-11    3.5e-05      1.000   -8.23e-11    8.24e-11\n",
       "TMAX_Tayabas            -4.978e-16   2.79e-11  -1.79e-05      1.000   -5.46e-11    5.46e-11\n",
       "TMIN_Tayabas             2.752e-16   9.31e-12   2.96e-05      1.000   -1.82e-11    1.82e-11\n",
       "RAINFALL_CLSU             1.26e-16   1.39e-11   9.06e-06      1.000   -2.73e-11    2.73e-11\n",
       "TMAX_CLSU                1.811e-16   3.42e-11    5.3e-06      1.000    -6.7e-11     6.7e-11\n",
       "TMIN_CLSU               -8.219e-16   9.01e-12  -9.12e-05      1.000   -1.77e-11    1.77e-11\n",
       "RAINFALL_Tanay           5.106e-17   2.26e-11   2.26e-06      1.000   -4.43e-11    4.43e-11\n",
       "TMAX_Tanay               1.897e-16   1.87e-11   1.01e-05      1.000   -3.67e-11    3.67e-11\n",
       "TMIN_Tanay               1.391e-16   1.22e-13      0.001      0.999    -2.4e-13     2.4e-13\n",
       "RAINFALL_Ambulong        7.793e-16   1.25e-17     62.294      0.000    7.55e-16    8.04e-16\n",
       "TMAX_Ambulong            8.897e-17   4.34e-13      0.000      1.000   -8.51e-13    8.52e-13\n",
       "TMIN_Ambulong            1.777e-16   9.93e-13      0.000      1.000   -1.95e-12    1.95e-12\n",
       "RAINFALL_Casiguran       1.389e-17   1.21e-10   1.14e-07      1.000   -2.38e-10    2.38e-10\n",
       "TMAX_Casiguran          -1.533e-16   1.65e-12  -9.32e-05      1.000   -3.23e-12    3.23e-12\n",
       "TMIN_Casiguran           8.326e-18   8.01e-11   1.04e-07      1.000   -1.57e-10    1.57e-10\n",
       "RAINFALL_Clark           -1.81e-16   2.63e-11  -6.89e-06      1.000   -5.15e-11    5.15e-11\n",
       "TMAX_Clark              -1.562e-16   5.53e-12  -2.82e-05      1.000   -1.08e-11    1.08e-11\n",
       "TMIN_Clark              -2.558e-16   9.99e-11  -2.56e-06      1.000   -1.96e-10    1.96e-10\n",
       "RAINFALL_Calapan         4.179e-17   3.59e-11   1.17e-06      1.000   -7.03e-11    7.03e-11\n",
       "TMAX_Calapan             3.857e-17   3.61e-12   1.07e-05      1.000   -7.07e-12    7.07e-12\n",
       "TMIN_Calapan             -1.56e-16   2.65e-11  -5.88e-06      1.000    -5.2e-11     5.2e-11\n",
       "ar.L1                      -0.2735   2.28e-05   -1.2e+04      0.000      -0.274      -0.273\n",
       "ma.L1                      -0.2980   1.11e-05  -2.69e+04      0.000      -0.298      -0.298\n",
       "sigma2                       1e-10   9.52e-11      1.051      0.293   -8.65e-11    2.87e-10\n",
       "===================================================================================\n",
       "Ljung-Box (L1) (Q):                 225.81   Jarque-Bera (JB):            533979.79\n",
       "Prob(Q):                              0.00   Prob(JB):                         0.00\n",
       "Heteroskedasticity (H):               0.00   Skew:                           -12.48\n",
       "Prob(H) (two-sided):                  0.00   Kurtosis:                       172.42\n",
       "===================================================================================\n",
       "\n",
       "Warnings:\n",
       "[1] Covariance matrix calculated using the outer product of gradients (complex-step).\n",
       "[2] Covariance matrix is singular or near-singular, with condition number 2.06e+40. Standard errors may be unstable.\n",
       "\"\"\""
      ]
     },
     "execution_count": 164,
     "metadata": {},
     "output_type": "execute_result"
    }
   ],
   "source": [
    "model111 = SARIMAX(endog = LUZ_GWAP_train, exog=LUZ_diff_exog, order=(1, 1, 1), seasonal_order=(0, 0, 0, 0),enforce_invertibility='TRUE', enforce_stationarity='TRUE', freq='D', missing='drop')\n",
    "results111 = model111.fit(method='lbfgs', maxiter=300)\n",
    "results111.summary()\n"
   ]
  },
  {
   "cell_type": "code",
   "execution_count": 101,
   "metadata": {},
   "outputs": [
    {
     "name": "stdout",
     "output_type": "stream",
     "text": [
      "Performing stepwise search to minimize aic\n",
      " ARIMA(0,1,0)(0,0,0)[0] intercept   : AIC=-763.878, Time=0.08 sec\n",
      " ARIMA(1,1,0)(0,0,0)[0] intercept   : AIC=-770.076, Time=0.04 sec\n",
      " ARIMA(0,1,1)(0,0,0)[0] intercept   : AIC=-775.201, Time=0.04 sec\n",
      " ARIMA(0,1,0)(0,0,0)[0]             : AIC=-765.870, Time=0.01 sec\n",
      " ARIMA(1,1,1)(0,0,0)[0] intercept   : AIC=-796.109, Time=0.16 sec\n",
      " ARIMA(2,1,1)(0,0,0)[0] intercept   : AIC=-794.692, Time=0.19 sec\n",
      " ARIMA(1,1,2)(0,0,0)[0] intercept   : AIC=-793.821, Time=0.18 sec\n",
      " ARIMA(0,1,2)(0,0,0)[0] intercept   : AIC=-792.436, Time=0.06 sec\n",
      " ARIMA(2,1,0)(0,0,0)[0] intercept   : AIC=-786.175, Time=0.04 sec\n",
      " ARIMA(2,1,2)(0,0,0)[0] intercept   : AIC=-792.034, Time=0.12 sec\n",
      " ARIMA(1,1,1)(0,0,0)[0]             : AIC=-798.093, Time=0.07 sec\n",
      " ARIMA(0,1,1)(0,0,0)[0]             : AIC=-777.193, Time=0.02 sec\n",
      " ARIMA(1,1,0)(0,0,0)[0]             : AIC=-772.068, Time=0.02 sec\n",
      " ARIMA(2,1,1)(0,0,0)[0]             : AIC=-796.685, Time=0.17 sec\n",
      " ARIMA(1,1,2)(0,0,0)[0]             : AIC=-793.993, Time=0.07 sec\n",
      " ARIMA(0,1,2)(0,0,0)[0]             : AIC=-794.432, Time=0.05 sec\n",
      " ARIMA(2,1,0)(0,0,0)[0]             : AIC=-788.165, Time=0.02 sec\n",
      " ARIMA(2,1,2)(0,0,0)[0]             : AIC=-794.056, Time=0.07 sec\n",
      "\n",
      "Best model:  ARIMA(1,1,1)(0,0,0)[0]          \n",
      "Total fit time: 1.453 seconds\n"
     ]
    }
   ],
   "source": [
    "#Auto-Arima: Identification of best orders using AIC\n",
    "LUZ_GWAP_sarimax_diff = auto_arima(LUZ_GWAP_train, \n",
    "                            start_p=0, start_d=0, start_q=0,\n",
    "                            max_p=2, max_d=2, max_q=14, \n",
    "                            seasonal=False,\n",
    "                            error_action='warn', trace=True,\n",
    "                            suppress_warnings=True, stepwise=True,\n",
    "                            exog=LUZ_diff_exog)"
   ]
  },
  {
   "cell_type": "code",
   "execution_count": 102,
   "metadata": {},
   "outputs": [
    {
     "name": "stdout",
     "output_type": "stream",
     "text": [
      "Performing stepwise search to minimize aic\n",
      " ARIMA(0,0,0)(0,0,0)[0]             : AIC=840.319, Time=0.03 sec\n",
      " ARIMA(1,0,0)(0,0,0)[0]             : AIC=-765.368, Time=0.02 sec\n",
      " ARIMA(0,0,1)(0,0,0)[0]             : AIC=328.373, Time=0.02 sec\n",
      " ARIMA(2,0,0)(0,0,0)[0]             : AIC=inf, Time=0.01 sec\n",
      " ARIMA(1,0,1)(0,0,0)[0]             : AIC=-775.640, Time=0.02 sec\n",
      " ARIMA(2,0,1)(0,0,0)[0]             : AIC=-761.457, Time=0.07 sec\n",
      " ARIMA(1,0,2)(0,0,0)[0]             : AIC=-792.020, Time=0.03 sec\n",
      " ARIMA(0,0,2)(0,0,0)[0]             : AIC=3.855, Time=0.05 sec\n",
      " ARIMA(2,0,2)(0,0,0)[0]             : AIC=-791.112, Time=0.10 sec\n",
      " ARIMA(1,0,3)(0,0,0)[0]             : AIC=-790.329, Time=0.14 sec\n",
      " ARIMA(0,0,3)(0,0,0)[0]             : AIC=-165.737, Time=0.05 sec\n",
      " ARIMA(2,0,3)(0,0,0)[0]             : AIC=-788.292, Time=0.09 sec\n",
      " ARIMA(1,0,2)(0,0,0)[0] intercept   : AIC=-807.730, Time=0.15 sec\n",
      " ARIMA(0,0,2)(0,0,0)[0] intercept   : AIC=-679.080, Time=0.13 sec\n",
      " ARIMA(1,0,1)(0,0,0)[0] intercept   : AIC=-801.017, Time=0.06 sec\n",
      " ARIMA(2,0,2)(0,0,0)[0] intercept   : AIC=-805.941, Time=0.18 sec\n",
      " ARIMA(1,0,3)(0,0,0)[0] intercept   : AIC=-805.878, Time=0.21 sec\n",
      " ARIMA(0,0,1)(0,0,0)[0] intercept   : AIC=-594.566, Time=0.04 sec\n",
      " ARIMA(0,0,3)(0,0,0)[0] intercept   : AIC=-728.415, Time=0.09 sec\n",
      " ARIMA(2,0,1)(0,0,0)[0] intercept   : AIC=-797.195, Time=0.19 sec\n",
      " ARIMA(2,0,3)(0,0,0)[0] intercept   : AIC=-803.916, Time=0.16 sec\n",
      "\n",
      "Best model:  ARIMA(1,0,2)(0,0,0)[0] intercept\n",
      "Total fit time: 1.840 seconds\n"
     ]
    }
   ],
   "source": [
    "LUZ_GWAP_sarimax = auto_arima(LUZ_GWAP_train, \n",
    "                            start_p=0, d=0, start_q=0,\n",
    "                            seasonal=False,\n",
    "                            error_action='warn', trace=True,\n",
    "                            suppress_warnings=True, stepwise=True,\n",
    "                            random_state=20, n_fits=50,\n",
    "                            exogenous=LUZ_diff_exog)"
   ]
  },
  {
   "cell_type": "code",
   "execution_count": 162,
   "metadata": {},
   "outputs": [
    {
     "name": "stdout",
     "output_type": "stream",
     "text": [
      "Information of backtesting process\n",
      "----------------------------------\n",
      "Number of observations used for initial training: 438\n",
      "Number of observations used for backtesting: 292\n",
      "    Number of folds: 1\n",
      "    Number skipped folds: 0 \n",
      "    Number of steps per fold: 293\n",
      "    Number of steps to exclude from the end of each train set before test (gap): 0\n",
      "    Last fold only includes 292 observations.\n",
      "\n",
      "Fold: 0\n",
      "    Training:   2022-01-01 00:00:00 -- 2023-03-14 00:00:00  (n=438)\n",
      "    Validation: 2023-03-15 00:00:00 -- 2023-12-31 00:00:00  (n=292)\n",
      "\n"
     ]
    },
    {
     "name": "stderr",
     "output_type": "stream",
     "text": [
      "100%|██████████| 1/1 [00:00<00:00,  8.55it/s]\n"
     ]
    },
    {
     "data": {
      "text/html": [
       "<div>\n",
       "<style scoped>\n",
       "    .dataframe tbody tr th:only-of-type {\n",
       "        vertical-align: middle;\n",
       "    }\n",
       "\n",
       "    .dataframe tbody tr th {\n",
       "        vertical-align: top;\n",
       "    }\n",
       "\n",
       "    .dataframe thead th {\n",
       "        text-align: right;\n",
       "    }\n",
       "</style>\n",
       "<table border=\"1\" class=\"dataframe\">\n",
       "  <thead>\n",
       "    <tr style=\"text-align: right;\">\n",
       "      <th></th>\n",
       "      <th>mean_absolute_error</th>\n",
       "    </tr>\n",
       "  </thead>\n",
       "  <tbody>\n",
       "    <tr>\n",
       "      <th>0</th>\n",
       "      <td>0.136877</td>\n",
       "    </tr>\n",
       "  </tbody>\n",
       "</table>\n",
       "</div>"
      ],
      "text/plain": [
       "   mean_absolute_error\n",
       "0             0.136877"
      ]
     },
     "metadata": {},
     "output_type": "display_data"
    },
    {
     "data": {
      "text/html": [
       "<div>\n",
       "<style scoped>\n",
       "    .dataframe tbody tr th:only-of-type {\n",
       "        vertical-align: middle;\n",
       "    }\n",
       "\n",
       "    .dataframe tbody tr th {\n",
       "        vertical-align: top;\n",
       "    }\n",
       "\n",
       "    .dataframe thead th {\n",
       "        text-align: right;\n",
       "    }\n",
       "</style>\n",
       "<table border=\"1\" class=\"dataframe\">\n",
       "  <thead>\n",
       "    <tr style=\"text-align: right;\">\n",
       "      <th></th>\n",
       "      <th>pred</th>\n",
       "    </tr>\n",
       "  </thead>\n",
       "  <tbody>\n",
       "    <tr>\n",
       "      <th>2023-03-15</th>\n",
       "      <td>0.484258</td>\n",
       "    </tr>\n",
       "    <tr>\n",
       "      <th>2023-03-16</th>\n",
       "      <td>0.478540</td>\n",
       "    </tr>\n",
       "    <tr>\n",
       "      <th>2023-03-17</th>\n",
       "      <td>0.489471</td>\n",
       "    </tr>\n",
       "    <tr>\n",
       "      <th>2023-03-18</th>\n",
       "      <td>0.513321</td>\n",
       "    </tr>\n",
       "  </tbody>\n",
       "</table>\n",
       "</div>"
      ],
      "text/plain": [
       "                pred\n",
       "2023-03-15  0.484258\n",
       "2023-03-16  0.478540\n",
       "2023-03-17  0.489471\n",
       "2023-03-18  0.513321"
      ]
     },
     "execution_count": 162,
     "metadata": {},
     "output_type": "execute_result"
    }
   ],
   "source": [
    "forecaster111 = ForecasterSarimax(LUZ_GWAP_sarimax_diff)\n",
    "metric, predictions111 = backtesting_sarimax(\n",
    "                          forecaster            = forecaster111,\n",
    "                          y                     = LUZ_GWAP,\n",
    "                          initial_train_size    = len(LUZ_GWAP_train),\n",
    "                          fixed_train_size      = True,\n",
    "                          steps=293,\n",
    "                          metric                = 'mean_absolute_error',\n",
    "                          refit                 = False,\n",
    "                          n_jobs                = \"auto\",\n",
    "                          suppress_warnings_fit = True,\n",
    "                          verbose               = True,\n",
    "                          show_progress         = True\n",
    "                      )\n",
    "display(metric)\n",
    "predictions.head(4)"
   ]
  },
  {
   "cell_type": "code",
   "execution_count": 163,
   "metadata": {},
   "outputs": [
    {
     "data": {
      "image/png": "[encoded data removed]",
      "text/plain": [
       "<Figure size 1200x600 with 1 Axes>"
      ]
     },
     "metadata": {},
     "output_type": "display_data"
    }
   ],
   "source": [
    "plt.figure(figsize=(12, 6))\n",
    "plt.plot(LUZ_GWAP, label='Original Data', color='blue')\n",
    "plt.plot(predictions111, label='Predictions', color='red', linestyle='--')\n",
    "plt.title('Predictions vs Original Data')\n",
    "plt.xlabel('Date')\n",
    "plt.ylabel('Values')\n",
    "plt.legend()\n",
    "plt.show()"
   ]
  },
  {
   "cell_type": "code",
   "execution_count": 153,
   "metadata": {},
   "outputs": [
    {
     "name": "stdout",
     "output_type": "stream",
     "text": [
      "Information of backtesting process\n",
      "----------------------------------\n",
      "Number of observations used for initial training: 438\n",
      "Number of observations used for backtesting: 292\n",
      "    Number of folds: 1\n",
      "    Number skipped folds: 0 \n",
      "    Number of steps per fold: 292\n",
      "    Number of steps to exclude from the end of each train set before test (gap): 0\n",
      "\n",
      "Fold: 0\n",
      "    Training:   2022-01-01 00:00:00 -- 2023-03-14 00:00:00  (n=438)\n",
      "    Validation: 2023-03-15 00:00:00 -- 2023-12-31 00:00:00  (n=292)\n",
      "\n"
     ]
    },
    {
     "name": "stderr",
     "output_type": "stream",
     "text": [
      "100%|██████████| 1/1 [00:00<00:00, 79.54it/s]\n"
     ]
    },
    {
     "data": {
      "text/html": [
       "<div>\n",
       "<style scoped>\n",
       "    .dataframe tbody tr th:only-of-type {\n",
       "        vertical-align: middle;\n",
       "    }\n",
       "\n",
       "    .dataframe tbody tr th {\n",
       "        vertical-align: top;\n",
       "    }\n",
       "\n",
       "    .dataframe thead th {\n",
       "        text-align: right;\n",
       "    }\n",
       "</style>\n",
       "<table border=\"1\" class=\"dataframe\">\n",
       "  <thead>\n",
       "    <tr style=\"text-align: right;\">\n",
       "      <th></th>\n",
       "      <th>mean_absolute_error</th>\n",
       "    </tr>\n",
       "  </thead>\n",
       "  <tbody>\n",
       "    <tr>\n",
       "      <th>0</th>\n",
       "      <td>0.168742</td>\n",
       "    </tr>\n",
       "  </tbody>\n",
       "</table>\n",
       "</div>"
      ],
      "text/plain": [
       "   mean_absolute_error\n",
       "0             0.168742"
      ]
     },
     "metadata": {},
     "output_type": "display_data"
    },
    {
     "data": {
      "text/html": [
       "<div>\n",
       "<style scoped>\n",
       "    .dataframe tbody tr th:only-of-type {\n",
       "        vertical-align: middle;\n",
       "    }\n",
       "\n",
       "    .dataframe tbody tr th {\n",
       "        vertical-align: top;\n",
       "    }\n",
       "\n",
       "    .dataframe thead th {\n",
       "        text-align: right;\n",
       "    }\n",
       "</style>\n",
       "<table border=\"1\" class=\"dataframe\">\n",
       "  <thead>\n",
       "    <tr style=\"text-align: right;\">\n",
       "      <th></th>\n",
       "      <th>pred</th>\n",
       "    </tr>\n",
       "  </thead>\n",
       "  <tbody>\n",
       "    <tr>\n",
       "      <th>2023-03-15</th>\n",
       "      <td>0.484258</td>\n",
       "    </tr>\n",
       "    <tr>\n",
       "      <th>2023-03-16</th>\n",
       "      <td>0.478540</td>\n",
       "    </tr>\n",
       "    <tr>\n",
       "      <th>2023-03-17</th>\n",
       "      <td>0.489471</td>\n",
       "    </tr>\n",
       "    <tr>\n",
       "      <th>2023-03-18</th>\n",
       "      <td>0.513321</td>\n",
       "    </tr>\n",
       "  </tbody>\n",
       "</table>\n",
       "</div>"
      ],
      "text/plain": [
       "                pred\n",
       "2023-03-15  0.484258\n",
       "2023-03-16  0.478540\n",
       "2023-03-17  0.489471\n",
       "2023-03-18  0.513321"
      ]
     },
     "execution_count": 153,
     "metadata": {},
     "output_type": "execute_result"
    }
   ],
   "source": [
    "forecaster102 = ForecasterSarimax(LUZ_GWAP_sarimax)\n",
    "metric102, predictions102 = backtesting_sarimax(\n",
    "                          forecaster            = forecaster102,\n",
    "                          y                     = LUZ_GWAP,\n",
    "                          initial_train_size    = len(LUZ_GWAP_train),\n",
    "                          fixed_train_size      = True,\n",
    "                          steps=292,\n",
    "                          metric                = 'mean_absolute_error',\n",
    "                          refit                 = False,\n",
    "                          n_jobs                = \"auto\",\n",
    "                          suppress_warnings_fit = True,\n",
    "                          verbose               = True,\n",
    "                          show_progress         = True\n",
    "                      )\n",
    "display(metric102)\n",
    "predictions.head(4)"
   ]
  },
  {
   "cell_type": "code",
   "execution_count": 154,
   "metadata": {},
   "outputs": [
    {
     "data": {
      "image/png": "[encoded data removed]",
      "text/plain": [
       "<Figure size 1200x600 with 1 Axes>"
      ]
     },
     "metadata": {},
     "output_type": "display_data"
    }
   ],
   "source": [
    "plt.figure(figsize=(12, 6))\n",
    "plt.plot(LUZ_GWAP, label='Original Data', color='blue')\n",
    "plt.plot(predictions102, label='Predictions', color='red', linestyle='--')\n",
    "plt.title('Predictions vs Original Data')\n",
    "plt.xlabel('Date')\n",
    "plt.ylabel('Values')\n",
    "plt.legend()\n",
    "plt.show()"
   ]
  },
  {
   "cell_type": "code",
   "execution_count": 157,
   "metadata": {},
   "outputs": [],
   "source": [
    "def fit_sarimax(data, model, data_test):\n",
    "    \n",
    "    # ARIMA model with ForecasterSarimax and skforecast Sarimax\n",
    "    # ==============================================================================\n",
    "    forecaster = ForecasterSarimax(regressor=model)\n",
    "    forecaster.fit(y=data, suppress_warnings=True)\n",
    "\n",
    "    # Prediction\n",
    "    predictions = forecaster.predict(steps=len(data_test))\n",
    "    \n",
    "    # Calculate MSE\n",
    "    mae = mean_absolute_error(data_test, predictions)\n",
    "    print(f\"Mean Absolute Error (MAE): {mae}\")\n",
    "\n",
    "    \n",
    "    # Plot predictions\n",
    "    # ==============================================================================\n",
    "    fig, ax = plt.subplots(figsize=(7, 3))\n",
    "    data.plot(ax=ax, label='train')\n",
    "    data_test.plot(ax=ax, label='test')\n",
    "    predictions.plot(ax=ax, label='Predictions')\n",
    "    ax.set_title('Predictions with ARIMA models')\n",
    "    ax.legend()\n",
    "\n",
    "    return predictions, mae\n"
   ]
  },
  {
   "cell_type": "code",
   "execution_count": 152,
   "metadata": {},
   "outputs": [
    {
     "name": "stdout",
     "output_type": "stream",
     "text": [
      "Mean Absolute Error (MAE): 0.16874224266548146\n"
     ]
    },
    {
     "data": {
      "text/plain": [
       "(2023-03-15    0.484258\n",
       " 2023-03-16    0.481660\n",
       " 2023-03-17    0.492089\n",
       " 2023-03-18    0.501580\n",
       " 2023-03-19    0.510216\n",
       "                 ...   \n",
       " 2023-12-27    0.597528\n",
       " 2023-12-28    0.597528\n",
       " 2023-12-29    0.597528\n",
       " 2023-12-30    0.597528\n",
       " 2023-12-31    0.597528\n",
       " Freq: D, Name: pred, Length: 292, dtype: float64,\n",
       " 0.16874224266548146)"
      ]
     },
     "execution_count": 152,
     "metadata": {},
     "output_type": "execute_result"
    },
    {
     "data": {
      "image/png": "[encoded data removed]",
      "text/plain": [
       "<Figure size 700x300 with 1 Axes>"
      ]
     },
     "metadata": {},
     "output_type": "display_data"
    }
   ],
   "source": [
    "fit_sarimax(LUZ_GWAP_train,LUZ_GWAP_sarimax,LUZ_GWAP_test2)"
   ]
  },
  {
   "cell_type": "code",
   "execution_count": 161,
   "metadata": {},
   "outputs": [
    {
     "name": "stdout",
     "output_type": "stream",
     "text": [
      "Mean Absolute Error (MAE): 0.13687666407476454\n"
     ]
    },
    {
     "data": {
      "text/plain": [
       "(2023-03-15    0.467035\n",
       " 2023-03-16    0.478495\n",
       " 2023-03-17    0.487537\n",
       " 2023-03-18    0.494672\n",
       " 2023-03-19    0.500301\n",
       "                 ...   \n",
       " 2023-12-27    0.521353\n",
       " 2023-12-28    0.521353\n",
       " 2023-12-29    0.521353\n",
       " 2023-12-30    0.521353\n",
       " 2023-12-31    0.521353\n",
       " Freq: D, Name: pred, Length: 292, dtype: float64,\n",
       " 0.13687666407476454)"
      ]
     },
     "execution_count": 161,
     "metadata": {},
     "output_type": "execute_result"
    },
    {
     "data": {
      "image/png": "[encoded data removed]",
      "text/plain": [
       "<Figure size 700x300 with 1 Axes>"
      ]
     },
     "metadata": {},
     "output_type": "display_data"
    }
   ],
   "source": [
    "fit_sarimax(LUZ_GWAP_train,LUZ_GWAP_sarimax_diff,LUZ_GWAP_test2)"
   ]
  },
  {
   "cell_type": "code",
   "execution_count": 166,
   "metadata": {},
   "outputs": [],
   "source": [
    "#experiment 2\n",
    "def fit_sarimax2(data_train, model, data_test):\n",
    "    # Initialize the SARIMAX forecaster\n",
    "    forecaster = ForecasterSarimax(regressor=model)\n",
    "    \n",
    "    # Fit the forecaster to the training data\n",
    "    forecaster.fit(y=data_train, suppress_warnings=True)\n",
    "\n",
    "    # Prediction on the training set\n",
    "    predictions_train = forecaster.forecast(steps=len(data_train))\n",
    "    \n",
    "    # Calculate MAE for the training set\n",
    "    mae_train = mean_absolute_error(data_train, predictions_train)\n",
    "    print(f\"Mean Absolute Error (MAE) on Training Set: {mae_train}\")\n",
    "\n",
    "    # Prediction on the test set\n",
    "    predictions_test = forecaster.forecast(steps=len(data_test))\n",
    "    \n",
    "    # Calculate MAE for the test set\n",
    "    mae_test = mean_absolute_error(data_test, predictions_test)\n",
    "    print(f\"Mean Absolute Error (MAE) on Test Set: {mae_test}\")\n",
    "\n",
    "    # Plot predictions\n",
    "    fig, ax = plt.subplots(figsize=(10, 5))\n",
    "    data_train.plot(ax=ax, label='Training Data')\n",
    "    data_test.plot(ax=ax, label='Test Data')\n",
    "    predictions_train.plot(ax=ax, label='Predictions on Training Set')\n",
    "    predictions_test.plot(ax=ax, label='Predictions on Test Set', linestyle='--')\n",
    "    ax.set_title('SARIMAX Predictions')\n",
    "    ax.legend()\n",
    "    plt.show()\n",
    "\n",
    "    return predictions_train, mae_train, predictions_test, mae_test"
   ]
  },
  {
   "cell_type": "code",
   "execution_count": 167,
   "metadata": {},
   "outputs": [
    {
     "ename": "AttributeError",
     "evalue": "'ForecasterSarimax' object has no attribute 'forecast'",
     "output_type": "error",
     "traceback": [
      "\u001b[0;31m---------------------------------------------------------------------------\u001b[0m",
      "\u001b[0;31mAttributeError\u001b[0m                            Traceback (most recent call last)",
      "Cell \u001b[0;32mIn[167], line 1\u001b[0m\n\u001b[0;32m----> 1\u001b[0m \u001b[43mfit_sarimax2\u001b[49m\u001b[43m(\u001b[49m\u001b[43mLUZ_GWAP_train\u001b[49m\u001b[43m,\u001b[49m\u001b[43mLUZ_GWAP_sarimax\u001b[49m\u001b[43m,\u001b[49m\u001b[43mLUZ_GWAP_train\u001b[49m\u001b[43m)\u001b[49m\n",
      "Cell \u001b[0;32mIn[166], line 10\u001b[0m, in \u001b[0;36mfit_sarimax2\u001b[0;34m(data_train, model, data_test)\u001b[0m\n\u001b[1;32m      7\u001b[0m forecaster\u001b[38;5;241m.\u001b[39mfit(y\u001b[38;5;241m=\u001b[39mdata_train, suppress_warnings\u001b[38;5;241m=\u001b[39m\u001b[38;5;28;01mTrue\u001b[39;00m)\n\u001b[1;32m      9\u001b[0m \u001b[38;5;66;03m# Prediction on the training set\u001b[39;00m\n\u001b[0;32m---> 10\u001b[0m predictions_train \u001b[38;5;241m=\u001b[39m \u001b[43mforecaster\u001b[49m\u001b[38;5;241;43m.\u001b[39;49m\u001b[43mforecast\u001b[49m(steps\u001b[38;5;241m=\u001b[39m\u001b[38;5;28mlen\u001b[39m(data_train))\n\u001b[1;32m     12\u001b[0m \u001b[38;5;66;03m# Calculate MAE for the training set\u001b[39;00m\n\u001b[1;32m     13\u001b[0m mae_train \u001b[38;5;241m=\u001b[39m mean_absolute_error(data_train, predictions_train)\n",
      "\u001b[0;31mAttributeError\u001b[0m: 'ForecasterSarimax' object has no attribute 'forecast'"
     ]
    }
   ],
   "source": [
    "fit_sarimax2(LUZ_GWAP_train,LUZ_GWAP_sarimax,LUZ_GWAP_train)"
   ]
  },
  {
   "cell_type": "code",
   "execution_count": 150,
   "metadata": {},
   "outputs": [
    {
     "name": "stdout",
     "output_type": "stream",
     "text": [
      "Date\n",
      "2023-03-15    0.480256\n",
      "2023-03-16    0.477933\n",
      "2023-03-17    0.507448\n",
      "2023-03-18    0.538917\n",
      "2023-03-19    0.480170\n",
      "                ...   \n",
      "2023-12-27    0.362859\n",
      "2023-12-28    0.332509\n",
      "2023-12-29    0.331029\n",
      "2023-12-30    0.288643\n",
      "2023-12-31    0.310847\n",
      "Freq: D, Name: GWAP, Length: 292, dtype: float64\n"
     ]
    }
   ],
   "source": [
    "LUZ_GWAP_test2 = pd.concat([LUZ_GWAP_val, LUZ_GWAP_test], ignore_index=False)\n",
    "print(LUZ_GWAP_test2)\n"
   ]
  }
 ],
 "metadata": {
  "kernelspec": {
   "display_name": "Python 3",
   "language": "python",
   "name": "python3"
  },
  "language_info": {
   "codemirror_mode": {
    "name": "ipython",
    "version": 3
   },
   "file_extension": ".py",
   "mimetype": "text/x-python",
   "name": "python",
   "nbconvert_exporter": "python",
   "pygments_lexer": "ipython3",
   "version": "3.12.5"
  }
 },
 "nbformat": 4,
 "nbformat_minor": 2
}
